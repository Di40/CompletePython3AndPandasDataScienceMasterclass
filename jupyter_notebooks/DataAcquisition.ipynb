{
 "cells": [
  {
   "cell_type": "markdown",
   "id": "refined-recall",
   "metadata": {},
   "source": [
    "# Data acquisition"
   ]
  },
  {
   "cell_type": "markdown",
   "id": "forty-footage",
   "metadata": {},
   "source": [
    "## Plain text file handling"
   ]
  },
  {
   "cell_type": "code",
   "execution_count": 63,
   "id": "accepted-breed",
   "metadata": {},
   "outputs": [],
   "source": [
    "# imports\n",
    "import csv\n",
    "import numpy as np\n",
    "import pandas as pd\n",
    "import openpyxl\n",
    "import matplotlib.cbook as cbook"
   ]
  },
  {
   "cell_type": "code",
   "execution_count": 11,
   "id": "honey-hartford",
   "metadata": {},
   "outputs": [
    {
     "name": "stdout",
     "output_type": "stream",
     "text": [
      "<_io.TextIOWrapper name='testfile.txt' mode='w' encoding='cp1252'>\n"
     ]
    }
   ],
   "source": [
    "# Modes:\n",
    "# w - write\n",
    "# r - read\n",
    "# a - append\n",
    "# r+ - read and write\n",
    "\n",
    "f = open('testfile.txt', 'w')\n",
    "print(f)"
   ]
  },
  {
   "cell_type": "code",
   "execution_count": 12,
   "id": "central-wells",
   "metadata": {},
   "outputs": [
    {
     "data": {
      "text/plain": [
       "22"
      ]
     },
     "execution_count": 12,
     "metadata": {},
     "output_type": "execute_result"
    }
   ],
   "source": [
    "f.write('This is first line.\\nThis is second line.\\n')\n",
    "f.write('This is the last line.')"
   ]
  },
  {
   "cell_type": "code",
   "execution_count": 13,
   "id": "opposed-wiring",
   "metadata": {},
   "outputs": [],
   "source": [
    "f.close()"
   ]
  },
  {
   "cell_type": "code",
   "execution_count": 14,
   "id": "forced-courage",
   "metadata": {},
   "outputs": [],
   "source": [
    "f = open('testfile.txt', 'a')\n",
    "f.write('\\nThis is appended line.')\n",
    "f.close()"
   ]
  },
  {
   "cell_type": "code",
   "execution_count": 26,
   "id": "casual-harrison",
   "metadata": {},
   "outputs": [
    {
     "name": "stdout",
     "output_type": "stream",
     "text": [
      "This is first line.\n",
      "This is second line.\n",
      "This is the last line.\n",
      "This is appended line.\n"
     ]
    }
   ],
   "source": [
    "f = open('testfile.txt', 'r')\n",
    "print(f.read())\n",
    "f.close()"
   ]
  },
  {
   "cell_type": "code",
   "execution_count": 27,
   "id": "seeing-syndicate",
   "metadata": {},
   "outputs": [
    {
     "name": "stdout",
     "output_type": "stream",
     "text": [
      "['This is first line.\\n', 'This is second line.\\n', 'This is the last line.\\n', 'This is appended line.']\n"
     ]
    }
   ],
   "source": [
    "f = open('testfile.txt', 'r')\n",
    "print(f.readlines())\n",
    "f.close()"
   ]
  },
  {
   "cell_type": "code",
   "execution_count": 28,
   "id": "decimal-service",
   "metadata": {},
   "outputs": [
    {
     "name": "stdout",
     "output_type": "stream",
     "text": [
      "This is first line.\n",
      "\n",
      "This is second line.\n",
      "\n",
      "This is the last line.\n",
      "\n",
      "This is appended line.\n"
     ]
    }
   ],
   "source": [
    "f = open('testfile.txt', 'r')\n",
    "for line in f:\n",
    "    print(line)\n",
    "f.close()"
   ]
  },
  {
   "cell_type": "markdown",
   "id": "conventional-cleaning",
   "metadata": {},
   "source": [
    "## Handling CSV files"
   ]
  },
  {
   "cell_type": "code",
   "execution_count": 32,
   "id": "streaming-clear",
   "metadata": {},
   "outputs": [],
   "source": [
    "file = open('test.csv', 'w')\n",
    "file.close()"
   ]
  },
  {
   "cell_type": "code",
   "execution_count": 49,
   "id": "answering-battery",
   "metadata": {},
   "outputs": [
    {
     "name": "stdout",
     "output_type": "stream",
     "text": [
      "<_io.TextIOWrapper name='test.csv' mode='r' encoding='cp1252'>\n",
      "Banana,Yellow,250\n",
      "Orange,Orange,200\n",
      "Grapes,Green,400\n",
      "Tomato,Red,100\n",
      "Spinach,Green,40\n",
      "Potatoes,Grey,400\n",
      "Rice,White,300\n",
      "Rice,Brown,400\n",
      "Wheat,Brown,500\n",
      "Barley,Yellow,500\n",
      "\n"
     ]
    }
   ],
   "source": [
    "file = open('test.csv', 'r')\n",
    "print(file)\n",
    "print(file.read())\n",
    "file.close()"
   ]
  },
  {
   "cell_type": "code",
   "execution_count": 54,
   "id": "suburban-kenya",
   "metadata": {},
   "outputs": [
    {
     "name": "stdout",
     "output_type": "stream",
     "text": [
      "<_csv.reader object at 0x00000237C036DCA0>\n"
     ]
    }
   ],
   "source": [
    "file = open('test.csv', 'r')\n",
    "csvfile = csv.reader(file, delimiter = ',')\n",
    "print(csvfile)"
   ]
  },
  {
   "cell_type": "code",
   "execution_count": 55,
   "id": "composed-bailey",
   "metadata": {},
   "outputs": [
    {
     "name": "stdout",
     "output_type": "stream",
     "text": [
      "['Banana', 'Yellow', '250']\n",
      "['Orange', 'Orange', '200']\n",
      "['Grapes', 'Green', '400']\n",
      "['Tomato', 'Red', '100']\n",
      "['Spinach', 'Green', '40']\n",
      "['Potatoes', 'Grey', '400']\n",
      "['Rice', 'White', '300']\n",
      "['Rice', 'Brown', '400']\n",
      "['Wheat', 'Brown', '500']\n",
      "['Barley', 'Yellow', '500']\n",
      "10\n"
     ]
    }
   ],
   "source": [
    "row_count = 0\n",
    "for row in csvfile:\n",
    "    row_count += 1\n",
    "    print(row)\n",
    "print(row_count)\n",
    "file.close()"
   ]
  },
  {
   "cell_type": "code",
   "execution_count": 62,
   "id": "potential-authentication",
   "metadata": {},
   "outputs": [
    {
     "name": "stdout",
     "output_type": "stream",
     "text": [
      "<_io.TextIOWrapper name='test.csv' mode='r' encoding='cp1252'> <_csv.reader object at 0x00000237C03792E0>\n"
     ]
    }
   ],
   "source": [
    "file = open('test.csv', 'r')\n",
    "csvfile = csv.reader(file, delimiter = ',')\n",
    "print(file, csvfile)"
   ]
  },
  {
   "cell_type": "code",
   "execution_count": 63,
   "id": "offensive-serbia",
   "metadata": {},
   "outputs": [
    {
     "name": "stdout",
     "output_type": "stream",
     "text": [
      "Banana\n",
      "Yellow\n",
      "250\n",
      "Orange\n",
      "Orange\n",
      "200\n",
      "Grapes\n",
      "Green\n",
      "400\n",
      "Tomato\n",
      "Red\n",
      "100\n",
      "Spinach\n",
      "Green\n",
      "40\n",
      "Potatoes\n",
      "Grey\n",
      "400\n",
      "Rice\n",
      "White\n",
      "300\n",
      "Rice\n",
      "Brown\n",
      "400\n",
      "Wheat\n",
      "Brown\n",
      "500\n",
      "Barley\n",
      "Yellow\n",
      "500\n",
      "Total number of elements in csv file:  30\n"
     ]
    }
   ],
   "source": [
    "elements_count = 0\n",
    "for row in csvfile:\n",
    "    for element in row:\n",
    "        print(element)\n",
    "        elements_count += 1\n",
    "file.close()\n",
    "print(\"Total number of elements in csv file: \", elements_count)"
   ]
  },
  {
   "cell_type": "markdown",
   "id": "necessary-automation",
   "metadata": {},
   "source": [
    "## Python and Excel: Convert csv to xlsx"
   ]
  },
  {
   "cell_type": "code",
   "execution_count": 6,
   "id": "blessed-certificate",
   "metadata": {},
   "outputs": [],
   "source": [
    "df = pd.read_csv(r'test.csv')\n",
    "df.to_csv(\"test.csv\", header=[\"Food item\", \"Color\", \"Weight\"], index=False)\n",
    "\n",
    "df.to_excel(r'test.xlsx', index = None, header=True)"
   ]
  },
  {
   "cell_type": "code",
   "execution_count": 7,
   "id": "medieval-comparative",
   "metadata": {},
   "outputs": [],
   "source": [
    "import openpyxl"
   ]
  },
  {
   "cell_type": "code",
   "execution_count": 25,
   "id": "subsequent-conjunction",
   "metadata": {},
   "outputs": [
    {
     "name": "stdout",
     "output_type": "stream",
     "text": [
      "<openpyxl.workbook.workbook.Workbook object at 0x0000013830334490>\n",
      "<class 'openpyxl.workbook.workbook.Workbook'>\n"
     ]
    }
   ],
   "source": [
    "wb = openpyxl.load_workbook('test.xlsx')\n",
    "print(wb)\n",
    "print(type(wb))"
   ]
  },
  {
   "cell_type": "code",
   "execution_count": 20,
   "id": "lyric-palestine",
   "metadata": {},
   "outputs": [
    {
     "name": "stdout",
     "output_type": "stream",
     "text": [
      "['Sheet1', 'Sheet2', 'Sheet3']\n"
     ]
    }
   ],
   "source": [
    "print(wb.sheetnames) # returns a list of sheets"
   ]
  },
  {
   "cell_type": "code",
   "execution_count": 17,
   "id": "grand-sample",
   "metadata": {},
   "outputs": [
    {
     "name": "stdout",
     "output_type": "stream",
     "text": [
      "<Worksheet \"Sheet1\">\n",
      "<class 'openpyxl.worksheet.worksheet.Worksheet'>\n"
     ]
    }
   ],
   "source": [
    "currSheet = wb['Sheet1']\n",
    "print(currSheet)\n",
    "print(type(currSheet))"
   ]
  },
  {
   "cell_type": "code",
   "execution_count": 26,
   "id": "textile-catalog",
   "metadata": {},
   "outputs": [
    {
     "name": "stdout",
     "output_type": "stream",
     "text": [
      "<Worksheet \"Sheet1\">\n",
      "<class 'openpyxl.worksheet.worksheet.Worksheet'>\n",
      "Sheet1\n"
     ]
    }
   ],
   "source": [
    "currSheet = wb[wb.sheetnames[0]]\n",
    "print(currSheet)\n",
    "print(type(currSheet))\n",
    "print(currSheet.title)"
   ]
  },
  {
   "cell_type": "code",
   "execution_count": 27,
   "id": "intended-monroe",
   "metadata": {},
   "outputs": [
    {
     "name": "stdout",
     "output_type": "stream",
     "text": [
      "Food item\n"
     ]
    }
   ],
   "source": [
    "var1 = currSheet['A1']\n",
    "print(var1.value)"
   ]
  },
  {
   "cell_type": "code",
   "execution_count": 28,
   "id": "identical-party",
   "metadata": {},
   "outputs": [
    {
     "name": "stdout",
     "output_type": "stream",
     "text": [
      "Color\n"
     ]
    }
   ],
   "source": [
    "print(currSheet['B1'].value)"
   ]
  },
  {
   "cell_type": "code",
   "execution_count": 29,
   "id": "serial-emission",
   "metadata": {},
   "outputs": [
    {
     "name": "stdout",
     "output_type": "stream",
     "text": [
      "Orange\n"
     ]
    }
   ],
   "source": [
    "var2 = currSheet.cell(row = 2, column = 2)\n",
    "print(var2.value)"
   ]
  },
  {
   "cell_type": "code",
   "execution_count": 31,
   "id": "yellow-activation",
   "metadata": {},
   "outputs": [
    {
     "name": "stdout",
     "output_type": "stream",
     "text": [
      "10\n",
      "3\n"
     ]
    }
   ],
   "source": [
    "print(currSheet.max_row)\n",
    "print(currSheet.max_column)"
   ]
  },
  {
   "cell_type": "code",
   "execution_count": 32,
   "id": "usual-green",
   "metadata": {},
   "outputs": [
    {
     "name": "stdout",
     "output_type": "stream",
     "text": [
      "500\n"
     ]
    }
   ],
   "source": [
    "var3 = currSheet.cell(row = 10, column = 3)\n",
    "print(var3.value)"
   ]
  },
  {
   "cell_type": "code",
   "execution_count": 44,
   "id": "growing-backing",
   "metadata": {},
   "outputs": [
    {
     "name": "stdout",
     "output_type": "stream",
     "text": [
      "---Beginning of row---\n",
      "Food item\n",
      "Color\n",
      "Weight\n",
      "---End of row---\n",
      "\n",
      "---Beginning of row---\n",
      "Orange\n",
      "Orange\n",
      "200\n",
      "---End of row---\n",
      "\n",
      "---Beginning of row---\n",
      "Grapes\n",
      "Green\n",
      "400\n",
      "---End of row---\n",
      "\n",
      "---Beginning of row---\n",
      "Tomato\n",
      "Red\n",
      "100\n",
      "---End of row---\n",
      "\n",
      "---Beginning of row---\n",
      "Spinach\n",
      "Green\n",
      "40\n",
      "---End of row---\n",
      "\n",
      "---Beginning of row---\n",
      "Potatoes\n",
      "Grey\n",
      "400\n",
      "---End of row---\n",
      "\n",
      "---Beginning of row---\n",
      "Rice\n",
      "White\n",
      "300\n",
      "---End of row---\n",
      "\n",
      "---Beginning of row---\n",
      "Rice\n",
      "Brown\n",
      "400\n",
      "---End of row---\n",
      "\n",
      "---Beginning of row---\n",
      "Wheat\n",
      "Brown\n",
      "500\n",
      "---End of row---\n",
      "\n",
      "---Beginning of row---\n",
      "Barley\n",
      "Yellow\n",
      "500\n",
      "---End of row---\n",
      "\n"
     ]
    }
   ],
   "source": [
    "for row in range (currSheet.max_row):\n",
    "    print(\"---Beginning of row---\")\n",
    "    for column in range(currSheet.max_column):\n",
    "        var = currSheet.cell(row = row + 1, column = column + 1)\n",
    "        print(var.value)\n",
    "    print(\"---End of row---\\n\")"
   ]
  },
  {
   "cell_type": "markdown",
   "id": "ambient-caution",
   "metadata": {},
   "source": [
    "## Numpy writing and reading files"
   ]
  },
  {
   "cell_type": "code",
   "execution_count": 47,
   "id": "healthy-arena",
   "metadata": {},
   "outputs": [
    {
     "name": "stdout",
     "output_type": "stream",
     "text": [
      "[ 0  1  2  3  4  5  6  7  8  9 10 11 12 13 14 15 16 17 18 19 20 21 22 23\n",
      " 24 25 26 27 28 29 30 31 32 33 34 35 36 37 38 39 40 41 42 43 44 45 46 47\n",
      " 48 49 50 51 52 53 54 55 56 57 58 59 60 61 62 63 64 65 66 67 68 69 70 71\n",
      " 72 73 74 75 76 77 78 79 80 81 82 83 84 85 86 87 88 89 90 91 92 93 94 95\n",
      " 96 97 98 99]\n"
     ]
    }
   ],
   "source": [
    "x = np.arange(100)\n",
    "print(x)"
   ]
  },
  {
   "cell_type": "code",
   "execution_count": 48,
   "id": "driving-edwards",
   "metadata": {},
   "outputs": [],
   "source": [
    "np.save('test.npy', x)"
   ]
  },
  {
   "cell_type": "code",
   "execution_count": 51,
   "id": "acceptable-lambda",
   "metadata": {},
   "outputs": [
    {
     "name": "stdout",
     "output_type": "stream",
     "text": [
      "[ 0  1  2  3  4  5  6  7  8  9 10 11 12 13 14 15 16 17 18 19 20 21 22 23\n",
      " 24 25 26 27 28 29 30 31 32 33 34 35 36 37 38 39 40 41 42 43 44 45 46 47\n",
      " 48 49 50 51 52 53 54 55 56 57 58 59 60 61 62 63 64 65 66 67 68 69 70 71\n",
      " 72 73 74 75 76 77 78 79 80 81 82 83 84 85 86 87 88 89 90 91 92 93 94 95\n",
      " 96 97 98 99]\n"
     ]
    }
   ],
   "source": [
    "data = np.load('test.npy')\n",
    "print(data)"
   ]
  },
  {
   "cell_type": "code",
   "execution_count": 59,
   "id": "irish-traffic",
   "metadata": {},
   "outputs": [
    {
     "name": "stdout",
     "output_type": "stream",
     "text": [
      "[[  0.   1.  18.   2.]\n",
      " [  1.  66.   1.   3.]\n",
      " [  2.   3. 154.   6.]\n",
      " [  4. 978.   3.   6.]\n",
      " [  5.   2.  41.  45.]\n",
      " [  6.  67.   2.   3.]\n",
      " [  7.   5.  67.   2.]]\n",
      "<class 'numpy.ndarray'>\n"
     ]
    }
   ],
   "source": [
    "data_csv = np.loadtxt('data.csv', delimiter = ',')\n",
    "print(data_csv)\n",
    "print(type(data_csv))"
   ]
  },
  {
   "cell_type": "code",
   "execution_count": 62,
   "id": "functioning-recipient",
   "metadata": {},
   "outputs": [
    {
     "name": "stdout",
     "output_type": "stream",
     "text": [
      "[[978.   6.]\n",
      " [  2.  45.]\n",
      " [ 67.   3.]\n",
      " [  5.   2.]]\n"
     ]
    }
   ],
   "source": [
    "data_csv = np.loadtxt('data.csv', delimiter = ',',\n",
    "                     skiprows = 3, usecols = [1, 3]) # skip first 3 rows, and use 1 and 3 column\n",
    "print(data_csv)"
   ]
  },
  {
   "cell_type": "markdown",
   "id": "nervous-radio",
   "metadata": {},
   "source": [
    "## Matplotlib CBook"
   ]
  },
  {
   "cell_type": "code",
   "execution_count": 69,
   "id": "middle-diving",
   "metadata": {},
   "outputs": [
    {
     "name": "stderr",
     "output_type": "stream",
     "text": [
      "<ipython-input-69-dec1bedcc18a>:2: MatplotlibDeprecationWarning: In a future release, get_sample_data will automatically load numpy arrays.  Set np_load to True to get the array and suppress this warning.  Set asfileobj to False to get the path to the data file and suppress this warning.\n",
      "  datafile = cbook.get_sample_data('aapl.npz')\n"
     ]
    }
   ],
   "source": [
    "# Used for reading built-in data files\n",
    "datafile = cbook.get_sample_data('aapl.npz')\n",
    "r = np.load(datafile)"
   ]
  },
  {
   "cell_type": "code",
   "execution_count": 65,
   "id": "mediterranean-sheffield",
   "metadata": {},
   "outputs": [
    {
     "name": "stdout",
     "output_type": "stream",
     "text": [
      "['price_data']\n"
     ]
    }
   ],
   "source": [
    "print(r.files)"
   ]
  },
  {
   "cell_type": "code",
   "execution_count": 67,
   "id": "detected-internet",
   "metadata": {},
   "outputs": [
    {
     "name": "stdout",
     "output_type": "stream",
     "text": [
      "[('1984-09-07',  26.5 ,  26.87,  26.25,  26.5 ,  2981600,   3.02)\n",
      " ('1984-09-10',  26.5 ,  26.62,  25.87,  26.37,  2346400,   3.01)\n",
      " ('1984-09-11',  26.62,  27.37,  26.62,  26.87,  5444000,   3.07) ...\n",
      " ('2008-10-10',  85.7 , 100.  ,  85.  ,  96.8 , 79260700,  96.8 )\n",
      " ('2008-10-13', 104.55, 110.53, 101.02, 110.26, 54967000, 110.26)\n",
      " ('2008-10-14', 116.26, 116.4 , 103.14, 104.08, 70749800, 104.08)]\n"
     ]
    }
   ],
   "source": [
    "print(r['price_data'])"
   ]
  },
  {
   "cell_type": "code",
   "execution_count": null,
   "id": "empty-belize",
   "metadata": {},
   "outputs": [],
   "source": []
  }
 ],
 "metadata": {
  "kernelspec": {
   "display_name": "Python 3",
   "language": "python",
   "name": "python3"
  },
  "language_info": {
   "codemirror_mode": {
    "name": "ipython",
    "version": 3
   },
   "file_extension": ".py",
   "mimetype": "text/x-python",
   "name": "python",
   "nbconvert_exporter": "python",
   "pygments_lexer": "ipython3",
   "version": "3.9.2"
  }
 },
 "nbformat": 4,
 "nbformat_minor": 5
}
