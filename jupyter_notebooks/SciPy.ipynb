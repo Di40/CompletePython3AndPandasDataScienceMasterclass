{
 "cells": [
  {
   "cell_type": "markdown",
   "id": "painted-clarity",
   "metadata": {},
   "source": [
    "# SciPy"
   ]
  },
  {
   "cell_type": "code",
   "execution_count": 2,
   "id": "featured-calgary",
   "metadata": {},
   "outputs": [],
   "source": [
    "import scipy.linalg\n",
    "import numpy as np"
   ]
  },
  {
   "cell_type": "code",
   "execution_count": 24,
   "id": "amazing-lancaster",
   "metadata": {},
   "outputs": [
    {
     "name": "stdout",
     "output_type": "stream",
     "text": [
      "[[0 1 2]\n",
      " [3 4 5]\n",
      " [6 7 8]]\n",
      "Singular matrix. Cannot compute inverse.\n"
     ]
    }
   ],
   "source": [
    "x = np.arange(9).reshape((3,3))\n",
    "print(x)\n",
    "if scipy.linalg.det(x):\n",
    "    print('\\n', scipy.linalg.inv(x))\n",
    "else:\n",
    "    print('Singular matrix. Cannot compute inverse.')"
   ]
  },
  {
   "cell_type": "code",
   "execution_count": 22,
   "id": "sorted-memorial",
   "metadata": {},
   "outputs": [
    {
     "name": "stdout",
     "output_type": "stream",
     "text": [
      "[[1 2 3]\n",
      " [4 5 6]\n",
      " [7 8 9]]\n",
      "Singular matrix. Cannot compute inverse.\n"
     ]
    }
   ],
   "source": [
    "y = np.array([[1, 2, 3],\n",
    "              [4, 5, 6],\n",
    "              [7, 8, 9]])\n",
    "print(y)\n",
    "if scipy.linalg.det(y):\n",
    "    print('\\n', scipy.linalg.inv(y))\n",
    "else:\n",
    "    print('Singular matrix. Cannot compute inverse.')"
   ]
  },
  {
   "cell_type": "code",
   "execution_count": 16,
   "id": "pleasant-stake",
   "metadata": {},
   "outputs": [
    {
     "name": "stdout",
     "output_type": "stream",
     "text": [
      "[[0 2 3]\n",
      " [4 5 6]\n",
      " [7 8 9]]\n",
      "\n",
      " [[-1.          2.         -1.        ]\n",
      " [ 2.         -7.          4.        ]\n",
      " [-1.          4.66666667 -2.66666667]]\n"
     ]
    }
   ],
   "source": [
    "y = np.array([[0, 2, 3],\n",
    "              [4, 5, 6],\n",
    "              [7, 8, 9]])\n",
    "print(y)\n",
    "print('\\n', scipy.linalg.inv(y))"
   ]
  },
  {
   "cell_type": "code",
   "execution_count": 18,
   "id": "common-california",
   "metadata": {},
   "outputs": [
    {
     "name": "stdout",
     "output_type": "stream",
     "text": [
      "[2. 1. 3.]\n"
     ]
    }
   ],
   "source": [
    "# ax = b\n",
    "a = np.array([[2, 1, -3],\n",
    "              [4, -2, 1],\n",
    "              [3, 5, -2]])\n",
    "b = np.array([-4, 9, 5])\n",
    "x = scipy.linalg.solve(a, b)\n",
    "print(x)"
   ]
  },
  {
   "cell_type": "code",
   "execution_count": 26,
   "id": "coral-exemption",
   "metadata": {},
   "outputs": [
    {
     "name": "stdout",
     "output_type": "stream",
     "text": [
      "3.0\n",
      "16.852299546352718\n"
     ]
    }
   ],
   "source": [
    "a = np.array([[0, 2, 3],\n",
    "              [4, 5, 6],\n",
    "              [7, 8, 9]])\n",
    "print(scipy.linalg.det(a))\n",
    "print(scipy.linalg.norm(a))"
   ]
  },
  {
   "cell_type": "code",
   "execution_count": 33,
   "id": "responsible-edmonton",
   "metadata": {},
   "outputs": [
    {
     "name": "stdout",
     "output_type": "stream",
     "text": [
      "[[ 1  2  3  4  5  6]\n",
      " [ 7  8  9 10 11 12]\n",
      " [13 14 15 16 17 18]\n",
      " [19 20 21 22 23 24]\n",
      " [25 26 27 28 29 30]\n",
      " [31 32 33 34 35 36]] \n",
      "\n",
      "[[ 1  2  3  0  0  0]\n",
      " [ 7  8  9 10  0  0]\n",
      " [13 14 15 16 17  0]\n",
      " [19 20 21 22 23 24]\n",
      " [25 26 27 28 29 30]\n",
      " [31 32 33 34 35 36]]\n",
      "\n",
      "[[ 1  2  3  4  5  6]\n",
      " [ 7  8  9 10 11 12]\n",
      " [13 14 15 16 17 18]\n",
      " [ 0 20 21 22 23 24]\n",
      " [ 0  0 27 28 29 30]\n",
      " [ 0  0  0 34 35 36]]\n"
     ]
    }
   ],
   "source": [
    "a = 1 + np.arange(36).reshape(6, 6)\n",
    "print(a, '\\n')\n",
    "print(scipy.linalg.tril(a, k = 2))\n",
    "print()\n",
    "print(scipy.linalg.triu(a, k = -2))"
   ]
  },
  {
   "cell_type": "code",
   "execution_count": 40,
   "id": "willing-trainer",
   "metadata": {},
   "outputs": [
    {
     "name": "stdout",
     "output_type": "stream",
     "text": [
      "[[ 1  2  3  4  5  6  7]\n",
      " [ 8  9 10 11 12 13 14]\n",
      " [15 16 17 18 19 20 21]\n",
      " [22 23 24 25 26 27 28]\n",
      " [29 30 31 32 33 34 35]\n",
      " [36 37 38 39 40 41 42]\n",
      " [43 44 45 46 47 48 49]] \n",
      "\n",
      "permutation matrix\n",
      " [[0. 1. 0. 0. 0. 0. 0.]\n",
      " [0. 0. 0. 0. 0. 0. 1.]\n",
      " [0. 0. 0. 0. 1. 0. 0.]\n",
      " [0. 0. 0. 1. 0. 0. 0.]\n",
      " [0. 0. 0. 0. 0. 1. 0.]\n",
      " [0. 0. 1. 0. 0. 0. 0.]\n",
      " [1. 0. 0. 0. 0. 0. 0.]] \n",
      "\n",
      "lower component\n",
      " [[ 1.          0.          0.          0.          0.          0.\n",
      "   0.        ]\n",
      " [ 0.02325581  1.          0.          0.          0.          0.\n",
      "   0.        ]\n",
      " [ 0.8372093   0.16666667  1.          0.          0.          0.\n",
      "   0.        ]\n",
      " [ 0.51162791  0.5        -0.          1.          0.          0.\n",
      "   0.        ]\n",
      " [ 0.34883721  0.66666667 -0.          0.          1.          0.\n",
      "   0.        ]\n",
      " [ 0.6744186   0.33333333 -0.          0.          0.          1.\n",
      "   0.        ]\n",
      " [ 0.18604651  0.83333333 -0.          0.5         0.          0.25\n",
      "   1.        ]] \n",
      "\n",
      "upper component\n",
      " [[ 4.30000000e+01  4.40000000e+01  4.50000000e+01  4.60000000e+01\n",
      "   4.70000000e+01  4.80000000e+01  4.90000000e+01]\n",
      " [ 0.00000000e+00  9.76744186e-01  1.95348837e+00  2.93023256e+00\n",
      "   3.90697674e+00  4.88372093e+00  5.86046512e+00]\n",
      " [ 0.00000000e+00  0.00000000e+00 -7.10542736e-15 -1.42108547e-14\n",
      "  -2.13162821e-14 -2.84217094e-14 -2.84217094e-14]\n",
      " [ 0.00000000e+00  0.00000000e+00  0.00000000e+00  3.55271368e-15\n",
      "   3.55271368e-15  3.55271368e-15  3.55271368e-15]\n",
      " [ 0.00000000e+00  0.00000000e+00  0.00000000e+00  0.00000000e+00\n",
      "   3.55271368e-15  0.00000000e+00  3.55271368e-15]\n",
      " [ 0.00000000e+00  0.00000000e+00  0.00000000e+00  0.00000000e+00\n",
      "   0.00000000e+00 -7.10542736e-15  0.00000000e+00]\n",
      " [ 0.00000000e+00  0.00000000e+00  0.00000000e+00  0.00000000e+00\n",
      "   0.00000000e+00  0.00000000e+00 -1.77635684e-15]]\n"
     ]
    }
   ],
   "source": [
    "a = 1 + np.arange(49).reshape(7,7)\n",
    "print(a, '\\n')\n",
    "\n",
    "\n",
    "p, l, u = scipy.linalg.lu(a)\n",
    "\n",
    "print('permutation matrix\\n', p, '\\n')\n",
    "print('lower component\\n', l, '\\n')\n",
    "print('upper component\\n', u)"
   ]
  },
  {
   "cell_type": "code",
   "execution_count": 43,
   "id": "thick-equation",
   "metadata": {},
   "outputs": [
    {
     "name": "stdout",
     "output_type": "stream",
     "text": [
      "[[ 4.44089210e-16  1.20402011e+00 -1.88423342e+00]\n",
      " [ 0.00000000e+00  6.02010056e-01 -7.04539452e+00]\n",
      " [ 0.00000000e+00  0.00000000e+00 -1.22065556e+01]]\n",
      "[[ 0.40824829 -0.81649658  0.40824829]\n",
      " [-0.76923507 -0.06689001  0.63545506]\n",
      " [-0.49153915 -0.57346234 -0.65538554]]\n"
     ]
    }
   ],
   "source": [
    "a = np.arange(9).reshape(3, 3)\n",
    "q, r = scipy.linalg.qr(a)\n",
    "print(q)\n",
    "print(r)"
   ]
  },
  {
   "cell_type": "code",
   "execution_count": 44,
   "id": "allied-chassis",
   "metadata": {},
   "outputs": [
    {
     "name": "stdout",
     "output_type": "stream",
     "text": [
      "[[ 4.44089210e-16  1.20402011e+00 -1.88423342e+00]\n",
      " [ 0.00000000e+00  6.02010056e-01 -7.04539452e+00]\n",
      " [ 0.00000000e+00  0.00000000e+00 -1.22065556e+01]]\n",
      "[[ 0.40824829 -0.81649658  0.40824829]\n",
      " [-0.76923507 -0.06689001  0.63545506]\n",
      " [-0.49153915 -0.57346234 -0.65538554]]\n"
     ]
    }
   ],
   "source": [
    "a = np.arange(9).reshape(3, 3)\n",
    "q, r = scipy.linalg.rq(a)\n",
    "print(q)\n",
    "print(r)"
   ]
  },
  {
   "cell_type": "code",
   "execution_count": null,
   "id": "infinite-petroleum",
   "metadata": {},
   "outputs": [],
   "source": []
  }
 ],
 "metadata": {
  "kernelspec": {
   "display_name": "Python 3",
   "language": "python",
   "name": "python3"
  },
  "language_info": {
   "codemirror_mode": {
    "name": "ipython",
    "version": 3
   },
   "file_extension": ".py",
   "mimetype": "text/x-python",
   "name": "python",
   "nbconvert_exporter": "python",
   "pygments_lexer": "ipython3",
   "version": "3.9.2"
  }
 },
 "nbformat": 4,
 "nbformat_minor": 5
}
