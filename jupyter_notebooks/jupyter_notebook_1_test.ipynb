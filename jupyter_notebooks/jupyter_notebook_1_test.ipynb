{
 "cells": [
  {
   "cell_type": "markdown",
   "id": "royal-trademark",
   "metadata": {},
   "source": [
    "# Test Jupiter notebook\n",
    "\n",
    "This is my **first** notebook. "
   ]
  },
  {
   "cell_type": "code",
   "execution_count": 1,
   "id": "opposed-opera",
   "metadata": {},
   "outputs": [
    {
     "name": "stdout",
     "output_type": "stream",
     "text": [
      "Hello world!\n"
     ]
    }
   ],
   "source": [
    "print('Hello world!')"
   ]
  },
  {
   "cell_type": "code",
   "execution_count": 2,
   "id": "maritime-growing",
   "metadata": {},
   "outputs": [
    {
     "name": "stdout",
     "output_type": "stream",
     "text": [
      "16 2 10\n"
     ]
    }
   ],
   "source": [
    "a = 0x10\n",
    "b = 0b10\n",
    "c = 10\n",
    "print (a, b, c)"
   ]
  },
  {
   "cell_type": "code",
   "execution_count": 3,
   "id": "liable-sally",
   "metadata": {},
   "outputs": [
    {
     "name": "stdout",
     "output_type": "stream",
     "text": [
      "Test failed.\n"
     ]
    }
   ],
   "source": [
    "x = 3\n",
    "if x > 5:\n",
    "    print('Test passed.')\n",
    "else:\n",
    "\n",
    "    print('Test failed.')"
   ]
  },
  {
   "cell_type": "code",
   "execution_count": null,
   "id": "accredited-polish",
   "metadata": {},
   "outputs": [],
   "source": []
  }
 ],
 "metadata": {
  "kernelspec": {
   "display_name": "Python 3",
   "language": "python",
   "name": "python3"
  },
  "language_info": {
   "codemirror_mode": {
    "name": "ipython",
    "version": 3
   },
   "file_extension": ".py",
   "mimetype": "text/x-python",
   "name": "python",
   "nbconvert_exporter": "python",
   "pygments_lexer": "ipython3",
   "version": "3.9.2"
  }
 },
 "nbformat": 4,
 "nbformat_minor": 5
}
