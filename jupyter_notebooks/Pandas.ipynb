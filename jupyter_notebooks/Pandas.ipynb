{
 "cells": [
  {
   "cell_type": "markdown",
   "id": "fourth-while",
   "metadata": {},
   "source": [
    "# Pandas"
   ]
  },
  {
   "cell_type": "code",
   "execution_count": 90,
   "id": "configured-career",
   "metadata": {},
   "outputs": [],
   "source": [
    "# Imports\n",
    "import pandas as pd\n",
    "import numpy as np\n",
    "import xlrd\n",
    "import json\n",
    "import pickle\n",
    "from lxml import objectify\n",
    "from io import StringIO\n",
    "import requests\n",
    "import pymysql\n",
    "from datetime import datetime\n",
    "import pytz"
   ]
  },
  {
   "cell_type": "markdown",
   "id": "spatial-schedule",
   "metadata": {},
   "source": [
    "## Series"
   ]
  },
  {
   "cell_type": "code",
   "execution_count": 2,
   "id": "thermal-villa",
   "metadata": {},
   "outputs": [
    {
     "name": "stdout",
     "output_type": "stream",
     "text": [
      "<class 'list'>\n",
      "[1, 2, 4, 5, 3, 9]\n"
     ]
    }
   ],
   "source": [
    "x = [1, 2, 4 ,5 , 3, 9]\n",
    "print(type(x))\n",
    "print(x)"
   ]
  },
  {
   "cell_type": "code",
   "execution_count": 3,
   "id": "prepared-module",
   "metadata": {},
   "outputs": [
    {
     "name": "stdout",
     "output_type": "stream",
     "text": [
      "<class 'numpy.ndarray'>\n",
      "[1 2 4 5 3 9]\n"
     ]
    }
   ],
   "source": [
    "y = np.array(x)\n",
    "print(type(y))\n",
    "print(y)"
   ]
  },
  {
   "cell_type": "code",
   "execution_count": 4,
   "id": "imposed-crack",
   "metadata": {},
   "outputs": [
    {
     "name": "stdout",
     "output_type": "stream",
     "text": [
      "<class 'pandas.core.series.Series'>\n",
      "0    1\n",
      "1    2\n",
      "2    4\n",
      "3    5\n",
      "4    3\n",
      "5    9\n",
      "dtype: int64\n"
     ]
    }
   ],
   "source": [
    "obj1 = pd.Series(x) # index starts from 1\n",
    "print(type(obj1))\n",
    "print(obj1)"
   ]
  },
  {
   "cell_type": "code",
   "execution_count": 5,
   "id": "figured-institution",
   "metadata": {},
   "outputs": [
    {
     "name": "stdout",
     "output_type": "stream",
     "text": [
      "<class 'pandas.core.series.Series'>\n",
      "0    1\n",
      "1    2\n",
      "2    4\n",
      "3    5\n",
      "4    3\n",
      "5    9\n",
      "dtype: int32\n"
     ]
    }
   ],
   "source": [
    "obj1 = pd.Series(y) # We can both use array and list\n",
    "print(type(obj1))\n",
    "print(obj1)"
   ]
  },
  {
   "cell_type": "code",
   "execution_count": 6,
   "id": "designed-rover",
   "metadata": {},
   "outputs": [
    {
     "name": "stdout",
     "output_type": "stream",
     "text": [
      "<class 'numpy.ndarray'>\n",
      "[1 2 4 5 3 9]\n"
     ]
    }
   ],
   "source": [
    "value = obj1.values\n",
    "print(type(value))\n",
    "print(value)"
   ]
  },
  {
   "cell_type": "code",
   "execution_count": 7,
   "id": "rental-florida",
   "metadata": {},
   "outputs": [
    {
     "name": "stdout",
     "output_type": "stream",
     "text": [
      "<class 'pandas.core.indexes.range.RangeIndex'>\n",
      "RangeIndex(start=0, stop=6, step=1)\n",
      "<class 'list'>\n",
      "[0, 1, 2, 3, 4, 5]\n"
     ]
    }
   ],
   "source": [
    "index =  obj1.index\n",
    "print(type(index))\n",
    "print(index)\n",
    "index_list = index.tolist()\n",
    "print(type(index_list))\n",
    "print(index_list)"
   ]
  },
  {
   "cell_type": "code",
   "execution_count": 8,
   "id": "accompanied-orange",
   "metadata": {},
   "outputs": [
    {
     "name": "stdout",
     "output_type": "stream",
     "text": [
      "a    1\n",
      "b    2\n",
      "c    4\n",
      "d    5\n",
      "e    3\n",
      "f    9\n",
      "dtype: int64\n"
     ]
    }
   ],
   "source": [
    "obj2 = pd.Series(x, index = ['a', 'b', 'c', 'd', 'e', 'f'])\n",
    "print(obj2)"
   ]
  },
  {
   "cell_type": "code",
   "execution_count": 9,
   "id": "assigned-blair",
   "metadata": {},
   "outputs": [
    {
     "name": "stdout",
     "output_type": "stream",
     "text": [
      "0    1\n",
      "dtype: int32\n"
     ]
    }
   ],
   "source": [
    "print(obj1[obj1 < 2])"
   ]
  },
  {
   "cell_type": "code",
   "execution_count": 10,
   "id": "identified-restaurant",
   "metadata": {},
   "outputs": [
    {
     "name": "stdout",
     "output_type": "stream",
     "text": [
      "0     3\n",
      "1     6\n",
      "2    12\n",
      "3    15\n",
      "4     9\n",
      "5    27\n",
      "dtype: int32\n"
     ]
    }
   ],
   "source": [
    "c = 3\n",
    "print(obj1 * c)"
   ]
  },
  {
   "cell_type": "code",
   "execution_count": 11,
   "id": "ignored-ministry",
   "metadata": {},
   "outputs": [
    {
     "name": "stdout",
     "output_type": "stream",
     "text": [
      "a    1\n",
      "b    2\n",
      "c    4\n",
      "d    5\n",
      "e    3\n",
      "f    9\n",
      "dtype: int64\n",
      "0    1\n",
      "1    2\n",
      "2    4\n",
      "3    5\n",
      "4    3\n",
      "5    9\n",
      "dtype: int64\n"
     ]
    }
   ],
   "source": [
    "print(obj2)\n",
    "obj2.index = [0, 1, 2, 3, 4, 5]\n",
    "print(obj2)"
   ]
  },
  {
   "cell_type": "code",
   "execution_count": 12,
   "id": "electronic-active",
   "metadata": {},
   "outputs": [
    {
     "name": "stdout",
     "output_type": "stream",
     "text": [
      "[-1 -2]\n"
     ]
    }
   ],
   "source": [
    "a = np.array([-1, -2, 0, 1, 2])\n",
    "print(a[a<0])"
   ]
  },
  {
   "cell_type": "markdown",
   "id": "false-blood",
   "metadata": {},
   "source": [
    "## DataFrame"
   ]
  },
  {
   "cell_type": "code",
   "execution_count": 13,
   "id": "located-coupon",
   "metadata": {},
   "outputs": [],
   "source": [
    "data = {'city': ['Mumbai', 'Mumbai', 'Mumbai',\n",
    "                 'Hyderabad', 'Hyderabad', 'Hyderabad'],\n",
    "        'year': [2019, 2011, 2012, 2019, 2011, 2012,],\n",
    "        'population': [10.0, 10.1, 10.2, 5.2, 5.3, 5.5]}   "
   ]
  },
  {
   "cell_type": "code",
   "execution_count": 14,
   "id": "original-savings",
   "metadata": {},
   "outputs": [
    {
     "name": "stdout",
     "output_type": "stream",
     "text": [
      "{'city': ['Mumbai', 'Mumbai', 'Mumbai', 'Hyderabad', 'Hyderabad', 'Hyderabad'], 'year': [2019, 2011, 2012, 2019, 2011, 2012], 'population': [10.0, 10.1, 10.2, 5.2, 5.3, 5.5]}\n",
      "<class 'dict'>\n"
     ]
    }
   ],
   "source": [
    "print(data)\n",
    "print(type(data))"
   ]
  },
  {
   "cell_type": "code",
   "execution_count": 15,
   "id": "interracial-affiliate",
   "metadata": {},
   "outputs": [],
   "source": [
    "df1 = pd.DataFrame(data)"
   ]
  },
  {
   "cell_type": "code",
   "execution_count": 16,
   "id": "fresh-journal",
   "metadata": {},
   "outputs": [
    {
     "name": "stdout",
     "output_type": "stream",
     "text": [
      "        city  year  population\n",
      "0     Mumbai  2019        10.0\n",
      "1     Mumbai  2011        10.1\n",
      "2     Mumbai  2012        10.2\n",
      "3  Hyderabad  2019         5.2\n",
      "4  Hyderabad  2011         5.3\n",
      "5  Hyderabad  2012         5.5\n",
      "<class 'pandas.core.frame.DataFrame'>\n"
     ]
    }
   ],
   "source": [
    "print(df1)\n",
    "print(type(df1))"
   ]
  },
  {
   "cell_type": "code",
   "execution_count": 17,
   "id": "accepted-quarterly",
   "metadata": {},
   "outputs": [
    {
     "data": {
      "text/html": [
       "<div>\n",
       "<style scoped>\n",
       "    .dataframe tbody tr th:only-of-type {\n",
       "        vertical-align: middle;\n",
       "    }\n",
       "\n",
       "    .dataframe tbody tr th {\n",
       "        vertical-align: top;\n",
       "    }\n",
       "\n",
       "    .dataframe thead th {\n",
       "        text-align: right;\n",
       "    }\n",
       "</style>\n",
       "<table border=\"1\" class=\"dataframe\">\n",
       "  <thead>\n",
       "    <tr style=\"text-align: right;\">\n",
       "      <th></th>\n",
       "      <th>city</th>\n",
       "      <th>year</th>\n",
       "      <th>population</th>\n",
       "    </tr>\n",
       "  </thead>\n",
       "  <tbody>\n",
       "    <tr>\n",
       "      <th>0</th>\n",
       "      <td>Mumbai</td>\n",
       "      <td>2019</td>\n",
       "      <td>10.0</td>\n",
       "    </tr>\n",
       "    <tr>\n",
       "      <th>1</th>\n",
       "      <td>Mumbai</td>\n",
       "      <td>2011</td>\n",
       "      <td>10.1</td>\n",
       "    </tr>\n",
       "    <tr>\n",
       "      <th>2</th>\n",
       "      <td>Mumbai</td>\n",
       "      <td>2012</td>\n",
       "      <td>10.2</td>\n",
       "    </tr>\n",
       "    <tr>\n",
       "      <th>3</th>\n",
       "      <td>Hyderabad</td>\n",
       "      <td>2019</td>\n",
       "      <td>5.2</td>\n",
       "    </tr>\n",
       "    <tr>\n",
       "      <th>4</th>\n",
       "      <td>Hyderabad</td>\n",
       "      <td>2011</td>\n",
       "      <td>5.3</td>\n",
       "    </tr>\n",
       "  </tbody>\n",
       "</table>\n",
       "</div>"
      ],
      "text/plain": [
       "        city  year  population\n",
       "0     Mumbai  2019        10.0\n",
       "1     Mumbai  2011        10.1\n",
       "2     Mumbai  2012        10.2\n",
       "3  Hyderabad  2019         5.2\n",
       "4  Hyderabad  2011         5.3"
      ]
     },
     "execution_count": 17,
     "metadata": {},
     "output_type": "execute_result"
    }
   ],
   "source": [
    "df1.head() # prints first 5 records (rows)"
   ]
  },
  {
   "cell_type": "code",
   "execution_count": 18,
   "id": "enclosed-thanks",
   "metadata": {},
   "outputs": [
    {
     "data": {
      "text/html": [
       "<div>\n",
       "<style scoped>\n",
       "    .dataframe tbody tr th:only-of-type {\n",
       "        vertical-align: middle;\n",
       "    }\n",
       "\n",
       "    .dataframe tbody tr th {\n",
       "        vertical-align: top;\n",
       "    }\n",
       "\n",
       "    .dataframe thead th {\n",
       "        text-align: right;\n",
       "    }\n",
       "</style>\n",
       "<table border=\"1\" class=\"dataframe\">\n",
       "  <thead>\n",
       "    <tr style=\"text-align: right;\">\n",
       "      <th></th>\n",
       "      <th>city</th>\n",
       "      <th>year</th>\n",
       "      <th>population</th>\n",
       "    </tr>\n",
       "  </thead>\n",
       "  <tbody>\n",
       "    <tr>\n",
       "      <th>1</th>\n",
       "      <td>Mumbai</td>\n",
       "      <td>2011</td>\n",
       "      <td>10.1</td>\n",
       "    </tr>\n",
       "    <tr>\n",
       "      <th>2</th>\n",
       "      <td>Mumbai</td>\n",
       "      <td>2012</td>\n",
       "      <td>10.2</td>\n",
       "    </tr>\n",
       "    <tr>\n",
       "      <th>3</th>\n",
       "      <td>Hyderabad</td>\n",
       "      <td>2019</td>\n",
       "      <td>5.2</td>\n",
       "    </tr>\n",
       "    <tr>\n",
       "      <th>4</th>\n",
       "      <td>Hyderabad</td>\n",
       "      <td>2011</td>\n",
       "      <td>5.3</td>\n",
       "    </tr>\n",
       "    <tr>\n",
       "      <th>5</th>\n",
       "      <td>Hyderabad</td>\n",
       "      <td>2012</td>\n",
       "      <td>5.5</td>\n",
       "    </tr>\n",
       "  </tbody>\n",
       "</table>\n",
       "</div>"
      ],
      "text/plain": [
       "        city  year  population\n",
       "1     Mumbai  2011        10.1\n",
       "2     Mumbai  2012        10.2\n",
       "3  Hyderabad  2019         5.2\n",
       "4  Hyderabad  2011         5.3\n",
       "5  Hyderabad  2012         5.5"
      ]
     },
     "execution_count": 18,
     "metadata": {},
     "output_type": "execute_result"
    }
   ],
   "source": [
    "df1.tail()"
   ]
  },
  {
   "cell_type": "code",
   "execution_count": 19,
   "id": "surprised-minority",
   "metadata": {},
   "outputs": [
    {
     "data": {
      "text/html": [
       "<div>\n",
       "<style scoped>\n",
       "    .dataframe tbody tr th:only-of-type {\n",
       "        vertical-align: middle;\n",
       "    }\n",
       "\n",
       "    .dataframe tbody tr th {\n",
       "        vertical-align: top;\n",
       "    }\n",
       "\n",
       "    .dataframe thead th {\n",
       "        text-align: right;\n",
       "    }\n",
       "</style>\n",
       "<table border=\"1\" class=\"dataframe\">\n",
       "  <thead>\n",
       "    <tr style=\"text-align: right;\">\n",
       "      <th></th>\n",
       "      <th>year</th>\n",
       "      <th>city</th>\n",
       "      <th>population</th>\n",
       "    </tr>\n",
       "  </thead>\n",
       "  <tbody>\n",
       "    <tr>\n",
       "      <th>0</th>\n",
       "      <td>2019</td>\n",
       "      <td>Mumbai</td>\n",
       "      <td>10.0</td>\n",
       "    </tr>\n",
       "    <tr>\n",
       "      <th>1</th>\n",
       "      <td>2011</td>\n",
       "      <td>Mumbai</td>\n",
       "      <td>10.1</td>\n",
       "    </tr>\n",
       "    <tr>\n",
       "      <th>2</th>\n",
       "      <td>2012</td>\n",
       "      <td>Mumbai</td>\n",
       "      <td>10.2</td>\n",
       "    </tr>\n",
       "    <tr>\n",
       "      <th>3</th>\n",
       "      <td>2019</td>\n",
       "      <td>Hyderabad</td>\n",
       "      <td>5.2</td>\n",
       "    </tr>\n",
       "    <tr>\n",
       "      <th>4</th>\n",
       "      <td>2011</td>\n",
       "      <td>Hyderabad</td>\n",
       "      <td>5.3</td>\n",
       "    </tr>\n",
       "    <tr>\n",
       "      <th>5</th>\n",
       "      <td>2012</td>\n",
       "      <td>Hyderabad</td>\n",
       "      <td>5.5</td>\n",
       "    </tr>\n",
       "  </tbody>\n",
       "</table>\n",
       "</div>"
      ],
      "text/plain": [
       "   year       city  population\n",
       "0  2019     Mumbai        10.0\n",
       "1  2011     Mumbai        10.1\n",
       "2  2012     Mumbai        10.2\n",
       "3  2019  Hyderabad         5.2\n",
       "4  2011  Hyderabad         5.3\n",
       "5  2012  Hyderabad         5.5"
      ]
     },
     "execution_count": 19,
     "metadata": {},
     "output_type": "execute_result"
    }
   ],
   "source": [
    "df2 = pd.DataFrame(data, columns = ['year', 'city', 'population'])\n",
    "df2"
   ]
  },
  {
   "cell_type": "code",
   "execution_count": 20,
   "id": "tested-defense",
   "metadata": {},
   "outputs": [
    {
     "data": {
      "text/html": [
       "<div>\n",
       "<style scoped>\n",
       "    .dataframe tbody tr th:only-of-type {\n",
       "        vertical-align: middle;\n",
       "    }\n",
       "\n",
       "    .dataframe tbody tr th {\n",
       "        vertical-align: top;\n",
       "    }\n",
       "\n",
       "    .dataframe thead th {\n",
       "        text-align: right;\n",
       "    }\n",
       "</style>\n",
       "<table border=\"1\" class=\"dataframe\">\n",
       "  <thead>\n",
       "    <tr style=\"text-align: right;\">\n",
       "      <th></th>\n",
       "      <th>year</th>\n",
       "      <th>city</th>\n",
       "      <th>population</th>\n",
       "      <th>GDP</th>\n",
       "    </tr>\n",
       "  </thead>\n",
       "  <tbody>\n",
       "    <tr>\n",
       "      <th>one</th>\n",
       "      <td>2019</td>\n",
       "      <td>Mumbai</td>\n",
       "      <td>10.0</td>\n",
       "      <td>0</td>\n",
       "    </tr>\n",
       "    <tr>\n",
       "      <th>two</th>\n",
       "      <td>2011</td>\n",
       "      <td>Mumbai</td>\n",
       "      <td>10.1</td>\n",
       "      <td>0</td>\n",
       "    </tr>\n",
       "    <tr>\n",
       "      <th>three</th>\n",
       "      <td>2012</td>\n",
       "      <td>Mumbai</td>\n",
       "      <td>10.2</td>\n",
       "      <td>0</td>\n",
       "    </tr>\n",
       "    <tr>\n",
       "      <th>four</th>\n",
       "      <td>2019</td>\n",
       "      <td>Hyderabad</td>\n",
       "      <td>5.2</td>\n",
       "      <td>0</td>\n",
       "    </tr>\n",
       "    <tr>\n",
       "      <th>five</th>\n",
       "      <td>2011</td>\n",
       "      <td>Hyderabad</td>\n",
       "      <td>5.3</td>\n",
       "      <td>0</td>\n",
       "    </tr>\n",
       "    <tr>\n",
       "      <th>six</th>\n",
       "      <td>2012</td>\n",
       "      <td>Hyderabad</td>\n",
       "      <td>5.5</td>\n",
       "      <td>0</td>\n",
       "    </tr>\n",
       "  </tbody>\n",
       "</table>\n",
       "</div>"
      ],
      "text/plain": [
       "       year       city  population  GDP\n",
       "one    2019     Mumbai        10.0    0\n",
       "two    2011     Mumbai        10.1    0\n",
       "three  2012     Mumbai        10.2    0\n",
       "four   2019  Hyderabad         5.2    0\n",
       "five   2011  Hyderabad         5.3    0\n",
       "six    2012  Hyderabad         5.5    0"
      ]
     },
     "execution_count": 20,
     "metadata": {},
     "output_type": "execute_result"
    }
   ],
   "source": [
    "df3 = pd.DataFrame(data, columns = ['year', 'city', 'population', 'GDP'],\n",
    "                  index = ['one', 'two', 'three', 'four', 'five', 'six']).fillna(0)\n",
    "df3"
   ]
  },
  {
   "cell_type": "code",
   "execution_count": 21,
   "id": "romance-audio",
   "metadata": {},
   "outputs": [
    {
     "name": "stdout",
     "output_type": "stream",
     "text": [
      "Index(['year', 'city', 'population', 'GDP'], dtype='object')\n",
      "Index(['one', 'two', 'three', 'four', 'five', 'six'], dtype='object')\n"
     ]
    }
   ],
   "source": [
    "print(df3.columns)\n",
    "print(df3.index)"
   ]
  },
  {
   "cell_type": "code",
   "execution_count": 22,
   "id": "promotional-bench",
   "metadata": {},
   "outputs": [
    {
     "name": "stdout",
     "output_type": "stream",
     "text": [
      "one      2019\n",
      "two      2011\n",
      "three    2012\n",
      "four     2019\n",
      "five     2011\n",
      "six      2012\n",
      "Name: year, dtype: int64\n",
      "2019\n"
     ]
    }
   ],
   "source": [
    "print(df3.year)\n",
    "print(df3['year']['one'])"
   ]
  },
  {
   "cell_type": "code",
   "execution_count": 23,
   "id": "changing-talent",
   "metadata": {},
   "outputs": [
    {
     "name": "stdout",
     "output_type": "stream",
     "text": [
      "<class 'pandas.core.series.Series'>\n",
      "int64\n"
     ]
    }
   ],
   "source": [
    "print(type(df3.year))\n",
    "print(df3.year.dtype)"
   ]
  },
  {
   "cell_type": "code",
   "execution_count": 24,
   "id": "administrative-republican",
   "metadata": {},
   "outputs": [
    {
     "name": "stdout",
     "output_type": "stream",
     "text": [
      "year            int64\n",
      "city           object\n",
      "population    float64\n",
      "GDP             int64\n",
      "dtype: object\n"
     ]
    }
   ],
   "source": [
    "print(df3.dtypes)"
   ]
  },
  {
   "cell_type": "code",
   "execution_count": 25,
   "id": "noble-knight",
   "metadata": {},
   "outputs": [
    {
     "name": "stdout",
     "output_type": "stream",
     "text": [
      "       year       city  population  GDP\n",
      "one    2019     Mumbai        10.0    0\n",
      "two    2011     Mumbai        10.1    0\n",
      "three  2012     Mumbai        10.2    0\n",
      "four   2019  Hyderabad         5.2    0\n",
      "five   2011  Hyderabad         5.3    0\n",
      "six    2012  Hyderabad         5.5    0 \n",
      "\n",
      "year            2019\n",
      "city          Mumbai\n",
      "population      10.0\n",
      "GDP                0\n",
      "Name: one, dtype: object\n"
     ]
    }
   ],
   "source": [
    "print(df3, '\\n')\n",
    "print(df3.loc['one']) # prints row with specified index"
   ]
  },
  {
   "cell_type": "code",
   "execution_count": 26,
   "id": "declared-serum",
   "metadata": {},
   "outputs": [
    {
     "name": "stdout",
     "output_type": "stream",
     "text": [
      "Hyderabad\n"
     ]
    }
   ],
   "source": [
    "print(df3.loc['four', 'city'])"
   ]
  },
  {
   "cell_type": "code",
   "execution_count": 27,
   "id": "following-strip",
   "metadata": {},
   "outputs": [
    {
     "name": "stdout",
     "output_type": "stream",
     "text": [
      "       year       city  population  GDP\n",
      "one    2019     Mumbai        10.0   10\n",
      "two    2011     Mumbai        10.1   10\n",
      "three  2012     Mumbai        10.2   10\n",
      "four   2019  Hyderabad         5.2   10\n",
      "five   2011  Hyderabad         5.3   10\n",
      "six    2012  Hyderabad         5.5   10\n"
     ]
    }
   ],
   "source": [
    "df3.GDP = 10\n",
    "print(df3)"
   ]
  },
  {
   "cell_type": "code",
   "execution_count": 28,
   "id": "handy-button",
   "metadata": {},
   "outputs": [
    {
     "name": "stdout",
     "output_type": "stream",
     "text": [
      "       year       city  population  GDP\n",
      "one    2019     Mumbai        10.0    0\n",
      "two    2011     Mumbai        10.1    1\n",
      "three  2012     Mumbai        10.2    2\n",
      "four   2019  Hyderabad         5.2    3\n",
      "five   2011  Hyderabad         5.3    4\n",
      "six    2012  Hyderabad         5.5    5\n"
     ]
    }
   ],
   "source": [
    "df3.GDP = np.arange(6)\n",
    "print(df3)"
   ]
  },
  {
   "cell_type": "code",
   "execution_count": 29,
   "id": "medium-clone",
   "metadata": {},
   "outputs": [
    {
     "name": "stdout",
     "output_type": "stream",
     "text": [
      "       year       city  population  GDP\n",
      "one    2019     Mumbai        10.0  3.0\n",
      "two    2011     Mumbai        10.1  2.0\n",
      "three  2012     Mumbai        10.2  0.0\n",
      "four   2019  Hyderabad         5.2  9.0\n",
      "five   2011  Hyderabad         5.3 -0.4\n",
      "six    2012  Hyderabad         5.5  7.0\n"
     ]
    }
   ],
   "source": [
    "df3.GDP = [3, 2, 0, 9, -0.4, 7]\n",
    "print(df3)"
   ]
  },
  {
   "cell_type": "code",
   "execution_count": 30,
   "id": "oriented-brisbane",
   "metadata": {},
   "outputs": [
    {
     "name": "stdout",
     "output_type": "stream",
     "text": [
      "       year       city  population  GDP\n",
      "one    2019     Mumbai        10.0  NaN\n",
      "two    2011     Mumbai        10.1 -1.4\n",
      "three  2012     Mumbai        10.2  NaN\n",
      "four   2019  Hyderabad         5.2  1.5\n",
      "five   2011  Hyderabad         5.3 -1.3\n",
      "six    2012  Hyderabad         5.5  NaN\n"
     ]
    }
   ],
   "source": [
    "val = pd.Series([-1.4, 1.5, -1.3], index = ['two', 'four', 'five'])\n",
    "df3.GDP = val\n",
    "print(df3)"
   ]
  },
  {
   "cell_type": "markdown",
   "id": "breeding-occasions",
   "metadata": {},
   "source": [
    "## Data acquisition with Pandas"
   ]
  },
  {
   "cell_type": "markdown",
   "id": "essential-teach",
   "metadata": {},
   "source": [
    "### CSV"
   ]
  },
  {
   "cell_type": "code",
   "execution_count": 31,
   "id": "sticky-separate",
   "metadata": {},
   "outputs": [
    {
     "name": "stdout",
     "output_type": "stream",
     "text": [
      "         rank discipline  phd  service     sex  salary\n",
      "0        Prof          B   56       49    Male  186960\n",
      "1        Prof          A   12        6    Male   93000\n",
      "2        Prof          A   23       20    Male  110515\n",
      "3        Prof          A   40       31    Male  131205\n",
      "4        Prof          B   20       18    Male  104800\n",
      "..        ...        ...  ...      ...     ...     ...\n",
      "73       Prof          B   18       10  Female  105450\n",
      "74  AssocProf          B   19        6  Female  104542\n",
      "75       Prof          B   17       17  Female  124312\n",
      "76       Prof          A   28       14  Female  109954\n",
      "77       Prof          A   23       15  Female  109646\n",
      "\n",
      "[78 rows x 6 columns]\n"
     ]
    }
   ],
   "source": [
    "df1 = pd.read_csv(\"https://raw.githubusercontent.com/Apress/data-analysis-and-visualization-using-python/master/Ch07/Salaries.csv\")\n",
    "print(df1)"
   ]
  },
  {
   "cell_type": "code",
   "execution_count": 32,
   "id": "architectural-platform",
   "metadata": {},
   "outputs": [
    {
     "name": "stdout",
     "output_type": "stream",
     "text": [
      "         rank discipline  phd  service     sex  salary\n",
      "0        Prof          B   56       49    Male  186960\n",
      "1        Prof          A   12        6    Male   93000\n",
      "2        Prof          A   23       20    Male  110515\n",
      "3        Prof          A   40       31    Male  131205\n",
      "4        Prof          B   20       18    Male  104800\n",
      "..        ...        ...  ...      ...     ...     ...\n",
      "73       Prof          B   18       10  Female  105450\n",
      "74  AssocProf          B   19        6  Female  104542\n",
      "75       Prof          B   17       17  Female  124312\n",
      "76       Prof          A   28       14  Female  109954\n",
      "77       Prof          A   23       15  Female  109646\n",
      "\n",
      "[78 rows x 6 columns]\n"
     ]
    }
   ],
   "source": [
    "df2 = pd.read_csv(\"Salaries.csv\")\n",
    "print(df2)"
   ]
  },
  {
   "cell_type": "code",
   "execution_count": 33,
   "id": "satisfactory-andorra",
   "metadata": {},
   "outputs": [],
   "source": [
    "df2.to_csv('output.csv', index=True, header=False)"
   ]
  },
  {
   "cell_type": "markdown",
   "id": "hairy-location",
   "metadata": {},
   "source": [
    "### Excel"
   ]
  },
  {
   "cell_type": "code",
   "execution_count": 34,
   "id": "durable-reset",
   "metadata": {},
   "outputs": [
    {
     "data": {
      "text/html": [
       "<div>\n",
       "<style scoped>\n",
       "    .dataframe tbody tr th:only-of-type {\n",
       "        vertical-align: middle;\n",
       "    }\n",
       "\n",
       "    .dataframe tbody tr th {\n",
       "        vertical-align: top;\n",
       "    }\n",
       "\n",
       "    .dataframe thead th {\n",
       "        text-align: right;\n",
       "    }\n",
       "</style>\n",
       "<table border=\"1\" class=\"dataframe\">\n",
       "  <thead>\n",
       "    <tr style=\"text-align: right;\">\n",
       "      <th></th>\n",
       "      <th>Fruit</th>\n",
       "      <th>Color</th>\n",
       "      <th>Weight</th>\n",
       "    </tr>\n",
       "  </thead>\n",
       "  <tbody>\n",
       "    <tr>\n",
       "      <th>0</th>\n",
       "      <td>Banana</td>\n",
       "      <td>Yellow</td>\n",
       "      <td>250</td>\n",
       "    </tr>\n",
       "    <tr>\n",
       "      <th>1</th>\n",
       "      <td>Orange</td>\n",
       "      <td>Orange</td>\n",
       "      <td>200</td>\n",
       "    </tr>\n",
       "    <tr>\n",
       "      <th>2</th>\n",
       "      <td>Grapes</td>\n",
       "      <td>Green</td>\n",
       "      <td>400</td>\n",
       "    </tr>\n",
       "    <tr>\n",
       "      <th>3</th>\n",
       "      <td>Tomato</td>\n",
       "      <td>Red</td>\n",
       "      <td>100</td>\n",
       "    </tr>\n",
       "    <tr>\n",
       "      <th>4</th>\n",
       "      <td>Spinach</td>\n",
       "      <td>Green</td>\n",
       "      <td>40</td>\n",
       "    </tr>\n",
       "    <tr>\n",
       "      <th>5</th>\n",
       "      <td>Potatoes</td>\n",
       "      <td>Grey</td>\n",
       "      <td>400</td>\n",
       "    </tr>\n",
       "    <tr>\n",
       "      <th>6</th>\n",
       "      <td>Rice</td>\n",
       "      <td>White</td>\n",
       "      <td>300</td>\n",
       "    </tr>\n",
       "    <tr>\n",
       "      <th>7</th>\n",
       "      <td>Rice</td>\n",
       "      <td>Brown</td>\n",
       "      <td>400</td>\n",
       "    </tr>\n",
       "    <tr>\n",
       "      <th>8</th>\n",
       "      <td>Wheat</td>\n",
       "      <td>Brown</td>\n",
       "      <td>500</td>\n",
       "    </tr>\n",
       "    <tr>\n",
       "      <th>9</th>\n",
       "      <td>Barley</td>\n",
       "      <td>Yellow</td>\n",
       "      <td>500</td>\n",
       "    </tr>\n",
       "  </tbody>\n",
       "</table>\n",
       "</div>"
      ],
      "text/plain": [
       "      Fruit   Color  Weight\n",
       "0    Banana  Yellow     250\n",
       "1    Orange  Orange     200\n",
       "2    Grapes   Green     400\n",
       "3    Tomato     Red     100\n",
       "4   Spinach   Green      40\n",
       "5  Potatoes    Grey     400\n",
       "6      Rice   White     300\n",
       "7      Rice   Brown     400\n",
       "8     Wheat   Brown     500\n",
       "9    Barley  Yellow     500"
      ]
     },
     "execution_count": 34,
     "metadata": {},
     "output_type": "execute_result"
    }
   ],
   "source": [
    "excel_file = 'test1.xlsx'\n",
    "df1 = pd.read_excel(excel_file)\n",
    "df1"
   ]
  },
  {
   "cell_type": "markdown",
   "id": "deadly-valuation",
   "metadata": {},
   "source": [
    "## JSON"
   ]
  },
  {
   "cell_type": "code",
   "execution_count": 35,
   "id": "cathedral-hygiene",
   "metadata": {},
   "outputs": [
    {
     "name": "stdout",
     "output_type": "stream",
     "text": [
      "\n",
      "{\"name\": \"Ashwin\",\n",
      "\"places_lived\": [\"Nashik\", \"Hyderabad\", \"Bangalore\"],\n",
      "\"pet\": null,\n",
      "\"siblings\": [{\"name\": \"Scott\", \"age\": 36, \"pets\": [\"Zeus\", \"Zuko\"]},\n",
      "             {\"name\": \"Katie\", \"age\": 38, \"pets\": [\"Sixes\", \"Stache\", \"Cisco\"]}]\n",
      "}\n",
      "\n",
      "<class 'str'>\n"
     ]
    }
   ],
   "source": [
    "obj = \"\"\"\n",
    "{\"name\": \"Ashwin\",\n",
    "\"places_lived\": [\"Nashik\", \"Hyderabad\", \"Bangalore\"],\n",
    "\"pet\": null,\n",
    "\"siblings\": [{\"name\": \"Scott\", \"age\": 36, \"pets\": [\"Zeus\", \"Zuko\"]},\n",
    "             {\"name\": \"Katie\", \"age\": 38, \"pets\": [\"Sixes\", \"Stache\", \"Cisco\"]}]\n",
    "}\n",
    "\"\"\"\n",
    "print(obj)\n",
    "print(type(obj))"
   ]
  },
  {
   "cell_type": "code",
   "execution_count": 36,
   "id": "powerful-germany",
   "metadata": {},
   "outputs": [
    {
     "name": "stdout",
     "output_type": "stream",
     "text": [
      "{'name': 'Ashwin', 'places_lived': ['Nashik', 'Hyderabad', 'Bangalore'], 'pet': None, 'siblings': [{'name': 'Scott', 'age': 36, 'pets': ['Zeus', 'Zuko']}, {'name': 'Katie', 'age': 38, 'pets': ['Sixes', 'Stache', 'Cisco']}]}\n",
      "<class 'dict'>\n"
     ]
    }
   ],
   "source": [
    "result = json.loads(obj)\n",
    "print(result)\n",
    "print(type(result))"
   ]
  },
  {
   "cell_type": "code",
   "execution_count": 37,
   "id": "ultimate-recipient",
   "metadata": {},
   "outputs": [
    {
     "name": "stdout",
     "output_type": "stream",
     "text": [
      "    name  age\n",
      "0  Scott   36\n",
      "1  Katie   38\n"
     ]
    }
   ],
   "source": [
    "df1 = pd.DataFrame(result['siblings'], columns=['name', 'age'])\n",
    "print(df1)"
   ]
  },
  {
   "cell_type": "code",
   "execution_count": 38,
   "id": "dynamic-emission",
   "metadata": {},
   "outputs": [],
   "source": [
    "# df2 = pd.read_json('file_name')"
   ]
  },
  {
   "cell_type": "markdown",
   "id": "brazilian-exhaust",
   "metadata": {},
   "source": [
    "## Pickles"
   ]
  },
  {
   "cell_type": "code",
   "execution_count": 39,
   "id": "aggregate-offering",
   "metadata": {},
   "outputs": [
    {
     "data": {
      "text/html": [
       "<div>\n",
       "<style scoped>\n",
       "    .dataframe tbody tr th:only-of-type {\n",
       "        vertical-align: middle;\n",
       "    }\n",
       "\n",
       "    .dataframe tbody tr th {\n",
       "        vertical-align: top;\n",
       "    }\n",
       "\n",
       "    .dataframe thead th {\n",
       "        text-align: right;\n",
       "    }\n",
       "</style>\n",
       "<table border=\"1\" class=\"dataframe\">\n",
       "  <thead>\n",
       "    <tr style=\"text-align: right;\">\n",
       "      <th></th>\n",
       "      <th>0</th>\n",
       "    </tr>\n",
       "  </thead>\n",
       "  <tbody>\n",
       "    <tr>\n",
       "      <th>0</th>\n",
       "      <td>1</td>\n",
       "    </tr>\n",
       "    <tr>\n",
       "      <th>1</th>\n",
       "      <td>2</td>\n",
       "    </tr>\n",
       "    <tr>\n",
       "      <th>2</th>\n",
       "      <td>3</td>\n",
       "    </tr>\n",
       "    <tr>\n",
       "      <th>3</th>\n",
       "      <td>4</td>\n",
       "    </tr>\n",
       "    <tr>\n",
       "      <th>4</th>\n",
       "      <td>5</td>\n",
       "    </tr>\n",
       "  </tbody>\n",
       "</table>\n",
       "</div>"
      ],
      "text/plain": [
       "   0\n",
       "0  1\n",
       "1  2\n",
       "2  3\n",
       "3  4\n",
       "4  5"
      ]
     },
     "execution_count": 39,
     "metadata": {},
     "output_type": "execute_result"
    }
   ],
   "source": [
    "data = (1 + np.arange(5)).tolist()\n",
    "df1 = pd.DataFrame(data)\n",
    "df1"
   ]
  },
  {
   "cell_type": "code",
   "execution_count": 40,
   "id": "healthy-dating",
   "metadata": {},
   "outputs": [],
   "source": [
    "df1.to_pickle('mypickle')"
   ]
  },
  {
   "cell_type": "code",
   "execution_count": 41,
   "id": "duplicate-gentleman",
   "metadata": {},
   "outputs": [
    {
     "data": {
      "text/html": [
       "<div>\n",
       "<style scoped>\n",
       "    .dataframe tbody tr th:only-of-type {\n",
       "        vertical-align: middle;\n",
       "    }\n",
       "\n",
       "    .dataframe tbody tr th {\n",
       "        vertical-align: top;\n",
       "    }\n",
       "\n",
       "    .dataframe thead th {\n",
       "        text-align: right;\n",
       "    }\n",
       "</style>\n",
       "<table border=\"1\" class=\"dataframe\">\n",
       "  <thead>\n",
       "    <tr style=\"text-align: right;\">\n",
       "      <th></th>\n",
       "      <th>0</th>\n",
       "    </tr>\n",
       "  </thead>\n",
       "  <tbody>\n",
       "    <tr>\n",
       "      <th>0</th>\n",
       "      <td>True</td>\n",
       "    </tr>\n",
       "    <tr>\n",
       "      <th>1</th>\n",
       "      <td>True</td>\n",
       "    </tr>\n",
       "    <tr>\n",
       "      <th>2</th>\n",
       "      <td>True</td>\n",
       "    </tr>\n",
       "    <tr>\n",
       "      <th>3</th>\n",
       "      <td>True</td>\n",
       "    </tr>\n",
       "    <tr>\n",
       "      <th>4</th>\n",
       "      <td>True</td>\n",
       "    </tr>\n",
       "  </tbody>\n",
       "</table>\n",
       "</div>"
      ],
      "text/plain": [
       "      0\n",
       "0  True\n",
       "1  True\n",
       "2  True\n",
       "3  True\n",
       "4  True"
      ]
     },
     "execution_count": 41,
     "metadata": {},
     "output_type": "execute_result"
    }
   ],
   "source": [
    "df2 = pd.read_pickle('mypickle')\n",
    "df2 == df1"
   ]
  },
  {
   "cell_type": "markdown",
   "id": "consistent-validation",
   "metadata": {},
   "source": [
    "## Pandas Web"
   ]
  },
  {
   "cell_type": "code",
   "execution_count": 42,
   "id": "changing-session",
   "metadata": {},
   "outputs": [
    {
     "name": "stdout",
     "output_type": "stream",
     "text": [
      "[    0                                                  1                     2\n",
      "0 NaN  (function(){var id='tsuid1';document.getElemen...  Напредно пребарување]\n",
      "<class 'list'>\n",
      "1\n"
     ]
    }
   ],
   "source": [
    "output = pd.read_html('https://google.com/')\n",
    "print(output)\n",
    "print(type(output))\n",
    "print(len(output))"
   ]
  },
  {
   "cell_type": "code",
   "execution_count": 43,
   "id": "casual-residence",
   "metadata": {},
   "outputs": [
    {
     "data": {
      "text/html": [
       "<div>\n",
       "<style scoped>\n",
       "    .dataframe tbody tr th:only-of-type {\n",
       "        vertical-align: middle;\n",
       "    }\n",
       "\n",
       "    .dataframe tbody tr th {\n",
       "        vertical-align: top;\n",
       "    }\n",
       "\n",
       "    .dataframe thead th {\n",
       "        text-align: right;\n",
       "    }\n",
       "</style>\n",
       "<table border=\"1\" class=\"dataframe\">\n",
       "  <thead>\n",
       "    <tr style=\"text-align: right;\">\n",
       "      <th></th>\n",
       "      <th>0</th>\n",
       "      <th>1</th>\n",
       "      <th>2</th>\n",
       "    </tr>\n",
       "  </thead>\n",
       "  <tbody>\n",
       "    <tr>\n",
       "      <th>0</th>\n",
       "      <td>NaN</td>\n",
       "      <td>(function(){var id='tsuid1';document.getElemen...</td>\n",
       "      <td>Напредно пребарување</td>\n",
       "    </tr>\n",
       "  </tbody>\n",
       "</table>\n",
       "</div>"
      ],
      "text/plain": [
       "    0                                                  1                     2\n",
       "0 NaN  (function(){var id='tsuid1';document.getElemen...  Напредно пребарување"
      ]
     },
     "execution_count": 43,
     "metadata": {},
     "output_type": "execute_result"
    }
   ],
   "source": [
    "output[0].head()"
   ]
  },
  {
   "cell_type": "markdown",
   "id": "competitive-professional",
   "metadata": {},
   "source": [
    "### Parse HTML tag and get root"
   ]
  },
  {
   "cell_type": "code",
   "execution_count": 44,
   "id": "ancient-motion",
   "metadata": {},
   "outputs": [
    {
     "name": "stdout",
     "output_type": "stream",
     "text": [
      "Google\n"
     ]
    }
   ],
   "source": [
    "tag = '<a href=\"http://www.google.com/\">Google</a>'\n",
    "root = objectify.parse(StringIO(tag)).getroot()\n",
    "print(root)"
   ]
  },
  {
   "cell_type": "code",
   "execution_count": 45,
   "id": "reasonable-video",
   "metadata": {},
   "outputs": [
    {
     "data": {
      "text/plain": [
       "'http://www.google.com/'"
      ]
     },
     "execution_count": 45,
     "metadata": {},
     "output_type": "execute_result"
    }
   ],
   "source": [
    "root.get('href')"
   ]
  },
  {
   "cell_type": "code",
   "execution_count": 46,
   "id": "color-structure",
   "metadata": {},
   "outputs": [
    {
     "name": "stdout",
     "output_type": "stream",
     "text": [
      "Google\n"
     ]
    }
   ],
   "source": [
    "print(root.text)"
   ]
  },
  {
   "cell_type": "code",
   "execution_count": 47,
   "id": "accepting-praise",
   "metadata": {},
   "outputs": [
    {
     "name": "stdout",
     "output_type": "stream",
     "text": [
      "<class 'lxml.objectify.ObjectifiedElement'>\n"
     ]
    }
   ],
   "source": [
    "print(type(root))"
   ]
  },
  {
   "cell_type": "markdown",
   "id": "yellow-smell",
   "metadata": {},
   "source": [
    "### Interact with Web API"
   ]
  },
  {
   "cell_type": "code",
   "execution_count": 48,
   "id": "corresponding-metadata",
   "metadata": {},
   "outputs": [],
   "source": [
    "url = 'https://api.github.com/repos/pandas-dev/pandas/issues' # url with JSON file\n",
    "resp = requests.get(url)"
   ]
  },
  {
   "cell_type": "code",
   "execution_count": 49,
   "id": "lined-pierre",
   "metadata": {},
   "outputs": [
    {
     "name": "stdout",
     "output_type": "stream",
     "text": [
      "<Response [200]>\n",
      "<class 'requests.models.Response'>\n"
     ]
    }
   ],
   "source": [
    "print(resp)\n",
    "print(type(resp))"
   ]
  },
  {
   "cell_type": "code",
   "execution_count": 50,
   "id": "educational-outreach",
   "metadata": {},
   "outputs": [
    {
     "name": "stdout",
     "output_type": "stream",
     "text": [
      "<class 'list'>\n"
     ]
    }
   ],
   "source": [
    "data = resp.json()\n",
    "print(type(data))"
   ]
  },
  {
   "cell_type": "code",
   "execution_count": 51,
   "id": "standard-quarter",
   "metadata": {},
   "outputs": [
    {
     "data": {
      "text/plain": [
       "[{'url': 'https://api.github.com/repos/pandas-dev/pandas/issues/40741',\n",
       "  'repository_url': 'https://api.github.com/repos/pandas-dev/pandas',\n",
       "  'labels_url': 'https://api.github.com/repos/pandas-dev/pandas/issues/40741/labels{/name}',\n",
       "  'comments_url': 'https://api.github.com/repos/pandas-dev/pandas/issues/40741/comments',\n",
       "  'events_url': 'https://api.github.com/repos/pandas-dev/pandas/issues/40741/events',\n",
       "  'html_url': 'https://github.com/pandas-dev/pandas/pull/40741',\n",
       "  'id': 848789870,\n",
       "  'node_id': 'MDExOlB1bGxSZXF1ZXN0NjA3NjcxNjYw',\n",
       "  'number': 40741,\n",
       "  'title': 'BUG: DTBlock/TDBlock.delete casting to ndarray',\n",
       "  'user': {'login': 'jbrockmendel',\n",
       "   'id': 8078968,\n",
       "   'node_id': 'MDQ6VXNlcjgwNzg5Njg=',\n",
       "   'avatar_url': 'https://avatars.githubusercontent.com/u/8078968?v=4',\n",
       "   'gravatar_id': '',\n",
       "   'url': 'https://api.github.com/users/jbrockmendel',\n",
       "   'html_url': 'https://github.com/jbrockmendel',\n",
       "   'followers_url': 'https://api.github.com/users/jbrockmendel/followers',\n",
       "   'following_url': 'https://api.github.com/users/jbrockmendel/following{/other_user}',\n",
       "   'gists_url': 'https://api.github.com/users/jbrockmendel/gists{/gist_id}',\n",
       "   'starred_url': 'https://api.github.com/users/jbrockmendel/starred{/owner}{/repo}',\n",
       "   'subscriptions_url': 'https://api.github.com/users/jbrockmendel/subscriptions',\n",
       "   'organizations_url': 'https://api.github.com/users/jbrockmendel/orgs',\n",
       "   'repos_url': 'https://api.github.com/users/jbrockmendel/repos',\n",
       "   'events_url': 'https://api.github.com/users/jbrockmendel/events{/privacy}',\n",
       "   'received_events_url': 'https://api.github.com/users/jbrockmendel/received_events',\n",
       "   'type': 'User',\n",
       "   'site_admin': False},\n",
       "  'labels': [],\n",
       "  'state': 'open',\n",
       "  'locked': False,\n",
       "  'assignee': None,\n",
       "  'assignees': [],\n",
       "  'milestone': None,\n",
       "  'comments': 0,\n",
       "  'created_at': '2021-04-01T21:07:39Z',\n",
       "  'updated_at': '2021-04-01T23:25:32Z',\n",
       "  'closed_at': None,\n",
       "  'author_association': 'MEMBER',\n",
       "  'active_lock_reason': None,\n",
       "  'pull_request': {'url': 'https://api.github.com/repos/pandas-dev/pandas/pulls/40741',\n",
       "   'html_url': 'https://github.com/pandas-dev/pandas/pull/40741',\n",
       "   'diff_url': 'https://github.com/pandas-dev/pandas/pull/40741.diff',\n",
       "   'patch_url': 'https://github.com/pandas-dev/pandas/pull/40741.patch'},\n",
       "  'body': '- [ ] closes #xxxx\\r\\n- [x] tests added / passed\\r\\n- [x] Ensure all linting tests pass, see [here](https://pandas.pydata.org/pandas-docs/dev/development/contributing.html#code-standards) for how to run them\\r\\n- [ ] whatsnew entry\\r\\n\\r\\nxref #40386 (does not close)',\n",
       "  'performed_via_github_app': None},\n",
       " {'url': 'https://api.github.com/repos/pandas-dev/pandas/issues/40740',\n",
       "  'repository_url': 'https://api.github.com/repos/pandas-dev/pandas',\n",
       "  'labels_url': 'https://api.github.com/repos/pandas-dev/pandas/issues/40740/labels{/name}',\n",
       "  'comments_url': 'https://api.github.com/repos/pandas-dev/pandas/issues/40740/comments',\n",
       "  'events_url': 'https://api.github.com/repos/pandas-dev/pandas/issues/40740/events',\n",
       "  'html_url': 'https://github.com/pandas-dev/pandas/issues/40740',\n",
       "  'id': 848756938,\n",
       "  'node_id': 'MDU6SXNzdWU4NDg3NTY5Mzg=',\n",
       "  'number': 40740,\n",
       "  'title': 'ENH: LogicalSlice object',\n",
       "  'user': {'login': 'Melendowski',\n",
       "   'id': 36213781,\n",
       "   'node_id': 'MDQ6VXNlcjM2MjEzNzgx',\n",
       "   'avatar_url': 'https://avatars.githubusercontent.com/u/36213781?v=4',\n",
       "   'gravatar_id': '',\n",
       "   'url': 'https://api.github.com/users/Melendowski',\n",
       "   'html_url': 'https://github.com/Melendowski',\n",
       "   'followers_url': 'https://api.github.com/users/Melendowski/followers',\n",
       "   'following_url': 'https://api.github.com/users/Melendowski/following{/other_user}',\n",
       "   'gists_url': 'https://api.github.com/users/Melendowski/gists{/gist_id}',\n",
       "   'starred_url': 'https://api.github.com/users/Melendowski/starred{/owner}{/repo}',\n",
       "   'subscriptions_url': 'https://api.github.com/users/Melendowski/subscriptions',\n",
       "   'organizations_url': 'https://api.github.com/users/Melendowski/orgs',\n",
       "   'repos_url': 'https://api.github.com/users/Melendowski/repos',\n",
       "   'events_url': 'https://api.github.com/users/Melendowski/events{/privacy}',\n",
       "   'received_events_url': 'https://api.github.com/users/Melendowski/received_events',\n",
       "   'type': 'User',\n",
       "   'site_admin': False},\n",
       "  'labels': [{'id': 76812,\n",
       "    'node_id': 'MDU6TGFiZWw3NjgxMg==',\n",
       "    'url': 'https://api.github.com/repos/pandas-dev/pandas/labels/Enhancement',\n",
       "    'name': 'Enhancement',\n",
       "    'color': '4E9A06',\n",
       "    'default': False,\n",
       "    'description': None},\n",
       "   {'id': 1954720290,\n",
       "    'node_id': 'MDU6TGFiZWwxOTU0NzIwMjkw',\n",
       "    'url': 'https://api.github.com/repos/pandas-dev/pandas/labels/Needs%20Triage',\n",
       "    'name': 'Needs Triage',\n",
       "    'color': '0052cc',\n",
       "    'default': False,\n",
       "    'description': 'Issue that has not been reviewed by a pandas team member'}],\n",
       "  'state': 'open',\n",
       "  'locked': False,\n",
       "  'assignee': None,\n",
       "  'assignees': [],\n",
       "  'milestone': None,\n",
       "  'comments': 0,\n",
       "  'created_at': '2021-04-01T20:11:48Z',\n",
       "  'updated_at': '2021-04-01T20:41:55Z',\n",
       "  'closed_at': None,\n",
       "  'author_association': 'NONE',\n",
       "  'active_lock_reason': None,\n",
       "  'body': 'EDIT: Updated Example Code\\r\\n\\r\\n#### Is your feature request related to a problem?\\r\\nI was trying to perform a method chained logical mask without an intermediate assignment and found the method of passing the logical mask or callable to `.loc` to be verbose. I am trying to reduce that verbosity.\\r\\n\\r\\nExamples\\r\\n\\r\\n```python\\r\\n\\r\\n(df_xtra_metadata.loc[(df_xtra_metadata[\\'column\\'] == val) & (df_xtra_metadata[\\'column2\\'] >= val2)]\\r\\n    .reset_index()\\r\\n)\\r\\n\\r\\n# or with a callable, shorter but still long\\r\\n(df_xtra_metadata.loc[lambda x: (x[\\'column\\'] == val) & (x[\\'column2\\'] >= val2)]\\r\\n   .reset_index()\\r\\n)\\r\\n\\r\\n# not as long but requires assigning and deleting the mask in the scope\\r\\nmask = (df_xtra_metadata[\\'column\\'] == val) & (df_xtra_metadata[\\'column2\\'] >= val2)\\r\\ndf.loc[mask].reset_index()\\r\\n```\\r\\n\\r\\n#### Describe the solution you\\'d like\\r\\n\\r\\nI would like an object similar to `pd.IndexSlice` but instead is initialized with some metadata and then when called (which takes in the dataframe) computes the logical mask. \\r\\n\\r\\n#### API breaking implications\\r\\n\\r\\nThis feature would add to the existing API but in a non obtrusive way and would not conflict with any of the current API.\\r\\n\\r\\n#### Describe alternatives you\\'ve considered\\r\\nI haven\\'t considered any alternatives, I wrote this for myself and thought maybe it would be useful to others.\\r\\n\\r\\n#### Additional context\\r\\n\\r\\nSo below is the code I wrote toying around with this idea. \\r\\n\\r\\n```python\\r\\nfrom __future__ import annotations\\r\\nfrom operator import and_, eq, ge, getitem, gt, invert, le, lt, ne, or_, xor\\r\\nfrom typing import Any, Callable, Literal, Union\\r\\n\\r\\nimport pandas as pd\\r\\n\\r\\n\\r\\nclass LogicalSlice:\\r\\n    \"\"\"Create objects to more easily calculate logical masks inplace for slicing DataFrames.\"\"\"\\r\\n    ops = {\\r\\n        \">\": gt,\\r\\n        \"<\": lt,\\r\\n        \">=\": ge,\\r\\n        \"<=\": le,\\r\\n        \"==\": eq,\\r\\n        \"!=\": ne,\\r\\n        \"in\": pd.Series.isin,\\r\\n    }\\r\\n\\r\\n    __slots__ = (\"_repr\", \"_closure\", \"_body\")\\r\\n\\r\\n    def __init__(\\r\\n        self, column: Any, op: Literal[\">\", \"<\", \">=\", \"<=\", \"==\", \"!=\", \"in\"], val: Any\\r\\n    ) -> None:\\r\\n        operation: Union[gt, lt, ge, le, eq, ne, pd.Series.isin] = self.ops[op]\\r\\n\\r\\n        def closure(df: pd.DataFrame) -> pd.Series:\\r\\n            return operation(getitem(df, column), val)\\r\\n\\r\\n        self._closure: Callable[pd.DataFrame, pd.Series] = closure\\r\\n        if isinstance(column, str):\\r\\n            col: str = f\"\\'{column}\\'\"\\r\\n        else:\\r\\n            col: str = str(column)\\r\\n        if op == \"in\":\\r\\n            op_rhs: str = f\".isin({val})\"\\r\\n        else:\\r\\n            op_rhs: str = f\" {op} {val}\"\\r\\n        body: str = f\"df[{col}]{op_rhs}\"\\r\\n        self._set_body(body)\\r\\n\\r\\n    def __call__(self, df: pd.DataFrame) -> pd.Series:\\r\\n        return self._closure(df)\\r\\n\\r\\n    def __repr__(self) -> str:\\r\\n        return self._repr\\r\\n\\r\\n    def __invert__(self) -> LogicalSlice:\\r\\n        inverted: LogicalSlice = self._compose(invert, self)\\r\\n        body: str = f\"~({self._body})\"\\r\\n        inverted._set_body(body)\\r\\n        return inverted\\r\\n\\r\\n    def __and__(self, other: LogicalSlice) -> LogicalSlice:\\r\\n        conjunction: LogicalSlice = self._compose(and_, self, other)\\r\\n        body: str = f\"({self._body}) & ({other._body})\"\\r\\n        conjunction._set_body(body)\\r\\n        return conjunction\\r\\n\\r\\n    def __or__(self, other: LogicalSlice) -> LogicalSlice:\\r\\n        disjunction: LogicalSlice = self._compose(or_, self, other)\\r\\n        body: str = f\"({self._body}) | ({other._body})\"\\r\\n        disjunction._set_body(body)\\r\\n        return disjunction\\r\\n\\r\\n    def __xor__(self, other: LogicalSlice):\\r\\n        symetric_difference: LogicalSlice = self._compose(xor, self, other)\\r\\n        body: str = f\"({self._body}) ^ ({other._body})\"\\r\\n        symetric_difference._set_body(body)\\r\\n        return symetric_difference\\r\\n\\r\\n    def _set_body(self, body: str) -> None:\\r\\n        self._body = body\\r\\n        self._repr = f\"lambda df: {body}\"\\r\\n\\r\\n    @classmethod\\r\\n    def _compose(\\r\\n        cls, operation: Union[invert, xor, and_, or_], *operands: LogicalSlice\\r\\n    ) -> LogicalSlice:\\r\\n        new_logical_slice = cls.__new__(cls)\\r\\n\\r\\n        def closure(df: pd.DataFrame) -> pd.Series:\\r\\n            return operation(*(operand(df) for operand in operands))\\r\\n\\r\\n        new_logical_slice._closure = closure\\r\\n        return new_logical_slice\\r\\n```\\r\\n\\r\\nHere is some example code of the API. I suppose it should\\r\\n\\r\\n```python\\r\\nIn [7]: import pandas as pd\\r\\n\\r\\nIn [8]: import numpy as np\\r\\n\\r\\nIn [9]: mask = pd.LogicalSlice\\r\\n\\r\\nIn [10]: # create dummy dataframe for example\\r\\n\\r\\nIn [11]: df = pd.DataFrame(np.random.randn(8, 5), index=list(range(8)), columns=[1,2,3,4,5])\\r\\n\\r\\nIn [12]: df\\r\\nOut[12]:\\r\\n          1         2         3         4         5\\r\\n0  2.146687  1.111394  0.782805 -0.664520 -0.775198\\r\\n1  0.266829  1.021803  0.112757  1.912192 -0.629621\\r\\n2  0.796544 -0.584199 -0.958174  0.817412 -0.148881\\r\\n3  0.436404  0.528461  0.911095  0.854496  2.047070\\r\\n4 -0.144312 -2.274132  0.129994 -2.413109  1.248950\\r\\n5 -0.233113 -2.028095 -0.164058  0.912749  2.717956\\r\\n6 -1.537385  1.881949 -1.567367  0.489918 -1.142897\\r\\n7 -0.411876 -1.044270 -0.869536  0.878700  0.077144\\r\\n\\r\\nIn [13]: # get the rows where column 1 is greater than 0 using pd.LogicalSlice\\r\\n\\r\\nIn [16]: df.loc[mask(1, \">\", 0)]\\r\\nOut[16]:\\r\\n          1         2         3         4         5\\r\\n0  2.146687  1.111394  0.782805 -0.664520 -0.775198\\r\\n1  0.266829  1.021803  0.112757  1.912192 -0.629621\\r\\n2  0.796544 -0.584199 -0.958174  0.817412 -0.148881\\r\\n3  0.436404  0.528461  0.911095  0.854496  2.047070\\r\\n\\r\\nIn [17]: # bind the mask to a variable for later user\\r\\n\\r\\nIn [18]: non_neg = mask(1, \">\", 0)\\r\\n\\r\\nIn [19]: # repr displays a lambda but its a closure under the hood\\r\\n\\r\\nIn [20]: non_neg\\r\\nOut[20]: lambda df: df[1] > 0\\r\\n\\r\\nIn [21]: df.loc[non_neg]\\r\\nOut[21]:\\r\\n          1         2         3         4         5\\r\\n0  2.146687  1.111394  0.782805 -0.664520 -0.775198\\r\\n1  0.266829  1.021803  0.112757  1.912192 -0.629621\\r\\n2  0.796544 -0.584199 -0.958174  0.817412 -0.148881\\r\\n3  0.436404  0.528461  0.911095  0.854496  2.047070\\r\\n\\r\\nIn [22]: # multiple LogicalSlices can be combined using bitwise operators\\r\\n\\r\\nIn [23]: non_neg & mask(2, \">\", 0)\\r\\nOut[23]: lambda df: (df[1] > 0) & (df[2] > 0)\\r\\n\\r\\nIn [24]: df.loc[non_neg & mask(2, \">\", 0)]\\r\\nOut[24]:\\r\\n          1         2         3         4         5\\r\\n0  2.146687  1.111394  0.782805 -0.664520 -0.775198\\r\\n1  0.266829  1.021803  0.112757  1.912192 -0.629621\\r\\n3  0.436404  0.528461  0.911095  0.854496  2.047070\\r\\n\\r\\nIn [25]: # the traditional method\\r\\n\\r\\nIn [26]: df.loc[(df[1] > 0) & (df[2] > 0)]\\r\\nOut[26]:\\r\\n          1         2         3         4         5\\r\\n0  2.146687  1.111394  0.782805 -0.664520 -0.775198\\r\\n1  0.266829  1.021803  0.112757  1.912192 -0.629621\\r\\n3  0.436404  0.528461  0.911095  0.854496  2.047070\\r\\n\\r\\nIn [27]: # combining multiple masks\\r\\n\\r\\nIn [28]: ~(non_neg & mask(2, \">\", 0)) | mask(4, \"<\", 0)\\r\\nOut[28]: lambda df: (~((df[1] > 0) & (df[2] > 0))) | (df[4] < 0)\\r\\n\\r\\nIn [29]: big_mask = ~(non_neg & mask(2, \">\", 0)) | mask(4, \"<\", 0)\\r\\n\\r\\nIn [30]: big_mask\\r\\nOut[30]: lambda df: (~((df[1] > 0) & (df[2] > 0))) | (df[4] < 0)\\r\\n\\r\\nIn [31]: df.loc[big_mask]\\r\\nOut[31]:\\r\\n          1         2         3         4         5\\r\\n0  2.146687  1.111394  0.782805 -0.664520 -0.775198\\r\\n2  0.796544 -0.584199 -0.958174  0.817412 -0.148881\\r\\n4 -0.144312 -2.274132  0.129994 -2.413109  1.248950\\r\\n5 -0.233113 -2.028095 -0.164058  0.912749  2.717956\\r\\n6 -1.537385  1.881949 -1.567367  0.489918 -1.142897\\r\\n7 -0.411876 -1.044270 -0.869536  0.878700  0.077144\\r\\n```',\n",
       "  'performed_via_github_app': None},\n",
       " {'url': 'https://api.github.com/repos/pandas-dev/pandas/issues/40739',\n",
       "  'repository_url': 'https://api.github.com/repos/pandas-dev/pandas',\n",
       "  'labels_url': 'https://api.github.com/repos/pandas-dev/pandas/issues/40739/labels{/name}',\n",
       "  'comments_url': 'https://api.github.com/repos/pandas-dev/pandas/issues/40739/comments',\n",
       "  'events_url': 'https://api.github.com/repos/pandas-dev/pandas/issues/40739/events',\n",
       "  'html_url': 'https://github.com/pandas-dev/pandas/pull/40739',\n",
       "  'id': 848730606,\n",
       "  'node_id': 'MDExOlB1bGxSZXF1ZXN0NjA3NjIyMTQ0',\n",
       "  'number': 40739,\n",
       "  'title': 'Backport PR #40718 on branch 1.2.x (COMPAT: matplotlib 3.4.0)',\n",
       "  'user': {'login': 'meeseeksmachine',\n",
       "   'id': 39504233,\n",
       "   'node_id': 'MDQ6VXNlcjM5NTA0MjMz',\n",
       "   'avatar_url': 'https://avatars.githubusercontent.com/u/39504233?v=4',\n",
       "   'gravatar_id': '',\n",
       "   'url': 'https://api.github.com/users/meeseeksmachine',\n",
       "   'html_url': 'https://github.com/meeseeksmachine',\n",
       "   'followers_url': 'https://api.github.com/users/meeseeksmachine/followers',\n",
       "   'following_url': 'https://api.github.com/users/meeseeksmachine/following{/other_user}',\n",
       "   'gists_url': 'https://api.github.com/users/meeseeksmachine/gists{/gist_id}',\n",
       "   'starred_url': 'https://api.github.com/users/meeseeksmachine/starred{/owner}{/repo}',\n",
       "   'subscriptions_url': 'https://api.github.com/users/meeseeksmachine/subscriptions',\n",
       "   'organizations_url': 'https://api.github.com/users/meeseeksmachine/orgs',\n",
       "   'repos_url': 'https://api.github.com/users/meeseeksmachine/repos',\n",
       "   'events_url': 'https://api.github.com/users/meeseeksmachine/events{/privacy}',\n",
       "   'received_events_url': 'https://api.github.com/users/meeseeksmachine/received_events',\n",
       "   'type': 'User',\n",
       "   'site_admin': False},\n",
       "  'labels': [{'id': 76865106,\n",
       "    'node_id': 'MDU6TGFiZWw3Njg2NTEwNg==',\n",
       "    'url': 'https://api.github.com/repos/pandas-dev/pandas/labels/Compat',\n",
       "    'name': 'Compat',\n",
       "    'color': '0052cc',\n",
       "    'default': False,\n",
       "    'description': 'Related to pandas compatibility with other libraries'},\n",
       "   {'id': 2413328,\n",
       "    'node_id': 'MDU6TGFiZWwyNDEzMzI4',\n",
       "    'url': 'https://api.github.com/repos/pandas-dev/pandas/labels/Visualization',\n",
       "    'name': 'Visualization',\n",
       "    'color': '8AE234',\n",
       "    'default': False,\n",
       "    'description': None}],\n",
       "  'state': 'open',\n",
       "  'locked': False,\n",
       "  'assignee': None,\n",
       "  'assignees': [],\n",
       "  'milestone': {'url': 'https://api.github.com/repos/pandas-dev/pandas/milestones/84',\n",
       "   'html_url': 'https://github.com/pandas-dev/pandas/milestone/84',\n",
       "   'labels_url': 'https://api.github.com/repos/pandas-dev/pandas/milestones/84/labels',\n",
       "   'id': 6490488,\n",
       "   'node_id': 'MDk6TWlsZXN0b25lNjQ5MDQ4OA==',\n",
       "   'number': 84,\n",
       "   'title': '1.2.4',\n",
       "   'description': 'on-merge: backport to 1.2.x',\n",
       "   'creator': {'login': 'simonjayhawkins',\n",
       "    'id': 13159005,\n",
       "    'node_id': 'MDQ6VXNlcjEzMTU5MDA1',\n",
       "    'avatar_url': 'https://avatars.githubusercontent.com/u/13159005?v=4',\n",
       "    'gravatar_id': '',\n",
       "    'url': 'https://api.github.com/users/simonjayhawkins',\n",
       "    'html_url': 'https://github.com/simonjayhawkins',\n",
       "    'followers_url': 'https://api.github.com/users/simonjayhawkins/followers',\n",
       "    'following_url': 'https://api.github.com/users/simonjayhawkins/following{/other_user}',\n",
       "    'gists_url': 'https://api.github.com/users/simonjayhawkins/gists{/gist_id}',\n",
       "    'starred_url': 'https://api.github.com/users/simonjayhawkins/starred{/owner}{/repo}',\n",
       "    'subscriptions_url': 'https://api.github.com/users/simonjayhawkins/subscriptions',\n",
       "    'organizations_url': 'https://api.github.com/users/simonjayhawkins/orgs',\n",
       "    'repos_url': 'https://api.github.com/users/simonjayhawkins/repos',\n",
       "    'events_url': 'https://api.github.com/users/simonjayhawkins/events{/privacy}',\n",
       "    'received_events_url': 'https://api.github.com/users/simonjayhawkins/received_events',\n",
       "    'type': 'User',\n",
       "    'site_admin': False},\n",
       "   'open_issues': 12,\n",
       "   'closed_issues': 25,\n",
       "   'state': 'open',\n",
       "   'created_at': '2021-03-01T08:32:08Z',\n",
       "   'updated_at': '2021-04-01T19:28:20Z',\n",
       "   'due_on': '2021-04-01T07:00:00Z',\n",
       "   'closed_at': None},\n",
       "  'comments': 1,\n",
       "  'created_at': '2021-04-01T19:28:19Z',\n",
       "  'updated_at': '2021-04-01T20:09:00Z',\n",
       "  'closed_at': None,\n",
       "  'author_association': 'NONE',\n",
       "  'active_lock_reason': None,\n",
       "  'pull_request': {'url': 'https://api.github.com/repos/pandas-dev/pandas/pulls/40739',\n",
       "   'html_url': 'https://github.com/pandas-dev/pandas/pull/40739',\n",
       "   'diff_url': 'https://github.com/pandas-dev/pandas/pull/40739.diff',\n",
       "   'patch_url': 'https://github.com/pandas-dev/pandas/pull/40739.patch'},\n",
       "  'body': 'Backport PR #40718: COMPAT: matplotlib 3.4.0',\n",
       "  'performed_via_github_app': None},\n",
       " {'url': 'https://api.github.com/repos/pandas-dev/pandas/issues/40738',\n",
       "  'repository_url': 'https://api.github.com/repos/pandas-dev/pandas',\n",
       "  'labels_url': 'https://api.github.com/repos/pandas-dev/pandas/issues/40738/labels{/name}',\n",
       "  'comments_url': 'https://api.github.com/repos/pandas-dev/pandas/issues/40738/comments',\n",
       "  'events_url': 'https://api.github.com/repos/pandas-dev/pandas/issues/40738/events',\n",
       "  'html_url': 'https://github.com/pandas-dev/pandas/pull/40738',\n",
       "  'id': 848722532,\n",
       "  'node_id': 'MDExOlB1bGxSZXF1ZXN0NjA3NjE1MjEz',\n",
       "  'number': 40738,\n",
       "  'title': 'BUG: Fix nanvar for large float16 arrays',\n",
       "  'user': {'login': 'trentondelahaye',\n",
       "   'id': 34072635,\n",
       "   'node_id': 'MDQ6VXNlcjM0MDcyNjM1',\n",
       "   'avatar_url': 'https://avatars.githubusercontent.com/u/34072635?v=4',\n",
       "   'gravatar_id': '',\n",
       "   'url': 'https://api.github.com/users/trentondelahaye',\n",
       "   'html_url': 'https://github.com/trentondelahaye',\n",
       "   'followers_url': 'https://api.github.com/users/trentondelahaye/followers',\n",
       "   'following_url': 'https://api.github.com/users/trentondelahaye/following{/other_user}',\n",
       "   'gists_url': 'https://api.github.com/users/trentondelahaye/gists{/gist_id}',\n",
       "   'starred_url': 'https://api.github.com/users/trentondelahaye/starred{/owner}{/repo}',\n",
       "   'subscriptions_url': 'https://api.github.com/users/trentondelahaye/subscriptions',\n",
       "   'organizations_url': 'https://api.github.com/users/trentondelahaye/orgs',\n",
       "   'repos_url': 'https://api.github.com/users/trentondelahaye/repos',\n",
       "   'events_url': 'https://api.github.com/users/trentondelahaye/events{/privacy}',\n",
       "   'received_events_url': 'https://api.github.com/users/trentondelahaye/received_events',\n",
       "   'type': 'User',\n",
       "   'site_admin': False},\n",
       "  'labels': [{'id': 57296398,\n",
       "    'node_id': 'MDU6TGFiZWw1NzI5NjM5OA==',\n",
       "    'url': 'https://api.github.com/repos/pandas-dev/pandas/labels/Algos',\n",
       "    'name': 'Algos',\n",
       "    'color': 'eb6420',\n",
       "    'default': False,\n",
       "    'description': 'Non-arithmetic algos: value_counts, factorize, sorting, isin, clip, shift, diff'},\n",
       "   {'id': 31404521,\n",
       "    'node_id': 'MDU6TGFiZWwzMTQwNDUyMQ==',\n",
       "    'url': 'https://api.github.com/repos/pandas-dev/pandas/labels/Dtypes',\n",
       "    'name': 'Dtypes',\n",
       "    'color': 'e102d8',\n",
       "    'default': False,\n",
       "    'description': None}],\n",
       "  'state': 'open',\n",
       "  'locked': False,\n",
       "  'assignee': None,\n",
       "  'assignees': [],\n",
       "  'milestone': None,\n",
       "  'comments': 3,\n",
       "  'created_at': '2021-04-01T19:15:53Z',\n",
       "  'updated_at': '2021-04-01T20:33:39Z',\n",
       "  'closed_at': None,\n",
       "  'author_association': 'NONE',\n",
       "  'active_lock_reason': None,\n",
       "  'pull_request': {'url': 'https://api.github.com/repos/pandas-dev/pandas/pulls/40738',\n",
       "   'html_url': 'https://github.com/pandas-dev/pandas/pull/40738',\n",
       "   'diff_url': 'https://github.com/pandas-dev/pandas/pull/40738.diff',\n",
       "   'patch_url': 'https://github.com/pandas-dev/pandas/pull/40738.patch'},\n",
       "  'body': 'Summary of bug:\\r\\n\\r\\nAbove a certain length, calling `.std()` and `.var()` on a Series or DataFrame fails for float types. The is easily shown with float16 in the following example:\\r\\n\\r\\n```python\\r\\n>>> import pandas as pd\\r\\n>>> import numpy as np\\r\\n\\r\\n>>> zeros = 32760\\r\\n>>> ones = 32759\\r\\n>>> pd.Series([0] * zeros + [1] * ones).astype(\"float16\").var()\\r\\n0.25\\r\\n\\r\\n>>> zeros = 32760\\r\\n>>> ones = 32760\\r\\n>>> pd.Series([0] * zeros + [1] * ones).astype(\"float16\").var()\\r\\n0.0\\r\\n```\\r\\n\\r\\nWhat is happening here is that both `count` and `d` overflow to `inf` as 65519 is the largest integer float16 can represent. Example:\\r\\n\\r\\n```python\\r\\n>>> import numpy as np\\r\\n>>> np.float16(65519)\\r\\n65500.0\\r\\n>>> np.float16(65520)\\r\\ninf\\r\\n```\\r\\n\\r\\nThis makes the variance go to 0.0. Since the `avg` calculation on line 927 of this file casts to float64 anyway, it seems like there is no downside to not casting `count` and `d`. It will also improve accuracy in cases where the overflow does not happen.\\r\\n\\r\\n\\r\\n\\r\\n\\r\\n\\r\\n\\r\\nINSTALLED VERSIONS\\r\\n------------------\\r\\ncommit           : f2c8480af2f25efdbd803218b9d87980f416563e\\r\\npython           : 3.8.2.final.0\\r\\npython-bits      : 64\\r\\nOS               : Darwin\\r\\nOS-release       : 20.3.0\\r\\nVersion          : Darwin Kernel Version 20.3.0: Thu Jan 21 00:07:06 PST 2021; root:xnu-7195.81.3~1/RELEASE_X86_64\\r\\nmachine          : x86_64\\r\\nprocessor        : i386\\r\\nbyteorder        : little\\r\\nLC_ALL           : None\\r\\nLANG             : en_GB.UTF-8\\r\\nLOCALE           : en_GB.UTF-8\\r\\n\\r\\npandas           : 1.2.3\\r\\nnumpy            : 1.20.1\\r\\n\\r\\n- [ ] closes #xxxx\\r\\n- [ ] tests added / passed\\r\\n- [ ] Ensure all linting tests pass, see [here](https://pandas.pydata.org/pandas-docs/dev/development/contributing.html#code-standards) for how to run them\\r\\n- [ ] whatsnew entry\\r\\n',\n",
       "  'performed_via_github_app': None},\n",
       " {'url': 'https://api.github.com/repos/pandas-dev/pandas/issues/40737',\n",
       "  'repository_url': 'https://api.github.com/repos/pandas-dev/pandas',\n",
       "  'labels_url': 'https://api.github.com/repos/pandas-dev/pandas/issues/40737/labels{/name}',\n",
       "  'comments_url': 'https://api.github.com/repos/pandas-dev/pandas/issues/40737/comments',\n",
       "  'events_url': 'https://api.github.com/repos/pandas-dev/pandas/issues/40737/events',\n",
       "  'html_url': 'https://github.com/pandas-dev/pandas/issues/40737',\n",
       "  'id': 848710021,\n",
       "  'node_id': 'MDU6SXNzdWU4NDg3MTAwMjE=',\n",
       "  'number': 40737,\n",
       "  'title': 'TYP overload fillna',\n",
       "  'user': {'login': 'MarcoGorelli',\n",
       "   'id': 33491632,\n",
       "   'node_id': 'MDQ6VXNlcjMzNDkxNjMy',\n",
       "   'avatar_url': 'https://avatars.githubusercontent.com/u/33491632?v=4',\n",
       "   'gravatar_id': '',\n",
       "   'url': 'https://api.github.com/users/MarcoGorelli',\n",
       "   'html_url': 'https://github.com/MarcoGorelli',\n",
       "   'followers_url': 'https://api.github.com/users/MarcoGorelli/followers',\n",
       "   'following_url': 'https://api.github.com/users/MarcoGorelli/following{/other_user}',\n",
       "   'gists_url': 'https://api.github.com/users/MarcoGorelli/gists{/gist_id}',\n",
       "   'starred_url': 'https://api.github.com/users/MarcoGorelli/starred{/owner}{/repo}',\n",
       "   'subscriptions_url': 'https://api.github.com/users/MarcoGorelli/subscriptions',\n",
       "   'organizations_url': 'https://api.github.com/users/MarcoGorelli/orgs',\n",
       "   'repos_url': 'https://api.github.com/users/MarcoGorelli/repos',\n",
       "   'events_url': 'https://api.github.com/users/MarcoGorelli/events{/privacy}',\n",
       "   'received_events_url': 'https://api.github.com/users/MarcoGorelli/received_events',\n",
       "   'type': 'User',\n",
       "   'site_admin': False},\n",
       "  'labels': [{'id': 1280988427,\n",
       "    'node_id': 'MDU6TGFiZWwxMjgwOTg4NDI3',\n",
       "    'url': 'https://api.github.com/repos/pandas-dev/pandas/labels/Typing',\n",
       "    'name': 'Typing',\n",
       "    'color': 'ea91a4',\n",
       "    'default': False,\n",
       "    'description': 'mypy type annotations'},\n",
       "   {'id': 717120670,\n",
       "    'node_id': 'MDU6TGFiZWw3MTcxMjA2NzA=',\n",
       "    'url': 'https://api.github.com/repos/pandas-dev/pandas/labels/good%20first%20issue',\n",
       "    'name': 'good first issue',\n",
       "    'color': '0e8a16',\n",
       "    'default': True,\n",
       "    'description': None}],\n",
       "  'state': 'open',\n",
       "  'locked': False,\n",
       "  'assignee': None,\n",
       "  'assignees': [],\n",
       "  'milestone': None,\n",
       "  'comments': 1,\n",
       "  'created_at': '2021-04-01T18:55:55Z',\n",
       "  'updated_at': '2021-04-01T18:57:49Z',\n",
       "  'closed_at': None,\n",
       "  'author_association': 'MEMBER',\n",
       "  'active_lock_reason': None,\n",
       "  'body': \"`fillna` has a different return type according to whether `inplace` is `True` or `False`. We could overload it to provide a better typing experience\\r\\n\\r\\nSee https://github.com/pandas-dev/pandas/pull/40197 for a very similar issue\\r\\n\\r\\nTask here is:\\r\\n\\r\\n1. read through #40197, make sure you understand it\\r\\n2. try doing the same for `fillna`\\r\\n3. check it works. See the above PR for an example, but it should be something like the following (but for `fillna` instead of `reset_index` - some of the other arguments probably need changing too)\\r\\n\\r\\n```python\\r\\n# t.py\\r\\n\\r\\nimport pandas as pd\\r\\n\\r\\ninplace: bool\\r\\n\\r\\nreveal_type(pd.DataFrame([1,2,3]).reset_index(level=0))\\r\\nreveal_type(pd.DataFrame([1,2,3]).reset_index(inplace=False))\\r\\nreveal_type(pd.DataFrame([1,2,3]).reset_index(drop=True, inplace=True))\\r\\nreveal_type(pd.DataFrame([1,2,3]).reset_index(level=0, inplace=True))\\r\\nreveal_type(pd.DataFrame([1,2,3]).reset_index(level=0, drop=False, inplace=True))\\r\\nreveal_type(pd.DataFrame([1,2,3]).reset_index(level=0, inplace=True, col_fill='a'))\\r\\nreveal_type(pd.DataFrame([1,2,3]).reset_index(level=0, col_fill='a'))\\r\\nreveal_type(pd.DataFrame([1,2,3]).reset_index(inplace=True))\\r\\nreveal_type(pd.DataFrame([1,2,3]).reset_index(inplace=inplace))\\r\\nreveal_type(pd.DataFrame([1,2,3]).reset_index(drop=True, inplace=inplace))\\r\\nreveal_type(pd.DataFrame([1,2,3]).reset_index(level=0, inplace=inplace))\\r\\nreveal_type(pd.DataFrame([1,2,3]).reset_index(level=0, drop=False, inplace=inplace))\\r\\nreveal_type(pd.DataFrame([1,2,3]).reset_index(level=0, inplace=inplace, col_fill='a'))\\r\\nreveal_type(pd.DataFrame([1,2,3]).reset_index(inplace=inplace))\\r\\n```\\r\\n\\r\\noutput:\\r\\n```python\\r\\n$ mypy t.py \\r\\nt.py:5: note: Revealed type is 'pandas.core.frame.DataFrame'\\r\\nt.py:6: note: Revealed type is 'pandas.core.frame.DataFrame'\\r\\nt.py:7: note: Revealed type is 'None'\\r\\nt.py:8: note: Revealed type is 'None'\\r\\nt.py:9: note: Revealed type is 'None'\\r\\nt.py:10: note: Revealed type is 'None'\\r\\nt.py:11: note: Revealed type is 'pandas.core.frame.DataFrame'\\r\\nt.py:12: note: Revealed type is 'None'\\r\\nt.py:13: note: Revealed type is 'Union[pandas.core.frame.DataFrame, None]'\\r\\nt.py:14: note: Revealed type is 'Union[pandas.core.frame.DataFrame, None]'\\r\\nt.py:15: note: Revealed type is 'Union[pandas.core.frame.DataFrame, None]'\\r\\nt.py:16: note: Revealed type is 'Union[pandas.core.frame.DataFrame, None]'\\r\\nt.py:17: note: Revealed type is 'Union[pandas.core.frame.DataFrame, None]'\\r\\nt.py:18: note: Revealed type is 'Union[pandas.core.frame.DataFrame, None]'\\r\\n```\\r\\n\\r\\n---\\r\\n\\r\\nI've marked this as 'good first issue' as it doesn't require any knowledge of the pandas core codebase, though it's probably not the easiest if you're not at least somewhat familiar with mypy / typing\",\n",
       "  'performed_via_github_app': None},\n",
       " {'url': 'https://api.github.com/repos/pandas-dev/pandas/issues/40735',\n",
       "  'repository_url': 'https://api.github.com/repos/pandas-dev/pandas',\n",
       "  'labels_url': 'https://api.github.com/repos/pandas-dev/pandas/issues/40735/labels{/name}',\n",
       "  'comments_url': 'https://api.github.com/repos/pandas-dev/pandas/issues/40735/comments',\n",
       "  'events_url': 'https://api.github.com/repos/pandas-dev/pandas/issues/40735/events',\n",
       "  'html_url': 'https://github.com/pandas-dev/pandas/issues/40735',\n",
       "  'id': 848704871,\n",
       "  'node_id': 'MDU6SXNzdWU4NDg3MDQ4NzE=',\n",
       "  'number': 40735,\n",
       "  'title': 'BUG (?): dtype.value_counts() shows categorical multiple times',\n",
       "  'user': {'login': 'MarcoGorelli',\n",
       "   'id': 33491632,\n",
       "   'node_id': 'MDQ6VXNlcjMzNDkxNjMy',\n",
       "   'avatar_url': 'https://avatars.githubusercontent.com/u/33491632?v=4',\n",
       "   'gravatar_id': '',\n",
       "   'url': 'https://api.github.com/users/MarcoGorelli',\n",
       "   'html_url': 'https://github.com/MarcoGorelli',\n",
       "   'followers_url': 'https://api.github.com/users/MarcoGorelli/followers',\n",
       "   'following_url': 'https://api.github.com/users/MarcoGorelli/following{/other_user}',\n",
       "   'gists_url': 'https://api.github.com/users/MarcoGorelli/gists{/gist_id}',\n",
       "   'starred_url': 'https://api.github.com/users/MarcoGorelli/starred{/owner}{/repo}',\n",
       "   'subscriptions_url': 'https://api.github.com/users/MarcoGorelli/subscriptions',\n",
       "   'organizations_url': 'https://api.github.com/users/MarcoGorelli/orgs',\n",
       "   'repos_url': 'https://api.github.com/users/MarcoGorelli/repos',\n",
       "   'events_url': 'https://api.github.com/users/MarcoGorelli/events{/privacy}',\n",
       "   'received_events_url': 'https://api.github.com/users/MarcoGorelli/received_events',\n",
       "   'type': 'User',\n",
       "   'site_admin': False},\n",
       "  'labels': [{'id': 76811,\n",
       "    'node_id': 'MDU6TGFiZWw3NjgxMQ==',\n",
       "    'url': 'https://api.github.com/repos/pandas-dev/pandas/labels/Bug',\n",
       "    'name': 'Bug',\n",
       "    'color': 'e10c02',\n",
       "    'default': False,\n",
       "    'description': None},\n",
       "   {'id': 78527356,\n",
       "    'node_id': 'MDU6TGFiZWw3ODUyNzM1Ng==',\n",
       "    'url': 'https://api.github.com/repos/pandas-dev/pandas/labels/Categorical',\n",
       "    'name': 'Categorical',\n",
       "    'color': 'e11d21',\n",
       "    'default': False,\n",
       "    'description': 'Categorical Data Type'},\n",
       "   {'id': 1954720290,\n",
       "    'node_id': 'MDU6TGFiZWwxOTU0NzIwMjkw',\n",
       "    'url': 'https://api.github.com/repos/pandas-dev/pandas/labels/Needs%20Triage',\n",
       "    'name': 'Needs Triage',\n",
       "    'color': '0052cc',\n",
       "    'default': False,\n",
       "    'description': 'Issue that has not been reviewed by a pandas team member'}],\n",
       "  'state': 'open',\n",
       "  'locked': False,\n",
       "  'assignee': None,\n",
       "  'assignees': [],\n",
       "  'milestone': None,\n",
       "  'comments': 0,\n",
       "  'created_at': '2021-04-01T18:47:58Z',\n",
       "  'updated_at': '2021-04-01T18:48:05Z',\n",
       "  'closed_at': None,\n",
       "  'author_association': 'MEMBER',\n",
       "  'active_lock_reason': None,\n",
       "  'body': \"- [x] I have checked that this issue has not already been reported.\\r\\n\\r\\n- [x] I have confirmed this bug exists on the latest version of pandas.\\r\\n\\r\\n- [x] (optional) I have confirmed this bug exists on the master branch of pandas.\\r\\n\\r\\n---\\r\\n\\r\\n**Note**: Please read [this guide](https://matthewrocklin.com/blog/work/2018/02/28/minimal-bug-reports) detailing how to provide the necessary information for us to reproduce your bug.\\r\\n\\r\\n#### Code Sample, a copy-pastable example\\r\\n\\r\\n```python\\r\\n>>> df = pd.DataFrame({'a': [1], 'b': ['2'], 'c': [3], 'd': [3]}).astype({'a': 'category', 'c': 'category', 'd': 'category'})\\r\\n>>> df\\r\\n   a  b  c  d\\r\\n0  1  2  3  3\\r\\n>>> df.dtypes.value_counts()\\r\\ncategory    2\\r\\ncategory    1\\r\\nobject      1\\r\\ndtype: int64\\r\\n\\r\\n```\\r\\n\\r\\n#### Problem description\\r\\n\\r\\n`category` appears twice with different counts\\r\\n\\r\\n#### Expected Output\\r\\n\\r\\nEither\\r\\n```python\\r\\ncategory    3\\r\\nobject      1\\r\\ndtype: int64\\r\\n```\\r\\nor\\r\\n```python\\r\\nCategoricalDtype(categories=[3], ordered=False)    2\\r\\nCategoricalDtype(categories=[1], ordered=False)    1\\r\\nobject      1\\r\\ndtype: int64\\r\\n\\r\\n\\r\\n```\\r\\n\\r\\n#### Output of ``pd.show_versions()``\\r\\n\\r\\n<details>\\r\\n\\r\\nINSTALLED VERSIONS\\r\\n------------------\\r\\ncommit           : 8064973159c46d3c4608e3aaf637196e224eba91\\r\\npython           : 3.8.6.final.0\\r\\npython-bits      : 64\\r\\nOS               : Linux\\r\\nOS-release       : 5.4.0-70-generic\\r\\nVersion          : #78-Ubuntu SMP Fri Mar 19 13:29:52 UTC 2021\\r\\nmachine          : x86_64\\r\\nprocessor        : x86_64\\r\\nbyteorder        : little\\r\\nLC_ALL           : None\\r\\nLANG             : en_GB.UTF-8\\r\\nLOCALE           : en_GB.UTF-8\\r\\n\\r\\npandas           : 1.3.0.dev0+1211.g8064973159\\r\\nnumpy            : 1.19.5\\r\\npytz             : 2021.1\\r\\ndateutil         : 2.8.1\\r\\npip              : 20.3.3\\r\\nsetuptools       : 49.6.0.post20201009\\r\\nCython           : 0.29.22\\r\\npytest           : 6.2.2\\r\\nhypothesis       : 6.8.1\\r\\nsphinx           : 3.5.2\\r\\nblosc            : None\\r\\nfeather          : None\\r\\nxlsxwriter       : 1.3.7\\r\\nlxml.etree       : 4.6.2\\r\\nhtml5lib         : 1.1\\r\\npymysql          : None\\r\\npsycopg2         : None\\r\\njinja2           : 2.11.3\\r\\nIPython          : 7.19.0\\r\\npandas_datareader: None\\r\\nbs4              : 4.9.3\\r\\nbottleneck       : 1.3.2\\r\\nfsspec           : 0.8.7\\r\\nfastparquet      : 0.5.0\\r\\ngcsfs            : 0.7.2\\r\\nmatplotlib       : 3.3.3\\r\\nnumexpr          : 2.7.3\\r\\nodfpy            : None\\r\\nopenpyxl         : 3.0.7\\r\\npandas_gbq       : None\\r\\npyarrow          : 2.0.0\\r\\npyxlsb           : None\\r\\ns3fs             : 0.5.2\\r\\nscipy            : 1.6.1\\r\\nsqlalchemy       : 1.4.2\\r\\ntables           : 3.6.1\\r\\ntabulate         : 0.8.9\\r\\nxarray           : 0.17.0\\r\\nxlrd             : 2.0.1\\r\\nxlwt             : 1.3.0\\r\\nnumba            : 0.52.0\\r\\n\\r\\n\\r\\n</details>\\r\\n\",\n",
       "  'performed_via_github_app': None},\n",
       " {'url': 'https://api.github.com/repos/pandas-dev/pandas/issues/40734',\n",
       "  'repository_url': 'https://api.github.com/repos/pandas-dev/pandas',\n",
       "  'labels_url': 'https://api.github.com/repos/pandas-dev/pandas/issues/40734/labels{/name}',\n",
       "  'comments_url': 'https://api.github.com/repos/pandas-dev/pandas/issues/40734/comments',\n",
       "  'events_url': 'https://api.github.com/repos/pandas-dev/pandas/issues/40734/events',\n",
       "  'html_url': 'https://github.com/pandas-dev/pandas/pull/40734',\n",
       "  'id': 848686017,\n",
       "  'node_id': 'MDExOlB1bGxSZXF1ZXN0NjA3NTg0NTAz',\n",
       "  'number': 40734,\n",
       "  'title': 'Backport PR #40723 on branch 1.2.x (BUG: fix comparison of NaT with numpy array)',\n",
       "  'user': {'login': 'meeseeksmachine',\n",
       "   'id': 39504233,\n",
       "   'node_id': 'MDQ6VXNlcjM5NTA0MjMz',\n",
       "   'avatar_url': 'https://avatars.githubusercontent.com/u/39504233?v=4',\n",
       "   'gravatar_id': '',\n",
       "   'url': 'https://api.github.com/users/meeseeksmachine',\n",
       "   'html_url': 'https://github.com/meeseeksmachine',\n",
       "   'followers_url': 'https://api.github.com/users/meeseeksmachine/followers',\n",
       "   'following_url': 'https://api.github.com/users/meeseeksmachine/following{/other_user}',\n",
       "   'gists_url': 'https://api.github.com/users/meeseeksmachine/gists{/gist_id}',\n",
       "   'starred_url': 'https://api.github.com/users/meeseeksmachine/starred{/owner}{/repo}',\n",
       "   'subscriptions_url': 'https://api.github.com/users/meeseeksmachine/subscriptions',\n",
       "   'organizations_url': 'https://api.github.com/users/meeseeksmachine/orgs',\n",
       "   'repos_url': 'https://api.github.com/users/meeseeksmachine/repos',\n",
       "   'events_url': 'https://api.github.com/users/meeseeksmachine/events{/privacy}',\n",
       "   'received_events_url': 'https://api.github.com/users/meeseeksmachine/received_events',\n",
       "   'type': 'User',\n",
       "   'site_admin': False},\n",
       "  'labels': [{'id': 2822342,\n",
       "    'node_id': 'MDU6TGFiZWwyODIyMzQy',\n",
       "    'url': 'https://api.github.com/repos/pandas-dev/pandas/labels/Missing-data',\n",
       "    'name': 'Missing-data',\n",
       "    'color': 'd7e102',\n",
       "    'default': False,\n",
       "    'description': None},\n",
       "   {'id': 47223669,\n",
       "    'node_id': 'MDU6TGFiZWw0NzIyMzY2OQ==',\n",
       "    'url': 'https://api.github.com/repos/pandas-dev/pandas/labels/Numeric',\n",
       "    'name': 'Numeric',\n",
       "    'color': '006b75',\n",
       "    'default': False,\n",
       "    'description': 'Arithmetic, Comparison, and Logical operations'},\n",
       "   {'id': 32815646,\n",
       "    'node_id': 'MDU6TGFiZWwzMjgxNTY0Ng==',\n",
       "    'url': 'https://api.github.com/repos/pandas-dev/pandas/labels/Regression',\n",
       "    'name': 'Regression',\n",
       "    'color': 'e11d21',\n",
       "    'default': False,\n",
       "    'description': 'Functionality that used to work in a prior pandas version'},\n",
       "   {'id': 211840,\n",
       "    'node_id': 'MDU6TGFiZWwyMTE4NDA=',\n",
       "    'url': 'https://api.github.com/repos/pandas-dev/pandas/labels/Timeseries',\n",
       "    'name': 'Timeseries',\n",
       "    'color': 'AFEEEE',\n",
       "    'default': False,\n",
       "    'description': None}],\n",
       "  'state': 'open',\n",
       "  'locked': False,\n",
       "  'assignee': None,\n",
       "  'assignees': [],\n",
       "  'milestone': {'url': 'https://api.github.com/repos/pandas-dev/pandas/milestones/84',\n",
       "   'html_url': 'https://github.com/pandas-dev/pandas/milestone/84',\n",
       "   'labels_url': 'https://api.github.com/repos/pandas-dev/pandas/milestones/84/labels',\n",
       "   'id': 6490488,\n",
       "   'node_id': 'MDk6TWlsZXN0b25lNjQ5MDQ4OA==',\n",
       "   'number': 84,\n",
       "   'title': '1.2.4',\n",
       "   'description': 'on-merge: backport to 1.2.x',\n",
       "   'creator': {'login': 'simonjayhawkins',\n",
       "    'id': 13159005,\n",
       "    'node_id': 'MDQ6VXNlcjEzMTU5MDA1',\n",
       "    'avatar_url': 'https://avatars.githubusercontent.com/u/13159005?v=4',\n",
       "    'gravatar_id': '',\n",
       "    'url': 'https://api.github.com/users/simonjayhawkins',\n",
       "    'html_url': 'https://github.com/simonjayhawkins',\n",
       "    'followers_url': 'https://api.github.com/users/simonjayhawkins/followers',\n",
       "    'following_url': 'https://api.github.com/users/simonjayhawkins/following{/other_user}',\n",
       "    'gists_url': 'https://api.github.com/users/simonjayhawkins/gists{/gist_id}',\n",
       "    'starred_url': 'https://api.github.com/users/simonjayhawkins/starred{/owner}{/repo}',\n",
       "    'subscriptions_url': 'https://api.github.com/users/simonjayhawkins/subscriptions',\n",
       "    'organizations_url': 'https://api.github.com/users/simonjayhawkins/orgs',\n",
       "    'repos_url': 'https://api.github.com/users/simonjayhawkins/repos',\n",
       "    'events_url': 'https://api.github.com/users/simonjayhawkins/events{/privacy}',\n",
       "    'received_events_url': 'https://api.github.com/users/simonjayhawkins/received_events',\n",
       "    'type': 'User',\n",
       "    'site_admin': False},\n",
       "   'open_issues': 12,\n",
       "   'closed_issues': 25,\n",
       "   'state': 'open',\n",
       "   'created_at': '2021-03-01T08:32:08Z',\n",
       "   'updated_at': '2021-04-01T19:28:20Z',\n",
       "   'due_on': '2021-04-01T07:00:00Z',\n",
       "   'closed_at': None},\n",
       "  'comments': 0,\n",
       "  'created_at': '2021-04-01T18:18:26Z',\n",
       "  'updated_at': '2021-04-01T18:43:42Z',\n",
       "  'closed_at': None,\n",
       "  'author_association': 'NONE',\n",
       "  'active_lock_reason': None,\n",
       "  'pull_request': {'url': 'https://api.github.com/repos/pandas-dev/pandas/pulls/40734',\n",
       "   'html_url': 'https://github.com/pandas-dev/pandas/pull/40734',\n",
       "   'diff_url': 'https://github.com/pandas-dev/pandas/pull/40734.diff',\n",
       "   'patch_url': 'https://github.com/pandas-dev/pandas/pull/40734.patch'},\n",
       "  'body': 'Backport PR #40723: BUG: fix comparison of NaT with numpy array',\n",
       "  'performed_via_github_app': None},\n",
       " {'url': 'https://api.github.com/repos/pandas-dev/pandas/issues/40733',\n",
       "  'repository_url': 'https://api.github.com/repos/pandas-dev/pandas',\n",
       "  'labels_url': 'https://api.github.com/repos/pandas-dev/pandas/issues/40733/labels{/name}',\n",
       "  'comments_url': 'https://api.github.com/repos/pandas-dev/pandas/issues/40733/comments',\n",
       "  'events_url': 'https://api.github.com/repos/pandas-dev/pandas/issues/40733/events',\n",
       "  'html_url': 'https://github.com/pandas-dev/pandas/pull/40733',\n",
       "  'id': 848624838,\n",
       "  'node_id': 'MDExOlB1bGxSZXF1ZXN0NjA3NTMzMTEw',\n",
       "  'number': 40733,\n",
       "  'title': 'REF: implement groupby.ops.WrappedCythonFunc',\n",
       "  'user': {'login': 'jbrockmendel',\n",
       "   'id': 8078968,\n",
       "   'node_id': 'MDQ6VXNlcjgwNzg5Njg=',\n",
       "   'avatar_url': 'https://avatars.githubusercontent.com/u/8078968?v=4',\n",
       "   'gravatar_id': '',\n",
       "   'url': 'https://api.github.com/users/jbrockmendel',\n",
       "   'html_url': 'https://github.com/jbrockmendel',\n",
       "   'followers_url': 'https://api.github.com/users/jbrockmendel/followers',\n",
       "   'following_url': 'https://api.github.com/users/jbrockmendel/following{/other_user}',\n",
       "   'gists_url': 'https://api.github.com/users/jbrockmendel/gists{/gist_id}',\n",
       "   'starred_url': 'https://api.github.com/users/jbrockmendel/starred{/owner}{/repo}',\n",
       "   'subscriptions_url': 'https://api.github.com/users/jbrockmendel/subscriptions',\n",
       "   'organizations_url': 'https://api.github.com/users/jbrockmendel/orgs',\n",
       "   'repos_url': 'https://api.github.com/users/jbrockmendel/repos',\n",
       "   'events_url': 'https://api.github.com/users/jbrockmendel/events{/privacy}',\n",
       "   'received_events_url': 'https://api.github.com/users/jbrockmendel/received_events',\n",
       "   'type': 'User',\n",
       "   'site_admin': False},\n",
       "  'labels': [{'id': 233160,\n",
       "    'node_id': 'MDU6TGFiZWwyMzMxNjA=',\n",
       "    'url': 'https://api.github.com/repos/pandas-dev/pandas/labels/Groupby',\n",
       "    'name': 'Groupby',\n",
       "    'color': '729FCF',\n",
       "    'default': False,\n",
       "    'description': None},\n",
       "   {'id': 127681,\n",
       "    'node_id': 'MDU6TGFiZWwxMjc2ODE=',\n",
       "    'url': 'https://api.github.com/repos/pandas-dev/pandas/labels/Refactor',\n",
       "    'name': 'Refactor',\n",
       "    'color': 'FCE94F',\n",
       "    'default': False,\n",
       "    'description': 'Internal refactoring of code'}],\n",
       "  'state': 'open',\n",
       "  'locked': False,\n",
       "  'assignee': None,\n",
       "  'assignees': [],\n",
       "  'milestone': None,\n",
       "  'comments': 0,\n",
       "  'created_at': '2021-04-01T16:43:21Z',\n",
       "  'updated_at': '2021-04-01T23:26:16Z',\n",
       "  'closed_at': None,\n",
       "  'author_association': 'MEMBER',\n",
       "  'active_lock_reason': None,\n",
       "  'pull_request': {'url': 'https://api.github.com/repos/pandas-dev/pandas/pulls/40733',\n",
       "   'html_url': 'https://github.com/pandas-dev/pandas/pull/40733',\n",
       "   'diff_url': 'https://github.com/pandas-dev/pandas/pull/40733.diff',\n",
       "   'patch_url': 'https://github.com/pandas-dev/pandas/pull/40733.patch'},\n",
       "  'body': 'I think this is much closer to \"the correct\" abstraction here (i find the layered abstractions with similar names in core.groupby hard to follow).  Contains \\\\approx 0 groupby logic (takes ngroups as an argument in some methods) and is only about how to wrap/call/unwrap the libgroupby functions.\\r\\n\\r\\nThere are a few more parts of _cython_operation I\\'d like to move, but I\\'m holding off on that pending some non-refactor work that touches those pieces.\\r\\n\\r\\nNo specific plans, but I\\'m hopeful that something like this can be re-used to de-duplicate logic in nanops and maybe algorithms.\\r\\n\\r\\nThis uses classmethods/staticmethods (i like the explicit statelessness) and passes how+kind as arguments, but an alternative would be to instantiate with how+kind passed to `__init__`.\\r\\n\\r\\nThe only potentially-logical change is that when defining `out_dtype`, this returns \"float64\" instead of \"float\".  I haven\\'t checked if that makes a difference on 32bit builds, but after weeks of dealing with np.intp much prefer the explicitness.\\r\\n',\n",
       "  'performed_via_github_app': None},\n",
       " {'url': 'https://api.github.com/repos/pandas-dev/pandas/issues/40732',\n",
       "  'repository_url': 'https://api.github.com/repos/pandas-dev/pandas',\n",
       "  'labels_url': 'https://api.github.com/repos/pandas-dev/pandas/issues/40732/labels{/name}',\n",
       "  'comments_url': 'https://api.github.com/repos/pandas-dev/pandas/issues/40732/comments',\n",
       "  'events_url': 'https://api.github.com/repos/pandas-dev/pandas/issues/40732/events',\n",
       "  'html_url': 'https://github.com/pandas-dev/pandas/issues/40732',\n",
       "  'id': 848532889,\n",
       "  'node_id': 'MDU6SXNzdWU4NDg1MzI4ODk=',\n",
       "  'number': 40732,\n",
       "  'title': 'BUG: Dtypes change when using `replace` with nullable dtypes',\n",
       "  'user': {'login': 'tamargrey',\n",
       "   'id': 64278226,\n",
       "   'node_id': 'MDQ6VXNlcjY0Mjc4MjI2',\n",
       "   'avatar_url': 'https://avatars.githubusercontent.com/u/64278226?v=4',\n",
       "   'gravatar_id': '',\n",
       "   'url': 'https://api.github.com/users/tamargrey',\n",
       "   'html_url': 'https://github.com/tamargrey',\n",
       "   'followers_url': 'https://api.github.com/users/tamargrey/followers',\n",
       "   'following_url': 'https://api.github.com/users/tamargrey/following{/other_user}',\n",
       "   'gists_url': 'https://api.github.com/users/tamargrey/gists{/gist_id}',\n",
       "   'starred_url': 'https://api.github.com/users/tamargrey/starred{/owner}{/repo}',\n",
       "   'subscriptions_url': 'https://api.github.com/users/tamargrey/subscriptions',\n",
       "   'organizations_url': 'https://api.github.com/users/tamargrey/orgs',\n",
       "   'repos_url': 'https://api.github.com/users/tamargrey/repos',\n",
       "   'events_url': 'https://api.github.com/users/tamargrey/events{/privacy}',\n",
       "   'received_events_url': 'https://api.github.com/users/tamargrey/received_events',\n",
       "   'type': 'User',\n",
       "   'site_admin': False},\n",
       "  'labels': [{'id': 76811,\n",
       "    'node_id': 'MDU6TGFiZWw3NjgxMQ==',\n",
       "    'url': 'https://api.github.com/repos/pandas-dev/pandas/labels/Bug',\n",
       "    'name': 'Bug',\n",
       "    'color': 'e10c02',\n",
       "    'default': False,\n",
       "    'description': None},\n",
       "   {'id': 1817503692,\n",
       "    'node_id': 'MDU6TGFiZWwxODE3NTAzNjky',\n",
       "    'url': 'https://api.github.com/repos/pandas-dev/pandas/labels/NA%20-%20MaskedArrays',\n",
       "    'name': 'NA - MaskedArrays',\n",
       "    'color': '8cc645',\n",
       "    'default': False,\n",
       "    'description': 'Related to pd.NA and nullable extension arrays'},\n",
       "   {'id': 1652721180,\n",
       "    'node_id': 'MDU6TGFiZWwxNjUyNzIxMTgw',\n",
       "    'url': 'https://api.github.com/repos/pandas-dev/pandas/labels/replace',\n",
       "    'name': 'replace',\n",
       "    'color': '01a886',\n",
       "    'default': False,\n",
       "    'description': 'replace method'}],\n",
       "  'state': 'open',\n",
       "  'locked': False,\n",
       "  'assignee': None,\n",
       "  'assignees': [],\n",
       "  'milestone': {'url': 'https://api.github.com/repos/pandas-dev/pandas/milestones/32',\n",
       "   'html_url': 'https://github.com/pandas-dev/pandas/milestone/32',\n",
       "   'labels_url': 'https://api.github.com/repos/pandas-dev/pandas/milestones/32/labels',\n",
       "   'id': 933188,\n",
       "   'node_id': 'MDk6TWlsZXN0b25lOTMzMTg4',\n",
       "   'number': 32,\n",
       "   'title': 'Contributions Welcome',\n",
       "   'description': 'Changes that would be nice to have in the next release. These issues are not blocking. They will be pushed to the next release if no one has time to fix them.',\n",
       "   'creator': {'login': 'jreback',\n",
       "    'id': 953992,\n",
       "    'node_id': 'MDQ6VXNlcjk1Mzk5Mg==',\n",
       "    'avatar_url': 'https://avatars.githubusercontent.com/u/953992?v=4',\n",
       "    'gravatar_id': '',\n",
       "    'url': 'https://api.github.com/users/jreback',\n",
       "    'html_url': 'https://github.com/jreback',\n",
       "    'followers_url': 'https://api.github.com/users/jreback/followers',\n",
       "    'following_url': 'https://api.github.com/users/jreback/following{/other_user}',\n",
       "    'gists_url': 'https://api.github.com/users/jreback/gists{/gist_id}',\n",
       "    'starred_url': 'https://api.github.com/users/jreback/starred{/owner}{/repo}',\n",
       "    'subscriptions_url': 'https://api.github.com/users/jreback/subscriptions',\n",
       "    'organizations_url': 'https://api.github.com/users/jreback/orgs',\n",
       "    'repos_url': 'https://api.github.com/users/jreback/repos',\n",
       "    'events_url': 'https://api.github.com/users/jreback/events{/privacy}',\n",
       "    'received_events_url': 'https://api.github.com/users/jreback/received_events',\n",
       "    'type': 'User',\n",
       "    'site_admin': False},\n",
       "   'open_issues': 1161,\n",
       "   'closed_issues': 679,\n",
       "   'state': 'open',\n",
       "   'created_at': '2015-01-13T10:53:19Z',\n",
       "   'updated_at': '2021-04-01T22:45:47Z',\n",
       "   'due_on': None,\n",
       "   'closed_at': None},\n",
       "  'comments': 2,\n",
       "  'created_at': '2021-04-01T14:44:35Z',\n",
       "  'updated_at': '2021-04-01T23:11:42Z',\n",
       "  'closed_at': None,\n",
       "  'author_association': 'NONE',\n",
       "  'active_lock_reason': None,\n",
       "  'body': \"- [x] I have checked that this issue has not already been reported.\\r\\n\\r\\n- [x] I have confirmed this bug exists on the latest version of pandas.\\r\\n\\r\\n- [ ] (optional) I have confirmed this bug exists on the master branch of pandas.\\r\\n\\r\\n---\\r\\n\\r\\n#### Code Sample, a copy-pastable example\\r\\n\\r\\n```python\\r\\nfloats = pd.Series([1.0, 2.0, 3.999, 4.4], dtype=pd.Float64Dtype())\\r\\nints = pd.Series([1, 2, 3, 4], dtype=pd.Int64Dtype())\\r\\n\\r\\nassert floats.replace({1.0: 9}).dtype == 'int64' # results in [9, 2, 3, 4]\\r\\nassert floats.replace({1.0: 9.0}).dtype == 'float64'\\r\\n\\r\\nassert ints.replace({1: 9}).dtype == 'int64'\\r\\nassert ints.replace({1: 9.0}).dtype == 'float64'\\r\\n```\\r\\n\\r\\n#### Problem description\\r\\n\\r\\nThe dtype of the resulting series is being changed when `replace` is being called with `Int64Dtype` and `Float64Dtype` series'.\\r\\n\\r\\nThere are two problems here, from what I can tell:\\r\\n- We lose the nullable dtypes in favor of `int64` and `float64`.\\r\\n- When doing `replace` on a float series with an integer value, the resulting series gets converted to ints, truncating the decimals\\r\\n\\r\\n#### Expected Output\\r\\n\\r\\n```python\\r\\nassert floats.replace({1.0: 9}).dtype == pd.Float64Dtype() # Matching how an int passed to replace gets converted to a float with float64\\r\\nassert floats.replace({1.0: 9.0}).dtype == pd.Float64Dtype() \\r\\n\\r\\nassert ints.replace({1: 9}).dtype == pd.Int64Dtype()\\r\\nassert ints.replace({1: 9.0}).dtype ==  pd.Float64Dtype() # Matching how int -> float if a float is passed to replace\\r\\n\\r\\n```\\r\\n\\r\\n#### Output of ``pd.show_versions()``\\r\\n\\r\\n<details>\\r\\n\\r\\nINSTALLED VERSIONS\\r\\n------------------\\r\\ncommit           : f2c8480af2f25efdbd803218b9d87980f416563e\\r\\npython           : 3.8.2.final.0\\r\\npython-bits      : 64\\r\\nOS               : Darwin\\r\\nOS-release       : 19.6.0\\r\\nVersion          : Darwin Kernel Version 19.6.0: Sun Jul  5 00:43:10 PDT 2020; root:xnu-6153.141.1~9/RELEASE_X86_64\\r\\nmachine          : x86_64\\r\\nprocessor        : i386\\r\\nbyteorder        : little\\r\\nLC_ALL           : None\\r\\nLANG             : en_US.UTF-8\\r\\nLOCALE           : en_US.UTF-8\\r\\n\\r\\npandas           : 1.2.3\\r\\nnumpy            : 1.19.5\\r\\npytz             : 2021.1\\r\\ndateutil         : 2.8.1\\r\\npip              : 21.0.1\\r\\nsetuptools       : 41.2.0\\r\\nCython           : None\\r\\npytest           : 6.0.1\\r\\nhypothesis       : None\\r\\nsphinx           : 3.2.1\\r\\nblosc            : None\\r\\nfeather          : None\\r\\nxlsxwriter       : None\\r\\nlxml.etree       : None\\r\\nhtml5lib         : None\\r\\npymysql          : None\\r\\npsycopg2         : None\\r\\njinja2           : 2.11.3\\r\\nIPython          : 7.18.1\\r\\npandas_datareader: None\\r\\nbs4              : None\\r\\nbottleneck       : None\\r\\nfsspec           : 0.8.7\\r\\nfastparquet      : None\\r\\ngcsfs            : None\\r\\nmatplotlib       : None\\r\\nnumexpr          : None\\r\\nodfpy            : None\\r\\nopenpyxl         : None\\r\\npandas_gbq       : None\\r\\npyarrow          : 3.0.0\\r\\npyxlsb           : None\\r\\ns3fs             : None\\r\\nscipy            : 1.6.2\\r\\nsqlalchemy       : None\\r\\ntables           : None\\r\\ntabulate         : None\\r\\nxarray           : None\\r\\nxlrd             : None\\r\\nxlwt             : None\\r\\nnumba            : None\\r\\n</details>\\r\\n\",\n",
       "  'performed_via_github_app': None},\n",
       " {'url': 'https://api.github.com/repos/pandas-dev/pandas/issues/40731',\n",
       "  'repository_url': 'https://api.github.com/repos/pandas-dev/pandas',\n",
       "  'labels_url': 'https://api.github.com/repos/pandas-dev/pandas/issues/40731/labels{/name}',\n",
       "  'comments_url': 'https://api.github.com/repos/pandas-dev/pandas/issues/40731/comments',\n",
       "  'events_url': 'https://api.github.com/repos/pandas-dev/pandas/issues/40731/events',\n",
       "  'html_url': 'https://github.com/pandas-dev/pandas/pull/40731',\n",
       "  'id': 848528659,\n",
       "  'node_id': 'MDExOlB1bGxSZXF1ZXN0NjA3NDUzMTY0',\n",
       "  'number': 40731,\n",
       "  'title': 'ENH: `Styler.to_latex` conversion from CSS',\n",
       "  'user': {'login': 'attack68',\n",
       "   'id': 24256554,\n",
       "   'node_id': 'MDQ6VXNlcjI0MjU2NTU0',\n",
       "   'avatar_url': 'https://avatars.githubusercontent.com/u/24256554?v=4',\n",
       "   'gravatar_id': '',\n",
       "   'url': 'https://api.github.com/users/attack68',\n",
       "   'html_url': 'https://github.com/attack68',\n",
       "   'followers_url': 'https://api.github.com/users/attack68/followers',\n",
       "   'following_url': 'https://api.github.com/users/attack68/following{/other_user}',\n",
       "   'gists_url': 'https://api.github.com/users/attack68/gists{/gist_id}',\n",
       "   'starred_url': 'https://api.github.com/users/attack68/starred{/owner}{/repo}',\n",
       "   'subscriptions_url': 'https://api.github.com/users/attack68/subscriptions',\n",
       "   'organizations_url': 'https://api.github.com/users/attack68/orgs',\n",
       "   'repos_url': 'https://api.github.com/users/attack68/repos',\n",
       "   'events_url': 'https://api.github.com/users/attack68/events{/privacy}',\n",
       "   'received_events_url': 'https://api.github.com/users/attack68/received_events',\n",
       "   'type': 'User',\n",
       "   'site_admin': False},\n",
       "  'labels': [],\n",
       "  'state': 'open',\n",
       "  'locked': False,\n",
       "  'assignee': None,\n",
       "  'assignees': [],\n",
       "  'milestone': None,\n",
       "  'comments': 0,\n",
       "  'created_at': '2021-04-01T14:39:30Z',\n",
       "  'updated_at': '2021-04-01T14:40:32Z',\n",
       "  'closed_at': None,\n",
       "  'author_association': 'CONTRIBUTOR',\n",
       "  'active_lock_reason': None,\n",
       "  'pull_request': {'url': 'https://api.github.com/repos/pandas-dev/pandas/pulls/40731',\n",
       "   'html_url': 'https://github.com/pandas-dev/pandas/pull/40731',\n",
       "   'diff_url': 'https://github.com/pandas-dev/pandas/pull/40731.diff',\n",
       "   'patch_url': 'https://github.com/pandas-dev/pandas/pull/40731.patch'},\n",
       "  'body': 'This is an extension PR to #40422 (most of this code is included there), and must be committed after it.\\r\\nThis PR only adds the `_parse_latex_css_conversion` function and associated `convert_css` argument.\\r\\n\\r\\nBelow is the relevant section added to the user guide:\\r\\n\\r\\n![Screen Shot 2021-04-01 at 16 37 12](https://user-images.githubusercontent.com/24256554/113310637-bf186300-9308-11eb-8f9a-2ea5e2c67bb0.png)\\r\\n\\r\\n',\n",
       "  'performed_via_github_app': None},\n",
       " {'url': 'https://api.github.com/repos/pandas-dev/pandas/issues/40730',\n",
       "  'repository_url': 'https://api.github.com/repos/pandas-dev/pandas',\n",
       "  'labels_url': 'https://api.github.com/repos/pandas-dev/pandas/issues/40730/labels{/name}',\n",
       "  'comments_url': 'https://api.github.com/repos/pandas-dev/pandas/issues/40730/comments',\n",
       "  'events_url': 'https://api.github.com/repos/pandas-dev/pandas/issues/40730/events',\n",
       "  'html_url': 'https://github.com/pandas-dev/pandas/issues/40730',\n",
       "  'id': 848501764,\n",
       "  'node_id': 'MDU6SXNzdWU4NDg1MDE3NjQ=',\n",
       "  'number': 40730,\n",
       "  'title': 'BUG: qcut fails with Float64Dtype',\n",
       "  'user': {'login': 'tamargrey',\n",
       "   'id': 64278226,\n",
       "   'node_id': 'MDQ6VXNlcjY0Mjc4MjI2',\n",
       "   'avatar_url': 'https://avatars.githubusercontent.com/u/64278226?v=4',\n",
       "   'gravatar_id': '',\n",
       "   'url': 'https://api.github.com/users/tamargrey',\n",
       "   'html_url': 'https://github.com/tamargrey',\n",
       "   'followers_url': 'https://api.github.com/users/tamargrey/followers',\n",
       "   'following_url': 'https://api.github.com/users/tamargrey/following{/other_user}',\n",
       "   'gists_url': 'https://api.github.com/users/tamargrey/gists{/gist_id}',\n",
       "   'starred_url': 'https://api.github.com/users/tamargrey/starred{/owner}{/repo}',\n",
       "   'subscriptions_url': 'https://api.github.com/users/tamargrey/subscriptions',\n",
       "   'organizations_url': 'https://api.github.com/users/tamargrey/orgs',\n",
       "   'repos_url': 'https://api.github.com/users/tamargrey/repos',\n",
       "   'events_url': 'https://api.github.com/users/tamargrey/events{/privacy}',\n",
       "   'received_events_url': 'https://api.github.com/users/tamargrey/received_events',\n",
       "   'type': 'User',\n",
       "   'site_admin': False},\n",
       "  'labels': [{'id': 76811,\n",
       "    'node_id': 'MDU6TGFiZWw3NjgxMQ==',\n",
       "    'url': 'https://api.github.com/repos/pandas-dev/pandas/labels/Bug',\n",
       "    'name': 'Bug',\n",
       "    'color': 'e10c02',\n",
       "    'default': False,\n",
       "    'description': None},\n",
       "   {'id': 1817503692,\n",
       "    'node_id': 'MDU6TGFiZWwxODE3NTAzNjky',\n",
       "    'url': 'https://api.github.com/repos/pandas-dev/pandas/labels/NA%20-%20MaskedArrays',\n",
       "    'name': 'NA - MaskedArrays',\n",
       "    'color': '8cc645',\n",
       "    'default': False,\n",
       "    'description': 'Related to pd.NA and nullable extension arrays'},\n",
       "   {'id': 1639305834,\n",
       "    'node_id': 'MDU6TGFiZWwxNjM5MzA1ODM0',\n",
       "    'url': 'https://api.github.com/repos/pandas-dev/pandas/labels/cut',\n",
       "    'name': 'cut',\n",
       "    'color': '9aace2',\n",
       "    'default': False,\n",
       "    'description': 'cut, qcut'}],\n",
       "  'state': 'open',\n",
       "  'locked': False,\n",
       "  'assignee': None,\n",
       "  'assignees': [],\n",
       "  'milestone': {'url': 'https://api.github.com/repos/pandas-dev/pandas/milestones/32',\n",
       "   'html_url': 'https://github.com/pandas-dev/pandas/milestone/32',\n",
       "   'labels_url': 'https://api.github.com/repos/pandas-dev/pandas/milestones/32/labels',\n",
       "   'id': 933188,\n",
       "   'node_id': 'MDk6TWlsZXN0b25lOTMzMTg4',\n",
       "   'number': 32,\n",
       "   'title': 'Contributions Welcome',\n",
       "   'description': 'Changes that would be nice to have in the next release. These issues are not blocking. They will be pushed to the next release if no one has time to fix them.',\n",
       "   'creator': {'login': 'jreback',\n",
       "    'id': 953992,\n",
       "    'node_id': 'MDQ6VXNlcjk1Mzk5Mg==',\n",
       "    'avatar_url': 'https://avatars.githubusercontent.com/u/953992?v=4',\n",
       "    'gravatar_id': '',\n",
       "    'url': 'https://api.github.com/users/jreback',\n",
       "    'html_url': 'https://github.com/jreback',\n",
       "    'followers_url': 'https://api.github.com/users/jreback/followers',\n",
       "    'following_url': 'https://api.github.com/users/jreback/following{/other_user}',\n",
       "    'gists_url': 'https://api.github.com/users/jreback/gists{/gist_id}',\n",
       "    'starred_url': 'https://api.github.com/users/jreback/starred{/owner}{/repo}',\n",
       "    'subscriptions_url': 'https://api.github.com/users/jreback/subscriptions',\n",
       "    'organizations_url': 'https://api.github.com/users/jreback/orgs',\n",
       "    'repos_url': 'https://api.github.com/users/jreback/repos',\n",
       "    'events_url': 'https://api.github.com/users/jreback/events{/privacy}',\n",
       "    'received_events_url': 'https://api.github.com/users/jreback/received_events',\n",
       "    'type': 'User',\n",
       "    'site_admin': False},\n",
       "   'open_issues': 1161,\n",
       "   'closed_issues': 679,\n",
       "   'state': 'open',\n",
       "   'created_at': '2015-01-13T10:53:19Z',\n",
       "   'updated_at': '2021-04-01T22:45:47Z',\n",
       "   'due_on': None,\n",
       "   'closed_at': None},\n",
       "  'comments': 1,\n",
       "  'created_at': '2021-04-01T14:07:16Z',\n",
       "  'updated_at': '2021-04-01T15:09:52Z',\n",
       "  'closed_at': None,\n",
       "  'author_association': 'NONE',\n",
       "  'active_lock_reason': None,\n",
       "  'body': \"- [x] I have checked that this issue has not already been reported.\\r\\n\\r\\n- [x] I have confirmed this bug exists on the latest version of pandas.\\r\\n\\r\\n- [ ] (optional) I have confirmed this bug exists on the master branch of pandas.\\r\\n\\r\\n---\\r\\n\\r\\n#### Code Sample, a copy-pastable example\\r\\n\\r\\n```python\\r\\nseries = pd.Series([1.0, 2.0, 3.0, 4.4], dtype=pd.Float64Dtype())\\r\\npd.qcut(series, 2)\\r\\n```\\r\\n\\r\\n#### Problem description\\r\\n`pd.qcut` currently accepts the nullable `Int64Dtype` as well as `'float64'`, so I would expect it to work with the `Float64Dtype` as well. Instead the following error is produced:\\r\\n\\r\\n```python-traceback\\r\\n---------------------------------------------------------------------------\\r\\nIndexError                                Traceback (most recent call last)\\r\\n<ipython-input-29-1db98f70db38> in <module>\\r\\n      1 series = pd.Series([1.0,2.0,3.0,4.0], dtype=pd.Float64Dtype())\\r\\n----> 2 pd.qcut(series, 2)\\r\\n\\r\\n~/.pyenv/versions/3.8.2/envs/woodwork/lib/python3.8/site-packages/pandas/core/reshape/tile.py in qcut(x, q, labels, retbins, precision, duplicates)\\r\\n    356         quantiles = q\\r\\n    357     bins = algos.quantile(x, quantiles)\\r\\n--> 358     fac, bins = _bins_to_cuts(\\r\\n    359         x,\\r\\n    360         bins,\\r\\n\\r\\n~/.pyenv/versions/3.8.2/envs/woodwork/lib/python3.8/site-packages/pandas/core/reshape/tile.py in _bins_to_cuts(x, bins, right, labels, precision, include_lowest, dtype, duplicates, ordered)\\r\\n    408 \\r\\n    409     if include_lowest:\\r\\n--> 410         ids[x == bins[0]] = 1\\r\\n    411 \\r\\n    412     na_mask = isna(x) | (ids == len(bins)) | (ids == 0)\\r\\n\\r\\nIndexError: only integers, slices (`:`), ellipsis (`...`), numpy.newaxis (`None`) and integer or boolean arrays are valid indices\\r\\n```\\r\\n\\r\\n#### Expected Output\\r\\nShould match that of `float64`\\r\\n\\r\\n```\\r\\n0    (0.999, 2.5]\\r\\n1    (0.999, 2.5]\\r\\n2      (2.5, 4.0]\\r\\n3      (2.5, 4.0]\\r\\ndtype: category\\r\\nCategories (2, interval[float64]): [(0.999, 2.5] < (2.5, 4.0]]\\r\\n```\\r\\n\\r\\n\\r\\n#### Output of ``pd.show_versions()``\\r\\n\\r\\n<details>\\r\\n\\r\\nINSTALLED VERSIONS\\r\\n------------------\\r\\ncommit           : f2c8480af2f25efdbd803218b9d87980f416563e\\r\\npython           : 3.8.2.final.0\\r\\npython-bits      : 64\\r\\nOS               : Darwin\\r\\nOS-release       : 19.6.0\\r\\nVersion          : Darwin Kernel Version 19.6.0: Sun Jul  5 00:43:10 PDT 2020; root:xnu-6153.141.1~9/RELEASE_X86_64\\r\\nmachine          : x86_64\\r\\nprocessor        : i386\\r\\nbyteorder        : little\\r\\nLC_ALL           : None\\r\\nLANG             : en_US.UTF-8\\r\\nLOCALE           : en_US.UTF-8\\r\\n\\r\\npandas           : 1.2.3\\r\\nnumpy            : 1.19.5\\r\\npytz             : 2021.1\\r\\ndateutil         : 2.8.1\\r\\npip              : 21.0.1\\r\\nsetuptools       : 41.2.0\\r\\nCython           : None\\r\\npytest           : 6.0.1\\r\\nhypothesis       : None\\r\\nsphinx           : 3.2.1\\r\\nblosc            : None\\r\\nfeather          : None\\r\\nxlsxwriter       : None\\r\\nlxml.etree       : None\\r\\nhtml5lib         : None\\r\\npymysql          : None\\r\\npsycopg2         : None\\r\\njinja2           : 2.11.3\\r\\nIPython          : 7.18.1\\r\\npandas_datareader: None\\r\\nbs4              : None\\r\\nbottleneck       : None\\r\\nfsspec           : 0.8.7\\r\\nfastparquet      : None\\r\\ngcsfs            : None\\r\\nmatplotlib       : None\\r\\nnumexpr          : None\\r\\nodfpy            : None\\r\\nopenpyxl         : None\\r\\npandas_gbq       : None\\r\\npyarrow          : 3.0.0\\r\\npyxlsb           : None\\r\\ns3fs             : None\\r\\nscipy            : 1.6.2\\r\\nsqlalchemy       : None\\r\\ntables           : None\\r\\ntabulate         : None\\r\\nxarray           : None\\r\\nxlrd             : None\\r\\nxlwt             : None\\r\\nnumba            : None\\r\\n\\r\\n</details>\\r\\n\",\n",
       "  'performed_via_github_app': None},\n",
       " {'url': 'https://api.github.com/repos/pandas-dev/pandas/issues/40729',\n",
       "  'repository_url': 'https://api.github.com/repos/pandas-dev/pandas',\n",
       "  'labels_url': 'https://api.github.com/repos/pandas-dev/pandas/issues/40729/labels{/name}',\n",
       "  'comments_url': 'https://api.github.com/repos/pandas-dev/pandas/issues/40729/comments',\n",
       "  'events_url': 'https://api.github.com/repos/pandas-dev/pandas/issues/40729/events',\n",
       "  'html_url': 'https://github.com/pandas-dev/pandas/issues/40729',\n",
       "  'id': 848493310,\n",
       "  'node_id': 'MDU6SXNzdWU4NDg0OTMzMTA=',\n",
       "  'number': 40729,\n",
       "  'title': 'BUG: Cannot convert from `object` numeric strings to Float64Dtype',\n",
       "  'user': {'login': 'tamargrey',\n",
       "   'id': 64278226,\n",
       "   'node_id': 'MDQ6VXNlcjY0Mjc4MjI2',\n",
       "   'avatar_url': 'https://avatars.githubusercontent.com/u/64278226?v=4',\n",
       "   'gravatar_id': '',\n",
       "   'url': 'https://api.github.com/users/tamargrey',\n",
       "   'html_url': 'https://github.com/tamargrey',\n",
       "   'followers_url': 'https://api.github.com/users/tamargrey/followers',\n",
       "   'following_url': 'https://api.github.com/users/tamargrey/following{/other_user}',\n",
       "   'gists_url': 'https://api.github.com/users/tamargrey/gists{/gist_id}',\n",
       "   'starred_url': 'https://api.github.com/users/tamargrey/starred{/owner}{/repo}',\n",
       "   'subscriptions_url': 'https://api.github.com/users/tamargrey/subscriptions',\n",
       "   'organizations_url': 'https://api.github.com/users/tamargrey/orgs',\n",
       "   'repos_url': 'https://api.github.com/users/tamargrey/repos',\n",
       "   'events_url': 'https://api.github.com/users/tamargrey/events{/privacy}',\n",
       "   'received_events_url': 'https://api.github.com/users/tamargrey/received_events',\n",
       "   'type': 'User',\n",
       "   'site_admin': False},\n",
       "  'labels': [{'id': 76811,\n",
       "    'node_id': 'MDU6TGFiZWw3NjgxMQ==',\n",
       "    'url': 'https://api.github.com/repos/pandas-dev/pandas/labels/Bug',\n",
       "    'name': 'Bug',\n",
       "    'color': 'e10c02',\n",
       "    'default': False,\n",
       "    'description': None},\n",
       "   {'id': 1817503692,\n",
       "    'node_id': 'MDU6TGFiZWwxODE3NTAzNjky',\n",
       "    'url': 'https://api.github.com/repos/pandas-dev/pandas/labels/NA%20-%20MaskedArrays',\n",
       "    'name': 'NA - MaskedArrays',\n",
       "    'color': '8cc645',\n",
       "    'default': False,\n",
       "    'description': 'Related to pd.NA and nullable extension arrays'}],\n",
       "  'state': 'open',\n",
       "  'locked': False,\n",
       "  'assignee': None,\n",
       "  'assignees': [],\n",
       "  'milestone': {'url': 'https://api.github.com/repos/pandas-dev/pandas/milestones/32',\n",
       "   'html_url': 'https://github.com/pandas-dev/pandas/milestone/32',\n",
       "   'labels_url': 'https://api.github.com/repos/pandas-dev/pandas/milestones/32/labels',\n",
       "   'id': 933188,\n",
       "   'node_id': 'MDk6TWlsZXN0b25lOTMzMTg4',\n",
       "   'number': 32,\n",
       "   'title': 'Contributions Welcome',\n",
       "   'description': 'Changes that would be nice to have in the next release. These issues are not blocking. They will be pushed to the next release if no one has time to fix them.',\n",
       "   'creator': {'login': 'jreback',\n",
       "    'id': 953992,\n",
       "    'node_id': 'MDQ6VXNlcjk1Mzk5Mg==',\n",
       "    'avatar_url': 'https://avatars.githubusercontent.com/u/953992?v=4',\n",
       "    'gravatar_id': '',\n",
       "    'url': 'https://api.github.com/users/jreback',\n",
       "    'html_url': 'https://github.com/jreback',\n",
       "    'followers_url': 'https://api.github.com/users/jreback/followers',\n",
       "    'following_url': 'https://api.github.com/users/jreback/following{/other_user}',\n",
       "    'gists_url': 'https://api.github.com/users/jreback/gists{/gist_id}',\n",
       "    'starred_url': 'https://api.github.com/users/jreback/starred{/owner}{/repo}',\n",
       "    'subscriptions_url': 'https://api.github.com/users/jreback/subscriptions',\n",
       "    'organizations_url': 'https://api.github.com/users/jreback/orgs',\n",
       "    'repos_url': 'https://api.github.com/users/jreback/repos',\n",
       "    'events_url': 'https://api.github.com/users/jreback/events{/privacy}',\n",
       "    'received_events_url': 'https://api.github.com/users/jreback/received_events',\n",
       "    'type': 'User',\n",
       "    'site_admin': False},\n",
       "   'open_issues': 1161,\n",
       "   'closed_issues': 679,\n",
       "   'state': 'open',\n",
       "   'created_at': '2015-01-13T10:53:19Z',\n",
       "   'updated_at': '2021-04-01T22:45:47Z',\n",
       "   'due_on': None,\n",
       "   'closed_at': None},\n",
       "  'comments': 1,\n",
       "  'created_at': '2021-04-01T13:57:25Z',\n",
       "  'updated_at': '2021-04-01T15:03:24Z',\n",
       "  'closed_at': None,\n",
       "  'author_association': 'NONE',\n",
       "  'active_lock_reason': None,\n",
       "  'body': '#### Code Sample, a copy-pastable example\\r\\n\\r\\n```python\\r\\nimport pandas as pd\\r\\n\\r\\nseries = pd.Series([\\'1\\', \\'2\\', \\'3\\', \\'4\\'], dtype=\\'object\\')\\r\\nseries.astype(pd.Float64Dtype())\\r\\n```\\r\\n\\r\\nthe above produces a `TypeError: object cannot be converted to a FloatingDtype`:\\r\\n<details>\\r\\n\\r\\n\\r\\n```python-traceback\\r\\n---------------------------------------------------------------------------\\r\\nTypeError                                 Traceback (most recent call last)\\r\\n<ipython-input-20-a9dee24fff9e> in <module>\\r\\n     15 assert series.astype(\\'float64\\').dtype == \\'float64\\'\\r\\n     16 # TypeError: object cannot be converted to a FloatingDtype - same for DataFrames\\r\\n---> 17 series.astype(pd.Float64Dtype())\\r\\n     18 \\r\\n\\r\\n~/.pyenv/versions/3.8.2/envs/woodwork/lib/python3.8/site-packages/pandas/core/generic.py in astype(self, dtype, copy, errors)\\r\\n   5875         else:\\r\\n   5876             # else, only a single dtype is given\\r\\n-> 5877             new_data = self._mgr.astype(dtype=dtype, copy=copy, errors=errors)\\r\\n   5878             return self._constructor(new_data).__finalize__(self, method=\"astype\")\\r\\n   5879 \\r\\n\\r\\n~/.pyenv/versions/3.8.2/envs/woodwork/lib/python3.8/site-packages/pandas/core/internals/managers.py in astype(self, dtype, copy, errors)\\r\\n    629         self, dtype, copy: bool = False, errors: str = \"raise\"\\r\\n    630     ) -> \"BlockManager\":\\r\\n--> 631         return self.apply(\"astype\", dtype=dtype, copy=copy, errors=errors)\\r\\n    632 \\r\\n    633     def convert(\\r\\n\\r\\n~/.pyenv/versions/3.8.2/envs/woodwork/lib/python3.8/site-packages/pandas/core/internals/managers.py in apply(self, f, align_keys, ignore_failures, **kwargs)\\r\\n    425                     applied = b.apply(f, **kwargs)\\r\\n    426                 else:\\r\\n--> 427                     applied = getattr(b, f)(**kwargs)\\r\\n    428             except (TypeError, NotImplementedError):\\r\\n    429                 if not ignore_failures:\\r\\n\\r\\n~/.pyenv/versions/3.8.2/envs/woodwork/lib/python3.8/site-packages/pandas/core/internals/blocks.py in astype(self, dtype, copy, errors)\\r\\n    671             vals1d = values.ravel()\\r\\n    672             try:\\r\\n--> 673                 values = astype_nansafe(vals1d, dtype, copy=True)\\r\\n    674             except (ValueError, TypeError):\\r\\n    675                 # e.g. astype_nansafe can fail on object-dtype of strings\\r\\n\\r\\n~/.pyenv/versions/3.8.2/envs/woodwork/lib/python3.8/site-packages/pandas/core/dtypes/cast.py in astype_nansafe(arr, dtype, copy, skipna)\\r\\n   1017     # dispatch on extension dtype if needed\\r\\n   1018     if is_extension_array_dtype(dtype):\\r\\n-> 1019         return dtype.construct_array_type()._from_sequence(arr, dtype=dtype, copy=copy)\\r\\n   1020 \\r\\n   1021     if not isinstance(dtype, np.dtype):\\r\\n\\r\\n~/.pyenv/versions/3.8.2/envs/woodwork/lib/python3.8/site-packages/pandas/core/arrays/floating.py in _from_sequence(cls, scalars, dtype, copy)\\r\\n    278         cls, scalars, *, dtype=None, copy: bool = False\\r\\n    279     ) -> \"FloatingArray\":\\r\\n--> 280         values, mask = coerce_to_array(scalars, dtype=dtype, copy=copy)\\r\\n    281         return FloatingArray(values, mask)\\r\\n    282 \\r\\n\\r\\n~/.pyenv/versions/3.8.2/envs/woodwork/lib/python3.8/site-packages/pandas/core/arrays/floating.py in coerce_to_array(values, dtype, mask, copy)\\r\\n    160             \"mixed-integer-float\",\\r\\n    161         ]:\\r\\n--> 162             raise TypeError(f\"{values.dtype} cannot be converted to a FloatingDtype\")\\r\\n    163 \\r\\n    164     elif is_bool_dtype(values) and is_float_dtype(dtype):\\r\\n\\r\\nTypeError: object cannot be converted to a FloatingDtype\\r\\n\\r\\n```\\r\\n\\r\\n</details>\\r\\n\\r\\n#### Problem description\\r\\n\\r\\nWith `float64`, this conversion works, and as the series\\' dtype would get inferred as `object` even if no dtype was specified, it is unexpected to me that we would not be able to convert to the `Float64Dtype` from that. \\r\\n\\r\\n#### Expected Output\\r\\n\\r\\n```python\\r\\npd.Series([1.0, 2.0, 3.0, 4.0], dtype=Float64Dtype) \\r\\n```\\r\\n\\r\\n#### Output of ``pd.show_versions()``\\r\\n\\r\\n\\r\\n<details>\\r\\n\\r\\nINSTALLED VERSIONS\\r\\n------------------\\r\\ncommit           : f2c8480af2f25efdbd803218b9d87980f416563e\\r\\npython           : 3.8.2.final.0\\r\\npython-bits      : 64\\r\\nOS               : Darwin\\r\\nOS-release       : 19.6.0\\r\\nVersion          : Darwin Kernel Version 19.6.0: Sun Jul  5 00:43:10 PDT 2020; root:xnu-6153.141.1~9/RELEASE_X86_64\\r\\nmachine          : x86_64\\r\\nprocessor        : i386\\r\\nbyteorder        : little\\r\\nLC_ALL           : None\\r\\nLANG             : en_US.UTF-8\\r\\nLOCALE           : en_US.UTF-8\\r\\n\\r\\npandas           : 1.2.3\\r\\nnumpy            : 1.19.5\\r\\npytz             : 2021.1\\r\\ndateutil         : 2.8.1\\r\\npip              : 21.0.1\\r\\nsetuptools       : 41.2.0\\r\\nCython           : None\\r\\npytest           : 6.0.1\\r\\nhypothesis       : None\\r\\nsphinx           : 3.2.1\\r\\nblosc            : None\\r\\nfeather          : None\\r\\nxlsxwriter       : None\\r\\nlxml.etree       : None\\r\\nhtml5lib         : None\\r\\npymysql          : None\\r\\npsycopg2         : None\\r\\njinja2           : 2.11.3\\r\\nIPython          : 7.18.1\\r\\npandas_datareader: None\\r\\nbs4              : None\\r\\nbottleneck       : None\\r\\nfsspec           : 0.8.7\\r\\nfastparquet      : None\\r\\ngcsfs            : None\\r\\nmatplotlib       : None\\r\\nnumexpr          : None\\r\\nodfpy            : None\\r\\nopenpyxl         : None\\r\\npandas_gbq       : None\\r\\npyarrow          : 3.0.0\\r\\npyxlsb           : None\\r\\ns3fs             : None\\r\\nscipy            : 1.6.2\\r\\nsqlalchemy       : None\\r\\ntables           : None\\r\\ntabulate         : None\\r\\nxarray           : None\\r\\nxlrd             : None\\r\\nxlwt             : None\\r\\nnumba            : None\\r\\n',\n",
       "  'performed_via_github_app': None},\n",
       " {'url': 'https://api.github.com/repos/pandas-dev/pandas/issues/40728',\n",
       "  'repository_url': 'https://api.github.com/repos/pandas-dev/pandas',\n",
       "  'labels_url': 'https://api.github.com/repos/pandas-dev/pandas/issues/40728/labels{/name}',\n",
       "  'comments_url': 'https://api.github.com/repos/pandas-dev/pandas/issues/40728/comments',\n",
       "  'events_url': 'https://api.github.com/repos/pandas-dev/pandas/issues/40728/events',\n",
       "  'html_url': 'https://github.com/pandas-dev/pandas/pull/40728',\n",
       "  'id': 848438676,\n",
       "  'node_id': 'MDExOlB1bGxSZXF1ZXN0NjA3Mzc3NTE2',\n",
       "  'number': 40728,\n",
       "  'title': 'REF: only fallback to masked op for object dtype',\n",
       "  'user': {'login': 'jorisvandenbossche',\n",
       "   'id': 1020496,\n",
       "   'node_id': 'MDQ6VXNlcjEwMjA0OTY=',\n",
       "   'avatar_url': 'https://avatars.githubusercontent.com/u/1020496?v=4',\n",
       "   'gravatar_id': '',\n",
       "   'url': 'https://api.github.com/users/jorisvandenbossche',\n",
       "   'html_url': 'https://github.com/jorisvandenbossche',\n",
       "   'followers_url': 'https://api.github.com/users/jorisvandenbossche/followers',\n",
       "   'following_url': 'https://api.github.com/users/jorisvandenbossche/following{/other_user}',\n",
       "   'gists_url': 'https://api.github.com/users/jorisvandenbossche/gists{/gist_id}',\n",
       "   'starred_url': 'https://api.github.com/users/jorisvandenbossche/starred{/owner}{/repo}',\n",
       "   'subscriptions_url': 'https://api.github.com/users/jorisvandenbossche/subscriptions',\n",
       "   'organizations_url': 'https://api.github.com/users/jorisvandenbossche/orgs',\n",
       "   'repos_url': 'https://api.github.com/users/jorisvandenbossche/repos',\n",
       "   'events_url': 'https://api.github.com/users/jorisvandenbossche/events{/privacy}',\n",
       "   'received_events_url': 'https://api.github.com/users/jorisvandenbossche/received_events',\n",
       "   'type': 'User',\n",
       "   'site_admin': False},\n",
       "  'labels': [{'id': 47223669,\n",
       "    'node_id': 'MDU6TGFiZWw0NzIyMzY2OQ==',\n",
       "    'url': 'https://api.github.com/repos/pandas-dev/pandas/labels/Numeric',\n",
       "    'name': 'Numeric',\n",
       "    'color': '006b75',\n",
       "    'default': False,\n",
       "    'description': 'Arithmetic, Comparison, and Logical operations'},\n",
       "   {'id': 127681,\n",
       "    'node_id': 'MDU6TGFiZWwxMjc2ODE=',\n",
       "    'url': 'https://api.github.com/repos/pandas-dev/pandas/labels/Refactor',\n",
       "    'name': 'Refactor',\n",
       "    'color': 'FCE94F',\n",
       "    'default': False,\n",
       "    'description': 'Internal refactoring of code'}],\n",
       "  'state': 'open',\n",
       "  'locked': False,\n",
       "  'assignee': None,\n",
       "  'assignees': [],\n",
       "  'milestone': None,\n",
       "  'comments': 5,\n",
       "  'created_at': '2021-04-01T12:49:22Z',\n",
       "  'updated_at': '2021-04-01T18:35:28Z',\n",
       "  'closed_at': None,\n",
       "  'author_association': 'MEMBER',\n",
       "  'active_lock_reason': None,\n",
       "  'pull_request': {'url': 'https://api.github.com/repos/pandas-dev/pandas/pulls/40728',\n",
       "   'html_url': 'https://github.com/pandas-dev/pandas/pull/40728',\n",
       "   'diff_url': 'https://github.com/pandas-dev/pandas/pull/40728.diff',\n",
       "   'patch_url': 'https://github.com/pandas-dev/pandas/pull/40728.patch'},\n",
       "  'body': \"While investigating https://github.com/pandas-dev/pandas/pull/40727, I noticed that we are often trying `_masked_arith_op`, while it will end up giving the exact same error (for example when using ints, which don't have NaNs). \\r\\nFrom what I understand, I *think* that, in theory, we only need to fallback to a masked version of the op when having object dtype (I might be wrong here, though). So this PR tries that.\\r\\n\\r\\nFor numeric dtypes, all operations should simply work with NaNs? \\r\\nFor object dtype, we can have NaN or None, which doesn't necessarily work out of the box, so here we need to fallback to a masked operation. \\r\\nExtensionArrays don't end up here, and datetimelike dtypes get wrapped into EAs before getting here.\\r\\n\",\n",
       "  'performed_via_github_app': None},\n",
       " {'url': 'https://api.github.com/repos/pandas-dev/pandas/issues/40726',\n",
       "  'repository_url': 'https://api.github.com/repos/pandas-dev/pandas',\n",
       "  'labels_url': 'https://api.github.com/repos/pandas-dev/pandas/issues/40726/labels{/name}',\n",
       "  'comments_url': 'https://api.github.com/repos/pandas-dev/pandas/issues/40726/comments',\n",
       "  'events_url': 'https://api.github.com/repos/pandas-dev/pandas/issues/40726/events',\n",
       "  'html_url': 'https://github.com/pandas-dev/pandas/pull/40726',\n",
       "  'id': 848409599,\n",
       "  'node_id': 'MDExOlB1bGxSZXF1ZXN0NjA3MzUyNTYw',\n",
       "  'number': 40726,\n",
       "  'title': 'BUG: Do not allow boolean values for indexing with .loc without a boolean index.',\n",
       "  'user': {'login': 'DriesSchaumont',\n",
       "   'id': 5946712,\n",
       "   'node_id': 'MDQ6VXNlcjU5NDY3MTI=',\n",
       "   'avatar_url': 'https://avatars.githubusercontent.com/u/5946712?v=4',\n",
       "   'gravatar_id': '',\n",
       "   'url': 'https://api.github.com/users/DriesSchaumont',\n",
       "   'html_url': 'https://github.com/DriesSchaumont',\n",
       "   'followers_url': 'https://api.github.com/users/DriesSchaumont/followers',\n",
       "   'following_url': 'https://api.github.com/users/DriesSchaumont/following{/other_user}',\n",
       "   'gists_url': 'https://api.github.com/users/DriesSchaumont/gists{/gist_id}',\n",
       "   'starred_url': 'https://api.github.com/users/DriesSchaumont/starred{/owner}{/repo}',\n",
       "   'subscriptions_url': 'https://api.github.com/users/DriesSchaumont/subscriptions',\n",
       "   'organizations_url': 'https://api.github.com/users/DriesSchaumont/orgs',\n",
       "   'repos_url': 'https://api.github.com/users/DriesSchaumont/repos',\n",
       "   'events_url': 'https://api.github.com/users/DriesSchaumont/events{/privacy}',\n",
       "   'received_events_url': 'https://api.github.com/users/DriesSchaumont/received_events',\n",
       "   'type': 'User',\n",
       "   'site_admin': False},\n",
       "  'labels': [],\n",
       "  'state': 'open',\n",
       "  'locked': False,\n",
       "  'assignee': None,\n",
       "  'assignees': [],\n",
       "  'milestone': None,\n",
       "  'comments': 0,\n",
       "  'created_at': '2021-04-01T12:11:41Z',\n",
       "  'updated_at': '2021-04-01T20:14:48Z',\n",
       "  'closed_at': None,\n",
       "  'author_association': 'CONTRIBUTOR',\n",
       "  'active_lock_reason': None,\n",
       "  'pull_request': {'url': 'https://api.github.com/repos/pandas-dev/pandas/pulls/40726',\n",
       "   'html_url': 'https://github.com/pandas-dev/pandas/pull/40726',\n",
       "   'diff_url': 'https://github.com/pandas-dev/pandas/pull/40726.diff',\n",
       "   'patch_url': 'https://github.com/pandas-dev/pandas/pull/40726.patch'},\n",
       "  'body': '- [x] closes #20432\\r\\n- [x] tests added / passed\\r\\n- [x] Ensure all linting tests pass, see [here](https://pandas.pydata.org/pandas-docs/dev/development/contributing.html#code-standards) for how to run them\\r\\n- [ ] whatsnew entry\\r\\n',\n",
       "  'performed_via_github_app': None},\n",
       " {'url': 'https://api.github.com/repos/pandas-dev/pandas/issues/40725',\n",
       "  'repository_url': 'https://api.github.com/repos/pandas-dev/pandas',\n",
       "  'labels_url': 'https://api.github.com/repos/pandas-dev/pandas/issues/40725/labels{/name}',\n",
       "  'comments_url': 'https://api.github.com/repos/pandas-dev/pandas/issues/40725/comments',\n",
       "  'events_url': 'https://api.github.com/repos/pandas-dev/pandas/issues/40725/events',\n",
       "  'html_url': 'https://github.com/pandas-dev/pandas/pull/40725',\n",
       "  'id': 848348424,\n",
       "  'node_id': 'MDExOlB1bGxSZXF1ZXN0NjA3MzAwMjE1',\n",
       "  'number': 40725,\n",
       "  'title': 'BUG: [ArrowStringArray] Recognize ArrowStringArray in infer_dtype',\n",
       "  'user': {'login': 'simonjayhawkins',\n",
       "   'id': 13159005,\n",
       "   'node_id': 'MDQ6VXNlcjEzMTU5MDA1',\n",
       "   'avatar_url': 'https://avatars.githubusercontent.com/u/13159005?v=4',\n",
       "   'gravatar_id': '',\n",
       "   'url': 'https://api.github.com/users/simonjayhawkins',\n",
       "   'html_url': 'https://github.com/simonjayhawkins',\n",
       "   'followers_url': 'https://api.github.com/users/simonjayhawkins/followers',\n",
       "   'following_url': 'https://api.github.com/users/simonjayhawkins/following{/other_user}',\n",
       "   'gists_url': 'https://api.github.com/users/simonjayhawkins/gists{/gist_id}',\n",
       "   'starred_url': 'https://api.github.com/users/simonjayhawkins/starred{/owner}{/repo}',\n",
       "   'subscriptions_url': 'https://api.github.com/users/simonjayhawkins/subscriptions',\n",
       "   'organizations_url': 'https://api.github.com/users/simonjayhawkins/orgs',\n",
       "   'repos_url': 'https://api.github.com/users/simonjayhawkins/repos',\n",
       "   'events_url': 'https://api.github.com/users/simonjayhawkins/events{/privacy}',\n",
       "   'received_events_url': 'https://api.github.com/users/simonjayhawkins/received_events',\n",
       "   'type': 'User',\n",
       "   'site_admin': False},\n",
       "  'labels': [{'id': 76811,\n",
       "    'node_id': 'MDU6TGFiZWw3NjgxMQ==',\n",
       "    'url': 'https://api.github.com/repos/pandas-dev/pandas/labels/Bug',\n",
       "    'name': 'Bug',\n",
       "    'color': 'e10c02',\n",
       "    'default': False,\n",
       "    'description': None},\n",
       "   {'id': 57522093,\n",
       "    'node_id': 'MDU6TGFiZWw1NzUyMjA5Mw==',\n",
       "    'url': 'https://api.github.com/repos/pandas-dev/pandas/labels/Strings',\n",
       "    'name': 'Strings',\n",
       "    'color': '5319e7',\n",
       "    'default': False,\n",
       "    'description': 'String extension data type and string data'}],\n",
       "  'state': 'open',\n",
       "  'locked': False,\n",
       "  'assignee': None,\n",
       "  'assignees': [],\n",
       "  'milestone': {'url': 'https://api.github.com/repos/pandas-dev/pandas/milestones/80',\n",
       "   'html_url': 'https://github.com/pandas-dev/pandas/milestone/80',\n",
       "   'labels_url': 'https://api.github.com/repos/pandas-dev/pandas/milestones/80/labels',\n",
       "   'id': 6095818,\n",
       "   'node_id': 'MDk6TWlsZXN0b25lNjA5NTgxOA==',\n",
       "   'number': 80,\n",
       "   'title': '1.3',\n",
       "   'description': '',\n",
       "   'creator': {'login': 'jreback',\n",
       "    'id': 953992,\n",
       "    'node_id': 'MDQ6VXNlcjk1Mzk5Mg==',\n",
       "    'avatar_url': 'https://avatars.githubusercontent.com/u/953992?v=4',\n",
       "    'gravatar_id': '',\n",
       "    'url': 'https://api.github.com/users/jreback',\n",
       "    'html_url': 'https://github.com/jreback',\n",
       "    'followers_url': 'https://api.github.com/users/jreback/followers',\n",
       "    'following_url': 'https://api.github.com/users/jreback/following{/other_user}',\n",
       "    'gists_url': 'https://api.github.com/users/jreback/gists{/gist_id}',\n",
       "    'starred_url': 'https://api.github.com/users/jreback/starred{/owner}{/repo}',\n",
       "    'subscriptions_url': 'https://api.github.com/users/jreback/subscriptions',\n",
       "    'organizations_url': 'https://api.github.com/users/jreback/orgs',\n",
       "    'repos_url': 'https://api.github.com/users/jreback/repos',\n",
       "    'events_url': 'https://api.github.com/users/jreback/events{/privacy}',\n",
       "    'received_events_url': 'https://api.github.com/users/jreback/received_events',\n",
       "    'type': 'User',\n",
       "    'site_admin': False},\n",
       "   'open_issues': 110,\n",
       "   'closed_issues': 1302,\n",
       "   'state': 'open',\n",
       "   'created_at': '2020-11-11T19:05:43Z',\n",
       "   'updated_at': '2021-04-01T22:47:26Z',\n",
       "   'due_on': '2021-05-31T07:00:00Z',\n",
       "   'closed_at': None},\n",
       "  'comments': 1,\n",
       "  'created_at': '2021-04-01T10:39:32Z',\n",
       "  'updated_at': '2021-04-01T15:10:02Z',\n",
       "  'closed_at': None,\n",
       "  'author_association': 'MEMBER',\n",
       "  'active_lock_reason': None,\n",
       "  'pull_request': {'url': 'https://api.github.com/repos/pandas-dev/pandas/pulls/40725',\n",
       "   'html_url': 'https://github.com/pandas-dev/pandas/pull/40725',\n",
       "   'diff_url': 'https://github.com/pandas-dev/pandas/pull/40725.diff',\n",
       "   'patch_url': 'https://github.com/pandas-dev/pandas/pull/40725.patch'},\n",
       "  'body': 'PR is draft. follow-up to #40679, https://github.com/pandas-dev/pandas/pull/40679#issuecomment-809642594 which is not yet merged and need to make window to run benchmarks https://github.com/pandas-dev/pandas/pull/40679#pullrequestreview-623553887\\r\\n\\r\\non master\\r\\n\\r\\n```\\r\\n>>> pd.__version__\\r\\n\\'1.3.0.dev0+1180.gdd697e1cca\\'\\r\\n>>> \\r\\n>>> from pandas.core.arrays.string_arrow import ArrowStringDtype\\r\\n>>> \\r\\n>>> arr = ArrowStringDtype.construct_array_type()._from_sequence([\"B\", pd.NA, \"A\"])\\r\\n>>> \\r\\n>>> arr\\r\\n<ArrowStringArray>\\r\\n[\\'B\\', <NA>, \\'A\\']\\r\\nLength: 3, dtype: arrow_string\\r\\n>>> \\r\\n>>> pd._libs.lib.infer_dtype(arr)\\r\\n\\'unknown-array\\'\\r\\n>>> \\r\\n```',\n",
       "  'performed_via_github_app': None},\n",
       " {'url': 'https://api.github.com/repos/pandas-dev/pandas/issues/40721',\n",
       "  'repository_url': 'https://api.github.com/repos/pandas-dev/pandas',\n",
       "  'labels_url': 'https://api.github.com/repos/pandas-dev/pandas/issues/40721/labels{/name}',\n",
       "  'comments_url': 'https://api.github.com/repos/pandas-dev/pandas/issues/40721/comments',\n",
       "  'events_url': 'https://api.github.com/repos/pandas-dev/pandas/issues/40721/events',\n",
       "  'html_url': 'https://github.com/pandas-dev/pandas/issues/40721',\n",
       "  'id': 848187748,\n",
       "  'node_id': 'MDU6SXNzdWU4NDgxODc3NDg=',\n",
       "  'number': 40721,\n",
       "  'title': 'BUG: to_sql performance decreases dramatically with more than 10 columns (SQL Server)',\n",
       "  'user': {'login': 'nurglexxx',\n",
       "   'id': 662602,\n",
       "   'node_id': 'MDQ6VXNlcjY2MjYwMg==',\n",
       "   'avatar_url': 'https://avatars.githubusercontent.com/u/662602?v=4',\n",
       "   'gravatar_id': '',\n",
       "   'url': 'https://api.github.com/users/nurglexxx',\n",
       "   'html_url': 'https://github.com/nurglexxx',\n",
       "   'followers_url': 'https://api.github.com/users/nurglexxx/followers',\n",
       "   'following_url': 'https://api.github.com/users/nurglexxx/following{/other_user}',\n",
       "   'gists_url': 'https://api.github.com/users/nurglexxx/gists{/gist_id}',\n",
       "   'starred_url': 'https://api.github.com/users/nurglexxx/starred{/owner}{/repo}',\n",
       "   'subscriptions_url': 'https://api.github.com/users/nurglexxx/subscriptions',\n",
       "   'organizations_url': 'https://api.github.com/users/nurglexxx/orgs',\n",
       "   'repos_url': 'https://api.github.com/users/nurglexxx/repos',\n",
       "   'events_url': 'https://api.github.com/users/nurglexxx/events{/privacy}',\n",
       "   'received_events_url': 'https://api.github.com/users/nurglexxx/received_events',\n",
       "   'type': 'User',\n",
       "   'site_admin': False},\n",
       "  'labels': [{'id': 76811,\n",
       "    'node_id': 'MDU6TGFiZWw3NjgxMQ==',\n",
       "    'url': 'https://api.github.com/repos/pandas-dev/pandas/labels/Bug',\n",
       "    'name': 'Bug',\n",
       "    'color': 'e10c02',\n",
       "    'default': False,\n",
       "    'description': None},\n",
       "   {'id': 1954720290,\n",
       "    'node_id': 'MDU6TGFiZWwxOTU0NzIwMjkw',\n",
       "    'url': 'https://api.github.com/repos/pandas-dev/pandas/labels/Needs%20Triage',\n",
       "    'name': 'Needs Triage',\n",
       "    'color': '0052cc',\n",
       "    'default': False,\n",
       "    'description': 'Issue that has not been reviewed by a pandas team member'}],\n",
       "  'state': 'open',\n",
       "  'locked': False,\n",
       "  'assignee': None,\n",
       "  'assignees': [],\n",
       "  'milestone': None,\n",
       "  'comments': 0,\n",
       "  'created_at': '2021-04-01T08:11:16Z',\n",
       "  'updated_at': '2021-04-01T09:29:38Z',\n",
       "  'closed_at': None,\n",
       "  'author_association': 'NONE',\n",
       "  'active_lock_reason': None,\n",
       "  'body': '- [x ] I have checked that this issue has not already been reported.\\r\\n\\r\\n- [x ] I have confirmed this bug exists on the latest version of pandas.\\r\\n\\r\\n- [ ] (optional) I have confirmed this bug exists on the master branch of pandas.\\r\\n\\r\\n---\\r\\n\\r\\nFound an interesting issue regarding the performance of to_sql() in combination with SQL Server.\\r\\n\\r\\nOS: Centos/Redhat\\r\\nDB Driver: ODBC Driver 17 for SQL Server\\r\\nDB Server (remote): SQLServer 12\\r\\n\\r\\nPerformance:\\r\\n34484 rows x 10 columns => >10k records per second\\r\\n\\r\\n34484 rows x 12 columns => ~500 records per second\\r\\n\\r\\nI tested it on two different Servers and DB\\'s and the type of data doesn\\'t seem to matter (all dtypes are object), the drop happens always if the df is havin more than 10 Columns\\r\\n\\r\\n```python\\r\\n    engine = sqlalchemy.create_engine(\"mssql+pyodbc:///?odbc_connect=%s?charset=utf8\" % params, fast_executemany=True)\\r\\n    sqlalchemy_connection = engine.connect()\\r\\n    ....\\r\\n   df.to_sql(name=\\'TEST\\', con=con, if_exists=\\'append\\', index=False)\\r\\n\\r\\n```\\r\\n\\r\\n(Tested it now with postgresql, the \"bug\" does not appear there, get around 14k/sec)\\r\\n',\n",
       "  'performed_via_github_app': None},\n",
       " {'url': 'https://api.github.com/repos/pandas-dev/pandas/issues/40720',\n",
       "  'repository_url': 'https://api.github.com/repos/pandas-dev/pandas',\n",
       "  'labels_url': 'https://api.github.com/repos/pandas-dev/pandas/issues/40720/labels{/name}',\n",
       "  'comments_url': 'https://api.github.com/repos/pandas-dev/pandas/issues/40720/comments',\n",
       "  'events_url': 'https://api.github.com/repos/pandas-dev/pandas/issues/40720/events',\n",
       "  'html_url': 'https://github.com/pandas-dev/pandas/issues/40720',\n",
       "  'id': 848182160,\n",
       "  'node_id': 'MDU6SXNzdWU4NDgxODIxNjA=',\n",
       "  'number': 40720,\n",
       "  'title': \"BUG:  GroupBy.apply doesn't add group keys to index whether setting group_keys=True or not.\",\n",
       "  'user': {'login': 'taozuoqiao',\n",
       "   'id': 18346451,\n",
       "   'node_id': 'MDQ6VXNlcjE4MzQ2NDUx',\n",
       "   'avatar_url': 'https://avatars.githubusercontent.com/u/18346451?v=4',\n",
       "   'gravatar_id': '',\n",
       "   'url': 'https://api.github.com/users/taozuoqiao',\n",
       "   'html_url': 'https://github.com/taozuoqiao',\n",
       "   'followers_url': 'https://api.github.com/users/taozuoqiao/followers',\n",
       "   'following_url': 'https://api.github.com/users/taozuoqiao/following{/other_user}',\n",
       "   'gists_url': 'https://api.github.com/users/taozuoqiao/gists{/gist_id}',\n",
       "   'starred_url': 'https://api.github.com/users/taozuoqiao/starred{/owner}{/repo}',\n",
       "   'subscriptions_url': 'https://api.github.com/users/taozuoqiao/subscriptions',\n",
       "   'organizations_url': 'https://api.github.com/users/taozuoqiao/orgs',\n",
       "   'repos_url': 'https://api.github.com/users/taozuoqiao/repos',\n",
       "   'events_url': 'https://api.github.com/users/taozuoqiao/events{/privacy}',\n",
       "   'received_events_url': 'https://api.github.com/users/taozuoqiao/received_events',\n",
       "   'type': 'User',\n",
       "   'site_admin': False},\n",
       "  'labels': [{'id': 76811,\n",
       "    'node_id': 'MDU6TGFiZWw3NjgxMQ==',\n",
       "    'url': 'https://api.github.com/repos/pandas-dev/pandas/labels/Bug',\n",
       "    'name': 'Bug',\n",
       "    'color': 'e10c02',\n",
       "    'default': False,\n",
       "    'description': None},\n",
       "   {'id': 1954720290,\n",
       "    'node_id': 'MDU6TGFiZWwxOTU0NzIwMjkw',\n",
       "    'url': 'https://api.github.com/repos/pandas-dev/pandas/labels/Needs%20Triage',\n",
       "    'name': 'Needs Triage',\n",
       "    'color': '0052cc',\n",
       "    'default': False,\n",
       "    'description': 'Issue that has not been reviewed by a pandas team member'}],\n",
       "  'state': 'open',\n",
       "  'locked': False,\n",
       "  'assignee': None,\n",
       "  'assignees': [],\n",
       "  'milestone': None,\n",
       "  'comments': 0,\n",
       "  'created_at': '2021-04-01T08:07:38Z',\n",
       "  'updated_at': '2021-04-01T08:10:55Z',\n",
       "  'closed_at': None,\n",
       "  'author_association': 'NONE',\n",
       "  'active_lock_reason': None,\n",
       "  'body': '- [x] I have checked that this issue has not already been reported.\\r\\n\\r\\n- [x] I have confirmed this bug exists on the latest version of pandas.\\r\\n\\r\\n- [ ] (optional) I have confirmed this bug exists on the master branch of pandas.\\r\\n---\\r\\ncode\\r\\n```python\\r\\nimport pandas as pd\\r\\nprint(pd.__version__)\\r\\ndata = { \\r\\n    \\'groupby_col\\': [\\'A\\', \\'A\\', \\'A\\', \\'A\\', \\'A\\', \\'B\\', \\'B\\', \\'B\\', \\'B\\', \\'B\\', ], \\r\\n    \\'agg_col\\': [1, 1, 0, 1, 0, 0, 0, 0, 1, 0], \\r\\n} \\r\\ndf = pd.DataFrame(data)\\r\\n\\r\\nprint(df.groupby(\\'groupby_col\\', group_keys=True).apply(lambda x: x.rolling(4).mean()))\\r\\nprint(df.groupby(\\'groupby_col\\', group_keys=False).apply(lambda x: x.rolling(4).mean()))\\r\\n```\\r\\noutput\\r\\n```\\r\\n1.2.3\\r\\n   agg_col\\r\\n0      NaN\\r\\n1      NaN\\r\\n2      NaN\\r\\n3     0.75\\r\\n4     0.50\\r\\n5      NaN\\r\\n6      NaN\\r\\n7      NaN\\r\\n8     0.25\\r\\n9     0.25\\r\\n   agg_col\\r\\n0      NaN\\r\\n1      NaN\\r\\n2      NaN\\r\\n3     0.75\\r\\n4     0.50\\r\\n5      NaN\\r\\n6      NaN\\r\\n7      NaN\\r\\n8     0.25\\r\\n9     0.25\\r\\n```\\r\\n\\r\\nThe group keys should be add to index when setting group_keys=True(the default option). And when I use `pandas==1.1.5`, the output is as expected:\\r\\n```\\r\\n1.1.5\\r\\n               agg_col\\r\\ngroupby_col           \\r\\nA           0      NaN\\r\\n            1      NaN\\r\\n            2      NaN\\r\\n            3     0.75\\r\\n            4     0.50\\r\\nB           5      NaN\\r\\n            6      NaN\\r\\n            7      NaN\\r\\n            8     0.25\\r\\n            9     0.25\\r\\n   agg_col\\r\\n0      NaN\\r\\n1      NaN\\r\\n2      NaN\\r\\n3     0.75\\r\\n4     0.50\\r\\n5      NaN\\r\\n6      NaN\\r\\n7      NaN\\r\\n8     0.25\\r\\n9     0.25\\r\\n```\\r\\n\\r\\n---\\r\\nBut I find that examples in https://github.com/pandas-dev/pandas/issues/38787#issuecomment-759660512 does work as expected even in 1.2.3:\\r\\n\\r\\ncode\\r\\n```python\\r\\ndf = pd.DataFrame({\"key\": [1, 1, 1, 2, 2, 2, 3, 3, 3], \"value\": range(9)})\\r\\nprint(df.groupby(\"key\", group_keys=True).apply(lambda x: x[:2]))\\r\\nprint(df.groupby(\"key\", group_keys=False).apply(lambda x: x[:2]))\\r\\n```\\r\\noutput\\r\\n```\\r\\n       key  value\\r\\nkey              \\r\\n1   0    1      0\\r\\n    1    1      1\\r\\n2   3    2      3\\r\\n    4    2      4\\r\\n3   6    3      6\\r\\n    7    3      7\\r\\n   key  value\\r\\n0    1      0\\r\\n1    1      1\\r\\n3    2      3\\r\\n4    2      4\\r\\n6    3      6\\r\\n7    3      7\\r\\n```\\r\\n\\r\\n',\n",
       "  'performed_via_github_app': None},\n",
       " {'url': 'https://api.github.com/repos/pandas-dev/pandas/issues/40719',\n",
       "  'repository_url': 'https://api.github.com/repos/pandas-dev/pandas',\n",
       "  'labels_url': 'https://api.github.com/repos/pandas-dev/pandas/issues/40719/labels{/name}',\n",
       "  'comments_url': 'https://api.github.com/repos/pandas-dev/pandas/issues/40719/comments',\n",
       "  'events_url': 'https://api.github.com/repos/pandas-dev/pandas/issues/40719/events',\n",
       "  'html_url': 'https://github.com/pandas-dev/pandas/issues/40719',\n",
       "  'id': 847813580,\n",
       "  'node_id': 'MDU6SXNzdWU4NDc4MTM1ODA=',\n",
       "  'number': 40719,\n",
       "  'title': 'BUG: tm.assert_frame_equal fails to raise near int64 implementation bounds',\n",
       "  'user': {'login': 'jbrockmendel',\n",
       "   'id': 8078968,\n",
       "   'node_id': 'MDQ6VXNlcjgwNzg5Njg=',\n",
       "   'avatar_url': 'https://avatars.githubusercontent.com/u/8078968?v=4',\n",
       "   'gravatar_id': '',\n",
       "   'url': 'https://api.github.com/users/jbrockmendel',\n",
       "   'html_url': 'https://github.com/jbrockmendel',\n",
       "   'followers_url': 'https://api.github.com/users/jbrockmendel/followers',\n",
       "   'following_url': 'https://api.github.com/users/jbrockmendel/following{/other_user}',\n",
       "   'gists_url': 'https://api.github.com/users/jbrockmendel/gists{/gist_id}',\n",
       "   'starred_url': 'https://api.github.com/users/jbrockmendel/starred{/owner}{/repo}',\n",
       "   'subscriptions_url': 'https://api.github.com/users/jbrockmendel/subscriptions',\n",
       "   'organizations_url': 'https://api.github.com/users/jbrockmendel/orgs',\n",
       "   'repos_url': 'https://api.github.com/users/jbrockmendel/repos',\n",
       "   'events_url': 'https://api.github.com/users/jbrockmendel/events{/privacy}',\n",
       "   'received_events_url': 'https://api.github.com/users/jbrockmendel/received_events',\n",
       "   'type': 'User',\n",
       "   'site_admin': False},\n",
       "  'labels': [{'id': 76811,\n",
       "    'node_id': 'MDU6TGFiZWw3NjgxMQ==',\n",
       "    'url': 'https://api.github.com/repos/pandas-dev/pandas/labels/Bug',\n",
       "    'name': 'Bug',\n",
       "    'color': 'e10c02',\n",
       "    'default': False,\n",
       "    'description': None},\n",
       "   {'id': 1954720290,\n",
       "    'node_id': 'MDU6TGFiZWwxOTU0NzIwMjkw',\n",
       "    'url': 'https://api.github.com/repos/pandas-dev/pandas/labels/Needs%20Triage',\n",
       "    'name': 'Needs Triage',\n",
       "    'color': '0052cc',\n",
       "    'default': False,\n",
       "    'description': 'Issue that has not been reviewed by a pandas team member'}],\n",
       "  'state': 'open',\n",
       "  'locked': False,\n",
       "  'assignee': None,\n",
       "  'assignees': [],\n",
       "  'milestone': None,\n",
       "  'comments': 0,\n",
       "  'created_at': '2021-04-01T03:23:04Z',\n",
       "  'updated_at': '2021-04-01T03:23:04Z',\n",
       "  'closed_at': None,\n",
       "  'author_association': 'MEMBER',\n",
       "  'active_lock_reason': None,\n",
       "  'body': 'passing check_exact=True makes it raise as expected, but I was surprised to find it necessary.  This likely hides some bugs.\\r\\n\\r\\nMotivating example adapted from tests.groupby.test_function.test_cummin.\\r\\n\\r\\n```\\r\\ndtype = np.dtype(np.int64)\\r\\nmin_val = np.iinfo(dtype).min\\r\\n\\r\\nbase_df = DataFrame({\"A\": [1, 1, 1, 1, 2, 2, 2, 2], \"B\": [3, 4, 3, 2, 2, 3, 2, 1]})\\r\\nexpected_mins = [3, 3, 3, 2, 2, 2, 2, 1]\\r\\nexpected = DataFrame({\"B\": expected_mins}).astype(dtype)\\r\\n\\r\\ndf = base_df.astype(dtype)\\r\\n\\r\\n# Test w/ min value for dtype\\r\\ndf.loc[[2, 6], \"B\"] = min_val\\r\\ndf.loc[[1, 5], \"B\"] = min_val + 1\\r\\nresult = df.groupby(\"A\").cummin()\\r\\n\\r\\nexpected.loc[[1, 5], \"B\"] = min_val + 1\\r\\nexpected.loc[[2, 3, 6, 7], \"B\"] = min_val\\r\\n\\r\\ntm.assert_frame_equal(result, expected)  #  <-- passes\\r\\ntm.assert_frame_equal(result, expected, check_exact=True)  # <-- raises\\r\\n\\r\\n\\r\\n>>> result\\r\\n                     B\\r\\n0                    3\\r\\n1 -9223372036854775808\\r\\n2 -9223372036854775808\\r\\n3 -9223372036854775808\\r\\n4                    2\\r\\n5 -9223372036854775808\\r\\n6 -9223372036854775808\\r\\n7 -9223372036854775808\\r\\n\\r\\n>>> expected\\r\\n                     B\\r\\n0                    3\\r\\n1 -9223372036854775807\\r\\n2 -9223372036854775808\\r\\n3 -9223372036854775808\\r\\n4                    2\\r\\n5 -9223372036854775807\\r\\n6 -9223372036854775808\\r\\n7 -9223372036854775808\\r\\n\\r\\n```',\n",
       "  'performed_via_github_app': None},\n",
       " {'url': 'https://api.github.com/repos/pandas-dev/pandas/issues/40717',\n",
       "  'repository_url': 'https://api.github.com/repos/pandas-dev/pandas',\n",
       "  'labels_url': 'https://api.github.com/repos/pandas-dev/pandas/issues/40717/labels{/name}',\n",
       "  'comments_url': 'https://api.github.com/repos/pandas-dev/pandas/issues/40717/comments',\n",
       "  'events_url': 'https://api.github.com/repos/pandas-dev/pandas/issues/40717/events',\n",
       "  'html_url': 'https://github.com/pandas-dev/pandas/pull/40717',\n",
       "  'id': 847532220,\n",
       "  'node_id': 'MDExOlB1bGxSZXF1ZXN0NjA2NTQyMjg3',\n",
       "  'number': 40717,\n",
       "  'title': 'REF: RangeIndex dont subclass Int64Index',\n",
       "  'user': {'login': 'jbrockmendel',\n",
       "   'id': 8078968,\n",
       "   'node_id': 'MDQ6VXNlcjgwNzg5Njg=',\n",
       "   'avatar_url': 'https://avatars.githubusercontent.com/u/8078968?v=4',\n",
       "   'gravatar_id': '',\n",
       "   'url': 'https://api.github.com/users/jbrockmendel',\n",
       "   'html_url': 'https://github.com/jbrockmendel',\n",
       "   'followers_url': 'https://api.github.com/users/jbrockmendel/followers',\n",
       "   'following_url': 'https://api.github.com/users/jbrockmendel/following{/other_user}',\n",
       "   'gists_url': 'https://api.github.com/users/jbrockmendel/gists{/gist_id}',\n",
       "   'starred_url': 'https://api.github.com/users/jbrockmendel/starred{/owner}{/repo}',\n",
       "   'subscriptions_url': 'https://api.github.com/users/jbrockmendel/subscriptions',\n",
       "   'organizations_url': 'https://api.github.com/users/jbrockmendel/orgs',\n",
       "   'repos_url': 'https://api.github.com/users/jbrockmendel/repos',\n",
       "   'events_url': 'https://api.github.com/users/jbrockmendel/events{/privacy}',\n",
       "   'received_events_url': 'https://api.github.com/users/jbrockmendel/received_events',\n",
       "   'type': 'User',\n",
       "   'site_admin': False},\n",
       "  'labels': [],\n",
       "  'state': 'open',\n",
       "  'locked': False,\n",
       "  'assignee': None,\n",
       "  'assignees': [],\n",
       "  'milestone': None,\n",
       "  'comments': 1,\n",
       "  'created_at': '2021-03-31T23:31:13Z',\n",
       "  'updated_at': '2021-04-01T23:10:51Z',\n",
       "  'closed_at': None,\n",
       "  'author_association': 'MEMBER',\n",
       "  'active_lock_reason': None,\n",
       "  'pull_request': {'url': 'https://api.github.com/repos/pandas-dev/pandas/pulls/40717',\n",
       "   'html_url': 'https://github.com/pandas-dev/pandas/pull/40717',\n",
       "   'diff_url': 'https://github.com/pandas-dev/pandas/pull/40717.diff',\n",
       "   'patch_url': 'https://github.com/pandas-dev/pandas/pull/40717.patch'},\n",
       "  'body': 'This makes it much simpler if we want to put constructors in cython.',\n",
       "  'performed_via_github_app': None},\n",
       " {'url': 'https://api.github.com/repos/pandas-dev/pandas/issues/40716',\n",
       "  'repository_url': 'https://api.github.com/repos/pandas-dev/pandas',\n",
       "  'labels_url': 'https://api.github.com/repos/pandas-dev/pandas/issues/40716/labels{/name}',\n",
       "  'comments_url': 'https://api.github.com/repos/pandas-dev/pandas/issues/40716/comments',\n",
       "  'events_url': 'https://api.github.com/repos/pandas-dev/pandas/issues/40716/events',\n",
       "  'html_url': 'https://github.com/pandas-dev/pandas/pull/40716',\n",
       "  'id': 847528436,\n",
       "  'node_id': 'MDExOlB1bGxSZXF1ZXN0NjA2NTM4NzMz',\n",
       "  'number': 40716,\n",
       "  'title': 'TYP: groupby.pyi',\n",
       "  'user': {'login': 'jbrockmendel',\n",
       "   'id': 8078968,\n",
       "   'node_id': 'MDQ6VXNlcjgwNzg5Njg=',\n",
       "   'avatar_url': 'https://avatars.githubusercontent.com/u/8078968?v=4',\n",
       "   'gravatar_id': '',\n",
       "   'url': 'https://api.github.com/users/jbrockmendel',\n",
       "   'html_url': 'https://github.com/jbrockmendel',\n",
       "   'followers_url': 'https://api.github.com/users/jbrockmendel/followers',\n",
       "   'following_url': 'https://api.github.com/users/jbrockmendel/following{/other_user}',\n",
       "   'gists_url': 'https://api.github.com/users/jbrockmendel/gists{/gist_id}',\n",
       "   'starred_url': 'https://api.github.com/users/jbrockmendel/starred{/owner}{/repo}',\n",
       "   'subscriptions_url': 'https://api.github.com/users/jbrockmendel/subscriptions',\n",
       "   'organizations_url': 'https://api.github.com/users/jbrockmendel/orgs',\n",
       "   'repos_url': 'https://api.github.com/users/jbrockmendel/repos',\n",
       "   'events_url': 'https://api.github.com/users/jbrockmendel/events{/privacy}',\n",
       "   'received_events_url': 'https://api.github.com/users/jbrockmendel/received_events',\n",
       "   'type': 'User',\n",
       "   'site_admin': False},\n",
       "  'labels': [{'id': 233160,\n",
       "    'node_id': 'MDU6TGFiZWwyMzMxNjA=',\n",
       "    'url': 'https://api.github.com/repos/pandas-dev/pandas/labels/Groupby',\n",
       "    'name': 'Groupby',\n",
       "    'color': '729FCF',\n",
       "    'default': False,\n",
       "    'description': None},\n",
       "   {'id': 1280988427,\n",
       "    'node_id': 'MDU6TGFiZWwxMjgwOTg4NDI3',\n",
       "    'url': 'https://api.github.com/repos/pandas-dev/pandas/labels/Typing',\n",
       "    'name': 'Typing',\n",
       "    'color': 'ea91a4',\n",
       "    'default': False,\n",
       "    'description': 'mypy type annotations'}],\n",
       "  'state': 'open',\n",
       "  'locked': False,\n",
       "  'assignee': None,\n",
       "  'assignees': [],\n",
       "  'milestone': {'url': 'https://api.github.com/repos/pandas-dev/pandas/milestones/80',\n",
       "   'html_url': 'https://github.com/pandas-dev/pandas/milestone/80',\n",
       "   'labels_url': 'https://api.github.com/repos/pandas-dev/pandas/milestones/80/labels',\n",
       "   'id': 6095818,\n",
       "   'node_id': 'MDk6TWlsZXN0b25lNjA5NTgxOA==',\n",
       "   'number': 80,\n",
       "   'title': '1.3',\n",
       "   'description': '',\n",
       "   'creator': {'login': 'jreback',\n",
       "    'id': 953992,\n",
       "    'node_id': 'MDQ6VXNlcjk1Mzk5Mg==',\n",
       "    'avatar_url': 'https://avatars.githubusercontent.com/u/953992?v=4',\n",
       "    'gravatar_id': '',\n",
       "    'url': 'https://api.github.com/users/jreback',\n",
       "    'html_url': 'https://github.com/jreback',\n",
       "    'followers_url': 'https://api.github.com/users/jreback/followers',\n",
       "    'following_url': 'https://api.github.com/users/jreback/following{/other_user}',\n",
       "    'gists_url': 'https://api.github.com/users/jreback/gists{/gist_id}',\n",
       "    'starred_url': 'https://api.github.com/users/jreback/starred{/owner}{/repo}',\n",
       "    'subscriptions_url': 'https://api.github.com/users/jreback/subscriptions',\n",
       "    'organizations_url': 'https://api.github.com/users/jreback/orgs',\n",
       "    'repos_url': 'https://api.github.com/users/jreback/repos',\n",
       "    'events_url': 'https://api.github.com/users/jreback/events{/privacy}',\n",
       "    'received_events_url': 'https://api.github.com/users/jreback/received_events',\n",
       "    'type': 'User',\n",
       "    'site_admin': False},\n",
       "   'open_issues': 110,\n",
       "   'closed_issues': 1302,\n",
       "   'state': 'open',\n",
       "   'created_at': '2020-11-11T19:05:43Z',\n",
       "   'updated_at': '2021-04-01T22:47:26Z',\n",
       "   'due_on': '2021-05-31T07:00:00Z',\n",
       "   'closed_at': None},\n",
       "  'comments': 2,\n",
       "  'created_at': '2021-03-31T23:28:13Z',\n",
       "  'updated_at': '2021-04-01T23:36:30Z',\n",
       "  'closed_at': None,\n",
       "  'author_association': 'MEMBER',\n",
       "  'active_lock_reason': None,\n",
       "  'pull_request': {'url': 'https://api.github.com/repos/pandas-dev/pandas/pulls/40716',\n",
       "   'html_url': 'https://github.com/pandas-dev/pandas/pull/40716',\n",
       "   'diff_url': 'https://github.com/pandas-dev/pandas/pull/40716.diff',\n",
       "   'patch_url': 'https://github.com/pandas-dev/pandas/pull/40716.patch'},\n",
       "  'body': '- [ ] closes #xxxx\\r\\n- [ ] tests added / passed\\r\\n- [ ] Ensure all linting tests pass, see [here](https://pandas.pydata.org/pandas-docs/dev/development/contributing.html#code-standards) for how to run them\\r\\n- [ ] whatsnew entry\\r\\n',\n",
       "  'performed_via_github_app': None},\n",
       " {'url': 'https://api.github.com/repos/pandas-dev/pandas/issues/40715',\n",
       "  'repository_url': 'https://api.github.com/repos/pandas-dev/pandas',\n",
       "  'labels_url': 'https://api.github.com/repos/pandas-dev/pandas/issues/40715/labels{/name}',\n",
       "  'comments_url': 'https://api.github.com/repos/pandas-dev/pandas/issues/40715/comments',\n",
       "  'events_url': 'https://api.github.com/repos/pandas-dev/pandas/issues/40715/events',\n",
       "  'html_url': 'https://github.com/pandas-dev/pandas/pull/40715',\n",
       "  'id': 847502224,\n",
       "  'node_id': 'MDExOlB1bGxSZXF1ZXN0NjA2NTEzOTgw',\n",
       "  'number': 40715,\n",
       "  'title': 'CLN: follow-up cleanups',\n",
       "  'user': {'login': 'jbrockmendel',\n",
       "   'id': 8078968,\n",
       "   'node_id': 'MDQ6VXNlcjgwNzg5Njg=',\n",
       "   'avatar_url': 'https://avatars.githubusercontent.com/u/8078968?v=4',\n",
       "   'gravatar_id': '',\n",
       "   'url': 'https://api.github.com/users/jbrockmendel',\n",
       "   'html_url': 'https://github.com/jbrockmendel',\n",
       "   'followers_url': 'https://api.github.com/users/jbrockmendel/followers',\n",
       "   'following_url': 'https://api.github.com/users/jbrockmendel/following{/other_user}',\n",
       "   'gists_url': 'https://api.github.com/users/jbrockmendel/gists{/gist_id}',\n",
       "   'starred_url': 'https://api.github.com/users/jbrockmendel/starred{/owner}{/repo}',\n",
       "   'subscriptions_url': 'https://api.github.com/users/jbrockmendel/subscriptions',\n",
       "   'organizations_url': 'https://api.github.com/users/jbrockmendel/orgs',\n",
       "   'repos_url': 'https://api.github.com/users/jbrockmendel/repos',\n",
       "   'events_url': 'https://api.github.com/users/jbrockmendel/events{/privacy}',\n",
       "   'received_events_url': 'https://api.github.com/users/jbrockmendel/received_events',\n",
       "   'type': 'User',\n",
       "   'site_admin': False},\n",
       "  'labels': [{'id': 211029535,\n",
       "    'node_id': 'MDU6TGFiZWwyMTEwMjk1MzU=',\n",
       "    'url': 'https://api.github.com/repos/pandas-dev/pandas/labels/Clean',\n",
       "    'name': 'Clean',\n",
       "    'color': '207de5',\n",
       "    'default': False,\n",
       "    'description': None}],\n",
       "  'state': 'open',\n",
       "  'locked': False,\n",
       "  'assignee': None,\n",
       "  'assignees': [],\n",
       "  'milestone': {'url': 'https://api.github.com/repos/pandas-dev/pandas/milestones/80',\n",
       "   'html_url': 'https://github.com/pandas-dev/pandas/milestone/80',\n",
       "   'labels_url': 'https://api.github.com/repos/pandas-dev/pandas/milestones/80/labels',\n",
       "   'id': 6095818,\n",
       "   'node_id': 'MDk6TWlsZXN0b25lNjA5NTgxOA==',\n",
       "   'number': 80,\n",
       "   'title': '1.3',\n",
       "   'description': '',\n",
       "   'creator': {'login': 'jreback',\n",
       "    'id': 953992,\n",
       "    'node_id': 'MDQ6VXNlcjk1Mzk5Mg==',\n",
       "    'avatar_url': 'https://avatars.githubusercontent.com/u/953992?v=4',\n",
       "    'gravatar_id': '',\n",
       "    'url': 'https://api.github.com/users/jreback',\n",
       "    'html_url': 'https://github.com/jreback',\n",
       "    'followers_url': 'https://api.github.com/users/jreback/followers',\n",
       "    'following_url': 'https://api.github.com/users/jreback/following{/other_user}',\n",
       "    'gists_url': 'https://api.github.com/users/jreback/gists{/gist_id}',\n",
       "    'starred_url': 'https://api.github.com/users/jreback/starred{/owner}{/repo}',\n",
       "    'subscriptions_url': 'https://api.github.com/users/jreback/subscriptions',\n",
       "    'organizations_url': 'https://api.github.com/users/jreback/orgs',\n",
       "    'repos_url': 'https://api.github.com/users/jreback/repos',\n",
       "    'events_url': 'https://api.github.com/users/jreback/events{/privacy}',\n",
       "    'received_events_url': 'https://api.github.com/users/jreback/received_events',\n",
       "    'type': 'User',\n",
       "    'site_admin': False},\n",
       "   'open_issues': 110,\n",
       "   'closed_issues': 1302,\n",
       "   'state': 'open',\n",
       "   'created_at': '2020-11-11T19:05:43Z',\n",
       "   'updated_at': '2021-04-01T22:47:26Z',\n",
       "   'due_on': '2021-05-31T07:00:00Z',\n",
       "   'closed_at': None},\n",
       "  'comments': 3,\n",
       "  'created_at': '2021-03-31T23:07:12Z',\n",
       "  'updated_at': '2021-04-01T23:10:27Z',\n",
       "  'closed_at': None,\n",
       "  'author_association': 'MEMBER',\n",
       "  'active_lock_reason': None,\n",
       "  'pull_request': {'url': 'https://api.github.com/repos/pandas-dev/pandas/pulls/40715',\n",
       "   'html_url': 'https://github.com/pandas-dev/pandas/pull/40715',\n",
       "   'diff_url': 'https://github.com/pandas-dev/pandas/pull/40715.diff',\n",
       "   'patch_url': 'https://github.com/pandas-dev/pandas/pull/40715.patch'},\n",
       "  'body': '- [ ] closes #xxxx\\r\\n- [ ] tests added / passed\\r\\n- [ ] Ensure all linting tests pass, see [here](https://pandas.pydata.org/pandas-docs/dev/development/contributing.html#code-standards) for how to run them\\r\\n- [ ] whatsnew entry\\r\\n',\n",
       "  'performed_via_github_app': None},\n",
       " {'url': 'https://api.github.com/repos/pandas-dev/pandas/issues/40712',\n",
       "  'repository_url': 'https://api.github.com/repos/pandas-dev/pandas',\n",
       "  'labels_url': 'https://api.github.com/repos/pandas-dev/pandas/issues/40712/labels{/name}',\n",
       "  'comments_url': 'https://api.github.com/repos/pandas-dev/pandas/issues/40712/comments',\n",
       "  'events_url': 'https://api.github.com/repos/pandas-dev/pandas/issues/40712/events',\n",
       "  'html_url': 'https://github.com/pandas-dev/pandas/issues/40712',\n",
       "  'id': 847249740,\n",
       "  'node_id': 'MDU6SXNzdWU4NDcyNDk3NDA=',\n",
       "  'number': 40712,\n",
       "  'title': 'ENH: add dataframe render trimming in `Styler` to avoid browser crash',\n",
       "  'user': {'login': 'attack68',\n",
       "   'id': 24256554,\n",
       "   'node_id': 'MDQ6VXNlcjI0MjU2NTU0',\n",
       "   'avatar_url': 'https://avatars.githubusercontent.com/u/24256554?v=4',\n",
       "   'gravatar_id': '',\n",
       "   'url': 'https://api.github.com/users/attack68',\n",
       "   'html_url': 'https://github.com/attack68',\n",
       "   'followers_url': 'https://api.github.com/users/attack68/followers',\n",
       "   'following_url': 'https://api.github.com/users/attack68/following{/other_user}',\n",
       "   'gists_url': 'https://api.github.com/users/attack68/gists{/gist_id}',\n",
       "   'starred_url': 'https://api.github.com/users/attack68/starred{/owner}{/repo}',\n",
       "   'subscriptions_url': 'https://api.github.com/users/attack68/subscriptions',\n",
       "   'organizations_url': 'https://api.github.com/users/attack68/orgs',\n",
       "   'repos_url': 'https://api.github.com/users/attack68/repos',\n",
       "   'events_url': 'https://api.github.com/users/attack68/events{/privacy}',\n",
       "   'received_events_url': 'https://api.github.com/users/attack68/received_events',\n",
       "   'type': 'User',\n",
       "   'site_admin': False},\n",
       "  'labels': [{'id': 76811,\n",
       "    'node_id': 'MDU6TGFiZWw3NjgxMQ==',\n",
       "    'url': 'https://api.github.com/repos/pandas-dev/pandas/labels/Bug',\n",
       "    'name': 'Bug',\n",
       "    'color': 'e10c02',\n",
       "    'default': False,\n",
       "    'description': None},\n",
       "   {'id': 1728592794,\n",
       "    'node_id': 'MDU6TGFiZWwxNzI4NTkyNzk0',\n",
       "    'url': 'https://api.github.com/repos/pandas-dev/pandas/labels/Styler',\n",
       "    'name': 'Styler',\n",
       "    'color': '006b75',\n",
       "    'default': False,\n",
       "    'description': 'conditional formatting using DataFrame.style'}],\n",
       "  'state': 'open',\n",
       "  'locked': False,\n",
       "  'assignee': None,\n",
       "  'assignees': [],\n",
       "  'milestone': None,\n",
       "  'comments': 0,\n",
       "  'created_at': '2021-03-31T20:07:21Z',\n",
       "  'updated_at': '2021-04-01T06:49:20Z',\n",
       "  'closed_at': None,\n",
       "  'author_association': 'CONTRIBUTOR',\n",
       "  'active_lock_reason': None,\n",
       "  'body': '`DataFrame.to_html` has max rows and max cols to automatically trim the console or string output.\\r\\n\\r\\n`DataFrame.styler.render` does not and with large DataFrames this can potentially crash the browser of a Jupyter Notebook, or maybe a console.\\r\\n\\r\\nPersonally, I use `Styler` occasionally to quickly avoid the reasonably small max values in the former and this I would want to keep, but some tolerable, larger limit should be imposed in my opinion.',\n",
       "  'performed_via_github_app': None},\n",
       " {'url': 'https://api.github.com/repos/pandas-dev/pandas/issues/40711',\n",
       "  'repository_url': 'https://api.github.com/repos/pandas-dev/pandas',\n",
       "  'labels_url': 'https://api.github.com/repos/pandas-dev/pandas/issues/40711/labels{/name}',\n",
       "  'comments_url': 'https://api.github.com/repos/pandas-dev/pandas/issues/40711/comments',\n",
       "  'events_url': 'https://api.github.com/repos/pandas-dev/pandas/issues/40711/events',\n",
       "  'html_url': 'https://github.com/pandas-dev/pandas/pull/40711',\n",
       "  'id': 847238770,\n",
       "  'node_id': 'MDExOlB1bGxSZXF1ZXN0NjA2MjY2NDU2',\n",
       "  'number': 40711,\n",
       "  'title': 'CI: increase codecov target - append ArrayManager tests coverage',\n",
       "  'user': {'login': 'jorisvandenbossche',\n",
       "   'id': 1020496,\n",
       "   'node_id': 'MDQ6VXNlcjEwMjA0OTY=',\n",
       "   'avatar_url': 'https://avatars.githubusercontent.com/u/1020496?v=4',\n",
       "   'gravatar_id': '',\n",
       "   'url': 'https://api.github.com/users/jorisvandenbossche',\n",
       "   'html_url': 'https://github.com/jorisvandenbossche',\n",
       "   'followers_url': 'https://api.github.com/users/jorisvandenbossche/followers',\n",
       "   'following_url': 'https://api.github.com/users/jorisvandenbossche/following{/other_user}',\n",
       "   'gists_url': 'https://api.github.com/users/jorisvandenbossche/gists{/gist_id}',\n",
       "   'starred_url': 'https://api.github.com/users/jorisvandenbossche/starred{/owner}{/repo}',\n",
       "   'subscriptions_url': 'https://api.github.com/users/jorisvandenbossche/subscriptions',\n",
       "   'organizations_url': 'https://api.github.com/users/jorisvandenbossche/orgs',\n",
       "   'repos_url': 'https://api.github.com/users/jorisvandenbossche/repos',\n",
       "   'events_url': 'https://api.github.com/users/jorisvandenbossche/events{/privacy}',\n",
       "   'received_events_url': 'https://api.github.com/users/jorisvandenbossche/received_events',\n",
       "   'type': 'User',\n",
       "   'site_admin': False},\n",
       "  'labels': [{'id': 48070600,\n",
       "    'node_id': 'MDU6TGFiZWw0ODA3MDYwMA==',\n",
       "    'url': 'https://api.github.com/repos/pandas-dev/pandas/labels/CI',\n",
       "    'name': 'CI',\n",
       "    'color': 'a2bca7',\n",
       "    'default': False,\n",
       "    'description': 'Related to Continuous Integration'}],\n",
       "  'state': 'open',\n",
       "  'locked': False,\n",
       "  'assignee': None,\n",
       "  'assignees': [],\n",
       "  'milestone': None,\n",
       "  'comments': 0,\n",
       "  'created_at': '2021-03-31T19:59:57Z',\n",
       "  'updated_at': '2021-03-31T20:44:12Z',\n",
       "  'closed_at': None,\n",
       "  'author_association': 'MEMBER',\n",
       "  'active_lock_reason': None,\n",
       "  'pull_request': {'url': 'https://api.github.com/repos/pandas-dev/pandas/pulls/40711',\n",
       "   'html_url': 'https://github.com/pandas-dev/pandas/pull/40711',\n",
       "   'diff_url': 'https://github.com/pandas-dev/pandas/pull/40711.diff',\n",
       "   'patch_url': 'https://github.com/pandas-dev/pandas/pull/40711.patch'},\n",
       "  'body': 'Attempt to close #40670',\n",
       "  'performed_via_github_app': None},\n",
       " {'url': 'https://api.github.com/repos/pandas-dev/pandas/issues/40708',\n",
       "  'repository_url': 'https://api.github.com/repos/pandas-dev/pandas',\n",
       "  'labels_url': 'https://api.github.com/repos/pandas-dev/pandas/issues/40708/labels{/name}',\n",
       "  'comments_url': 'https://api.github.com/repos/pandas-dev/pandas/issues/40708/comments',\n",
       "  'events_url': 'https://api.github.com/repos/pandas-dev/pandas/issues/40708/events',\n",
       "  'html_url': 'https://github.com/pandas-dev/pandas/pull/40708',\n",
       "  'id': 847037835,\n",
       "  'node_id': 'MDExOlB1bGxSZXF1ZXN0NjA2MDgxMjgw',\n",
       "  'number': 40708,\n",
       "  'title': 'ENH: [ArrowStringArray] Enable the string methods for the arrow-backed StringArray',\n",
       "  'user': {'login': 'simonjayhawkins',\n",
       "   'id': 13159005,\n",
       "   'node_id': 'MDQ6VXNlcjEzMTU5MDA1',\n",
       "   'avatar_url': 'https://avatars.githubusercontent.com/u/13159005?v=4',\n",
       "   'gravatar_id': '',\n",
       "   'url': 'https://api.github.com/users/simonjayhawkins',\n",
       "   'html_url': 'https://github.com/simonjayhawkins',\n",
       "   'followers_url': 'https://api.github.com/users/simonjayhawkins/followers',\n",
       "   'following_url': 'https://api.github.com/users/simonjayhawkins/following{/other_user}',\n",
       "   'gists_url': 'https://api.github.com/users/simonjayhawkins/gists{/gist_id}',\n",
       "   'starred_url': 'https://api.github.com/users/simonjayhawkins/starred{/owner}{/repo}',\n",
       "   'subscriptions_url': 'https://api.github.com/users/simonjayhawkins/subscriptions',\n",
       "   'organizations_url': 'https://api.github.com/users/simonjayhawkins/orgs',\n",
       "   'repos_url': 'https://api.github.com/users/simonjayhawkins/repos',\n",
       "   'events_url': 'https://api.github.com/users/simonjayhawkins/events{/privacy}',\n",
       "   'received_events_url': 'https://api.github.com/users/simonjayhawkins/received_events',\n",
       "   'type': 'User',\n",
       "   'site_admin': False},\n",
       "  'labels': [{'id': 76812,\n",
       "    'node_id': 'MDU6TGFiZWw3NjgxMg==',\n",
       "    'url': 'https://api.github.com/repos/pandas-dev/pandas/labels/Enhancement',\n",
       "    'name': 'Enhancement',\n",
       "    'color': '4E9A06',\n",
       "    'default': False,\n",
       "    'description': None},\n",
       "   {'id': 57522093,\n",
       "    'node_id': 'MDU6TGFiZWw1NzUyMjA5Mw==',\n",
       "    'url': 'https://api.github.com/repos/pandas-dev/pandas/labels/Strings',\n",
       "    'name': 'Strings',\n",
       "    'color': '5319e7',\n",
       "    'default': False,\n",
       "    'description': 'String extension data type and string data'}],\n",
       "  'state': 'open',\n",
       "  'locked': False,\n",
       "  'assignee': None,\n",
       "  'assignees': [],\n",
       "  'milestone': {'url': 'https://api.github.com/repos/pandas-dev/pandas/milestones/80',\n",
       "   'html_url': 'https://github.com/pandas-dev/pandas/milestone/80',\n",
       "   'labels_url': 'https://api.github.com/repos/pandas-dev/pandas/milestones/80/labels',\n",
       "   'id': 6095818,\n",
       "   'node_id': 'MDk6TWlsZXN0b25lNjA5NTgxOA==',\n",
       "   'number': 80,\n",
       "   'title': '1.3',\n",
       "   'description': '',\n",
       "   'creator': {'login': 'jreback',\n",
       "    'id': 953992,\n",
       "    'node_id': 'MDQ6VXNlcjk1Mzk5Mg==',\n",
       "    'avatar_url': 'https://avatars.githubusercontent.com/u/953992?v=4',\n",
       "    'gravatar_id': '',\n",
       "    'url': 'https://api.github.com/users/jreback',\n",
       "    'html_url': 'https://github.com/jreback',\n",
       "    'followers_url': 'https://api.github.com/users/jreback/followers',\n",
       "    'following_url': 'https://api.github.com/users/jreback/following{/other_user}',\n",
       "    'gists_url': 'https://api.github.com/users/jreback/gists{/gist_id}',\n",
       "    'starred_url': 'https://api.github.com/users/jreback/starred{/owner}{/repo}',\n",
       "    'subscriptions_url': 'https://api.github.com/users/jreback/subscriptions',\n",
       "    'organizations_url': 'https://api.github.com/users/jreback/orgs',\n",
       "    'repos_url': 'https://api.github.com/users/jreback/repos',\n",
       "    'events_url': 'https://api.github.com/users/jreback/events{/privacy}',\n",
       "    'received_events_url': 'https://api.github.com/users/jreback/received_events',\n",
       "    'type': 'User',\n",
       "    'site_admin': False},\n",
       "   'open_issues': 110,\n",
       "   'closed_issues': 1302,\n",
       "   'state': 'open',\n",
       "   'created_at': '2020-11-11T19:05:43Z',\n",
       "   'updated_at': '2021-04-01T22:47:26Z',\n",
       "   'due_on': '2021-05-31T07:00:00Z',\n",
       "   'closed_at': None},\n",
       "  'comments': 0,\n",
       "  'created_at': '2021-03-31T17:47:30Z',\n",
       "  'updated_at': '2021-04-01T15:39:46Z',\n",
       "  'closed_at': None,\n",
       "  'author_association': 'MEMBER',\n",
       "  'active_lock_reason': None,\n",
       "  'pull_request': {'url': 'https://api.github.com/repos/pandas-dev/pandas/pulls/40708',\n",
       "   'html_url': 'https://github.com/pandas-dev/pandas/pull/40708',\n",
       "   'diff_url': 'https://github.com/pandas-dev/pandas/pull/40708.diff',\n",
       "   'patch_url': 'https://github.com/pandas-dev/pandas/pull/40708.patch'},\n",
       "  'body': 'from https://github.com/pandas-dev/pandas/issues/35169#issuecomment-712883859\\r\\n\\r\\n> Enable the string methods for the arrow-backed StringArray. This might also need some additional changes in the string accessor code (eg to dispatch extract to the underlying array as well)\\r\\n\\r\\n',\n",
       "  'performed_via_github_app': None},\n",
       " {'url': 'https://api.github.com/repos/pandas-dev/pandas/issues/40707',\n",
       "  'repository_url': 'https://api.github.com/repos/pandas-dev/pandas',\n",
       "  'labels_url': 'https://api.github.com/repos/pandas-dev/pandas/issues/40707/labels{/name}',\n",
       "  'comments_url': 'https://api.github.com/repos/pandas-dev/pandas/issues/40707/comments',\n",
       "  'events_url': 'https://api.github.com/repos/pandas-dev/pandas/issues/40707/events',\n",
       "  'html_url': 'https://github.com/pandas-dev/pandas/pull/40707',\n",
       "  'id': 846968780,\n",
       "  'node_id': 'MDExOlB1bGxSZXF1ZXN0NjA2MDE3NjE5',\n",
       "  'number': 40707,\n",
       "  'title': 'TYP/DOC: _libs',\n",
       "  'user': {'login': 'jbrockmendel',\n",
       "   'id': 8078968,\n",
       "   'node_id': 'MDQ6VXNlcjgwNzg5Njg=',\n",
       "   'avatar_url': 'https://avatars.githubusercontent.com/u/8078968?v=4',\n",
       "   'gravatar_id': '',\n",
       "   'url': 'https://api.github.com/users/jbrockmendel',\n",
       "   'html_url': 'https://github.com/jbrockmendel',\n",
       "   'followers_url': 'https://api.github.com/users/jbrockmendel/followers',\n",
       "   'following_url': 'https://api.github.com/users/jbrockmendel/following{/other_user}',\n",
       "   'gists_url': 'https://api.github.com/users/jbrockmendel/gists{/gist_id}',\n",
       "   'starred_url': 'https://api.github.com/users/jbrockmendel/starred{/owner}{/repo}',\n",
       "   'subscriptions_url': 'https://api.github.com/users/jbrockmendel/subscriptions',\n",
       "   'organizations_url': 'https://api.github.com/users/jbrockmendel/orgs',\n",
       "   'repos_url': 'https://api.github.com/users/jbrockmendel/repos',\n",
       "   'events_url': 'https://api.github.com/users/jbrockmendel/events{/privacy}',\n",
       "   'received_events_url': 'https://api.github.com/users/jbrockmendel/received_events',\n",
       "   'type': 'User',\n",
       "   'site_admin': False},\n",
       "  'labels': [],\n",
       "  'state': 'open',\n",
       "  'locked': False,\n",
       "  'assignee': None,\n",
       "  'assignees': [],\n",
       "  'milestone': None,\n",
       "  'comments': 0,\n",
       "  'created_at': '2021-03-31T16:59:27Z',\n",
       "  'updated_at': '2021-04-01T23:34:00Z',\n",
       "  'closed_at': None,\n",
       "  'author_association': 'MEMBER',\n",
       "  'active_lock_reason': None,\n",
       "  'pull_request': {'url': 'https://api.github.com/repos/pandas-dev/pandas/pulls/40707',\n",
       "   'html_url': 'https://github.com/pandas-dev/pandas/pull/40707',\n",
       "   'diff_url': 'https://github.com/pandas-dev/pandas/pull/40707.diff',\n",
       "   'patch_url': 'https://github.com/pandas-dev/pandas/pull/40707.patch'},\n",
       "  'body': 'These are scattered, but trying to keep it limited to really obvious annotations',\n",
       "  'performed_via_github_app': None},\n",
       " {'url': 'https://api.github.com/repos/pandas-dev/pandas/issues/40706',\n",
       "  'repository_url': 'https://api.github.com/repos/pandas-dev/pandas',\n",
       "  'labels_url': 'https://api.github.com/repos/pandas-dev/pandas/issues/40706/labels{/name}',\n",
       "  'comments_url': 'https://api.github.com/repos/pandas-dev/pandas/issues/40706/comments',\n",
       "  'events_url': 'https://api.github.com/repos/pandas-dev/pandas/issues/40706/events',\n",
       "  'html_url': 'https://github.com/pandas-dev/pandas/pull/40706',\n",
       "  'id': 846878142,\n",
       "  'node_id': 'MDExOlB1bGxSZXF1ZXN0NjA1OTM5MzI3',\n",
       "  'number': 40706,\n",
       "  'title': 'Fix libpthread not found during local installation',\n",
       "  'user': {'login': 'cgarciae',\n",
       "   'id': 5862228,\n",
       "   'node_id': 'MDQ6VXNlcjU4NjIyMjg=',\n",
       "   'avatar_url': 'https://avatars.githubusercontent.com/u/5862228?v=4',\n",
       "   'gravatar_id': '',\n",
       "   'url': 'https://api.github.com/users/cgarciae',\n",
       "   'html_url': 'https://github.com/cgarciae',\n",
       "   'followers_url': 'https://api.github.com/users/cgarciae/followers',\n",
       "   'following_url': 'https://api.github.com/users/cgarciae/following{/other_user}',\n",
       "   'gists_url': 'https://api.github.com/users/cgarciae/gists{/gist_id}',\n",
       "   'starred_url': 'https://api.github.com/users/cgarciae/starred{/owner}{/repo}',\n",
       "   'subscriptions_url': 'https://api.github.com/users/cgarciae/subscriptions',\n",
       "   'organizations_url': 'https://api.github.com/users/cgarciae/orgs',\n",
       "   'repos_url': 'https://api.github.com/users/cgarciae/repos',\n",
       "   'events_url': 'https://api.github.com/users/cgarciae/events{/privacy}',\n",
       "   'received_events_url': 'https://api.github.com/users/cgarciae/received_events',\n",
       "   'type': 'User',\n",
       "   'site_admin': False},\n",
       "  'labels': [{'id': 129350,\n",
       "    'node_id': 'MDU6TGFiZWwxMjkzNTA=',\n",
       "    'url': 'https://api.github.com/repos/pandas-dev/pandas/labels/Build',\n",
       "    'name': 'Build',\n",
       "    'color': '75507B',\n",
       "    'default': False,\n",
       "    'description': 'Library building on various platforms'}],\n",
       "  'state': 'open',\n",
       "  'locked': False,\n",
       "  'assignee': None,\n",
       "  'assignees': [],\n",
       "  'milestone': None,\n",
       "  'comments': 4,\n",
       "  'created_at': '2021-03-31T15:39:18Z',\n",
       "  'updated_at': '2021-04-01T16:05:05Z',\n",
       "  'closed_at': None,\n",
       "  'author_association': 'NONE',\n",
       "  'active_lock_reason': None,\n",
       "  'pull_request': {'url': 'https://api.github.com/repos/pandas-dev/pandas/pulls/40706',\n",
       "   'html_url': 'https://github.com/pandas-dev/pandas/pull/40706',\n",
       "   'diff_url': 'https://github.com/pandas-dev/pandas/pull/40706.diff',\n",
       "   'patch_url': 'https://github.com/pandas-dev/pandas/pull/40706.patch'},\n",
       "  'body': 'Hey! This is my first PR, I am getting to know the code base and found this as I was doing the local setup.\\r\\n\\r\\n- [x] Ensure all linting tests pass, see [here](https://pandas.pydata.org/pandas-docs/dev/development/contributing.html#code-standards) for how to run them\\r\\n\\r\\nI was installing the development environment and it was failing due to:\\r\\n> /home/cristian/miniforge3/envs/pandas-dev/compiler_compat/ld: cannot find /lib64/libpthread.so.0\\r\\n/home/cristian/miniforge3/envs/pandas-dev/compiler_compat/ld: cannot find /usr/lib64/libpthread_nonshared.a\\r\\n\\r\\nThis also happens in the Docker container under some conditions (creating a new env).\\r\\n\\r\\nSteps followed:\\r\\n```bash\\r\\nmamba env create -f environment.yml  \\r\\nconda activate pandas-dev\\r\\n\\r\\npython setup.py build_ext -j 4 # <-- ERROR HERE\\r\\npython -m pip install -e . --no-build-isolation --no-use-pep517\\r\\n```\\r\\n\\r\\nAdding a `extra_link_args.append(\"-L/usr/lib/x86_64-linux-gnu/\")` fixed the issue on Ubuntu 20.04. ',\n",
       "  'performed_via_github_app': None},\n",
       " {'url': 'https://api.github.com/repos/pandas-dev/pandas/issues/40705',\n",
       "  'repository_url': 'https://api.github.com/repos/pandas-dev/pandas',\n",
       "  'labels_url': 'https://api.github.com/repos/pandas-dev/pandas/issues/40705/labels{/name}',\n",
       "  'comments_url': 'https://api.github.com/repos/pandas-dev/pandas/issues/40705/comments',\n",
       "  'events_url': 'https://api.github.com/repos/pandas-dev/pandas/issues/40705/events',\n",
       "  'html_url': 'https://github.com/pandas-dev/pandas/issues/40705',\n",
       "  'id': 846805072,\n",
       "  'node_id': 'MDU6SXNzdWU4NDY4MDUwNzI=',\n",
       "  'number': 40705,\n",
       "  'title': 'BUG: Incorrect timedelta with tz_localize and nonexistent times',\n",
       "  'user': {'login': 'katbot99',\n",
       "   'id': 31888611,\n",
       "   'node_id': 'MDQ6VXNlcjMxODg4NjEx',\n",
       "   'avatar_url': 'https://avatars.githubusercontent.com/u/31888611?v=4',\n",
       "   'gravatar_id': '',\n",
       "   'url': 'https://api.github.com/users/katbot99',\n",
       "   'html_url': 'https://github.com/katbot99',\n",
       "   'followers_url': 'https://api.github.com/users/katbot99/followers',\n",
       "   'following_url': 'https://api.github.com/users/katbot99/following{/other_user}',\n",
       "   'gists_url': 'https://api.github.com/users/katbot99/gists{/gist_id}',\n",
       "   'starred_url': 'https://api.github.com/users/katbot99/starred{/owner}{/repo}',\n",
       "   'subscriptions_url': 'https://api.github.com/users/katbot99/subscriptions',\n",
       "   'organizations_url': 'https://api.github.com/users/katbot99/orgs',\n",
       "   'repos_url': 'https://api.github.com/users/katbot99/repos',\n",
       "   'events_url': 'https://api.github.com/users/katbot99/events{/privacy}',\n",
       "   'received_events_url': 'https://api.github.com/users/katbot99/received_events',\n",
       "   'type': 'User',\n",
       "   'site_admin': False},\n",
       "  'labels': [{'id': 76811,\n",
       "    'node_id': 'MDU6TGFiZWw3NjgxMQ==',\n",
       "    'url': 'https://api.github.com/repos/pandas-dev/pandas/labels/Bug',\n",
       "    'name': 'Bug',\n",
       "    'color': 'e10c02',\n",
       "    'default': False,\n",
       "    'description': None},\n",
       "   {'id': 1954720290,\n",
       "    'node_id': 'MDU6TGFiZWwxOTU0NzIwMjkw',\n",
       "    'url': 'https://api.github.com/repos/pandas-dev/pandas/labels/Needs%20Triage',\n",
       "    'name': 'Needs Triage',\n",
       "    'color': '0052cc',\n",
       "    'default': False,\n",
       "    'description': 'Issue that has not been reviewed by a pandas team member'}],\n",
       "  'state': 'open',\n",
       "  'locked': False,\n",
       "  'assignee': None,\n",
       "  'assignees': [],\n",
       "  'milestone': None,\n",
       "  'comments': 0,\n",
       "  'created_at': '2021-03-31T14:48:26Z',\n",
       "  'updated_at': '2021-03-31T14:48:26Z',\n",
       "  'closed_at': None,\n",
       "  'author_association': 'NONE',\n",
       "  'active_lock_reason': None,\n",
       "  'body': \"- [x] I have checked that this issue has not already been reported.\\r\\n\\r\\n- [x] I have confirmed this bug exists on the latest version of pandas.\\r\\n\\r\\n- [ ] (optional) I have confirmed this bug exists on the master branch of pandas.\\r\\n\\r\\n---\\r\\n\\r\\n#### Code Sample, a copy-pastable example\\r\\n\\r\\n```python\\r\\ns = pd.Series(range(2),\\r\\n              index=pd.DatetimeIndex(['2021-03-28 01:30:00',\\r\\n                                      '2021-03-28 02:30:00']))\\r\\ns.tz_localize('Europe/London', nonexistent=pd.Timedelta('1H'))\\r\\n```\\r\\n```python\\r\\n2021-03-28 03:30:00+01:00    0\\r\\n2021-03-28 02:30:00+01:00    1\\r\\ndtype: int64\\r\\n```\\r\\n#### Problem description\\r\\n\\r\\nUsing Timedelta with the `nonexistent` flag with `tz_localize` is adding 2 hours instead of 1 hour for nonexistent times in 'Europe/London' tz. DST started on 2021-03-28 when 59:59 > 02:00 so '2021-03-28 01:30:00' is nonexistent. When I run almost the same code from the docs with 'Europe/Warsaw' the bug does not occur:\\r\\n\\r\\n```python\\r\\ns = pd.Series(range(2),\\r\\n              index=pd.DatetimeIndex(['2021-03-28 02:30:00',\\r\\n                                      '2021-03-28 03:30:00']))\\r\\ns.tz_localize('Europe/Warsaw', nonexistent=pd.Timedelta('1H'))\\r\\n```\\r\\n```python\\r\\n2021-03-28 03:30:00+02:00    0\\r\\n2021-03-28 03:30:00+02:00    1\\r\\ndtype: int64\\r\\n```\\r\\n\\r\\n#### Expected Output\\r\\n```python\\r\\n2021-03-28 02:30:00+01:00    0\\r\\n2021-03-28 02:30:00+01:00    1\\r\\ndtype: int64\\r\\n```\\r\\n\\r\\n#### Output of ``pd.show_versions()``\\r\\n\\r\\n<details>\\r\\n\\r\\nINSTALLED VERSIONS\\r\\n------------------\\r\\ncommit           : f2c8480af2f25efdbd803218b9d87980f416563e\\r\\npython           : 3.8.7.final.0\\r\\npython-bits      : 64\\r\\nOS               : Windows\\r\\nOS-release       : 10\\r\\nVersion          : 10.0.18362\\r\\nmachine          : AMD64\\r\\nprocessor        : Intel64 Family 6 Model 158 Stepping 9, GenuineIntel\\r\\nbyteorder        : little\\r\\nLC_ALL           : None\\r\\nLANG             : None\\r\\nLOCALE           : English_United Kingdom.1252\\r\\n\\r\\npandas           : 1.2.3\\r\\nnumpy            : 1.19.5\\r\\npytz             : 2020.5\\r\\ndateutil         : 2.8.1\\r\\npip              : 20.3.3\\r\\nsetuptools       : 51.1.2\\r\\nCython           : None\\r\\npytest           : None\\r\\nhypothesis       : None\\r\\nsphinx           : None\\r\\nblosc            : None\\r\\nfeather          : None\\r\\nxlsxwriter       : None\\r\\nlxml.etree       : None\\r\\nhtml5lib         : None\\r\\npymysql          : None\\r\\npsycopg2         : None\\r\\njinja2           : 2.11.2\\r\\nIPython          : 7.19.0\\r\\npandas_datareader: None\\r\\nbs4              : None\\r\\nbottleneck       : None\\r\\nfsspec           : None\\r\\nfastparquet      : None\\r\\ngcsfs            : None\\r\\nmatplotlib       : None\\r\\nnumexpr          : None\\r\\nodfpy            : None\\r\\nopenpyxl         : 3.0.6\\r\\npandas_gbq       : None\\r\\npyarrow          : 2.0.0\\r\\npyxlsb           : None\\r\\ns3fs             : None\\r\\nscipy            : None\\r\\nsqlalchemy       : None\\r\\ntables           : None\\r\\ntabulate         : None\\r\\nxarray           : None\\r\\nxlrd             : None\\r\\nxlwt             : None\\r\\nnumba            : None\\r\\n\\r\\n</details>\\r\\n\",\n",
       "  'performed_via_github_app': None},\n",
       " {'url': 'https://api.github.com/repos/pandas-dev/pandas/issues/40702',\n",
       "  'repository_url': 'https://api.github.com/repos/pandas-dev/pandas',\n",
       "  'labels_url': 'https://api.github.com/repos/pandas-dev/pandas/issues/40702/labels{/name}',\n",
       "  'comments_url': 'https://api.github.com/repos/pandas-dev/pandas/issues/40702/comments',\n",
       "  'events_url': 'https://api.github.com/repos/pandas-dev/pandas/issues/40702/events',\n",
       "  'html_url': 'https://github.com/pandas-dev/pandas/issues/40702',\n",
       "  'id': 846035711,\n",
       "  'node_id': 'MDU6SXNzdWU4NDYwMzU3MTE=',\n",
       "  'number': 40702,\n",
       "  'title': 'ENH: Having rolling accepts pd.IntervalIndex on a sorted datetime column',\n",
       "  'user': {'login': 'yohplala',\n",
       "   'id': 13206058,\n",
       "   'node_id': 'MDQ6VXNlcjEzMjA2MDU4',\n",
       "   'avatar_url': 'https://avatars.githubusercontent.com/u/13206058?v=4',\n",
       "   'gravatar_id': '',\n",
       "   'url': 'https://api.github.com/users/yohplala',\n",
       "   'html_url': 'https://github.com/yohplala',\n",
       "   'followers_url': 'https://api.github.com/users/yohplala/followers',\n",
       "   'following_url': 'https://api.github.com/users/yohplala/following{/other_user}',\n",
       "   'gists_url': 'https://api.github.com/users/yohplala/gists{/gist_id}',\n",
       "   'starred_url': 'https://api.github.com/users/yohplala/starred{/owner}{/repo}',\n",
       "   'subscriptions_url': 'https://api.github.com/users/yohplala/subscriptions',\n",
       "   'organizations_url': 'https://api.github.com/users/yohplala/orgs',\n",
       "   'repos_url': 'https://api.github.com/users/yohplala/repos',\n",
       "   'events_url': 'https://api.github.com/users/yohplala/events{/privacy}',\n",
       "   'received_events_url': 'https://api.github.com/users/yohplala/received_events',\n",
       "   'type': 'User',\n",
       "   'site_admin': False},\n",
       "  'labels': [{'id': 76812,\n",
       "    'node_id': 'MDU6TGFiZWw3NjgxMg==',\n",
       "    'url': 'https://api.github.com/repos/pandas-dev/pandas/labels/Enhancement',\n",
       "    'name': 'Enhancement',\n",
       "    'color': '4E9A06',\n",
       "    'default': False,\n",
       "    'description': None},\n",
       "   {'id': 1045950827,\n",
       "    'node_id': 'MDU6TGFiZWwxMDQ1OTUwODI3',\n",
       "    'url': 'https://api.github.com/repos/pandas-dev/pandas/labels/Window',\n",
       "    'name': 'Window',\n",
       "    'color': 'd4c5f9',\n",
       "    'default': False,\n",
       "    'description': 'rolling, ewma, expanding'}],\n",
       "  'state': 'open',\n",
       "  'locked': False,\n",
       "  'assignee': None,\n",
       "  'assignees': [],\n",
       "  'milestone': None,\n",
       "  'comments': 0,\n",
       "  'created_at': '2021-03-31T06:57:23Z',\n",
       "  'updated_at': '2021-03-31T20:01:43Z',\n",
       "  'closed_at': None,\n",
       "  'author_association': 'NONE',\n",
       "  'active_lock_reason': None,\n",
       "  'body': \"#### Describe the solution you'd like\\r\\n\\r\\nIt is currently possible to define custom window rolling as explained in [documentation](https://pandas.pydata.org/pandas-docs/stable/user_guide/window.html#custom-window-rolling).\\r\\n\\r\\nIt is required to subclass `BaseIndexer` and define ones' own `get_window_bounds`.\\r\\n\\r\\nIn case windows' bounds are defined by timestamps, pandas already provide a nice API to define them as `pd.IntervalIndex`.\\r\\n\\r\\nRequested feature is to have rolling accepting `pd.IntervalIndex` in `window` parameter, that would be used in combination with `on` parameter to define the datetime-like column (already the case apparently)\\r\\n\\r\\n#### API breaking implications\\r\\n\\r\\n`window` parameter accepts `pd.IntervalIndex`\\r\\n\\r\\n#### Additional context\\r\\n\\r\\nThis operation could be managed by use of `pd.IntervalIndex` and `pd.cut` but this combination does not take advantage that:\\r\\n- intervals are sorted and non overlapping\\r\\n- datetime-like column is sorted\\r\\nwhich allows then to go through the DataFrame only once, managing each intervals one after the other.\\r\\n\\r\\nI think that rolling naturally does.\",\n",
       "  'performed_via_github_app': None},\n",
       " {'url': 'https://api.github.com/repos/pandas-dev/pandas/issues/40701',\n",
       "  'repository_url': 'https://api.github.com/repos/pandas-dev/pandas',\n",
       "  'labels_url': 'https://api.github.com/repos/pandas-dev/pandas/issues/40701/labels{/name}',\n",
       "  'comments_url': 'https://api.github.com/repos/pandas-dev/pandas/issues/40701/comments',\n",
       "  'events_url': 'https://api.github.com/repos/pandas-dev/pandas/issues/40701/events',\n",
       "  'html_url': 'https://github.com/pandas-dev/pandas/pull/40701',\n",
       "  'id': 845993291,\n",
       "  'node_id': 'MDExOlB1bGxSZXF1ZXN0NjA1MTIyNDg5',\n",
       "  'number': 40701,\n",
       "  'title': 'BUG: RollingGroupby MultiIndex levels dropped',\n",
       "  'user': {'login': 'mroeschke',\n",
       "   'id': 10647082,\n",
       "   'node_id': 'MDQ6VXNlcjEwNjQ3MDgy',\n",
       "   'avatar_url': 'https://avatars.githubusercontent.com/u/10647082?v=4',\n",
       "   'gravatar_id': '',\n",
       "   'url': 'https://api.github.com/users/mroeschke',\n",
       "   'html_url': 'https://github.com/mroeschke',\n",
       "   'followers_url': 'https://api.github.com/users/mroeschke/followers',\n",
       "   'following_url': 'https://api.github.com/users/mroeschke/following{/other_user}',\n",
       "   'gists_url': 'https://api.github.com/users/mroeschke/gists{/gist_id}',\n",
       "   'starred_url': 'https://api.github.com/users/mroeschke/starred{/owner}{/repo}',\n",
       "   'subscriptions_url': 'https://api.github.com/users/mroeschke/subscriptions',\n",
       "   'organizations_url': 'https://api.github.com/users/mroeschke/orgs',\n",
       "   'repos_url': 'https://api.github.com/users/mroeschke/repos',\n",
       "   'events_url': 'https://api.github.com/users/mroeschke/events{/privacy}',\n",
       "   'received_events_url': 'https://api.github.com/users/mroeschke/received_events',\n",
       "   'type': 'User',\n",
       "   'site_admin': False},\n",
       "  'labels': [{'id': 76811,\n",
       "    'node_id': 'MDU6TGFiZWw3NjgxMQ==',\n",
       "    'url': 'https://api.github.com/repos/pandas-dev/pandas/labels/Bug',\n",
       "    'name': 'Bug',\n",
       "    'color': 'e10c02',\n",
       "    'default': False,\n",
       "    'description': None},\n",
       "   {'id': 71268330,\n",
       "    'node_id': 'MDU6TGFiZWw3MTI2ODMzMA==',\n",
       "    'url': 'https://api.github.com/repos/pandas-dev/pandas/labels/MultiIndex',\n",
       "    'name': 'MultiIndex',\n",
       "    'color': '207de5',\n",
       "    'default': False,\n",
       "    'description': None},\n",
       "   {'id': 1045950827,\n",
       "    'node_id': 'MDU6TGFiZWwxMDQ1OTUwODI3',\n",
       "    'url': 'https://api.github.com/repos/pandas-dev/pandas/labels/Window',\n",
       "    'name': 'Window',\n",
       "    'color': 'd4c5f9',\n",
       "    'default': False,\n",
       "    'description': 'rolling, ewma, expanding'}],\n",
       "  'state': 'open',\n",
       "  'locked': False,\n",
       "  'assignee': None,\n",
       "  'assignees': [],\n",
       "  'milestone': {'url': 'https://api.github.com/repos/pandas-dev/pandas/milestones/80',\n",
       "   'html_url': 'https://github.com/pandas-dev/pandas/milestone/80',\n",
       "   'labels_url': 'https://api.github.com/repos/pandas-dev/pandas/milestones/80/labels',\n",
       "   'id': 6095818,\n",
       "   'node_id': 'MDk6TWlsZXN0b25lNjA5NTgxOA==',\n",
       "   'number': 80,\n",
       "   'title': '1.3',\n",
       "   'description': '',\n",
       "   'creator': {'login': 'jreback',\n",
       "    'id': 953992,\n",
       "    'node_id': 'MDQ6VXNlcjk1Mzk5Mg==',\n",
       "    'avatar_url': 'https://avatars.githubusercontent.com/u/953992?v=4',\n",
       "    'gravatar_id': '',\n",
       "    'url': 'https://api.github.com/users/jreback',\n",
       "    'html_url': 'https://github.com/jreback',\n",
       "    'followers_url': 'https://api.github.com/users/jreback/followers',\n",
       "    'following_url': 'https://api.github.com/users/jreback/following{/other_user}',\n",
       "    'gists_url': 'https://api.github.com/users/jreback/gists{/gist_id}',\n",
       "    'starred_url': 'https://api.github.com/users/jreback/starred{/owner}{/repo}',\n",
       "    'subscriptions_url': 'https://api.github.com/users/jreback/subscriptions',\n",
       "    'organizations_url': 'https://api.github.com/users/jreback/orgs',\n",
       "    'repos_url': 'https://api.github.com/users/jreback/repos',\n",
       "    'events_url': 'https://api.github.com/users/jreback/events{/privacy}',\n",
       "    'received_events_url': 'https://api.github.com/users/jreback/received_events',\n",
       "    'type': 'User',\n",
       "    'site_admin': False},\n",
       "   'open_issues': 110,\n",
       "   'closed_issues': 1302,\n",
       "   'state': 'open',\n",
       "   'created_at': '2020-11-11T19:05:43Z',\n",
       "   'updated_at': '2021-04-01T22:47:26Z',\n",
       "   'due_on': '2021-05-31T07:00:00Z',\n",
       "   'closed_at': None},\n",
       "  'comments': 0,\n",
       "  'created_at': '2021-03-31T06:28:03Z',\n",
       "  'updated_at': '2021-04-01T20:27:54Z',\n",
       "  'closed_at': None,\n",
       "  'author_association': 'MEMBER',\n",
       "  'active_lock_reason': None,\n",
       "  'pull_request': {'url': 'https://api.github.com/repos/pandas-dev/pandas/pulls/40701',\n",
       "   'html_url': 'https://github.com/pandas-dev/pandas/pull/40701',\n",
       "   'diff_url': 'https://github.com/pandas-dev/pandas/pull/40701.diff',\n",
       "   'patch_url': 'https://github.com/pandas-dev/pandas/pull/40701.patch'},\n",
       "  'body': '- [x] closes #38523 \\r\\n- [x] closes #38787\\r\\n- [x] tests added / passed\\r\\n- [x] Ensure all linting tests pass, see [here](https://pandas.pydata.org/pandas-docs/dev/development/contributing.html#code-standards) for how to run them\\r\\n- [x] whatsnew entry\\r\\n\\r\\nEssentially https://github.com/pandas-dev/pandas/pull/38737 but targeted for 1.3 as it appears that the current behavior is largely unexpected',\n",
       "  'performed_via_github_app': None},\n",
       " {'url': 'https://api.github.com/repos/pandas-dev/pandas/issues/40696',\n",
       "  'repository_url': 'https://api.github.com/repos/pandas-dev/pandas',\n",
       "  'labels_url': 'https://api.github.com/repos/pandas-dev/pandas/issues/40696/labels{/name}',\n",
       "  'comments_url': 'https://api.github.com/repos/pandas-dev/pandas/issues/40696/comments',\n",
       "  'events_url': 'https://api.github.com/repos/pandas-dev/pandas/issues/40696/events',\n",
       "  'html_url': 'https://github.com/pandas-dev/pandas/pull/40696',\n",
       "  'id': 845246921,\n",
       "  'node_id': 'MDExOlB1bGxSZXF1ZXN0NjA0NDI0NTk4',\n",
       "  'number': 40696,\n",
       "  'title': 'CI: unpin pymysql, sync min version, and skip failing test',\n",
       "  'user': {'login': 'fangchenli',\n",
       "   'id': 7614606,\n",
       "   'node_id': 'MDQ6VXNlcjc2MTQ2MDY=',\n",
       "   'avatar_url': 'https://avatars.githubusercontent.com/u/7614606?v=4',\n",
       "   'gravatar_id': '',\n",
       "   'url': 'https://api.github.com/users/fangchenli',\n",
       "   'html_url': 'https://github.com/fangchenli',\n",
       "   'followers_url': 'https://api.github.com/users/fangchenli/followers',\n",
       "   'following_url': 'https://api.github.com/users/fangchenli/following{/other_user}',\n",
       "   'gists_url': 'https://api.github.com/users/fangchenli/gists{/gist_id}',\n",
       "   'starred_url': 'https://api.github.com/users/fangchenli/starred{/owner}{/repo}',\n",
       "   'subscriptions_url': 'https://api.github.com/users/fangchenli/subscriptions',\n",
       "   'organizations_url': 'https://api.github.com/users/fangchenli/orgs',\n",
       "   'repos_url': 'https://api.github.com/users/fangchenli/repos',\n",
       "   'events_url': 'https://api.github.com/users/fangchenli/events{/privacy}',\n",
       "   'received_events_url': 'https://api.github.com/users/fangchenli/received_events',\n",
       "   'type': 'User',\n",
       "   'site_admin': False},\n",
       "  'labels': [{'id': 47232590,\n",
       "    'node_id': 'MDU6TGFiZWw0NzIzMjU5MA==',\n",
       "    'url': 'https://api.github.com/repos/pandas-dev/pandas/labels/IO%20SQL',\n",
       "    'name': 'IO SQL',\n",
       "    'color': '5319e7',\n",
       "    'default': False,\n",
       "    'description': 'to_sql, read_sql, read_sql_query'}],\n",
       "  'state': 'open',\n",
       "  'locked': False,\n",
       "  'assignee': None,\n",
       "  'assignees': [],\n",
       "  'milestone': {'url': 'https://api.github.com/repos/pandas-dev/pandas/milestones/80',\n",
       "   'html_url': 'https://github.com/pandas-dev/pandas/milestone/80',\n",
       "   'labels_url': 'https://api.github.com/repos/pandas-dev/pandas/milestones/80/labels',\n",
       "   'id': 6095818,\n",
       "   'node_id': 'MDk6TWlsZXN0b25lNjA5NTgxOA==',\n",
       "   'number': 80,\n",
       "   'title': '1.3',\n",
       "   'description': '',\n",
       "   'creator': {'login': 'jreback',\n",
       "    'id': 953992,\n",
       "    'node_id': 'MDQ6VXNlcjk1Mzk5Mg==',\n",
       "    'avatar_url': 'https://avatars.githubusercontent.com/u/953992?v=4',\n",
       "    'gravatar_id': '',\n",
       "    'url': 'https://api.github.com/users/jreback',\n",
       "    'html_url': 'https://github.com/jreback',\n",
       "    'followers_url': 'https://api.github.com/users/jreback/followers',\n",
       "    'following_url': 'https://api.github.com/users/jreback/following{/other_user}',\n",
       "    'gists_url': 'https://api.github.com/users/jreback/gists{/gist_id}',\n",
       "    'starred_url': 'https://api.github.com/users/jreback/starred{/owner}{/repo}',\n",
       "    'subscriptions_url': 'https://api.github.com/users/jreback/subscriptions',\n",
       "    'organizations_url': 'https://api.github.com/users/jreback/orgs',\n",
       "    'repos_url': 'https://api.github.com/users/jreback/repos',\n",
       "    'events_url': 'https://api.github.com/users/jreback/events{/privacy}',\n",
       "    'received_events_url': 'https://api.github.com/users/jreback/received_events',\n",
       "    'type': 'User',\n",
       "    'site_admin': False},\n",
       "   'open_issues': 110,\n",
       "   'closed_issues': 1302,\n",
       "   'state': 'open',\n",
       "   'created_at': '2020-11-11T19:05:43Z',\n",
       "   'updated_at': '2021-04-01T22:47:26Z',\n",
       "   'due_on': '2021-05-31T07:00:00Z',\n",
       "   'closed_at': None},\n",
       "  'comments': 3,\n",
       "  'created_at': '2021-03-30T20:52:46Z',\n",
       "  'updated_at': '2021-04-01T20:04:48Z',\n",
       "  'closed_at': None,\n",
       "  'author_association': 'MEMBER',\n",
       "  'active_lock_reason': None,\n",
       "  'pull_request': {'url': 'https://api.github.com/repos/pandas-dev/pandas/pulls/40696',\n",
       "   'html_url': 'https://github.com/pandas-dev/pandas/pull/40696',\n",
       "   'diff_url': 'https://github.com/pandas-dev/pandas/pull/40696.diff',\n",
       "   'patch_url': 'https://github.com/pandas-dev/pandas/pull/40696.patch'},\n",
       "  'body': 'xref #36465\\r\\n\\r\\n',\n",
       "  'performed_via_github_app': None}]"
      ]
     },
     "execution_count": 51,
     "metadata": {},
     "output_type": "execute_result"
    }
   ],
   "source": [
    "data"
   ]
  },
  {
   "cell_type": "code",
   "execution_count": 52,
   "id": "twenty-lawrence",
   "metadata": {},
   "outputs": [],
   "source": [
    "output = pd.DataFrame(data, columns = ['number', 'title', 'labels', 'state'])"
   ]
  },
  {
   "cell_type": "code",
   "execution_count": 53,
   "id": "economic-affair",
   "metadata": {},
   "outputs": [
    {
     "data": {
      "text/html": [
       "<div>\n",
       "<style scoped>\n",
       "    .dataframe tbody tr th:only-of-type {\n",
       "        vertical-align: middle;\n",
       "    }\n",
       "\n",
       "    .dataframe tbody tr th {\n",
       "        vertical-align: top;\n",
       "    }\n",
       "\n",
       "    .dataframe thead th {\n",
       "        text-align: right;\n",
       "    }\n",
       "</style>\n",
       "<table border=\"1\" class=\"dataframe\">\n",
       "  <thead>\n",
       "    <tr style=\"text-align: right;\">\n",
       "      <th></th>\n",
       "      <th>number</th>\n",
       "      <th>title</th>\n",
       "      <th>labels</th>\n",
       "      <th>state</th>\n",
       "    </tr>\n",
       "  </thead>\n",
       "  <tbody>\n",
       "    <tr>\n",
       "      <th>0</th>\n",
       "      <td>40741</td>\n",
       "      <td>BUG: DTBlock/TDBlock.delete casting to ndarray</td>\n",
       "      <td>[]</td>\n",
       "      <td>open</td>\n",
       "    </tr>\n",
       "    <tr>\n",
       "      <th>1</th>\n",
       "      <td>40740</td>\n",
       "      <td>ENH: LogicalSlice object</td>\n",
       "      <td>[{'id': 76812, 'node_id': 'MDU6TGFiZWw3NjgxMg=...</td>\n",
       "      <td>open</td>\n",
       "    </tr>\n",
       "    <tr>\n",
       "      <th>2</th>\n",
       "      <td>40739</td>\n",
       "      <td>Backport PR #40718 on branch 1.2.x (COMPAT: ma...</td>\n",
       "      <td>[{'id': 76865106, 'node_id': 'MDU6TGFiZWw3Njg2...</td>\n",
       "      <td>open</td>\n",
       "    </tr>\n",
       "    <tr>\n",
       "      <th>3</th>\n",
       "      <td>40738</td>\n",
       "      <td>BUG: Fix nanvar for large float16 arrays</td>\n",
       "      <td>[{'id': 57296398, 'node_id': 'MDU6TGFiZWw1NzI5...</td>\n",
       "      <td>open</td>\n",
       "    </tr>\n",
       "    <tr>\n",
       "      <th>4</th>\n",
       "      <td>40737</td>\n",
       "      <td>TYP overload fillna</td>\n",
       "      <td>[{'id': 1280988427, 'node_id': 'MDU6TGFiZWwxMj...</td>\n",
       "      <td>open</td>\n",
       "    </tr>\n",
       "    <tr>\n",
       "      <th>5</th>\n",
       "      <td>40735</td>\n",
       "      <td>BUG (?): dtype.value_counts() shows categorica...</td>\n",
       "      <td>[{'id': 76811, 'node_id': 'MDU6TGFiZWw3NjgxMQ=...</td>\n",
       "      <td>open</td>\n",
       "    </tr>\n",
       "    <tr>\n",
       "      <th>6</th>\n",
       "      <td>40734</td>\n",
       "      <td>Backport PR #40723 on branch 1.2.x (BUG: fix c...</td>\n",
       "      <td>[{'id': 2822342, 'node_id': 'MDU6TGFiZWwyODIyM...</td>\n",
       "      <td>open</td>\n",
       "    </tr>\n",
       "    <tr>\n",
       "      <th>7</th>\n",
       "      <td>40733</td>\n",
       "      <td>REF: implement groupby.ops.WrappedCythonFunc</td>\n",
       "      <td>[{'id': 233160, 'node_id': 'MDU6TGFiZWwyMzMxNj...</td>\n",
       "      <td>open</td>\n",
       "    </tr>\n",
       "    <tr>\n",
       "      <th>8</th>\n",
       "      <td>40732</td>\n",
       "      <td>BUG: Dtypes change when using `replace` with n...</td>\n",
       "      <td>[{'id': 76811, 'node_id': 'MDU6TGFiZWw3NjgxMQ=...</td>\n",
       "      <td>open</td>\n",
       "    </tr>\n",
       "    <tr>\n",
       "      <th>9</th>\n",
       "      <td>40731</td>\n",
       "      <td>ENH: `Styler.to_latex` conversion from CSS</td>\n",
       "      <td>[]</td>\n",
       "      <td>open</td>\n",
       "    </tr>\n",
       "    <tr>\n",
       "      <th>10</th>\n",
       "      <td>40730</td>\n",
       "      <td>BUG: qcut fails with Float64Dtype</td>\n",
       "      <td>[{'id': 76811, 'node_id': 'MDU6TGFiZWw3NjgxMQ=...</td>\n",
       "      <td>open</td>\n",
       "    </tr>\n",
       "    <tr>\n",
       "      <th>11</th>\n",
       "      <td>40729</td>\n",
       "      <td>BUG: Cannot convert from `object` numeric stri...</td>\n",
       "      <td>[{'id': 76811, 'node_id': 'MDU6TGFiZWw3NjgxMQ=...</td>\n",
       "      <td>open</td>\n",
       "    </tr>\n",
       "    <tr>\n",
       "      <th>12</th>\n",
       "      <td>40728</td>\n",
       "      <td>REF: only fallback to masked op for object dtype</td>\n",
       "      <td>[{'id': 47223669, 'node_id': 'MDU6TGFiZWw0NzIy...</td>\n",
       "      <td>open</td>\n",
       "    </tr>\n",
       "    <tr>\n",
       "      <th>13</th>\n",
       "      <td>40726</td>\n",
       "      <td>BUG: Do not allow boolean values for indexing ...</td>\n",
       "      <td>[]</td>\n",
       "      <td>open</td>\n",
       "    </tr>\n",
       "    <tr>\n",
       "      <th>14</th>\n",
       "      <td>40725</td>\n",
       "      <td>BUG: [ArrowStringArray] Recognize ArrowStringA...</td>\n",
       "      <td>[{'id': 76811, 'node_id': 'MDU6TGFiZWw3NjgxMQ=...</td>\n",
       "      <td>open</td>\n",
       "    </tr>\n",
       "    <tr>\n",
       "      <th>15</th>\n",
       "      <td>40721</td>\n",
       "      <td>BUG: to_sql performance decreases dramatically...</td>\n",
       "      <td>[{'id': 76811, 'node_id': 'MDU6TGFiZWw3NjgxMQ=...</td>\n",
       "      <td>open</td>\n",
       "    </tr>\n",
       "    <tr>\n",
       "      <th>16</th>\n",
       "      <td>40720</td>\n",
       "      <td>BUG:  GroupBy.apply doesn't add group keys to ...</td>\n",
       "      <td>[{'id': 76811, 'node_id': 'MDU6TGFiZWw3NjgxMQ=...</td>\n",
       "      <td>open</td>\n",
       "    </tr>\n",
       "    <tr>\n",
       "      <th>17</th>\n",
       "      <td>40719</td>\n",
       "      <td>BUG: tm.assert_frame_equal fails to raise near...</td>\n",
       "      <td>[{'id': 76811, 'node_id': 'MDU6TGFiZWw3NjgxMQ=...</td>\n",
       "      <td>open</td>\n",
       "    </tr>\n",
       "    <tr>\n",
       "      <th>18</th>\n",
       "      <td>40717</td>\n",
       "      <td>REF: RangeIndex dont subclass Int64Index</td>\n",
       "      <td>[]</td>\n",
       "      <td>open</td>\n",
       "    </tr>\n",
       "    <tr>\n",
       "      <th>19</th>\n",
       "      <td>40716</td>\n",
       "      <td>TYP: groupby.pyi</td>\n",
       "      <td>[{'id': 233160, 'node_id': 'MDU6TGFiZWwyMzMxNj...</td>\n",
       "      <td>open</td>\n",
       "    </tr>\n",
       "    <tr>\n",
       "      <th>20</th>\n",
       "      <td>40715</td>\n",
       "      <td>CLN: follow-up cleanups</td>\n",
       "      <td>[{'id': 211029535, 'node_id': 'MDU6TGFiZWwyMTE...</td>\n",
       "      <td>open</td>\n",
       "    </tr>\n",
       "    <tr>\n",
       "      <th>21</th>\n",
       "      <td>40712</td>\n",
       "      <td>ENH: add dataframe render trimming in `Styler`...</td>\n",
       "      <td>[{'id': 76811, 'node_id': 'MDU6TGFiZWw3NjgxMQ=...</td>\n",
       "      <td>open</td>\n",
       "    </tr>\n",
       "    <tr>\n",
       "      <th>22</th>\n",
       "      <td>40711</td>\n",
       "      <td>CI: increase codecov target - append ArrayMana...</td>\n",
       "      <td>[{'id': 48070600, 'node_id': 'MDU6TGFiZWw0ODA3...</td>\n",
       "      <td>open</td>\n",
       "    </tr>\n",
       "    <tr>\n",
       "      <th>23</th>\n",
       "      <td>40708</td>\n",
       "      <td>ENH: [ArrowStringArray] Enable the string meth...</td>\n",
       "      <td>[{'id': 76812, 'node_id': 'MDU6TGFiZWw3NjgxMg=...</td>\n",
       "      <td>open</td>\n",
       "    </tr>\n",
       "    <tr>\n",
       "      <th>24</th>\n",
       "      <td>40707</td>\n",
       "      <td>TYP/DOC: _libs</td>\n",
       "      <td>[]</td>\n",
       "      <td>open</td>\n",
       "    </tr>\n",
       "    <tr>\n",
       "      <th>25</th>\n",
       "      <td>40706</td>\n",
       "      <td>Fix libpthread not found during local installa...</td>\n",
       "      <td>[{'id': 129350, 'node_id': 'MDU6TGFiZWwxMjkzNT...</td>\n",
       "      <td>open</td>\n",
       "    </tr>\n",
       "    <tr>\n",
       "      <th>26</th>\n",
       "      <td>40705</td>\n",
       "      <td>BUG: Incorrect timedelta with tz_localize and ...</td>\n",
       "      <td>[{'id': 76811, 'node_id': 'MDU6TGFiZWw3NjgxMQ=...</td>\n",
       "      <td>open</td>\n",
       "    </tr>\n",
       "    <tr>\n",
       "      <th>27</th>\n",
       "      <td>40702</td>\n",
       "      <td>ENH: Having rolling accepts pd.IntervalIndex o...</td>\n",
       "      <td>[{'id': 76812, 'node_id': 'MDU6TGFiZWw3NjgxMg=...</td>\n",
       "      <td>open</td>\n",
       "    </tr>\n",
       "    <tr>\n",
       "      <th>28</th>\n",
       "      <td>40701</td>\n",
       "      <td>BUG: RollingGroupby MultiIndex levels dropped</td>\n",
       "      <td>[{'id': 76811, 'node_id': 'MDU6TGFiZWw3NjgxMQ=...</td>\n",
       "      <td>open</td>\n",
       "    </tr>\n",
       "    <tr>\n",
       "      <th>29</th>\n",
       "      <td>40696</td>\n",
       "      <td>CI: unpin pymysql, sync min version, and skip ...</td>\n",
       "      <td>[{'id': 47232590, 'node_id': 'MDU6TGFiZWw0NzIz...</td>\n",
       "      <td>open</td>\n",
       "    </tr>\n",
       "  </tbody>\n",
       "</table>\n",
       "</div>"
      ],
      "text/plain": [
       "    number                                              title  \\\n",
       "0    40741     BUG: DTBlock/TDBlock.delete casting to ndarray   \n",
       "1    40740                           ENH: LogicalSlice object   \n",
       "2    40739  Backport PR #40718 on branch 1.2.x (COMPAT: ma...   \n",
       "3    40738           BUG: Fix nanvar for large float16 arrays   \n",
       "4    40737                                TYP overload fillna   \n",
       "5    40735  BUG (?): dtype.value_counts() shows categorica...   \n",
       "6    40734  Backport PR #40723 on branch 1.2.x (BUG: fix c...   \n",
       "7    40733       REF: implement groupby.ops.WrappedCythonFunc   \n",
       "8    40732  BUG: Dtypes change when using `replace` with n...   \n",
       "9    40731         ENH: `Styler.to_latex` conversion from CSS   \n",
       "10   40730                  BUG: qcut fails with Float64Dtype   \n",
       "11   40729  BUG: Cannot convert from `object` numeric stri...   \n",
       "12   40728   REF: only fallback to masked op for object dtype   \n",
       "13   40726  BUG: Do not allow boolean values for indexing ...   \n",
       "14   40725  BUG: [ArrowStringArray] Recognize ArrowStringA...   \n",
       "15   40721  BUG: to_sql performance decreases dramatically...   \n",
       "16   40720  BUG:  GroupBy.apply doesn't add group keys to ...   \n",
       "17   40719  BUG: tm.assert_frame_equal fails to raise near...   \n",
       "18   40717           REF: RangeIndex dont subclass Int64Index   \n",
       "19   40716                                   TYP: groupby.pyi   \n",
       "20   40715                            CLN: follow-up cleanups   \n",
       "21   40712  ENH: add dataframe render trimming in `Styler`...   \n",
       "22   40711  CI: increase codecov target - append ArrayMana...   \n",
       "23   40708  ENH: [ArrowStringArray] Enable the string meth...   \n",
       "24   40707                                     TYP/DOC: _libs   \n",
       "25   40706  Fix libpthread not found during local installa...   \n",
       "26   40705  BUG: Incorrect timedelta with tz_localize and ...   \n",
       "27   40702  ENH: Having rolling accepts pd.IntervalIndex o...   \n",
       "28   40701      BUG: RollingGroupby MultiIndex levels dropped   \n",
       "29   40696  CI: unpin pymysql, sync min version, and skip ...   \n",
       "\n",
       "                                               labels state  \n",
       "0                                                  []  open  \n",
       "1   [{'id': 76812, 'node_id': 'MDU6TGFiZWw3NjgxMg=...  open  \n",
       "2   [{'id': 76865106, 'node_id': 'MDU6TGFiZWw3Njg2...  open  \n",
       "3   [{'id': 57296398, 'node_id': 'MDU6TGFiZWw1NzI5...  open  \n",
       "4   [{'id': 1280988427, 'node_id': 'MDU6TGFiZWwxMj...  open  \n",
       "5   [{'id': 76811, 'node_id': 'MDU6TGFiZWw3NjgxMQ=...  open  \n",
       "6   [{'id': 2822342, 'node_id': 'MDU6TGFiZWwyODIyM...  open  \n",
       "7   [{'id': 233160, 'node_id': 'MDU6TGFiZWwyMzMxNj...  open  \n",
       "8   [{'id': 76811, 'node_id': 'MDU6TGFiZWw3NjgxMQ=...  open  \n",
       "9                                                  []  open  \n",
       "10  [{'id': 76811, 'node_id': 'MDU6TGFiZWw3NjgxMQ=...  open  \n",
       "11  [{'id': 76811, 'node_id': 'MDU6TGFiZWw3NjgxMQ=...  open  \n",
       "12  [{'id': 47223669, 'node_id': 'MDU6TGFiZWw0NzIy...  open  \n",
       "13                                                 []  open  \n",
       "14  [{'id': 76811, 'node_id': 'MDU6TGFiZWw3NjgxMQ=...  open  \n",
       "15  [{'id': 76811, 'node_id': 'MDU6TGFiZWw3NjgxMQ=...  open  \n",
       "16  [{'id': 76811, 'node_id': 'MDU6TGFiZWw3NjgxMQ=...  open  \n",
       "17  [{'id': 76811, 'node_id': 'MDU6TGFiZWw3NjgxMQ=...  open  \n",
       "18                                                 []  open  \n",
       "19  [{'id': 233160, 'node_id': 'MDU6TGFiZWwyMzMxNj...  open  \n",
       "20  [{'id': 211029535, 'node_id': 'MDU6TGFiZWwyMTE...  open  \n",
       "21  [{'id': 76811, 'node_id': 'MDU6TGFiZWw3NjgxMQ=...  open  \n",
       "22  [{'id': 48070600, 'node_id': 'MDU6TGFiZWw0ODA3...  open  \n",
       "23  [{'id': 76812, 'node_id': 'MDU6TGFiZWw3NjgxMg=...  open  \n",
       "24                                                 []  open  \n",
       "25  [{'id': 129350, 'node_id': 'MDU6TGFiZWwxMjkzNT...  open  \n",
       "26  [{'id': 76811, 'node_id': 'MDU6TGFiZWw3NjgxMQ=...  open  \n",
       "27  [{'id': 76812, 'node_id': 'MDU6TGFiZWw3NjgxMg=...  open  \n",
       "28  [{'id': 76811, 'node_id': 'MDU6TGFiZWw3NjgxMQ=...  open  \n",
       "29  [{'id': 47232590, 'node_id': 'MDU6TGFiZWw0NzIz...  open  "
      ]
     },
     "execution_count": 53,
     "metadata": {},
     "output_type": "execute_result"
    }
   ],
   "source": [
    "output"
   ]
  },
  {
   "cell_type": "markdown",
   "id": "variable-lesbian",
   "metadata": {},
   "source": [
    "## Read data from MySQL Server"
   ]
  },
  {
   "cell_type": "code",
   "execution_count": 55,
   "id": "contrary-leather",
   "metadata": {},
   "outputs": [],
   "source": [
    "db = pymysql.connect(host=\"localhost\",\n",
    "                     user=\"testuser\",\n",
    "                     password=\"test123\",\n",
    "                     database=\"world\")\n",
    "\n",
    "sql_querry = 'SELECT * FROM country'\n",
    "df1 = pd.read_sql(sql_querry, db)\n",
    "db.close()"
   ]
  },
  {
   "cell_type": "code",
   "execution_count": 56,
   "id": "accomplished-dubai",
   "metadata": {},
   "outputs": [
    {
     "data": {
      "text/html": [
       "<div>\n",
       "<style scoped>\n",
       "    .dataframe tbody tr th:only-of-type {\n",
       "        vertical-align: middle;\n",
       "    }\n",
       "\n",
       "    .dataframe tbody tr th {\n",
       "        vertical-align: top;\n",
       "    }\n",
       "\n",
       "    .dataframe thead th {\n",
       "        text-align: right;\n",
       "    }\n",
       "</style>\n",
       "<table border=\"1\" class=\"dataframe\">\n",
       "  <thead>\n",
       "    <tr style=\"text-align: right;\">\n",
       "      <th></th>\n",
       "      <th>Code</th>\n",
       "      <th>Name</th>\n",
       "      <th>Continent</th>\n",
       "      <th>Region</th>\n",
       "      <th>SurfaceArea</th>\n",
       "      <th>IndepYear</th>\n",
       "      <th>Population</th>\n",
       "      <th>LifeExpectancy</th>\n",
       "      <th>GNP</th>\n",
       "      <th>GNPOld</th>\n",
       "      <th>LocalName</th>\n",
       "      <th>GovernmentForm</th>\n",
       "      <th>HeadOfState</th>\n",
       "      <th>Capital</th>\n",
       "      <th>Code2</th>\n",
       "    </tr>\n",
       "  </thead>\n",
       "  <tbody>\n",
       "    <tr>\n",
       "      <th>0</th>\n",
       "      <td>ABW</td>\n",
       "      <td>Aruba</td>\n",
       "      <td>North America</td>\n",
       "      <td>Caribbean</td>\n",
       "      <td>193.0</td>\n",
       "      <td>NaN</td>\n",
       "      <td>103000</td>\n",
       "      <td>78.4</td>\n",
       "      <td>828.0</td>\n",
       "      <td>793.0</td>\n",
       "      <td>Aruba</td>\n",
       "      <td>Nonmetropolitan Territory of The Netherlands</td>\n",
       "      <td>Beatrix</td>\n",
       "      <td>129.0</td>\n",
       "      <td>AW</td>\n",
       "    </tr>\n",
       "    <tr>\n",
       "      <th>1</th>\n",
       "      <td>AFG</td>\n",
       "      <td>Afghanistan</td>\n",
       "      <td>Asia</td>\n",
       "      <td>Southern and Central Asia</td>\n",
       "      <td>652090.0</td>\n",
       "      <td>1919.0</td>\n",
       "      <td>22720000</td>\n",
       "      <td>45.9</td>\n",
       "      <td>5976.0</td>\n",
       "      <td>NaN</td>\n",
       "      <td>Afganistan/Afqanestan</td>\n",
       "      <td>Islamic Emirate</td>\n",
       "      <td>Mohammad Omar</td>\n",
       "      <td>1.0</td>\n",
       "      <td>AF</td>\n",
       "    </tr>\n",
       "    <tr>\n",
       "      <th>2</th>\n",
       "      <td>AGO</td>\n",
       "      <td>Angola</td>\n",
       "      <td>Africa</td>\n",
       "      <td>Central Africa</td>\n",
       "      <td>1246700.0</td>\n",
       "      <td>1975.0</td>\n",
       "      <td>12878000</td>\n",
       "      <td>38.3</td>\n",
       "      <td>6648.0</td>\n",
       "      <td>7984.0</td>\n",
       "      <td>Angola</td>\n",
       "      <td>Republic</td>\n",
       "      <td>JosÃ© Eduardo dos Santos</td>\n",
       "      <td>56.0</td>\n",
       "      <td>AO</td>\n",
       "    </tr>\n",
       "    <tr>\n",
       "      <th>3</th>\n",
       "      <td>AIA</td>\n",
       "      <td>Anguilla</td>\n",
       "      <td>North America</td>\n",
       "      <td>Caribbean</td>\n",
       "      <td>96.0</td>\n",
       "      <td>NaN</td>\n",
       "      <td>8000</td>\n",
       "      <td>76.1</td>\n",
       "      <td>63.2</td>\n",
       "      <td>NaN</td>\n",
       "      <td>Anguilla</td>\n",
       "      <td>Dependent Territory of the UK</td>\n",
       "      <td>Elisabeth II</td>\n",
       "      <td>62.0</td>\n",
       "      <td>AI</td>\n",
       "    </tr>\n",
       "    <tr>\n",
       "      <th>4</th>\n",
       "      <td>ALB</td>\n",
       "      <td>Albania</td>\n",
       "      <td>Europe</td>\n",
       "      <td>Southern Europe</td>\n",
       "      <td>28748.0</td>\n",
       "      <td>1912.0</td>\n",
       "      <td>3401200</td>\n",
       "      <td>71.6</td>\n",
       "      <td>3205.0</td>\n",
       "      <td>2500.0</td>\n",
       "      <td>ShqipÃ«ria</td>\n",
       "      <td>Republic</td>\n",
       "      <td>Rexhep Mejdani</td>\n",
       "      <td>34.0</td>\n",
       "      <td>AL</td>\n",
       "    </tr>\n",
       "    <tr>\n",
       "      <th>...</th>\n",
       "      <td>...</td>\n",
       "      <td>...</td>\n",
       "      <td>...</td>\n",
       "      <td>...</td>\n",
       "      <td>...</td>\n",
       "      <td>...</td>\n",
       "      <td>...</td>\n",
       "      <td>...</td>\n",
       "      <td>...</td>\n",
       "      <td>...</td>\n",
       "      <td>...</td>\n",
       "      <td>...</td>\n",
       "      <td>...</td>\n",
       "      <td>...</td>\n",
       "      <td>...</td>\n",
       "    </tr>\n",
       "    <tr>\n",
       "      <th>234</th>\n",
       "      <td>YEM</td>\n",
       "      <td>Yemen</td>\n",
       "      <td>Asia</td>\n",
       "      <td>Middle East</td>\n",
       "      <td>527968.0</td>\n",
       "      <td>1918.0</td>\n",
       "      <td>18112000</td>\n",
       "      <td>59.8</td>\n",
       "      <td>6041.0</td>\n",
       "      <td>5729.0</td>\n",
       "      <td>Al-Yaman</td>\n",
       "      <td>Republic</td>\n",
       "      <td>Ali Abdallah Salih</td>\n",
       "      <td>1780.0</td>\n",
       "      <td>YE</td>\n",
       "    </tr>\n",
       "    <tr>\n",
       "      <th>235</th>\n",
       "      <td>YUG</td>\n",
       "      <td>Yugoslavia</td>\n",
       "      <td>Europe</td>\n",
       "      <td>Southern Europe</td>\n",
       "      <td>102173.0</td>\n",
       "      <td>1918.0</td>\n",
       "      <td>10640000</td>\n",
       "      <td>72.4</td>\n",
       "      <td>17000.0</td>\n",
       "      <td>NaN</td>\n",
       "      <td>Jugoslavija</td>\n",
       "      <td>Federal Republic</td>\n",
       "      <td>Vojislav KoÂštunica</td>\n",
       "      <td>1792.0</td>\n",
       "      <td>YU</td>\n",
       "    </tr>\n",
       "    <tr>\n",
       "      <th>236</th>\n",
       "      <td>ZAF</td>\n",
       "      <td>South Africa</td>\n",
       "      <td>Africa</td>\n",
       "      <td>Southern Africa</td>\n",
       "      <td>1221037.0</td>\n",
       "      <td>1910.0</td>\n",
       "      <td>40377000</td>\n",
       "      <td>51.1</td>\n",
       "      <td>116729.0</td>\n",
       "      <td>129092.0</td>\n",
       "      <td>South Africa</td>\n",
       "      <td>Republic</td>\n",
       "      <td>Thabo Mbeki</td>\n",
       "      <td>716.0</td>\n",
       "      <td>ZA</td>\n",
       "    </tr>\n",
       "    <tr>\n",
       "      <th>237</th>\n",
       "      <td>ZMB</td>\n",
       "      <td>Zambia</td>\n",
       "      <td>Africa</td>\n",
       "      <td>Eastern Africa</td>\n",
       "      <td>752618.0</td>\n",
       "      <td>1964.0</td>\n",
       "      <td>9169000</td>\n",
       "      <td>37.2</td>\n",
       "      <td>3377.0</td>\n",
       "      <td>3922.0</td>\n",
       "      <td>Zambia</td>\n",
       "      <td>Republic</td>\n",
       "      <td>Frederick Chiluba</td>\n",
       "      <td>3162.0</td>\n",
       "      <td>ZM</td>\n",
       "    </tr>\n",
       "    <tr>\n",
       "      <th>238</th>\n",
       "      <td>ZWE</td>\n",
       "      <td>Zimbabwe</td>\n",
       "      <td>Africa</td>\n",
       "      <td>Eastern Africa</td>\n",
       "      <td>390757.0</td>\n",
       "      <td>1980.0</td>\n",
       "      <td>11669000</td>\n",
       "      <td>37.8</td>\n",
       "      <td>5951.0</td>\n",
       "      <td>8670.0</td>\n",
       "      <td>Zimbabwe</td>\n",
       "      <td>Republic</td>\n",
       "      <td>Robert G. Mugabe</td>\n",
       "      <td>4068.0</td>\n",
       "      <td>ZW</td>\n",
       "    </tr>\n",
       "  </tbody>\n",
       "</table>\n",
       "<p>239 rows × 15 columns</p>\n",
       "</div>"
      ],
      "text/plain": [
       "    Code          Name      Continent                     Region  SurfaceArea  \\\n",
       "0    ABW         Aruba  North America                  Caribbean        193.0   \n",
       "1    AFG   Afghanistan           Asia  Southern and Central Asia     652090.0   \n",
       "2    AGO        Angola         Africa             Central Africa    1246700.0   \n",
       "3    AIA      Anguilla  North America                  Caribbean         96.0   \n",
       "4    ALB       Albania         Europe            Southern Europe      28748.0   \n",
       "..   ...           ...            ...                        ...          ...   \n",
       "234  YEM         Yemen           Asia                Middle East     527968.0   \n",
       "235  YUG    Yugoslavia         Europe            Southern Europe     102173.0   \n",
       "236  ZAF  South Africa         Africa            Southern Africa    1221037.0   \n",
       "237  ZMB        Zambia         Africa             Eastern Africa     752618.0   \n",
       "238  ZWE      Zimbabwe         Africa             Eastern Africa     390757.0   \n",
       "\n",
       "     IndepYear  Population  LifeExpectancy       GNP    GNPOld  \\\n",
       "0          NaN      103000            78.4     828.0     793.0   \n",
       "1       1919.0    22720000            45.9    5976.0       NaN   \n",
       "2       1975.0    12878000            38.3    6648.0    7984.0   \n",
       "3          NaN        8000            76.1      63.2       NaN   \n",
       "4       1912.0     3401200            71.6    3205.0    2500.0   \n",
       "..         ...         ...             ...       ...       ...   \n",
       "234     1918.0    18112000            59.8    6041.0    5729.0   \n",
       "235     1918.0    10640000            72.4   17000.0       NaN   \n",
       "236     1910.0    40377000            51.1  116729.0  129092.0   \n",
       "237     1964.0     9169000            37.2    3377.0    3922.0   \n",
       "238     1980.0    11669000            37.8    5951.0    8670.0   \n",
       "\n",
       "                 LocalName                                GovernmentForm  \\\n",
       "0                    Aruba  Nonmetropolitan Territory of The Netherlands   \n",
       "1    Afganistan/Afqanestan                               Islamic Emirate   \n",
       "2                   Angola                                      Republic   \n",
       "3                 Anguilla                 Dependent Territory of the UK   \n",
       "4               ShqipÃ«ria                                      Republic   \n",
       "..                     ...                                           ...   \n",
       "234               Al-Yaman                                      Republic   \n",
       "235            Jugoslavija                              Federal Republic   \n",
       "236           South Africa                                      Republic   \n",
       "237                 Zambia                                      Republic   \n",
       "238               Zimbabwe                                      Republic   \n",
       "\n",
       "                  HeadOfState  Capital Code2  \n",
       "0                     Beatrix    129.0    AW  \n",
       "1               Mohammad Omar      1.0    AF  \n",
       "2    JosÃ© Eduardo dos Santos     56.0    AO  \n",
       "3                Elisabeth II     62.0    AI  \n",
       "4              Rexhep Mejdani     34.0    AL  \n",
       "..                        ...      ...   ...  \n",
       "234        Ali Abdallah Salih   1780.0    YE  \n",
       "235       Vojislav KoÂštunica   1792.0    YU  \n",
       "236               Thabo Mbeki    716.0    ZA  \n",
       "237         Frederick Chiluba   3162.0    ZM  \n",
       "238          Robert G. Mugabe   4068.0    ZW  \n",
       "\n",
       "[239 rows x 15 columns]"
      ]
     },
     "execution_count": 56,
     "metadata": {},
     "output_type": "execute_result"
    }
   ],
   "source": [
    "df1"
   ]
  },
  {
   "cell_type": "markdown",
   "id": "funky-davis",
   "metadata": {},
   "source": [
    "## Clipboard"
   ]
  },
  {
   "cell_type": "code",
   "execution_count": null,
   "id": "blank-processing",
   "metadata": {},
   "outputs": [],
   "source": [
    "  A B C\n",
    "x 1 2 a\n",
    "y 2 3 c\n",
    "z 3 4 b"
   ]
  },
  {
   "cell_type": "code",
   "execution_count": 60,
   "id": "elect-boring",
   "metadata": {},
   "outputs": [
    {
     "data": {
      "text/html": [
       "<div>\n",
       "<style scoped>\n",
       "    .dataframe tbody tr th:only-of-type {\n",
       "        vertical-align: middle;\n",
       "    }\n",
       "\n",
       "    .dataframe tbody tr th {\n",
       "        vertical-align: top;\n",
       "    }\n",
       "\n",
       "    .dataframe thead th {\n",
       "        text-align: right;\n",
       "    }\n",
       "</style>\n",
       "<table border=\"1\" class=\"dataframe\">\n",
       "  <thead>\n",
       "    <tr style=\"text-align: right;\">\n",
       "      <th></th>\n",
       "      <th>A</th>\n",
       "      <th>B</th>\n",
       "      <th>C</th>\n",
       "    </tr>\n",
       "  </thead>\n",
       "  <tbody>\n",
       "    <tr>\n",
       "      <th>x</th>\n",
       "      <td>1</td>\n",
       "      <td>2</td>\n",
       "      <td>a</td>\n",
       "    </tr>\n",
       "    <tr>\n",
       "      <th>y</th>\n",
       "      <td>2</td>\n",
       "      <td>3</td>\n",
       "      <td>c</td>\n",
       "    </tr>\n",
       "    <tr>\n",
       "      <th>z</th>\n",
       "      <td>3</td>\n",
       "      <td>4</td>\n",
       "      <td>b</td>\n",
       "    </tr>\n",
       "  </tbody>\n",
       "</table>\n",
       "</div>"
      ],
      "text/plain": [
       "   A  B  C\n",
       "x  1  2  a\n",
       "y  2  3  c\n",
       "z  3  4  b"
      ]
     },
     "execution_count": 60,
     "metadata": {},
     "output_type": "execute_result"
    }
   ],
   "source": [
    "df = pd.read_clipboard()\n",
    "df"
   ]
  },
  {
   "cell_type": "code",
   "execution_count": 62,
   "id": "proved-danger",
   "metadata": {},
   "outputs": [
    {
     "data": {
      "text/html": [
       "<div>\n",
       "<style scoped>\n",
       "    .dataframe tbody tr th:only-of-type {\n",
       "        vertical-align: middle;\n",
       "    }\n",
       "\n",
       "    .dataframe tbody tr th {\n",
       "        vertical-align: top;\n",
       "    }\n",
       "\n",
       "    .dataframe thead th {\n",
       "        text-align: right;\n",
       "    }\n",
       "</style>\n",
       "<table border=\"1\" class=\"dataframe\">\n",
       "  <thead>\n",
       "    <tr style=\"text-align: right;\">\n",
       "      <th></th>\n",
       "      <th>0</th>\n",
       "      <th>1</th>\n",
       "      <th>2</th>\n",
       "    </tr>\n",
       "  </thead>\n",
       "  <tbody>\n",
       "    <tr>\n",
       "      <th>0</th>\n",
       "      <td>-0.545361</td>\n",
       "      <td>-0.405911</td>\n",
       "      <td>-0.038922</td>\n",
       "    </tr>\n",
       "    <tr>\n",
       "      <th>1</th>\n",
       "      <td>0.719167</td>\n",
       "      <td>0.099425</td>\n",
       "      <td>1.044155</td>\n",
       "    </tr>\n",
       "    <tr>\n",
       "      <th>2</th>\n",
       "      <td>0.796796</td>\n",
       "      <td>1.229476</td>\n",
       "      <td>1.455318</td>\n",
       "    </tr>\n",
       "    <tr>\n",
       "      <th>3</th>\n",
       "      <td>-0.652150</td>\n",
       "      <td>-0.118321</td>\n",
       "      <td>-0.280772</td>\n",
       "    </tr>\n",
       "    <tr>\n",
       "      <th>4</th>\n",
       "      <td>2.093768</td>\n",
       "      <td>0.983204</td>\n",
       "      <td>0.703151</td>\n",
       "    </tr>\n",
       "  </tbody>\n",
       "</table>\n",
       "</div>"
      ],
      "text/plain": [
       "          0         1         2\n",
       "0 -0.545361 -0.405911 -0.038922\n",
       "1  0.719167  0.099425  1.044155\n",
       "2  0.796796  1.229476  1.455318\n",
       "3 -0.652150 -0.118321 -0.280772\n",
       "4  2.093768  0.983204  0.703151"
      ]
     },
     "execution_count": 62,
     "metadata": {},
     "output_type": "execute_result"
    }
   ],
   "source": [
    "df = pd.DataFrame(np.random.randn(5,3))\n",
    "df"
   ]
  },
  {
   "cell_type": "code",
   "execution_count": 63,
   "id": "sonic-praise",
   "metadata": {},
   "outputs": [],
   "source": [
    "df.to_clipboard()"
   ]
  },
  {
   "cell_type": "code",
   "execution_count": null,
   "id": "ranking-fraction",
   "metadata": {},
   "outputs": [],
   "source": [
    "\t0\t1\t2\n",
    "0\t-0.5453608579551631\t-0.40591073683729667\t-0.038921741278140354\n",
    "1\t0.7191668027498395\t0.09942522214925913\t1.044154504828796\n",
    "2\t0.7967958632566197\t1.2294763932835417\t1.455317696477365\n",
    "3\t-0.65214961939385\t-0.118321193602137\t-0.2807715847814804\n",
    "4\t2.0937677484406154\t0.9832036937774125\t0.703151412896491"
   ]
  },
  {
   "cell_type": "markdown",
   "id": "documented-miller",
   "metadata": {},
   "source": [
    "## Handle mising data"
   ]
  },
  {
   "cell_type": "code",
   "execution_count": 6,
   "id": "molecular-customs",
   "metadata": {},
   "outputs": [
    {
     "name": "stdout",
     "output_type": "stream",
     "text": [
      "0       Apple\n",
      "1      Google\n",
      "2         NaN\n",
      "3    Facebook\n",
      "dtype: object\n"
     ]
    }
   ],
   "source": [
    "data = ['Apple', 'Google', np.nan, 'Facebook']\n",
    "s1 = pd.Series(data)\n",
    "print(s1)"
   ]
  },
  {
   "cell_type": "code",
   "execution_count": 4,
   "id": "abstract-secretariat",
   "metadata": {},
   "outputs": [
    {
     "data": {
      "text/plain": [
       "0    False\n",
       "1    False\n",
       "2     True\n",
       "3    False\n",
       "dtype: bool"
      ]
     },
     "execution_count": 4,
     "metadata": {},
     "output_type": "execute_result"
    }
   ],
   "source": [
    "s1.isnull()"
   ]
  },
  {
   "cell_type": "code",
   "execution_count": 5,
   "id": "grateful-astronomy",
   "metadata": {},
   "outputs": [
    {
     "data": {
      "text/plain": [
       "0       Apple\n",
       "1      Google\n",
       "3    Facebook\n",
       "dtype: object"
      ]
     },
     "execution_count": 5,
     "metadata": {},
     "output_type": "execute_result"
    }
   ],
   "source": [
    "s1.dropna()"
   ]
  },
  {
   "cell_type": "code",
   "execution_count": 7,
   "id": "allied-shannon",
   "metadata": {},
   "outputs": [
    {
     "data": {
      "text/plain": [
       "0       Apple\n",
       "1      Google\n",
       "3    Facebook\n",
       "dtype: object"
      ]
     },
     "execution_count": 7,
     "metadata": {},
     "output_type": "execute_result"
    }
   ],
   "source": [
    "s1[s1.notnull()]"
   ]
  },
  {
   "cell_type": "code",
   "execution_count": 14,
   "id": "sublime-leone",
   "metadata": {},
   "outputs": [
    {
     "name": "stdout",
     "output_type": "stream",
     "text": [
      "      0    1     2\n",
      "0   2.0  3.0  35.0\n",
      "1  54.0  NaN   NaN\n",
      "2   NaN  NaN   NaN\n",
      "3   NaN  3.0   6.0\n"
     ]
    }
   ],
   "source": [
    "df1 = pd.DataFrame([[2, 3, 35],\n",
    "                    [54, np.nan, np.nan],\n",
    "                    [np.nan, np.nan, np.nan],\n",
    "                    [np.nan, 3, 6]])\n",
    "print(df1)"
   ]
  },
  {
   "cell_type": "code",
   "execution_count": 13,
   "id": "lesser-hamilton",
   "metadata": {},
   "outputs": [
    {
     "name": "stdout",
     "output_type": "stream",
     "text": [
      "     0    1     2\n",
      "0  2.0  3.0  35.0\n"
     ]
    }
   ],
   "source": [
    "df1.dropna(inplace=True) # drops all rows that have NaN i.e. missing data\n",
    "print(df1)"
   ]
  },
  {
   "cell_type": "code",
   "execution_count": 15,
   "id": "restricted-firewall",
   "metadata": {},
   "outputs": [
    {
     "data": {
      "text/html": [
       "<div>\n",
       "<style scoped>\n",
       "    .dataframe tbody tr th:only-of-type {\n",
       "        vertical-align: middle;\n",
       "    }\n",
       "\n",
       "    .dataframe tbody tr th {\n",
       "        vertical-align: top;\n",
       "    }\n",
       "\n",
       "    .dataframe thead th {\n",
       "        text-align: right;\n",
       "    }\n",
       "</style>\n",
       "<table border=\"1\" class=\"dataframe\">\n",
       "  <thead>\n",
       "    <tr style=\"text-align: right;\">\n",
       "      <th></th>\n",
       "      <th>0</th>\n",
       "      <th>1</th>\n",
       "      <th>2</th>\n",
       "    </tr>\n",
       "  </thead>\n",
       "  <tbody>\n",
       "    <tr>\n",
       "      <th>0</th>\n",
       "      <td>2.0</td>\n",
       "      <td>3.0</td>\n",
       "      <td>35.0</td>\n",
       "    </tr>\n",
       "    <tr>\n",
       "      <th>1</th>\n",
       "      <td>54.0</td>\n",
       "      <td>NaN</td>\n",
       "      <td>NaN</td>\n",
       "    </tr>\n",
       "    <tr>\n",
       "      <th>3</th>\n",
       "      <td>NaN</td>\n",
       "      <td>3.0</td>\n",
       "      <td>6.0</td>\n",
       "    </tr>\n",
       "  </tbody>\n",
       "</table>\n",
       "</div>"
      ],
      "text/plain": [
       "      0    1     2\n",
       "0   2.0  3.0  35.0\n",
       "1  54.0  NaN   NaN\n",
       "3   NaN  3.0   6.0"
      ]
     },
     "execution_count": 15,
     "metadata": {},
     "output_type": "execute_result"
    }
   ],
   "source": [
    "# Rerun df1 cell\n",
    "df1.dropna(how='all')"
   ]
  },
  {
   "cell_type": "code",
   "execution_count": 18,
   "id": "alternative-cleaning",
   "metadata": {},
   "outputs": [
    {
     "data": {
      "text/html": [
       "<div>\n",
       "<style scoped>\n",
       "    .dataframe tbody tr th:only-of-type {\n",
       "        vertical-align: middle;\n",
       "    }\n",
       "\n",
       "    .dataframe tbody tr th {\n",
       "        vertical-align: top;\n",
       "    }\n",
       "\n",
       "    .dataframe thead th {\n",
       "        text-align: right;\n",
       "    }\n",
       "</style>\n",
       "<table border=\"1\" class=\"dataframe\">\n",
       "  <thead>\n",
       "    <tr style=\"text-align: right;\">\n",
       "      <th></th>\n",
       "      <th>0</th>\n",
       "      <th>1</th>\n",
       "      <th>2</th>\n",
       "      <th>3</th>\n",
       "      <th>4</th>\n",
       "    </tr>\n",
       "  </thead>\n",
       "  <tbody>\n",
       "    <tr>\n",
       "      <th>0</th>\n",
       "      <td>-1.095762</td>\n",
       "      <td>-1.457763</td>\n",
       "      <td>-0.084627</td>\n",
       "      <td>0.186606</td>\n",
       "      <td>0.651068</td>\n",
       "    </tr>\n",
       "    <tr>\n",
       "      <th>1</th>\n",
       "      <td>-0.275092</td>\n",
       "      <td>-0.147657</td>\n",
       "      <td>0.309674</td>\n",
       "      <td>0.608833</td>\n",
       "      <td>-0.642729</td>\n",
       "    </tr>\n",
       "    <tr>\n",
       "      <th>2</th>\n",
       "      <td>-0.934096</td>\n",
       "      <td>0.028524</td>\n",
       "      <td>1.981003</td>\n",
       "      <td>-1.955778</td>\n",
       "      <td>-0.663725</td>\n",
       "    </tr>\n",
       "    <tr>\n",
       "      <th>3</th>\n",
       "      <td>-0.985030</td>\n",
       "      <td>0.736849</td>\n",
       "      <td>0.379025</td>\n",
       "      <td>0.896279</td>\n",
       "      <td>2.513927</td>\n",
       "    </tr>\n",
       "    <tr>\n",
       "      <th>4</th>\n",
       "      <td>0.330780</td>\n",
       "      <td>1.459667</td>\n",
       "      <td>-0.930262</td>\n",
       "      <td>1.199104</td>\n",
       "      <td>-0.365967</td>\n",
       "    </tr>\n",
       "    <tr>\n",
       "      <th>5</th>\n",
       "      <td>-1.786593</td>\n",
       "      <td>0.600920</td>\n",
       "      <td>0.606528</td>\n",
       "      <td>-0.259660</td>\n",
       "      <td>-0.033583</td>\n",
       "    </tr>\n",
       "    <tr>\n",
       "      <th>6</th>\n",
       "      <td>-0.330763</td>\n",
       "      <td>-0.050361</td>\n",
       "      <td>-0.212446</td>\n",
       "      <td>2.125035</td>\n",
       "      <td>-1.117311</td>\n",
       "    </tr>\n",
       "  </tbody>\n",
       "</table>\n",
       "</div>"
      ],
      "text/plain": [
       "          0         1         2         3         4\n",
       "0 -1.095762 -1.457763 -0.084627  0.186606  0.651068\n",
       "1 -0.275092 -0.147657  0.309674  0.608833 -0.642729\n",
       "2 -0.934096  0.028524  1.981003 -1.955778 -0.663725\n",
       "3 -0.985030  0.736849  0.379025  0.896279  2.513927\n",
       "4  0.330780  1.459667 -0.930262  1.199104 -0.365967\n",
       "5 -1.786593  0.600920  0.606528 -0.259660 -0.033583\n",
       "6 -0.330763 -0.050361 -0.212446  2.125035 -1.117311"
      ]
     },
     "execution_count": 18,
     "metadata": {},
     "output_type": "execute_result"
    }
   ],
   "source": [
    "df2 = pd.DataFrame(np.random.randn(7,5))\n",
    "df2"
   ]
  },
  {
   "cell_type": "code",
   "execution_count": 24,
   "id": "manufactured-function",
   "metadata": {},
   "outputs": [
    {
     "data": {
      "text/html": [
       "<div>\n",
       "<style scoped>\n",
       "    .dataframe tbody tr th:only-of-type {\n",
       "        vertical-align: middle;\n",
       "    }\n",
       "\n",
       "    .dataframe tbody tr th {\n",
       "        vertical-align: top;\n",
       "    }\n",
       "\n",
       "    .dataframe thead th {\n",
       "        text-align: right;\n",
       "    }\n",
       "</style>\n",
       "<table border=\"1\" class=\"dataframe\">\n",
       "  <thead>\n",
       "    <tr style=\"text-align: right;\">\n",
       "      <th></th>\n",
       "      <th>0</th>\n",
       "      <th>1</th>\n",
       "      <th>2</th>\n",
       "      <th>3</th>\n",
       "      <th>4</th>\n",
       "    </tr>\n",
       "  </thead>\n",
       "  <tbody>\n",
       "    <tr>\n",
       "      <th>0</th>\n",
       "      <td>-1.095762</td>\n",
       "      <td>NaN</td>\n",
       "      <td>-0.084627</td>\n",
       "      <td>NaN</td>\n",
       "      <td>0.651068</td>\n",
       "    </tr>\n",
       "    <tr>\n",
       "      <th>1</th>\n",
       "      <td>-0.275092</td>\n",
       "      <td>NaN</td>\n",
       "      <td>0.309674</td>\n",
       "      <td>NaN</td>\n",
       "      <td>-0.642729</td>\n",
       "    </tr>\n",
       "    <tr>\n",
       "      <th>2</th>\n",
       "      <td>-0.934096</td>\n",
       "      <td>NaN</td>\n",
       "      <td>1.981003</td>\n",
       "      <td>NaN</td>\n",
       "      <td>-0.663725</td>\n",
       "    </tr>\n",
       "    <tr>\n",
       "      <th>3</th>\n",
       "      <td>-0.985030</td>\n",
       "      <td>NaN</td>\n",
       "      <td>0.379025</td>\n",
       "      <td>0.896279</td>\n",
       "      <td>2.513927</td>\n",
       "    </tr>\n",
       "    <tr>\n",
       "      <th>4</th>\n",
       "      <td>0.330780</td>\n",
       "      <td>1.459667</td>\n",
       "      <td>-0.930262</td>\n",
       "      <td>1.199104</td>\n",
       "      <td>-0.365967</td>\n",
       "    </tr>\n",
       "    <tr>\n",
       "      <th>5</th>\n",
       "      <td>-1.786593</td>\n",
       "      <td>0.600920</td>\n",
       "      <td>0.606528</td>\n",
       "      <td>-0.259660</td>\n",
       "      <td>-0.033583</td>\n",
       "    </tr>\n",
       "    <tr>\n",
       "      <th>6</th>\n",
       "      <td>-0.330763</td>\n",
       "      <td>-0.050361</td>\n",
       "      <td>-0.212446</td>\n",
       "      <td>2.125035</td>\n",
       "      <td>-1.117311</td>\n",
       "    </tr>\n",
       "  </tbody>\n",
       "</table>\n",
       "</div>"
      ],
      "text/plain": [
       "          0         1         2         3         4\n",
       "0 -1.095762       NaN -0.084627       NaN  0.651068\n",
       "1 -0.275092       NaN  0.309674       NaN -0.642729\n",
       "2 -0.934096       NaN  1.981003       NaN -0.663725\n",
       "3 -0.985030       NaN  0.379025  0.896279  2.513927\n",
       "4  0.330780  1.459667 -0.930262  1.199104 -0.365967\n",
       "5 -1.786593  0.600920  0.606528 -0.259660 -0.033583\n",
       "6 -0.330763 -0.050361 -0.212446  2.125035 -1.117311"
      ]
     },
     "execution_count": 24,
     "metadata": {},
     "output_type": "execute_result"
    }
   ],
   "source": [
    "df2.iloc[:4, 1] = df2.iloc[:3, 3] = np.nan\n",
    "df2"
   ]
  },
  {
   "cell_type": "code",
   "execution_count": 22,
   "id": "italian-thunder",
   "metadata": {},
   "outputs": [
    {
     "data": {
      "text/html": [
       "<div>\n",
       "<style scoped>\n",
       "    .dataframe tbody tr th:only-of-type {\n",
       "        vertical-align: middle;\n",
       "    }\n",
       "\n",
       "    .dataframe tbody tr th {\n",
       "        vertical-align: top;\n",
       "    }\n",
       "\n",
       "    .dataframe thead th {\n",
       "        text-align: right;\n",
       "    }\n",
       "</style>\n",
       "<table border=\"1\" class=\"dataframe\">\n",
       "  <thead>\n",
       "    <tr style=\"text-align: right;\">\n",
       "      <th></th>\n",
       "      <th>0</th>\n",
       "      <th>1</th>\n",
       "      <th>2</th>\n",
       "      <th>3</th>\n",
       "      <th>4</th>\n",
       "    </tr>\n",
       "  </thead>\n",
       "  <tbody>\n",
       "    <tr>\n",
       "      <th>0</th>\n",
       "      <td>-1.095762</td>\n",
       "      <td>0.000000</td>\n",
       "      <td>-0.084627</td>\n",
       "      <td>0.000000</td>\n",
       "      <td>0.651068</td>\n",
       "    </tr>\n",
       "    <tr>\n",
       "      <th>1</th>\n",
       "      <td>-0.275092</td>\n",
       "      <td>0.000000</td>\n",
       "      <td>0.309674</td>\n",
       "      <td>0.000000</td>\n",
       "      <td>-0.642729</td>\n",
       "    </tr>\n",
       "    <tr>\n",
       "      <th>2</th>\n",
       "      <td>-0.934096</td>\n",
       "      <td>0.000000</td>\n",
       "      <td>1.981003</td>\n",
       "      <td>0.000000</td>\n",
       "      <td>-0.663725</td>\n",
       "    </tr>\n",
       "    <tr>\n",
       "      <th>3</th>\n",
       "      <td>-0.985030</td>\n",
       "      <td>0.000000</td>\n",
       "      <td>0.379025</td>\n",
       "      <td>0.896279</td>\n",
       "      <td>2.513927</td>\n",
       "    </tr>\n",
       "    <tr>\n",
       "      <th>4</th>\n",
       "      <td>0.330780</td>\n",
       "      <td>1.459667</td>\n",
       "      <td>-0.930262</td>\n",
       "      <td>1.199104</td>\n",
       "      <td>-0.365967</td>\n",
       "    </tr>\n",
       "    <tr>\n",
       "      <th>5</th>\n",
       "      <td>-1.786593</td>\n",
       "      <td>0.600920</td>\n",
       "      <td>0.606528</td>\n",
       "      <td>-0.259660</td>\n",
       "      <td>-0.033583</td>\n",
       "    </tr>\n",
       "    <tr>\n",
       "      <th>6</th>\n",
       "      <td>-0.330763</td>\n",
       "      <td>-0.050361</td>\n",
       "      <td>-0.212446</td>\n",
       "      <td>2.125035</td>\n",
       "      <td>-1.117311</td>\n",
       "    </tr>\n",
       "  </tbody>\n",
       "</table>\n",
       "</div>"
      ],
      "text/plain": [
       "          0         1         2         3         4\n",
       "0 -1.095762  0.000000 -0.084627  0.000000  0.651068\n",
       "1 -0.275092  0.000000  0.309674  0.000000 -0.642729\n",
       "2 -0.934096  0.000000  1.981003  0.000000 -0.663725\n",
       "3 -0.985030  0.000000  0.379025  0.896279  2.513927\n",
       "4  0.330780  1.459667 -0.930262  1.199104 -0.365967\n",
       "5 -1.786593  0.600920  0.606528 -0.259660 -0.033583\n",
       "6 -0.330763 -0.050361 -0.212446  2.125035 -1.117311"
      ]
     },
     "execution_count": 22,
     "metadata": {},
     "output_type": "execute_result"
    }
   ],
   "source": [
    "df2.fillna(0)"
   ]
  },
  {
   "cell_type": "code",
   "execution_count": 25,
   "id": "primary-elephant",
   "metadata": {},
   "outputs": [
    {
     "data": {
      "text/html": [
       "<div>\n",
       "<style scoped>\n",
       "    .dataframe tbody tr th:only-of-type {\n",
       "        vertical-align: middle;\n",
       "    }\n",
       "\n",
       "    .dataframe tbody tr th {\n",
       "        vertical-align: top;\n",
       "    }\n",
       "\n",
       "    .dataframe thead th {\n",
       "        text-align: right;\n",
       "    }\n",
       "</style>\n",
       "<table border=\"1\" class=\"dataframe\">\n",
       "  <thead>\n",
       "    <tr style=\"text-align: right;\">\n",
       "      <th></th>\n",
       "      <th>0</th>\n",
       "      <th>1</th>\n",
       "      <th>2</th>\n",
       "      <th>3</th>\n",
       "      <th>4</th>\n",
       "    </tr>\n",
       "  </thead>\n",
       "  <tbody>\n",
       "    <tr>\n",
       "      <th>0</th>\n",
       "      <td>-1.095762</td>\n",
       "      <td>0.670075</td>\n",
       "      <td>-0.084627</td>\n",
       "      <td>0.990189</td>\n",
       "      <td>0.651068</td>\n",
       "    </tr>\n",
       "    <tr>\n",
       "      <th>1</th>\n",
       "      <td>-0.275092</td>\n",
       "      <td>0.670075</td>\n",
       "      <td>0.309674</td>\n",
       "      <td>0.990189</td>\n",
       "      <td>-0.642729</td>\n",
       "    </tr>\n",
       "    <tr>\n",
       "      <th>2</th>\n",
       "      <td>-0.934096</td>\n",
       "      <td>0.670075</td>\n",
       "      <td>1.981003</td>\n",
       "      <td>0.990189</td>\n",
       "      <td>-0.663725</td>\n",
       "    </tr>\n",
       "    <tr>\n",
       "      <th>3</th>\n",
       "      <td>-0.985030</td>\n",
       "      <td>0.670075</td>\n",
       "      <td>0.379025</td>\n",
       "      <td>0.896279</td>\n",
       "      <td>2.513927</td>\n",
       "    </tr>\n",
       "    <tr>\n",
       "      <th>4</th>\n",
       "      <td>0.330780</td>\n",
       "      <td>1.459667</td>\n",
       "      <td>-0.930262</td>\n",
       "      <td>1.199104</td>\n",
       "      <td>-0.365967</td>\n",
       "    </tr>\n",
       "    <tr>\n",
       "      <th>5</th>\n",
       "      <td>-1.786593</td>\n",
       "      <td>0.600920</td>\n",
       "      <td>0.606528</td>\n",
       "      <td>-0.259660</td>\n",
       "      <td>-0.033583</td>\n",
       "    </tr>\n",
       "    <tr>\n",
       "      <th>6</th>\n",
       "      <td>-0.330763</td>\n",
       "      <td>-0.050361</td>\n",
       "      <td>-0.212446</td>\n",
       "      <td>2.125035</td>\n",
       "      <td>-1.117311</td>\n",
       "    </tr>\n",
       "  </tbody>\n",
       "</table>\n",
       "</div>"
      ],
      "text/plain": [
       "          0         1         2         3         4\n",
       "0 -1.095762  0.670075 -0.084627  0.990189  0.651068\n",
       "1 -0.275092  0.670075  0.309674  0.990189 -0.642729\n",
       "2 -0.934096  0.670075  1.981003  0.990189 -0.663725\n",
       "3 -0.985030  0.670075  0.379025  0.896279  2.513927\n",
       "4  0.330780  1.459667 -0.930262  1.199104 -0.365967\n",
       "5 -1.786593  0.600920  0.606528 -0.259660 -0.033583\n",
       "6 -0.330763 -0.050361 -0.212446  2.125035 -1.117311"
      ]
     },
     "execution_count": 25,
     "metadata": {},
     "output_type": "execute_result"
    }
   ],
   "source": [
    "df2.fillna(df2.mean())"
   ]
  },
  {
   "cell_type": "code",
   "execution_count": 26,
   "id": "organic-terrorist",
   "metadata": {},
   "outputs": [
    {
     "data": {
      "text/plain": [
       "0   -0.725222\n",
       "1    0.670075\n",
       "2    0.292699\n",
       "3    0.990189\n",
       "4    0.048811\n",
       "dtype: float64"
      ]
     },
     "execution_count": 26,
     "metadata": {},
     "output_type": "execute_result"
    }
   ],
   "source": [
    "df2.mean() # returns mean value of each row"
   ]
  },
  {
   "cell_type": "code",
   "execution_count": 27,
   "id": "peaceful-literature",
   "metadata": {},
   "outputs": [
    {
     "data": {
      "text/plain": [
       "0.2553105378212717"
      ]
     },
     "execution_count": 27,
     "metadata": {},
     "output_type": "execute_result"
    }
   ],
   "source": [
    "np.mean(df2.mean())"
   ]
  },
  {
   "cell_type": "markdown",
   "id": "elegant-milwaukee",
   "metadata": {},
   "source": [
    "## Remove duplicates"
   ]
  },
  {
   "cell_type": "code",
   "execution_count": 36,
   "id": "outside-wells",
   "metadata": {},
   "outputs": [
    {
     "data": {
      "text/html": [
       "<div>\n",
       "<style scoped>\n",
       "    .dataframe tbody tr th:only-of-type {\n",
       "        vertical-align: middle;\n",
       "    }\n",
       "\n",
       "    .dataframe tbody tr th {\n",
       "        vertical-align: top;\n",
       "    }\n",
       "\n",
       "    .dataframe thead th {\n",
       "        text-align: right;\n",
       "    }\n",
       "</style>\n",
       "<table border=\"1\" class=\"dataframe\">\n",
       "  <thead>\n",
       "    <tr style=\"text-align: right;\">\n",
       "      <th></th>\n",
       "      <th>c1</th>\n",
       "      <th>c2</th>\n",
       "    </tr>\n",
       "  </thead>\n",
       "  <tbody>\n",
       "    <tr>\n",
       "      <th>0</th>\n",
       "      <td>Three</td>\n",
       "      <td>1</td>\n",
       "    </tr>\n",
       "    <tr>\n",
       "      <th>1</th>\n",
       "      <td>One</td>\n",
       "      <td>1</td>\n",
       "    </tr>\n",
       "    <tr>\n",
       "      <th>2</th>\n",
       "      <td>Three</td>\n",
       "      <td>2</td>\n",
       "    </tr>\n",
       "    <tr>\n",
       "      <th>3</th>\n",
       "      <td>One</td>\n",
       "      <td>3</td>\n",
       "    </tr>\n",
       "    <tr>\n",
       "      <th>4</th>\n",
       "      <td>Three</td>\n",
       "      <td>3</td>\n",
       "    </tr>\n",
       "    <tr>\n",
       "      <th>5</th>\n",
       "      <td>One</td>\n",
       "      <td>4</td>\n",
       "    </tr>\n",
       "    <tr>\n",
       "      <th>6</th>\n",
       "      <td>One</td>\n",
       "      <td>4</td>\n",
       "    </tr>\n",
       "  </tbody>\n",
       "</table>\n",
       "</div>"
      ],
      "text/plain": [
       "      c1  c2\n",
       "0  Three   1\n",
       "1    One   1\n",
       "2  Three   2\n",
       "3    One   3\n",
       "4  Three   3\n",
       "5    One   4\n",
       "6    One   4"
      ]
     },
     "execution_count": 36,
     "metadata": {},
     "output_type": "execute_result"
    }
   ],
   "source": [
    "custom_dict = {'c1' : ['Three', 'One'] * 3 + ['One'],\n",
    "               'c2' : [1, 1, 2, 3, 3, 4, 4]}\n",
    "df3 = pd.DataFrame(custom_dict)\n",
    "df3"
   ]
  },
  {
   "cell_type": "code",
   "execution_count": 37,
   "id": "italian-patch",
   "metadata": {},
   "outputs": [
    {
     "data": {
      "text/plain": [
       "0    False\n",
       "1    False\n",
       "2    False\n",
       "3    False\n",
       "4    False\n",
       "5    False\n",
       "6     True\n",
       "dtype: bool"
      ]
     },
     "execution_count": 37,
     "metadata": {},
     "output_type": "execute_result"
    }
   ],
   "source": [
    "df3.duplicated() # returns True if the entire row is duplicated"
   ]
  },
  {
   "cell_type": "code",
   "execution_count": 38,
   "id": "nonprofit-hudson",
   "metadata": {},
   "outputs": [
    {
     "data": {
      "text/html": [
       "<div>\n",
       "<style scoped>\n",
       "    .dataframe tbody tr th:only-of-type {\n",
       "        vertical-align: middle;\n",
       "    }\n",
       "\n",
       "    .dataframe tbody tr th {\n",
       "        vertical-align: top;\n",
       "    }\n",
       "\n",
       "    .dataframe thead th {\n",
       "        text-align: right;\n",
       "    }\n",
       "</style>\n",
       "<table border=\"1\" class=\"dataframe\">\n",
       "  <thead>\n",
       "    <tr style=\"text-align: right;\">\n",
       "      <th></th>\n",
       "      <th>c1</th>\n",
       "      <th>c2</th>\n",
       "    </tr>\n",
       "  </thead>\n",
       "  <tbody>\n",
       "    <tr>\n",
       "      <th>0</th>\n",
       "      <td>Three</td>\n",
       "      <td>1</td>\n",
       "    </tr>\n",
       "    <tr>\n",
       "      <th>1</th>\n",
       "      <td>One</td>\n",
       "      <td>1</td>\n",
       "    </tr>\n",
       "    <tr>\n",
       "      <th>2</th>\n",
       "      <td>Three</td>\n",
       "      <td>2</td>\n",
       "    </tr>\n",
       "    <tr>\n",
       "      <th>3</th>\n",
       "      <td>One</td>\n",
       "      <td>3</td>\n",
       "    </tr>\n",
       "    <tr>\n",
       "      <th>4</th>\n",
       "      <td>Three</td>\n",
       "      <td>3</td>\n",
       "    </tr>\n",
       "    <tr>\n",
       "      <th>5</th>\n",
       "      <td>One</td>\n",
       "      <td>4</td>\n",
       "    </tr>\n",
       "  </tbody>\n",
       "</table>\n",
       "</div>"
      ],
      "text/plain": [
       "      c1  c2\n",
       "0  Three   1\n",
       "1    One   1\n",
       "2  Three   2\n",
       "3    One   3\n",
       "4  Three   3\n",
       "5    One   4"
      ]
     },
     "execution_count": 38,
     "metadata": {},
     "output_type": "execute_result"
    }
   ],
   "source": [
    "df3.drop_duplicates()"
   ]
  },
  {
   "cell_type": "code",
   "execution_count": 40,
   "id": "physical-longer",
   "metadata": {},
   "outputs": [
    {
     "data": {
      "text/html": [
       "<div>\n",
       "<style scoped>\n",
       "    .dataframe tbody tr th:only-of-type {\n",
       "        vertical-align: middle;\n",
       "    }\n",
       "\n",
       "    .dataframe tbody tr th {\n",
       "        vertical-align: top;\n",
       "    }\n",
       "\n",
       "    .dataframe thead th {\n",
       "        text-align: right;\n",
       "    }\n",
       "</style>\n",
       "<table border=\"1\" class=\"dataframe\">\n",
       "  <thead>\n",
       "    <tr style=\"text-align: right;\">\n",
       "      <th></th>\n",
       "      <th>c1</th>\n",
       "      <th>c2</th>\n",
       "    </tr>\n",
       "  </thead>\n",
       "  <tbody>\n",
       "    <tr>\n",
       "      <th>0</th>\n",
       "      <td>Three</td>\n",
       "      <td>1</td>\n",
       "    </tr>\n",
       "    <tr>\n",
       "      <th>1</th>\n",
       "      <td>One</td>\n",
       "      <td>1</td>\n",
       "    </tr>\n",
       "  </tbody>\n",
       "</table>\n",
       "</div>"
      ],
      "text/plain": [
       "      c1  c2\n",
       "0  Three   1\n",
       "1    One   1"
      ]
     },
     "execution_count": 40,
     "metadata": {},
     "output_type": "execute_result"
    }
   ],
   "source": [
    "df3.drop_duplicates(['c1']) # drops rows with duplicates in the specified column"
   ]
  },
  {
   "cell_type": "code",
   "execution_count": 41,
   "id": "legal-referral",
   "metadata": {},
   "outputs": [
    {
     "data": {
      "text/html": [
       "<div>\n",
       "<style scoped>\n",
       "    .dataframe tbody tr th:only-of-type {\n",
       "        vertical-align: middle;\n",
       "    }\n",
       "\n",
       "    .dataframe tbody tr th {\n",
       "        vertical-align: top;\n",
       "    }\n",
       "\n",
       "    .dataframe thead th {\n",
       "        text-align: right;\n",
       "    }\n",
       "</style>\n",
       "<table border=\"1\" class=\"dataframe\">\n",
       "  <thead>\n",
       "    <tr style=\"text-align: right;\">\n",
       "      <th></th>\n",
       "      <th>c1</th>\n",
       "      <th>c2</th>\n",
       "    </tr>\n",
       "  </thead>\n",
       "  <tbody>\n",
       "    <tr>\n",
       "      <th>0</th>\n",
       "      <td>Three</td>\n",
       "      <td>1</td>\n",
       "    </tr>\n",
       "    <tr>\n",
       "      <th>2</th>\n",
       "      <td>Three</td>\n",
       "      <td>2</td>\n",
       "    </tr>\n",
       "    <tr>\n",
       "      <th>3</th>\n",
       "      <td>One</td>\n",
       "      <td>3</td>\n",
       "    </tr>\n",
       "    <tr>\n",
       "      <th>5</th>\n",
       "      <td>One</td>\n",
       "      <td>4</td>\n",
       "    </tr>\n",
       "  </tbody>\n",
       "</table>\n",
       "</div>"
      ],
      "text/plain": [
       "      c1  c2\n",
       "0  Three   1\n",
       "2  Three   2\n",
       "3    One   3\n",
       "5    One   4"
      ]
     },
     "execution_count": 41,
     "metadata": {},
     "output_type": "execute_result"
    }
   ],
   "source": [
    "df3.drop_duplicates(['c2'])"
   ]
  },
  {
   "cell_type": "code",
   "execution_count": 42,
   "id": "variable-painting",
   "metadata": {},
   "outputs": [
    {
     "data": {
      "text/plain": [
       "0       3.141593\n",
       "1    -999.000000\n",
       "2       2.870000\n",
       "3    -999.000000\n",
       "4   -1000.000000\n",
       "5       3.000000\n",
       "6     100.000000\n",
       "dtype: float64"
      ]
     },
     "execution_count": 42,
     "metadata": {},
     "output_type": "execute_result"
    }
   ],
   "source": [
    "s2 = pd.Series([np.pi, -999, 2.87, -999, -1000, 3, 100])\n",
    "s2"
   ]
  },
  {
   "cell_type": "code",
   "execution_count": 43,
   "id": "global-supervision",
   "metadata": {},
   "outputs": [
    {
     "data": {
      "text/plain": [
       "0       3.141593\n",
       "1       0.000000\n",
       "2       2.870000\n",
       "3       0.000000\n",
       "4   -1000.000000\n",
       "5       3.000000\n",
       "6     100.000000\n",
       "dtype: float64"
      ]
     },
     "execution_count": 43,
     "metadata": {},
     "output_type": "execute_result"
    }
   ],
   "source": [
    "s2.replace(-999, 0)"
   ]
  },
  {
   "cell_type": "code",
   "execution_count": 44,
   "id": "exciting-commissioner",
   "metadata": {},
   "outputs": [
    {
     "data": {
      "text/plain": [
       "0      3.141593\n",
       "1      0.000000\n",
       "2      2.870000\n",
       "3      0.000000\n",
       "4      0.000000\n",
       "5      3.000000\n",
       "6    100.000000\n",
       "dtype: float64"
      ]
     },
     "execution_count": 44,
     "metadata": {},
     "output_type": "execute_result"
    }
   ],
   "source": [
    "s2.replace([-999, -1000], 0)"
   ]
  },
  {
   "cell_type": "code",
   "execution_count": 45,
   "id": "minus-worry",
   "metadata": {},
   "outputs": [
    {
     "data": {
      "text/plain": [
       "0      3.141593\n",
       "1      0.000000\n",
       "2      2.870000\n",
       "3      0.000000\n",
       "4           NaN\n",
       "5      3.000000\n",
       "6    100.000000\n",
       "dtype: float64"
      ]
     },
     "execution_count": 45,
     "metadata": {},
     "output_type": "execute_result"
    }
   ],
   "source": [
    "s2.replace([-999, -1000], [0, np.nan])"
   ]
  },
  {
   "cell_type": "markdown",
   "id": "annoying-switch",
   "metadata": {},
   "source": [
    "## String manipulation"
   ]
  },
  {
   "cell_type": "code",
   "execution_count": 48,
   "id": "ready-edmonton",
   "metadata": {},
   "outputs": [
    {
     "data": {
      "text/plain": [
       "'a,b, test'"
      ]
     },
     "execution_count": 48,
     "metadata": {},
     "output_type": "execute_result"
    }
   ],
   "source": [
    "test_string = 'a,b, test'\n",
    "test_string"
   ]
  },
  {
   "cell_type": "code",
   "execution_count": 49,
   "id": "accessible-oxygen",
   "metadata": {},
   "outputs": [
    {
     "data": {
      "text/plain": [
       "['a,b,', 'test']"
      ]
     },
     "execution_count": 49,
     "metadata": {},
     "output_type": "execute_result"
    }
   ],
   "source": [
    "test_string.split()"
   ]
  },
  {
   "cell_type": "code",
   "execution_count": 50,
   "id": "blessed-constant",
   "metadata": {},
   "outputs": [
    {
     "data": {
      "text/plain": [
       "['a', 'b', ' test']"
      ]
     },
     "execution_count": 50,
     "metadata": {},
     "output_type": "execute_result"
    }
   ],
   "source": [
    "test_string.split(',')"
   ]
  },
  {
   "cell_type": "code",
   "execution_count": 58,
   "id": "medical-munich",
   "metadata": {},
   "outputs": [
    {
     "data": {
      "text/plain": [
       "'droid'"
      ]
     },
     "execution_count": 58,
     "metadata": {},
     "output_type": "execute_result"
    }
   ],
   "source": [
    "a = 'androidan'\n",
    "a.strip('an')"
   ]
  },
  {
   "cell_type": "code",
   "execution_count": 53,
   "id": "treated-checkout",
   "metadata": {},
   "outputs": [
    {
     "data": {
      "text/plain": [
       "['a', 'b', 'test']"
      ]
     },
     "execution_count": 53,
     "metadata": {},
     "output_type": "execute_result"
    }
   ],
   "source": [
    "var = [x.strip() for x in test_string.split(',')]\n",
    "var"
   ]
  },
  {
   "cell_type": "code",
   "execution_count": 59,
   "id": "sought-forwarding",
   "metadata": {},
   "outputs": [],
   "source": [
    "x, y, z = var"
   ]
  },
  {
   "cell_type": "code",
   "execution_count": 60,
   "id": "junior-toddler",
   "metadata": {},
   "outputs": [
    {
     "data": {
      "text/plain": [
       "'a:b:test'"
      ]
     },
     "execution_count": 60,
     "metadata": {},
     "output_type": "execute_result"
    }
   ],
   "source": [
    "x + ':' + y + ':' + z"
   ]
  },
  {
   "cell_type": "code",
   "execution_count": 61,
   "id": "civic-petroleum",
   "metadata": {},
   "outputs": [
    {
     "data": {
      "text/plain": [
       "'a:b:test'"
      ]
     },
     "execution_count": 61,
     "metadata": {},
     "output_type": "execute_result"
    }
   ],
   "source": [
    "':'.join(var)"
   ]
  },
  {
   "cell_type": "code",
   "execution_count": 67,
   "id": "athletic-operator",
   "metadata": {},
   "outputs": [
    {
     "data": {
      "text/plain": [
       "'0, 1, 2, 3, 4, 5, 6, 7, 8, 9'"
      ]
     },
     "execution_count": 67,
     "metadata": {},
     "output_type": "execute_result"
    }
   ],
   "source": [
    "my_array = np.arange(10)\n",
    "my_array = [str(x) for x in my_array]\n",
    "', '.join(my_array)"
   ]
  },
  {
   "cell_type": "markdown",
   "id": "tight-burst",
   "metadata": {},
   "source": [
    "# Data Analysis and Wrangling with Pandas"
   ]
  },
  {
   "cell_type": "markdown",
   "id": "distinct-syracuse",
   "metadata": {},
   "source": [
    "## Hierarchical indexing"
   ]
  },
  {
   "cell_type": "code",
   "execution_count": 99,
   "id": "pregnant-standing",
   "metadata": {},
   "outputs": [
    {
     "data": {
      "text/plain": [
       "a  1   -0.450069\n",
       "   2    1.029041\n",
       "   3    0.888173\n",
       "b  1    1.852513\n",
       "   2    1.565013\n",
       "   3    0.369494\n",
       "c  1    0.587384\n",
       "   2    0.716385\n",
       "   3    1.305033\n",
       "dtype: float64"
      ]
     },
     "execution_count": 99,
     "metadata": {},
     "output_type": "execute_result"
    }
   ],
   "source": [
    "ds1 = pd.Series(np.random.randn(9),\n",
    "                index=[['a', 'a', 'a', 'b', 'b', 'b', 'c', 'c', 'c'],\n",
    "                       [1, 2, 3, 1, 2, 3, 1, 2, 3]])\n",
    "ds1"
   ]
  },
  {
   "cell_type": "code",
   "execution_count": 100,
   "id": "figured-popularity",
   "metadata": {},
   "outputs": [
    {
     "data": {
      "text/plain": [
       "MultiIndex([('a', 1),\n",
       "            ('a', 2),\n",
       "            ('a', 3),\n",
       "            ('b', 1),\n",
       "            ('b', 2),\n",
       "            ('b', 3),\n",
       "            ('c', 1),\n",
       "            ('c', 2),\n",
       "            ('c', 3)],\n",
       "           )"
      ]
     },
     "execution_count": 100,
     "metadata": {},
     "output_type": "execute_result"
    }
   ],
   "source": [
    "ds1.index"
   ]
  },
  {
   "cell_type": "code",
   "execution_count": 101,
   "id": "interested-freeze",
   "metadata": {},
   "outputs": [
    {
     "data": {
      "text/plain": [
       "1    1.852513\n",
       "2    1.565013\n",
       "3    0.369494\n",
       "dtype: float64"
      ]
     },
     "execution_count": 101,
     "metadata": {},
     "output_type": "execute_result"
    }
   ],
   "source": [
    "ds1['b']"
   ]
  },
  {
   "cell_type": "code",
   "execution_count": 103,
   "id": "prepared-trader",
   "metadata": {},
   "outputs": [
    {
     "data": {
      "text/plain": [
       "b  1    1.852513\n",
       "   2    1.565013\n",
       "   3    0.369494\n",
       "c  1    0.587384\n",
       "   2    0.716385\n",
       "   3    1.305033\n",
       "dtype: float64"
      ]
     },
     "execution_count": 103,
     "metadata": {},
     "output_type": "execute_result"
    }
   ],
   "source": [
    "ds2 = ds1.copy()\n",
    "del ds2['a']\n",
    "ds2"
   ]
  },
  {
   "cell_type": "code",
   "execution_count": 104,
   "id": "rural-dream",
   "metadata": {},
   "outputs": [
    {
     "data": {
      "text/plain": [
       "b  1    1.852513\n",
       "   2    1.565013\n",
       "   3    0.369494\n",
       "a  1   -0.450069\n",
       "   2    1.029041\n",
       "   3    0.888173\n",
       "dtype: float64"
      ]
     },
     "execution_count": 104,
     "metadata": {},
     "output_type": "execute_result"
    }
   ],
   "source": [
    "ds1.loc[['b', 'a']]"
   ]
  },
  {
   "cell_type": "code",
   "execution_count": 105,
   "id": "alien-belle",
   "metadata": {},
   "outputs": [
    {
     "data": {
      "text/html": [
       "<div>\n",
       "<style scoped>\n",
       "    .dataframe tbody tr th:only-of-type {\n",
       "        vertical-align: middle;\n",
       "    }\n",
       "\n",
       "    .dataframe tbody tr th {\n",
       "        vertical-align: top;\n",
       "    }\n",
       "\n",
       "    .dataframe thead th {\n",
       "        text-align: right;\n",
       "    }\n",
       "</style>\n",
       "<table border=\"1\" class=\"dataframe\">\n",
       "  <thead>\n",
       "    <tr style=\"text-align: right;\">\n",
       "      <th></th>\n",
       "      <th>1</th>\n",
       "      <th>2</th>\n",
       "      <th>3</th>\n",
       "    </tr>\n",
       "  </thead>\n",
       "  <tbody>\n",
       "    <tr>\n",
       "      <th>a</th>\n",
       "      <td>-0.450069</td>\n",
       "      <td>1.029041</td>\n",
       "      <td>0.888173</td>\n",
       "    </tr>\n",
       "    <tr>\n",
       "      <th>b</th>\n",
       "      <td>1.852513</td>\n",
       "      <td>1.565013</td>\n",
       "      <td>0.369494</td>\n",
       "    </tr>\n",
       "    <tr>\n",
       "      <th>c</th>\n",
       "      <td>0.587384</td>\n",
       "      <td>0.716385</td>\n",
       "      <td>1.305033</td>\n",
       "    </tr>\n",
       "  </tbody>\n",
       "</table>\n",
       "</div>"
      ],
      "text/plain": [
       "          1         2         3\n",
       "a -0.450069  1.029041  0.888173\n",
       "b  1.852513  1.565013  0.369494\n",
       "c  0.587384  0.716385  1.305033"
      ]
     },
     "execution_count": 105,
     "metadata": {},
     "output_type": "execute_result"
    }
   ],
   "source": [
    "ds1.unstack()"
   ]
  },
  {
   "cell_type": "code",
   "execution_count": 108,
   "id": "sharing-internet",
   "metadata": {},
   "outputs": [
    {
     "name": "stdout",
     "output_type": "stream",
     "text": [
      "<class 'pandas.core.series.Series'>\n",
      "<class 'pandas.core.frame.DataFrame'>\n"
     ]
    }
   ],
   "source": [
    "print(type(ds1))\n",
    "print(type(ds1.unstack()))"
   ]
  },
  {
   "cell_type": "code",
   "execution_count": 109,
   "id": "dressed-chemistry",
   "metadata": {},
   "outputs": [
    {
     "data": {
      "text/plain": [
       "a  1   -0.450069\n",
       "   2    1.029041\n",
       "   3    0.888173\n",
       "b  1    1.852513\n",
       "   2    1.565013\n",
       "   3    0.369494\n",
       "c  1    0.587384\n",
       "   2    0.716385\n",
       "   3    1.305033\n",
       "dtype: float64"
      ]
     },
     "execution_count": 109,
     "metadata": {},
     "output_type": "execute_result"
    }
   ],
   "source": [
    "ds1.unstack().stack()"
   ]
  },
  {
   "cell_type": "code",
   "execution_count": 127,
   "id": "european-eleven",
   "metadata": {},
   "outputs": [
    {
     "data": {
      "text/html": [
       "<div>\n",
       "<style scoped>\n",
       "    .dataframe tbody tr th:only-of-type {\n",
       "        vertical-align: middle;\n",
       "    }\n",
       "\n",
       "    .dataframe tbody tr th {\n",
       "        vertical-align: top;\n",
       "    }\n",
       "\n",
       "    .dataframe thead tr th {\n",
       "        text-align: left;\n",
       "    }\n",
       "</style>\n",
       "<table border=\"1\" class=\"dataframe\">\n",
       "  <thead>\n",
       "    <tr>\n",
       "      <th></th>\n",
       "      <th></th>\n",
       "      <th colspan=\"2\" halign=\"left\">Skopje</th>\n",
       "      <th>Belgrad</th>\n",
       "    </tr>\n",
       "    <tr>\n",
       "      <th></th>\n",
       "      <th></th>\n",
       "      <th>Red</th>\n",
       "      <th>Green</th>\n",
       "      <th>Blue</th>\n",
       "    </tr>\n",
       "  </thead>\n",
       "  <tbody>\n",
       "    <tr>\n",
       "      <th rowspan=\"2\" valign=\"top\">a</th>\n",
       "      <th>1</th>\n",
       "      <td>0</td>\n",
       "      <td>1</td>\n",
       "      <td>2</td>\n",
       "    </tr>\n",
       "    <tr>\n",
       "      <th>2</th>\n",
       "      <td>3</td>\n",
       "      <td>4</td>\n",
       "      <td>5</td>\n",
       "    </tr>\n",
       "    <tr>\n",
       "      <th rowspan=\"2\" valign=\"top\">b</th>\n",
       "      <th>1</th>\n",
       "      <td>6</td>\n",
       "      <td>7</td>\n",
       "      <td>8</td>\n",
       "    </tr>\n",
       "    <tr>\n",
       "      <th>2</th>\n",
       "      <td>9</td>\n",
       "      <td>10</td>\n",
       "      <td>11</td>\n",
       "    </tr>\n",
       "  </tbody>\n",
       "</table>\n",
       "</div>"
      ],
      "text/plain": [
       "    Skopje       Belgrad\n",
       "       Red Green    Blue\n",
       "a 1      0     1       2\n",
       "  2      3     4       5\n",
       "b 1      6     7       8\n",
       "  2      9    10      11"
      ]
     },
     "execution_count": 127,
     "metadata": {},
     "output_type": "execute_result"
    }
   ],
   "source": [
    "df1 = pd.DataFrame(np.arange(12).reshape((4, 3)),\n",
    "                   index = [['a', 'a', 'b', 'b'], [1, 2, 1, 2]],\n",
    "                   columns = [['Skopje', 'Skopje', 'Belgrad'], ['Red', 'Green', 'Blue']])\n",
    "df1  "
   ]
  },
  {
   "cell_type": "code",
   "execution_count": 141,
   "id": "sonic-motivation",
   "metadata": {},
   "outputs": [
    {
     "data": {
      "text/html": [
       "<div>\n",
       "<style scoped>\n",
       "    .dataframe tbody tr th:only-of-type {\n",
       "        vertical-align: middle;\n",
       "    }\n",
       "\n",
       "    .dataframe tbody tr th {\n",
       "        vertical-align: top;\n",
       "    }\n",
       "\n",
       "    .dataframe thead tr th {\n",
       "        text-align: left;\n",
       "    }\n",
       "\n",
       "    .dataframe thead tr:last-of-type th {\n",
       "        text-align: right;\n",
       "    }\n",
       "</style>\n",
       "<table border=\"1\" class=\"dataframe\">\n",
       "  <thead>\n",
       "    <tr>\n",
       "      <th></th>\n",
       "      <th>cities</th>\n",
       "      <th colspan=\"2\" halign=\"left\">Skopje</th>\n",
       "      <th>Belgrad</th>\n",
       "    </tr>\n",
       "    <tr>\n",
       "      <th></th>\n",
       "      <th>color</th>\n",
       "      <th>Red</th>\n",
       "      <th>Green</th>\n",
       "      <th>Blue</th>\n",
       "    </tr>\n",
       "    <tr>\n",
       "      <th>index1</th>\n",
       "      <th>index2</th>\n",
       "      <th></th>\n",
       "      <th></th>\n",
       "      <th></th>\n",
       "    </tr>\n",
       "  </thead>\n",
       "  <tbody>\n",
       "    <tr>\n",
       "      <th rowspan=\"2\" valign=\"top\">a</th>\n",
       "      <th>1</th>\n",
       "      <td>0</td>\n",
       "      <td>1</td>\n",
       "      <td>2</td>\n",
       "    </tr>\n",
       "    <tr>\n",
       "      <th>2</th>\n",
       "      <td>3</td>\n",
       "      <td>4</td>\n",
       "      <td>5</td>\n",
       "    </tr>\n",
       "    <tr>\n",
       "      <th rowspan=\"2\" valign=\"top\">b</th>\n",
       "      <th>1</th>\n",
       "      <td>6</td>\n",
       "      <td>7</td>\n",
       "      <td>8</td>\n",
       "    </tr>\n",
       "    <tr>\n",
       "      <th>2</th>\n",
       "      <td>9</td>\n",
       "      <td>10</td>\n",
       "      <td>11</td>\n",
       "    </tr>\n",
       "  </tbody>\n",
       "</table>\n",
       "</div>"
      ],
      "text/plain": [
       "cities        Skopje       Belgrad\n",
       "color            Red Green    Blue\n",
       "index1 index2                     \n",
       "a      1           0     1       2\n",
       "       2           3     4       5\n",
       "b      1           6     7       8\n",
       "       2           9    10      11"
      ]
     },
     "execution_count": 141,
     "metadata": {},
     "output_type": "execute_result"
    }
   ],
   "source": [
    "df1.index.names = ['index1', 'index2']\n",
    "df1"
   ]
  },
  {
   "cell_type": "code",
   "execution_count": 129,
   "id": "russian-reflection",
   "metadata": {},
   "outputs": [
    {
     "data": {
      "text/html": [
       "<div>\n",
       "<style scoped>\n",
       "    .dataframe tbody tr th:only-of-type {\n",
       "        vertical-align: middle;\n",
       "    }\n",
       "\n",
       "    .dataframe tbody tr th {\n",
       "        vertical-align: top;\n",
       "    }\n",
       "\n",
       "    .dataframe thead tr th {\n",
       "        text-align: left;\n",
       "    }\n",
       "\n",
       "    .dataframe thead tr:last-of-type th {\n",
       "        text-align: right;\n",
       "    }\n",
       "</style>\n",
       "<table border=\"1\" class=\"dataframe\">\n",
       "  <thead>\n",
       "    <tr>\n",
       "      <th></th>\n",
       "      <th>cities</th>\n",
       "      <th colspan=\"2\" halign=\"left\">Skopje</th>\n",
       "      <th>Belgrad</th>\n",
       "    </tr>\n",
       "    <tr>\n",
       "      <th></th>\n",
       "      <th>color</th>\n",
       "      <th>Red</th>\n",
       "      <th>Green</th>\n",
       "      <th>Blue</th>\n",
       "    </tr>\n",
       "    <tr>\n",
       "      <th>index1</th>\n",
       "      <th>index2</th>\n",
       "      <th></th>\n",
       "      <th></th>\n",
       "      <th></th>\n",
       "    </tr>\n",
       "  </thead>\n",
       "  <tbody>\n",
       "    <tr>\n",
       "      <th rowspan=\"2\" valign=\"top\">a</th>\n",
       "      <th>1</th>\n",
       "      <td>0</td>\n",
       "      <td>1</td>\n",
       "      <td>2</td>\n",
       "    </tr>\n",
       "    <tr>\n",
       "      <th>2</th>\n",
       "      <td>3</td>\n",
       "      <td>4</td>\n",
       "      <td>5</td>\n",
       "    </tr>\n",
       "    <tr>\n",
       "      <th rowspan=\"2\" valign=\"top\">b</th>\n",
       "      <th>1</th>\n",
       "      <td>6</td>\n",
       "      <td>7</td>\n",
       "      <td>8</td>\n",
       "    </tr>\n",
       "    <tr>\n",
       "      <th>2</th>\n",
       "      <td>9</td>\n",
       "      <td>10</td>\n",
       "      <td>11</td>\n",
       "    </tr>\n",
       "  </tbody>\n",
       "</table>\n",
       "</div>"
      ],
      "text/plain": [
       "cities        Skopje       Belgrad\n",
       "color            Red Green    Blue\n",
       "index1 index2                     \n",
       "a      1           0     1       2\n",
       "       2           3     4       5\n",
       "b      1           6     7       8\n",
       "       2           9    10      11"
      ]
     },
     "execution_count": 129,
     "metadata": {},
     "output_type": "execute_result"
    }
   ],
   "source": [
    "df1.columns.names = ['cities', 'color']\n",
    "df1"
   ]
  },
  {
   "cell_type": "code",
   "execution_count": 130,
   "id": "induced-equilibrium",
   "metadata": {},
   "outputs": [
    {
     "data": {
      "text/html": [
       "<div>\n",
       "<style scoped>\n",
       "    .dataframe tbody tr th:only-of-type {\n",
       "        vertical-align: middle;\n",
       "    }\n",
       "\n",
       "    .dataframe tbody tr th {\n",
       "        vertical-align: top;\n",
       "    }\n",
       "\n",
       "    .dataframe thead th {\n",
       "        text-align: right;\n",
       "    }\n",
       "</style>\n",
       "<table border=\"1\" class=\"dataframe\">\n",
       "  <thead>\n",
       "    <tr style=\"text-align: right;\">\n",
       "      <th></th>\n",
       "      <th>color</th>\n",
       "      <th>Red</th>\n",
       "      <th>Green</th>\n",
       "    </tr>\n",
       "    <tr>\n",
       "      <th>index1</th>\n",
       "      <th>index2</th>\n",
       "      <th></th>\n",
       "      <th></th>\n",
       "    </tr>\n",
       "  </thead>\n",
       "  <tbody>\n",
       "    <tr>\n",
       "      <th rowspan=\"2\" valign=\"top\">a</th>\n",
       "      <th>1</th>\n",
       "      <td>0</td>\n",
       "      <td>1</td>\n",
       "    </tr>\n",
       "    <tr>\n",
       "      <th>2</th>\n",
       "      <td>3</td>\n",
       "      <td>4</td>\n",
       "    </tr>\n",
       "    <tr>\n",
       "      <th rowspan=\"2\" valign=\"top\">b</th>\n",
       "      <th>1</th>\n",
       "      <td>6</td>\n",
       "      <td>7</td>\n",
       "    </tr>\n",
       "    <tr>\n",
       "      <th>2</th>\n",
       "      <td>9</td>\n",
       "      <td>10</td>\n",
       "    </tr>\n",
       "  </tbody>\n",
       "</table>\n",
       "</div>"
      ],
      "text/plain": [
       "color          Red  Green\n",
       "index1 index2            \n",
       "a      1         0      1\n",
       "       2         3      4\n",
       "b      1         6      7\n",
       "       2         9     10"
      ]
     },
     "execution_count": 130,
     "metadata": {},
     "output_type": "execute_result"
    }
   ],
   "source": [
    "df1['Skopje']"
   ]
  },
  {
   "cell_type": "code",
   "execution_count": 131,
   "id": "preceding-borough",
   "metadata": {},
   "outputs": [
    {
     "data": {
      "text/html": [
       "<div>\n",
       "<style scoped>\n",
       "    .dataframe tbody tr th:only-of-type {\n",
       "        vertical-align: middle;\n",
       "    }\n",
       "\n",
       "    .dataframe tbody tr th {\n",
       "        vertical-align: top;\n",
       "    }\n",
       "\n",
       "    .dataframe thead th {\n",
       "        text-align: right;\n",
       "    }\n",
       "</style>\n",
       "<table border=\"1\" class=\"dataframe\">\n",
       "  <thead>\n",
       "    <tr style=\"text-align: right;\">\n",
       "      <th></th>\n",
       "      <th>color</th>\n",
       "      <th>Blue</th>\n",
       "    </tr>\n",
       "    <tr>\n",
       "      <th>index1</th>\n",
       "      <th>index2</th>\n",
       "      <th></th>\n",
       "    </tr>\n",
       "  </thead>\n",
       "  <tbody>\n",
       "    <tr>\n",
       "      <th rowspan=\"2\" valign=\"top\">a</th>\n",
       "      <th>1</th>\n",
       "      <td>2</td>\n",
       "    </tr>\n",
       "    <tr>\n",
       "      <th>2</th>\n",
       "      <td>5</td>\n",
       "    </tr>\n",
       "    <tr>\n",
       "      <th rowspan=\"2\" valign=\"top\">b</th>\n",
       "      <th>1</th>\n",
       "      <td>8</td>\n",
       "    </tr>\n",
       "    <tr>\n",
       "      <th>2</th>\n",
       "      <td>11</td>\n",
       "    </tr>\n",
       "  </tbody>\n",
       "</table>\n",
       "</div>"
      ],
      "text/plain": [
       "color          Blue\n",
       "index1 index2      \n",
       "a      1          2\n",
       "       2          5\n",
       "b      1          8\n",
       "       2         11"
      ]
     },
     "execution_count": 131,
     "metadata": {},
     "output_type": "execute_result"
    }
   ],
   "source": [
    "df1['Belgrad']"
   ]
  },
  {
   "cell_type": "code",
   "execution_count": 137,
   "id": "empirical-testing",
   "metadata": {},
   "outputs": [
    {
     "data": {
      "text/html": [
       "<div>\n",
       "<style scoped>\n",
       "    .dataframe tbody tr th:only-of-type {\n",
       "        vertical-align: middle;\n",
       "    }\n",
       "\n",
       "    .dataframe tbody tr th {\n",
       "        vertical-align: top;\n",
       "    }\n",
       "\n",
       "    .dataframe thead tr th {\n",
       "        text-align: left;\n",
       "    }\n",
       "\n",
       "    .dataframe thead tr:last-of-type th {\n",
       "        text-align: right;\n",
       "    }\n",
       "</style>\n",
       "<table border=\"1\" class=\"dataframe\">\n",
       "  <thead>\n",
       "    <tr>\n",
       "      <th></th>\n",
       "      <th>cities</th>\n",
       "      <th colspan=\"2\" halign=\"left\">Skopje</th>\n",
       "      <th>Belgrad</th>\n",
       "    </tr>\n",
       "    <tr>\n",
       "      <th></th>\n",
       "      <th>color</th>\n",
       "      <th>Red</th>\n",
       "      <th>Green</th>\n",
       "      <th>Blue</th>\n",
       "    </tr>\n",
       "    <tr>\n",
       "      <th>key2</th>\n",
       "      <th>key1</th>\n",
       "      <th></th>\n",
       "      <th></th>\n",
       "      <th></th>\n",
       "    </tr>\n",
       "  </thead>\n",
       "  <tbody>\n",
       "    <tr>\n",
       "      <th>1</th>\n",
       "      <th>a</th>\n",
       "      <td>0</td>\n",
       "      <td>1</td>\n",
       "      <td>2</td>\n",
       "    </tr>\n",
       "    <tr>\n",
       "      <th>2</th>\n",
       "      <th>a</th>\n",
       "      <td>3</td>\n",
       "      <td>4</td>\n",
       "      <td>5</td>\n",
       "    </tr>\n",
       "    <tr>\n",
       "      <th>1</th>\n",
       "      <th>b</th>\n",
       "      <td>6</td>\n",
       "      <td>7</td>\n",
       "      <td>8</td>\n",
       "    </tr>\n",
       "    <tr>\n",
       "      <th>2</th>\n",
       "      <th>b</th>\n",
       "      <td>9</td>\n",
       "      <td>10</td>\n",
       "      <td>11</td>\n",
       "    </tr>\n",
       "  </tbody>\n",
       "</table>\n",
       "</div>"
      ],
      "text/plain": [
       "cities    Skopje       Belgrad\n",
       "color        Red Green    Blue\n",
       "key2 key1                     \n",
       "1    a         0     1       2\n",
       "2    a         3     4       5\n",
       "1    b         6     7       8\n",
       "2    b         9    10      11"
      ]
     },
     "execution_count": 137,
     "metadata": {},
     "output_type": "execute_result"
    }
   ],
   "source": [
    "df1.swaplevel(0,1)"
   ]
  },
  {
   "cell_type": "code",
   "execution_count": 142,
   "id": "wound-somerset",
   "metadata": {},
   "outputs": [
    {
     "data": {
      "text/html": [
       "<div>\n",
       "<style scoped>\n",
       "    .dataframe tbody tr th:only-of-type {\n",
       "        vertical-align: middle;\n",
       "    }\n",
       "\n",
       "    .dataframe tbody tr th {\n",
       "        vertical-align: top;\n",
       "    }\n",
       "\n",
       "    .dataframe thead tr th {\n",
       "        text-align: left;\n",
       "    }\n",
       "\n",
       "    .dataframe thead tr:last-of-type th {\n",
       "        text-align: right;\n",
       "    }\n",
       "</style>\n",
       "<table border=\"1\" class=\"dataframe\">\n",
       "  <thead>\n",
       "    <tr>\n",
       "      <th></th>\n",
       "      <th>cities</th>\n",
       "      <th colspan=\"2\" halign=\"left\">Skopje</th>\n",
       "      <th>Belgrad</th>\n",
       "    </tr>\n",
       "    <tr>\n",
       "      <th></th>\n",
       "      <th>color</th>\n",
       "      <th>Red</th>\n",
       "      <th>Green</th>\n",
       "      <th>Blue</th>\n",
       "    </tr>\n",
       "    <tr>\n",
       "      <th>index2</th>\n",
       "      <th>index1</th>\n",
       "      <th></th>\n",
       "      <th></th>\n",
       "      <th></th>\n",
       "    </tr>\n",
       "  </thead>\n",
       "  <tbody>\n",
       "    <tr>\n",
       "      <th>1</th>\n",
       "      <th>a</th>\n",
       "      <td>0</td>\n",
       "      <td>1</td>\n",
       "      <td>2</td>\n",
       "    </tr>\n",
       "    <tr>\n",
       "      <th>2</th>\n",
       "      <th>a</th>\n",
       "      <td>3</td>\n",
       "      <td>4</td>\n",
       "      <td>5</td>\n",
       "    </tr>\n",
       "    <tr>\n",
       "      <th>1</th>\n",
       "      <th>b</th>\n",
       "      <td>6</td>\n",
       "      <td>7</td>\n",
       "      <td>8</td>\n",
       "    </tr>\n",
       "    <tr>\n",
       "      <th>2</th>\n",
       "      <th>b</th>\n",
       "      <td>9</td>\n",
       "      <td>10</td>\n",
       "      <td>11</td>\n",
       "    </tr>\n",
       "  </tbody>\n",
       "</table>\n",
       "</div>"
      ],
      "text/plain": [
       "cities        Skopje       Belgrad\n",
       "color            Red Green    Blue\n",
       "index2 index1                     \n",
       "1      a           0     1       2\n",
       "2      a           3     4       5\n",
       "1      b           6     7       8\n",
       "2      b           9    10      11"
      ]
     },
     "execution_count": 142,
     "metadata": {},
     "output_type": "execute_result"
    }
   ],
   "source": [
    "df1.swaplevel('index1', 'index2')"
   ]
  },
  {
   "cell_type": "code",
   "execution_count": 144,
   "id": "complimentary-girlfriend",
   "metadata": {},
   "outputs": [
    {
     "data": {
      "text/html": [
       "<div>\n",
       "<style scoped>\n",
       "    .dataframe tbody tr th:only-of-type {\n",
       "        vertical-align: middle;\n",
       "    }\n",
       "\n",
       "    .dataframe tbody tr th {\n",
       "        vertical-align: top;\n",
       "    }\n",
       "\n",
       "    .dataframe thead tr th {\n",
       "        text-align: left;\n",
       "    }\n",
       "\n",
       "    .dataframe thead tr:last-of-type th {\n",
       "        text-align: right;\n",
       "    }\n",
       "</style>\n",
       "<table border=\"1\" class=\"dataframe\">\n",
       "  <thead>\n",
       "    <tr>\n",
       "      <th></th>\n",
       "      <th>cities</th>\n",
       "      <th colspan=\"2\" halign=\"left\">Skopje</th>\n",
       "      <th>Belgrad</th>\n",
       "    </tr>\n",
       "    <tr>\n",
       "      <th></th>\n",
       "      <th>color</th>\n",
       "      <th>Red</th>\n",
       "      <th>Green</th>\n",
       "      <th>Blue</th>\n",
       "    </tr>\n",
       "    <tr>\n",
       "      <th>index1</th>\n",
       "      <th>index2</th>\n",
       "      <th></th>\n",
       "      <th></th>\n",
       "      <th></th>\n",
       "    </tr>\n",
       "  </thead>\n",
       "  <tbody>\n",
       "    <tr>\n",
       "      <th>a</th>\n",
       "      <th>1</th>\n",
       "      <td>0</td>\n",
       "      <td>1</td>\n",
       "      <td>2</td>\n",
       "    </tr>\n",
       "    <tr>\n",
       "      <th>b</th>\n",
       "      <th>1</th>\n",
       "      <td>6</td>\n",
       "      <td>7</td>\n",
       "      <td>8</td>\n",
       "    </tr>\n",
       "    <tr>\n",
       "      <th>a</th>\n",
       "      <th>2</th>\n",
       "      <td>3</td>\n",
       "      <td>4</td>\n",
       "      <td>5</td>\n",
       "    </tr>\n",
       "    <tr>\n",
       "      <th>b</th>\n",
       "      <th>2</th>\n",
       "      <td>9</td>\n",
       "      <td>10</td>\n",
       "      <td>11</td>\n",
       "    </tr>\n",
       "  </tbody>\n",
       "</table>\n",
       "</div>"
      ],
      "text/plain": [
       "cities        Skopje       Belgrad\n",
       "color            Red Green    Blue\n",
       "index1 index2                     \n",
       "a      1           0     1       2\n",
       "b      1           6     7       8\n",
       "a      2           3     4       5\n",
       "b      2           9    10      11"
      ]
     },
     "execution_count": 144,
     "metadata": {},
     "output_type": "execute_result"
    }
   ],
   "source": [
    "df1.sort_index(level=1) # sort by i-th index, in this case level1 corresponds to index2"
   ]
  },
  {
   "cell_type": "code",
   "execution_count": 145,
   "id": "delayed-egypt",
   "metadata": {},
   "outputs": [
    {
     "data": {
      "text/html": [
       "<div>\n",
       "<style scoped>\n",
       "    .dataframe tbody tr th:only-of-type {\n",
       "        vertical-align: middle;\n",
       "    }\n",
       "\n",
       "    .dataframe tbody tr th {\n",
       "        vertical-align: top;\n",
       "    }\n",
       "\n",
       "    .dataframe thead tr th {\n",
       "        text-align: left;\n",
       "    }\n",
       "\n",
       "    .dataframe thead tr:last-of-type th {\n",
       "        text-align: right;\n",
       "    }\n",
       "</style>\n",
       "<table border=\"1\" class=\"dataframe\">\n",
       "  <thead>\n",
       "    <tr>\n",
       "      <th></th>\n",
       "      <th>cities</th>\n",
       "      <th colspan=\"2\" halign=\"left\">Skopje</th>\n",
       "      <th>Belgrad</th>\n",
       "    </tr>\n",
       "    <tr>\n",
       "      <th></th>\n",
       "      <th>color</th>\n",
       "      <th>Red</th>\n",
       "      <th>Green</th>\n",
       "      <th>Blue</th>\n",
       "    </tr>\n",
       "    <tr>\n",
       "      <th>index1</th>\n",
       "      <th>index2</th>\n",
       "      <th></th>\n",
       "      <th></th>\n",
       "      <th></th>\n",
       "    </tr>\n",
       "  </thead>\n",
       "  <tbody>\n",
       "    <tr>\n",
       "      <th rowspan=\"2\" valign=\"top\">a</th>\n",
       "      <th>1</th>\n",
       "      <td>0</td>\n",
       "      <td>1</td>\n",
       "      <td>2</td>\n",
       "    </tr>\n",
       "    <tr>\n",
       "      <th>2</th>\n",
       "      <td>3</td>\n",
       "      <td>4</td>\n",
       "      <td>5</td>\n",
       "    </tr>\n",
       "    <tr>\n",
       "      <th rowspan=\"2\" valign=\"top\">b</th>\n",
       "      <th>1</th>\n",
       "      <td>6</td>\n",
       "      <td>7</td>\n",
       "      <td>8</td>\n",
       "    </tr>\n",
       "    <tr>\n",
       "      <th>2</th>\n",
       "      <td>9</td>\n",
       "      <td>10</td>\n",
       "      <td>11</td>\n",
       "    </tr>\n",
       "  </tbody>\n",
       "</table>\n",
       "</div>"
      ],
      "text/plain": [
       "cities        Skopje       Belgrad\n",
       "color            Red Green    Blue\n",
       "index1 index2                     \n",
       "a      1           0     1       2\n",
       "       2           3     4       5\n",
       "b      1           6     7       8\n",
       "       2           9    10      11"
      ]
     },
     "execution_count": 145,
     "metadata": {},
     "output_type": "execute_result"
    }
   ],
   "source": [
    "df1.sort_index(level=0)"
   ]
  },
  {
   "cell_type": "markdown",
   "id": "annual-charles",
   "metadata": {},
   "source": [
    "## Summary statistics by level"
   ]
  },
  {
   "cell_type": "code",
   "execution_count": 146,
   "id": "referenced-rendering",
   "metadata": {},
   "outputs": [
    {
     "data": {
      "text/html": [
       "<div>\n",
       "<style scoped>\n",
       "    .dataframe tbody tr th:only-of-type {\n",
       "        vertical-align: middle;\n",
       "    }\n",
       "\n",
       "    .dataframe tbody tr th {\n",
       "        vertical-align: top;\n",
       "    }\n",
       "\n",
       "    .dataframe thead tr th {\n",
       "        text-align: left;\n",
       "    }\n",
       "\n",
       "    .dataframe thead tr:last-of-type th {\n",
       "        text-align: right;\n",
       "    }\n",
       "</style>\n",
       "<table border=\"1\" class=\"dataframe\">\n",
       "  <thead>\n",
       "    <tr>\n",
       "      <th></th>\n",
       "      <th></th>\n",
       "      <th colspan=\"2\" halign=\"left\">Skopje</th>\n",
       "      <th>Belgrad</th>\n",
       "    </tr>\n",
       "    <tr>\n",
       "      <th></th>\n",
       "      <th></th>\n",
       "      <th>Red</th>\n",
       "      <th>Green</th>\n",
       "      <th>Blue</th>\n",
       "    </tr>\n",
       "    <tr>\n",
       "      <th>key1</th>\n",
       "      <th>key2</th>\n",
       "      <th></th>\n",
       "      <th></th>\n",
       "      <th></th>\n",
       "    </tr>\n",
       "  </thead>\n",
       "  <tbody>\n",
       "    <tr>\n",
       "      <th rowspan=\"2\" valign=\"top\">a</th>\n",
       "      <th>1</th>\n",
       "      <td>0</td>\n",
       "      <td>1</td>\n",
       "      <td>2</td>\n",
       "    </tr>\n",
       "    <tr>\n",
       "      <th>2</th>\n",
       "      <td>3</td>\n",
       "      <td>4</td>\n",
       "      <td>5</td>\n",
       "    </tr>\n",
       "    <tr>\n",
       "      <th rowspan=\"2\" valign=\"top\">b</th>\n",
       "      <th>1</th>\n",
       "      <td>6</td>\n",
       "      <td>7</td>\n",
       "      <td>8</td>\n",
       "    </tr>\n",
       "    <tr>\n",
       "      <th>2</th>\n",
       "      <td>9</td>\n",
       "      <td>10</td>\n",
       "      <td>11</td>\n",
       "    </tr>\n",
       "  </tbody>\n",
       "</table>\n",
       "</div>"
      ],
      "text/plain": [
       "          Skopje       Belgrad\n",
       "             Red Green    Blue\n",
       "key1 key2                     \n",
       "a    1         0     1       2\n",
       "     2         3     4       5\n",
       "b    1         6     7       8\n",
       "     2         9    10      11"
      ]
     },
     "execution_count": 146,
     "metadata": {},
     "output_type": "execute_result"
    }
   ],
   "source": [
    "df1 = pd.DataFrame(np.arange(12).reshape((4, 3)),\n",
    "                   index = [['a', 'a', 'b', 'b'], [1, 2, 1, 2]],\n",
    "                   columns = [['Skopje', 'Skopje', 'Belgrad'], ['Red', 'Green', 'Blue']])\n",
    "df1.index.names = ['key1', 'key2']\n",
    "df1"
   ]
  },
  {
   "cell_type": "code",
   "execution_count": 148,
   "id": "specific-sewing",
   "metadata": {},
   "outputs": [
    {
     "data": {
      "text/html": [
       "<div>\n",
       "<style scoped>\n",
       "    .dataframe tbody tr th:only-of-type {\n",
       "        vertical-align: middle;\n",
       "    }\n",
       "\n",
       "    .dataframe tbody tr th {\n",
       "        vertical-align: top;\n",
       "    }\n",
       "\n",
       "    .dataframe thead tr th {\n",
       "        text-align: left;\n",
       "    }\n",
       "\n",
       "    .dataframe thead tr:last-of-type th {\n",
       "        text-align: right;\n",
       "    }\n",
       "</style>\n",
       "<table border=\"1\" class=\"dataframe\">\n",
       "  <thead>\n",
       "    <tr>\n",
       "      <th></th>\n",
       "      <th colspan=\"2\" halign=\"left\">Skopje</th>\n",
       "      <th>Belgrad</th>\n",
       "    </tr>\n",
       "    <tr>\n",
       "      <th></th>\n",
       "      <th>Red</th>\n",
       "      <th>Green</th>\n",
       "      <th>Blue</th>\n",
       "    </tr>\n",
       "    <tr>\n",
       "      <th>key2</th>\n",
       "      <th></th>\n",
       "      <th></th>\n",
       "      <th></th>\n",
       "    </tr>\n",
       "  </thead>\n",
       "  <tbody>\n",
       "    <tr>\n",
       "      <th>1</th>\n",
       "      <td>0</td>\n",
       "      <td>1</td>\n",
       "      <td>2</td>\n",
       "    </tr>\n",
       "    <tr>\n",
       "      <th>2</th>\n",
       "      <td>3</td>\n",
       "      <td>4</td>\n",
       "      <td>5</td>\n",
       "    </tr>\n",
       "  </tbody>\n",
       "</table>\n",
       "</div>"
      ],
      "text/plain": [
       "     Skopje       Belgrad\n",
       "        Red Green    Blue\n",
       "key2                     \n",
       "1         0     1       2\n",
       "2         3     4       5"
      ]
     },
     "execution_count": 148,
     "metadata": {},
     "output_type": "execute_result"
    }
   ],
   "source": [
    "df1.loc['a']"
   ]
  },
  {
   "cell_type": "code",
   "execution_count": 152,
   "id": "photographic-alias",
   "metadata": {},
   "outputs": [
    {
     "data": {
      "text/html": [
       "<div>\n",
       "<style scoped>\n",
       "    .dataframe tbody tr th:only-of-type {\n",
       "        vertical-align: middle;\n",
       "    }\n",
       "\n",
       "    .dataframe tbody tr th {\n",
       "        vertical-align: top;\n",
       "    }\n",
       "\n",
       "    .dataframe thead tr th {\n",
       "        text-align: left;\n",
       "    }\n",
       "\n",
       "    .dataframe thead tr:last-of-type th {\n",
       "        text-align: right;\n",
       "    }\n",
       "</style>\n",
       "<table border=\"1\" class=\"dataframe\">\n",
       "  <thead>\n",
       "    <tr>\n",
       "      <th></th>\n",
       "      <th colspan=\"2\" halign=\"left\">Skopje</th>\n",
       "      <th>Belgrad</th>\n",
       "    </tr>\n",
       "    <tr>\n",
       "      <th></th>\n",
       "      <th>Red</th>\n",
       "      <th>Green</th>\n",
       "      <th>Blue</th>\n",
       "    </tr>\n",
       "    <tr>\n",
       "      <th>key2</th>\n",
       "      <th></th>\n",
       "      <th></th>\n",
       "      <th></th>\n",
       "    </tr>\n",
       "  </thead>\n",
       "  <tbody>\n",
       "    <tr>\n",
       "      <th>1</th>\n",
       "      <td>6</td>\n",
       "      <td>8</td>\n",
       "      <td>10</td>\n",
       "    </tr>\n",
       "    <tr>\n",
       "      <th>2</th>\n",
       "      <td>12</td>\n",
       "      <td>14</td>\n",
       "      <td>16</td>\n",
       "    </tr>\n",
       "  </tbody>\n",
       "</table>\n",
       "</div>"
      ],
      "text/plain": [
       "     Skopje       Belgrad\n",
       "        Red Green    Blue\n",
       "key2                     \n",
       "1         6     8      10\n",
       "2        12    14      16"
      ]
     },
     "execution_count": 152,
     "metadata": {},
     "output_type": "execute_result"
    }
   ],
   "source": [
    "df1.sum(level=1)"
   ]
  },
  {
   "cell_type": "code",
   "execution_count": 153,
   "id": "second-segment",
   "metadata": {},
   "outputs": [
    {
     "data": {
      "text/html": [
       "<div>\n",
       "<style scoped>\n",
       "    .dataframe tbody tr th:only-of-type {\n",
       "        vertical-align: middle;\n",
       "    }\n",
       "\n",
       "    .dataframe tbody tr th {\n",
       "        vertical-align: top;\n",
       "    }\n",
       "\n",
       "    .dataframe thead tr th {\n",
       "        text-align: left;\n",
       "    }\n",
       "\n",
       "    .dataframe thead tr:last-of-type th {\n",
       "        text-align: right;\n",
       "    }\n",
       "</style>\n",
       "<table border=\"1\" class=\"dataframe\">\n",
       "  <thead>\n",
       "    <tr>\n",
       "      <th></th>\n",
       "      <th colspan=\"2\" halign=\"left\">Skopje</th>\n",
       "      <th>Belgrad</th>\n",
       "    </tr>\n",
       "    <tr>\n",
       "      <th></th>\n",
       "      <th>Red</th>\n",
       "      <th>Green</th>\n",
       "      <th>Blue</th>\n",
       "    </tr>\n",
       "    <tr>\n",
       "      <th>key2</th>\n",
       "      <th></th>\n",
       "      <th></th>\n",
       "      <th></th>\n",
       "    </tr>\n",
       "  </thead>\n",
       "  <tbody>\n",
       "    <tr>\n",
       "      <th>1</th>\n",
       "      <td>6</td>\n",
       "      <td>8</td>\n",
       "      <td>10</td>\n",
       "    </tr>\n",
       "    <tr>\n",
       "      <th>2</th>\n",
       "      <td>12</td>\n",
       "      <td>14</td>\n",
       "      <td>16</td>\n",
       "    </tr>\n",
       "  </tbody>\n",
       "</table>\n",
       "</div>"
      ],
      "text/plain": [
       "     Skopje       Belgrad\n",
       "        Red Green    Blue\n",
       "key2                     \n",
       "1         6     8      10\n",
       "2        12    14      16"
      ]
     },
     "execution_count": 153,
     "metadata": {},
     "output_type": "execute_result"
    }
   ],
   "source": [
    "df1.sum(level='key2')"
   ]
  },
  {
   "cell_type": "code",
   "execution_count": 154,
   "id": "checked-general",
   "metadata": {},
   "outputs": [
    {
     "data": {
      "text/html": [
       "<div>\n",
       "<style scoped>\n",
       "    .dataframe tbody tr th:only-of-type {\n",
       "        vertical-align: middle;\n",
       "    }\n",
       "\n",
       "    .dataframe tbody tr th {\n",
       "        vertical-align: top;\n",
       "    }\n",
       "\n",
       "    .dataframe thead tr th {\n",
       "        text-align: left;\n",
       "    }\n",
       "\n",
       "    .dataframe thead tr:last-of-type th {\n",
       "        text-align: right;\n",
       "    }\n",
       "</style>\n",
       "<table border=\"1\" class=\"dataframe\">\n",
       "  <thead>\n",
       "    <tr>\n",
       "      <th></th>\n",
       "      <th colspan=\"2\" halign=\"left\">Skopje</th>\n",
       "      <th>Belgrad</th>\n",
       "    </tr>\n",
       "    <tr>\n",
       "      <th></th>\n",
       "      <th>Red</th>\n",
       "      <th>Green</th>\n",
       "      <th>Blue</th>\n",
       "    </tr>\n",
       "    <tr>\n",
       "      <th>key1</th>\n",
       "      <th></th>\n",
       "      <th></th>\n",
       "      <th></th>\n",
       "    </tr>\n",
       "  </thead>\n",
       "  <tbody>\n",
       "    <tr>\n",
       "      <th>a</th>\n",
       "      <td>3</td>\n",
       "      <td>5</td>\n",
       "      <td>7</td>\n",
       "    </tr>\n",
       "    <tr>\n",
       "      <th>b</th>\n",
       "      <td>15</td>\n",
       "      <td>17</td>\n",
       "      <td>19</td>\n",
       "    </tr>\n",
       "  </tbody>\n",
       "</table>\n",
       "</div>"
      ],
      "text/plain": [
       "     Skopje       Belgrad\n",
       "        Red Green    Blue\n",
       "key1                     \n",
       "a         3     5       7\n",
       "b        15    17      19"
      ]
     },
     "execution_count": 154,
     "metadata": {},
     "output_type": "execute_result"
    }
   ],
   "source": [
    "df1.sum(level='key1')"
   ]
  },
  {
   "cell_type": "code",
   "execution_count": 155,
   "id": "posted-dance",
   "metadata": {},
   "outputs": [
    {
     "data": {
      "text/html": [
       "<div>\n",
       "<style scoped>\n",
       "    .dataframe tbody tr th:only-of-type {\n",
       "        vertical-align: middle;\n",
       "    }\n",
       "\n",
       "    .dataframe tbody tr th {\n",
       "        vertical-align: top;\n",
       "    }\n",
       "\n",
       "    .dataframe thead tr th {\n",
       "        text-align: left;\n",
       "    }\n",
       "\n",
       "    .dataframe thead tr:last-of-type th {\n",
       "        text-align: right;\n",
       "    }\n",
       "</style>\n",
       "<table border=\"1\" class=\"dataframe\">\n",
       "  <thead>\n",
       "    <tr>\n",
       "      <th></th>\n",
       "      <th colspan=\"2\" halign=\"left\">Skopje</th>\n",
       "      <th>Belgrad</th>\n",
       "    </tr>\n",
       "    <tr>\n",
       "      <th></th>\n",
       "      <th>Red</th>\n",
       "      <th>Green</th>\n",
       "      <th>Blue</th>\n",
       "    </tr>\n",
       "    <tr>\n",
       "      <th>key1</th>\n",
       "      <th></th>\n",
       "      <th></th>\n",
       "      <th></th>\n",
       "    </tr>\n",
       "  </thead>\n",
       "  <tbody>\n",
       "    <tr>\n",
       "      <th>a</th>\n",
       "      <td>0</td>\n",
       "      <td>1</td>\n",
       "      <td>2</td>\n",
       "    </tr>\n",
       "    <tr>\n",
       "      <th>b</th>\n",
       "      <td>6</td>\n",
       "      <td>7</td>\n",
       "      <td>8</td>\n",
       "    </tr>\n",
       "  </tbody>\n",
       "</table>\n",
       "</div>"
      ],
      "text/plain": [
       "     Skopje       Belgrad\n",
       "        Red Green    Blue\n",
       "key1                     \n",
       "a         0     1       2\n",
       "b         6     7       8"
      ]
     },
     "execution_count": 155,
     "metadata": {},
     "output_type": "execute_result"
    }
   ],
   "source": [
    "df1.min(level='key1')"
   ]
  },
  {
   "cell_type": "code",
   "execution_count": 156,
   "id": "liberal-briefing",
   "metadata": {},
   "outputs": [
    {
     "data": {
      "text/html": [
       "<div>\n",
       "<style scoped>\n",
       "    .dataframe tbody tr th:only-of-type {\n",
       "        vertical-align: middle;\n",
       "    }\n",
       "\n",
       "    .dataframe tbody tr th {\n",
       "        vertical-align: top;\n",
       "    }\n",
       "\n",
       "    .dataframe thead tr th {\n",
       "        text-align: left;\n",
       "    }\n",
       "\n",
       "    .dataframe thead tr:last-of-type th {\n",
       "        text-align: right;\n",
       "    }\n",
       "</style>\n",
       "<table border=\"1\" class=\"dataframe\">\n",
       "  <thead>\n",
       "    <tr>\n",
       "      <th></th>\n",
       "      <th colspan=\"2\" halign=\"left\">Skopje</th>\n",
       "      <th>Belgrad</th>\n",
       "    </tr>\n",
       "    <tr>\n",
       "      <th></th>\n",
       "      <th>Red</th>\n",
       "      <th>Green</th>\n",
       "      <th>Blue</th>\n",
       "    </tr>\n",
       "    <tr>\n",
       "      <th>key1</th>\n",
       "      <th></th>\n",
       "      <th></th>\n",
       "      <th></th>\n",
       "    </tr>\n",
       "  </thead>\n",
       "  <tbody>\n",
       "    <tr>\n",
       "      <th>a</th>\n",
       "      <td>3</td>\n",
       "      <td>4</td>\n",
       "      <td>5</td>\n",
       "    </tr>\n",
       "    <tr>\n",
       "      <th>b</th>\n",
       "      <td>9</td>\n",
       "      <td>10</td>\n",
       "      <td>11</td>\n",
       "    </tr>\n",
       "  </tbody>\n",
       "</table>\n",
       "</div>"
      ],
      "text/plain": [
       "     Skopje       Belgrad\n",
       "        Red Green    Blue\n",
       "key1                     \n",
       "a         3     4       5\n",
       "b         9    10      11"
      ]
     },
     "execution_count": 156,
     "metadata": {},
     "output_type": "execute_result"
    }
   ],
   "source": [
    "df1.max(level='key1')"
   ]
  },
  {
   "cell_type": "markdown",
   "id": "atomic-sunset",
   "metadata": {},
   "source": [
    "## Indexing with DataFrame's columns"
   ]
  },
  {
   "cell_type": "code",
   "execution_count": 161,
   "id": "civilian-coffee",
   "metadata": {},
   "outputs": [
    {
     "data": {
      "text/html": [
       "<div>\n",
       "<style scoped>\n",
       "    .dataframe tbody tr th:only-of-type {\n",
       "        vertical-align: middle;\n",
       "    }\n",
       "\n",
       "    .dataframe tbody tr th {\n",
       "        vertical-align: top;\n",
       "    }\n",
       "\n",
       "    .dataframe thead th {\n",
       "        text-align: right;\n",
       "    }\n",
       "</style>\n",
       "<table border=\"1\" class=\"dataframe\">\n",
       "  <thead>\n",
       "    <tr style=\"text-align: right;\">\n",
       "      <th></th>\n",
       "      <th>A</th>\n",
       "      <th>B</th>\n",
       "      <th>C</th>\n",
       "      <th>D</th>\n",
       "    </tr>\n",
       "  </thead>\n",
       "  <tbody>\n",
       "    <tr>\n",
       "      <th>0</th>\n",
       "      <td>0</td>\n",
       "      <td>6</td>\n",
       "      <td>One</td>\n",
       "      <td>0</td>\n",
       "    </tr>\n",
       "    <tr>\n",
       "      <th>1</th>\n",
       "      <td>1</td>\n",
       "      <td>5</td>\n",
       "      <td>One</td>\n",
       "      <td>1</td>\n",
       "    </tr>\n",
       "    <tr>\n",
       "      <th>2</th>\n",
       "      <td>2</td>\n",
       "      <td>4</td>\n",
       "      <td>One</td>\n",
       "      <td>2</td>\n",
       "    </tr>\n",
       "    <tr>\n",
       "      <th>3</th>\n",
       "      <td>3</td>\n",
       "      <td>3</td>\n",
       "      <td>Two</td>\n",
       "      <td>0</td>\n",
       "    </tr>\n",
       "    <tr>\n",
       "      <th>4</th>\n",
       "      <td>4</td>\n",
       "      <td>2</td>\n",
       "      <td>Two</td>\n",
       "      <td>1</td>\n",
       "    </tr>\n",
       "    <tr>\n",
       "      <th>5</th>\n",
       "      <td>5</td>\n",
       "      <td>1</td>\n",
       "      <td>Two</td>\n",
       "      <td>2</td>\n",
       "    </tr>\n",
       "    <tr>\n",
       "      <th>6</th>\n",
       "      <td>6</td>\n",
       "      <td>0</td>\n",
       "      <td>One</td>\n",
       "      <td>0</td>\n",
       "    </tr>\n",
       "  </tbody>\n",
       "</table>\n",
       "</div>"
      ],
      "text/plain": [
       "   A  B    C  D\n",
       "0  0  6  One  0\n",
       "1  1  5  One  1\n",
       "2  2  4  One  2\n",
       "3  3  3  Two  0\n",
       "4  4  2  Two  1\n",
       "5  5  1  Two  2\n",
       "6  6  0  One  0"
      ]
     },
     "execution_count": 161,
     "metadata": {},
     "output_type": "execute_result"
    }
   ],
   "source": [
    "df2 = pd.DataFrame({'A' : range(7),\n",
    "                    'B' : range(6, -1 , -1),\n",
    "                    'C' :  ['One', 'One', 'One', 'Two', 'Two', 'Two', 'One'],\n",
    "                    'D' : [0, 1, 2, 0, 1, 2, 0]\n",
    "                    })\n",
    "df2"
   ]
  },
  {
   "cell_type": "code",
   "execution_count": 163,
   "id": "descending-offer",
   "metadata": {},
   "outputs": [
    {
     "data": {
      "text/html": [
       "<div>\n",
       "<style scoped>\n",
       "    .dataframe tbody tr th:only-of-type {\n",
       "        vertical-align: middle;\n",
       "    }\n",
       "\n",
       "    .dataframe tbody tr th {\n",
       "        vertical-align: top;\n",
       "    }\n",
       "\n",
       "    .dataframe thead th {\n",
       "        text-align: right;\n",
       "    }\n",
       "</style>\n",
       "<table border=\"1\" class=\"dataframe\">\n",
       "  <thead>\n",
       "    <tr style=\"text-align: right;\">\n",
       "      <th></th>\n",
       "      <th></th>\n",
       "      <th>A</th>\n",
       "      <th>B</th>\n",
       "    </tr>\n",
       "    <tr>\n",
       "      <th>D</th>\n",
       "      <th>C</th>\n",
       "      <th></th>\n",
       "      <th></th>\n",
       "    </tr>\n",
       "  </thead>\n",
       "  <tbody>\n",
       "    <tr>\n",
       "      <th>0</th>\n",
       "      <th>One</th>\n",
       "      <td>0</td>\n",
       "      <td>6</td>\n",
       "    </tr>\n",
       "    <tr>\n",
       "      <th>1</th>\n",
       "      <th>One</th>\n",
       "      <td>1</td>\n",
       "      <td>5</td>\n",
       "    </tr>\n",
       "    <tr>\n",
       "      <th>2</th>\n",
       "      <th>One</th>\n",
       "      <td>2</td>\n",
       "      <td>4</td>\n",
       "    </tr>\n",
       "    <tr>\n",
       "      <th>0</th>\n",
       "      <th>Two</th>\n",
       "      <td>3</td>\n",
       "      <td>3</td>\n",
       "    </tr>\n",
       "    <tr>\n",
       "      <th>1</th>\n",
       "      <th>Two</th>\n",
       "      <td>4</td>\n",
       "      <td>2</td>\n",
       "    </tr>\n",
       "    <tr>\n",
       "      <th>2</th>\n",
       "      <th>Two</th>\n",
       "      <td>5</td>\n",
       "      <td>1</td>\n",
       "    </tr>\n",
       "    <tr>\n",
       "      <th>0</th>\n",
       "      <th>One</th>\n",
       "      <td>6</td>\n",
       "      <td>0</td>\n",
       "    </tr>\n",
       "  </tbody>\n",
       "</table>\n",
       "</div>"
      ],
      "text/plain": [
       "       A  B\n",
       "D C        \n",
       "0 One  0  6\n",
       "1 One  1  5\n",
       "2 One  2  4\n",
       "0 Two  3  3\n",
       "1 Two  4  2\n",
       "2 Two  5  1\n",
       "0 One  6  0"
      ]
     },
     "execution_count": 163,
     "metadata": {},
     "output_type": "execute_result"
    }
   ],
   "source": [
    "df3 = df2.set_index(['D', 'C']) # D and C will be used as new index columns (MultiIndex)\n",
    "df3"
   ]
  },
  {
   "cell_type": "code",
   "execution_count": 164,
   "id": "revolutionary-organizer",
   "metadata": {},
   "outputs": [
    {
     "data": {
      "text/html": [
       "<div>\n",
       "<style scoped>\n",
       "    .dataframe tbody tr th:only-of-type {\n",
       "        vertical-align: middle;\n",
       "    }\n",
       "\n",
       "    .dataframe tbody tr th {\n",
       "        vertical-align: top;\n",
       "    }\n",
       "\n",
       "    .dataframe thead th {\n",
       "        text-align: right;\n",
       "    }\n",
       "</style>\n",
       "<table border=\"1\" class=\"dataframe\">\n",
       "  <thead>\n",
       "    <tr style=\"text-align: right;\">\n",
       "      <th></th>\n",
       "      <th></th>\n",
       "      <th>A</th>\n",
       "      <th>B</th>\n",
       "      <th>C</th>\n",
       "      <th>D</th>\n",
       "    </tr>\n",
       "    <tr>\n",
       "      <th>C</th>\n",
       "      <th>D</th>\n",
       "      <th></th>\n",
       "      <th></th>\n",
       "      <th></th>\n",
       "      <th></th>\n",
       "    </tr>\n",
       "  </thead>\n",
       "  <tbody>\n",
       "    <tr>\n",
       "      <th rowspan=\"3\" valign=\"top\">One</th>\n",
       "      <th>0</th>\n",
       "      <td>0</td>\n",
       "      <td>6</td>\n",
       "      <td>One</td>\n",
       "      <td>0</td>\n",
       "    </tr>\n",
       "    <tr>\n",
       "      <th>1</th>\n",
       "      <td>1</td>\n",
       "      <td>5</td>\n",
       "      <td>One</td>\n",
       "      <td>1</td>\n",
       "    </tr>\n",
       "    <tr>\n",
       "      <th>2</th>\n",
       "      <td>2</td>\n",
       "      <td>4</td>\n",
       "      <td>One</td>\n",
       "      <td>2</td>\n",
       "    </tr>\n",
       "    <tr>\n",
       "      <th rowspan=\"3\" valign=\"top\">Two</th>\n",
       "      <th>0</th>\n",
       "      <td>3</td>\n",
       "      <td>3</td>\n",
       "      <td>Two</td>\n",
       "      <td>0</td>\n",
       "    </tr>\n",
       "    <tr>\n",
       "      <th>1</th>\n",
       "      <td>4</td>\n",
       "      <td>2</td>\n",
       "      <td>Two</td>\n",
       "      <td>1</td>\n",
       "    </tr>\n",
       "    <tr>\n",
       "      <th>2</th>\n",
       "      <td>5</td>\n",
       "      <td>1</td>\n",
       "      <td>Two</td>\n",
       "      <td>2</td>\n",
       "    </tr>\n",
       "    <tr>\n",
       "      <th>One</th>\n",
       "      <th>0</th>\n",
       "      <td>6</td>\n",
       "      <td>0</td>\n",
       "      <td>One</td>\n",
       "      <td>0</td>\n",
       "    </tr>\n",
       "  </tbody>\n",
       "</table>\n",
       "</div>"
      ],
      "text/plain": [
       "       A  B    C  D\n",
       "C   D              \n",
       "One 0  0  6  One  0\n",
       "    1  1  5  One  1\n",
       "    2  2  4  One  2\n",
       "Two 0  3  3  Two  0\n",
       "    1  4  2  Two  1\n",
       "    2  5  1  Two  2\n",
       "One 0  6  0  One  0"
      ]
     },
     "execution_count": 164,
     "metadata": {},
     "output_type": "execute_result"
    }
   ],
   "source": [
    "df4 = df2.set_index(['C', 'D'], drop=False)\n",
    "df4"
   ]
  },
  {
   "cell_type": "markdown",
   "id": "starting-joseph",
   "metadata": {},
   "source": [
    "## Database style DataFrame joins"
   ]
  },
  {
   "cell_type": "code",
   "execution_count": 182,
   "id": "taken-penetration",
   "metadata": {},
   "outputs": [],
   "source": [
    "df1 = pd.DataFrame({'key' : ['b', 'b', 'a', 'c', 'a', 'a', 'b'],\n",
    "                    'data1' : range(7)})\n",
    "df2 = pd.DataFrame({'key' : ['a', 'b', 'd'],\n",
    "                    'data2' : range(3)})"
   ]
  },
  {
   "cell_type": "code",
   "execution_count": 183,
   "id": "annual-miracle",
   "metadata": {},
   "outputs": [
    {
     "data": {
      "text/html": [
       "<div>\n",
       "<style scoped>\n",
       "    .dataframe tbody tr th:only-of-type {\n",
       "        vertical-align: middle;\n",
       "    }\n",
       "\n",
       "    .dataframe tbody tr th {\n",
       "        vertical-align: top;\n",
       "    }\n",
       "\n",
       "    .dataframe thead th {\n",
       "        text-align: right;\n",
       "    }\n",
       "</style>\n",
       "<table border=\"1\" class=\"dataframe\">\n",
       "  <thead>\n",
       "    <tr style=\"text-align: right;\">\n",
       "      <th></th>\n",
       "      <th>key</th>\n",
       "      <th>data1</th>\n",
       "    </tr>\n",
       "  </thead>\n",
       "  <tbody>\n",
       "    <tr>\n",
       "      <th>0</th>\n",
       "      <td>b</td>\n",
       "      <td>0</td>\n",
       "    </tr>\n",
       "    <tr>\n",
       "      <th>1</th>\n",
       "      <td>b</td>\n",
       "      <td>1</td>\n",
       "    </tr>\n",
       "    <tr>\n",
       "      <th>2</th>\n",
       "      <td>a</td>\n",
       "      <td>2</td>\n",
       "    </tr>\n",
       "    <tr>\n",
       "      <th>3</th>\n",
       "      <td>c</td>\n",
       "      <td>3</td>\n",
       "    </tr>\n",
       "    <tr>\n",
       "      <th>4</th>\n",
       "      <td>a</td>\n",
       "      <td>4</td>\n",
       "    </tr>\n",
       "    <tr>\n",
       "      <th>5</th>\n",
       "      <td>a</td>\n",
       "      <td>5</td>\n",
       "    </tr>\n",
       "    <tr>\n",
       "      <th>6</th>\n",
       "      <td>b</td>\n",
       "      <td>6</td>\n",
       "    </tr>\n",
       "  </tbody>\n",
       "</table>\n",
       "</div>"
      ],
      "text/plain": [
       "  key  data1\n",
       "0   b      0\n",
       "1   b      1\n",
       "2   a      2\n",
       "3   c      3\n",
       "4   a      4\n",
       "5   a      5\n",
       "6   b      6"
      ]
     },
     "execution_count": 183,
     "metadata": {},
     "output_type": "execute_result"
    }
   ],
   "source": [
    "df1"
   ]
  },
  {
   "cell_type": "code",
   "execution_count": 184,
   "id": "forward-witness",
   "metadata": {},
   "outputs": [
    {
     "data": {
      "text/html": [
       "<div>\n",
       "<style scoped>\n",
       "    .dataframe tbody tr th:only-of-type {\n",
       "        vertical-align: middle;\n",
       "    }\n",
       "\n",
       "    .dataframe tbody tr th {\n",
       "        vertical-align: top;\n",
       "    }\n",
       "\n",
       "    .dataframe thead th {\n",
       "        text-align: right;\n",
       "    }\n",
       "</style>\n",
       "<table border=\"1\" class=\"dataframe\">\n",
       "  <thead>\n",
       "    <tr style=\"text-align: right;\">\n",
       "      <th></th>\n",
       "      <th>key</th>\n",
       "      <th>data2</th>\n",
       "    </tr>\n",
       "  </thead>\n",
       "  <tbody>\n",
       "    <tr>\n",
       "      <th>0</th>\n",
       "      <td>a</td>\n",
       "      <td>0</td>\n",
       "    </tr>\n",
       "    <tr>\n",
       "      <th>1</th>\n",
       "      <td>b</td>\n",
       "      <td>1</td>\n",
       "    </tr>\n",
       "    <tr>\n",
       "      <th>2</th>\n",
       "      <td>d</td>\n",
       "      <td>2</td>\n",
       "    </tr>\n",
       "  </tbody>\n",
       "</table>\n",
       "</div>"
      ],
      "text/plain": [
       "  key  data2\n",
       "0   a      0\n",
       "1   b      1\n",
       "2   d      2"
      ]
     },
     "execution_count": 184,
     "metadata": {},
     "output_type": "execute_result"
    }
   ],
   "source": [
    "df2"
   ]
  },
  {
   "cell_type": "code",
   "execution_count": 186,
   "id": "psychological-miniature",
   "metadata": {},
   "outputs": [
    {
     "data": {
      "text/html": [
       "<div>\n",
       "<style scoped>\n",
       "    .dataframe tbody tr th:only-of-type {\n",
       "        vertical-align: middle;\n",
       "    }\n",
       "\n",
       "    .dataframe tbody tr th {\n",
       "        vertical-align: top;\n",
       "    }\n",
       "\n",
       "    .dataframe thead th {\n",
       "        text-align: right;\n",
       "    }\n",
       "</style>\n",
       "<table border=\"1\" class=\"dataframe\">\n",
       "  <thead>\n",
       "    <tr style=\"text-align: right;\">\n",
       "      <th></th>\n",
       "      <th>key</th>\n",
       "      <th>data1</th>\n",
       "      <th>data2</th>\n",
       "    </tr>\n",
       "  </thead>\n",
       "  <tbody>\n",
       "    <tr>\n",
       "      <th>0</th>\n",
       "      <td>b</td>\n",
       "      <td>0</td>\n",
       "      <td>1</td>\n",
       "    </tr>\n",
       "    <tr>\n",
       "      <th>1</th>\n",
       "      <td>b</td>\n",
       "      <td>1</td>\n",
       "      <td>1</td>\n",
       "    </tr>\n",
       "    <tr>\n",
       "      <th>2</th>\n",
       "      <td>b</td>\n",
       "      <td>6</td>\n",
       "      <td>1</td>\n",
       "    </tr>\n",
       "    <tr>\n",
       "      <th>3</th>\n",
       "      <td>a</td>\n",
       "      <td>2</td>\n",
       "      <td>0</td>\n",
       "    </tr>\n",
       "    <tr>\n",
       "      <th>4</th>\n",
       "      <td>a</td>\n",
       "      <td>4</td>\n",
       "      <td>0</td>\n",
       "    </tr>\n",
       "    <tr>\n",
       "      <th>5</th>\n",
       "      <td>a</td>\n",
       "      <td>5</td>\n",
       "      <td>0</td>\n",
       "    </tr>\n",
       "  </tbody>\n",
       "</table>\n",
       "</div>"
      ],
      "text/plain": [
       "  key  data1  data2\n",
       "0   b      0      1\n",
       "1   b      1      1\n",
       "2   b      6      1\n",
       "3   a      2      0\n",
       "4   a      4      0\n",
       "5   a      5      0"
      ]
     },
     "execution_count": 186,
     "metadata": {},
     "output_type": "execute_result"
    }
   ],
   "source": [
    "df3 = pd.merge(df1, df2)\n",
    "df3"
   ]
  },
  {
   "cell_type": "code",
   "execution_count": 189,
   "id": "specialized-stanford",
   "metadata": {},
   "outputs": [
    {
     "data": {
      "text/html": [
       "<div>\n",
       "<style scoped>\n",
       "    .dataframe tbody tr th:only-of-type {\n",
       "        vertical-align: middle;\n",
       "    }\n",
       "\n",
       "    .dataframe tbody tr th {\n",
       "        vertical-align: top;\n",
       "    }\n",
       "\n",
       "    .dataframe thead th {\n",
       "        text-align: right;\n",
       "    }\n",
       "</style>\n",
       "<table border=\"1\" class=\"dataframe\">\n",
       "  <thead>\n",
       "    <tr style=\"text-align: right;\">\n",
       "      <th></th>\n",
       "      <th>key</th>\n",
       "      <th>data1</th>\n",
       "      <th>data2</th>\n",
       "    </tr>\n",
       "  </thead>\n",
       "  <tbody>\n",
       "    <tr>\n",
       "      <th>0</th>\n",
       "      <td>b</td>\n",
       "      <td>0</td>\n",
       "      <td>1.0</td>\n",
       "    </tr>\n",
       "    <tr>\n",
       "      <th>1</th>\n",
       "      <td>b</td>\n",
       "      <td>1</td>\n",
       "      <td>1.0</td>\n",
       "    </tr>\n",
       "    <tr>\n",
       "      <th>2</th>\n",
       "      <td>a</td>\n",
       "      <td>2</td>\n",
       "      <td>0.0</td>\n",
       "    </tr>\n",
       "    <tr>\n",
       "      <th>3</th>\n",
       "      <td>c</td>\n",
       "      <td>3</td>\n",
       "      <td>NaN</td>\n",
       "    </tr>\n",
       "    <tr>\n",
       "      <th>4</th>\n",
       "      <td>a</td>\n",
       "      <td>4</td>\n",
       "      <td>0.0</td>\n",
       "    </tr>\n",
       "    <tr>\n",
       "      <th>5</th>\n",
       "      <td>a</td>\n",
       "      <td>5</td>\n",
       "      <td>0.0</td>\n",
       "    </tr>\n",
       "    <tr>\n",
       "      <th>6</th>\n",
       "      <td>b</td>\n",
       "      <td>6</td>\n",
       "      <td>1.0</td>\n",
       "    </tr>\n",
       "  </tbody>\n",
       "</table>\n",
       "</div>"
      ],
      "text/plain": [
       "  key  data1  data2\n",
       "0   b      0    1.0\n",
       "1   b      1    1.0\n",
       "2   a      2    0.0\n",
       "3   c      3    NaN\n",
       "4   a      4    0.0\n",
       "5   a      5    0.0\n",
       "6   b      6    1.0"
      ]
     },
     "execution_count": 189,
     "metadata": {},
     "output_type": "execute_result"
    }
   ],
   "source": [
    "df3 = pd.merge(df1, df2, how='left')\n",
    "df3"
   ]
  },
  {
   "cell_type": "code",
   "execution_count": 190,
   "id": "fleet-adapter",
   "metadata": {},
   "outputs": [
    {
     "data": {
      "text/html": [
       "<div>\n",
       "<style scoped>\n",
       "    .dataframe tbody tr th:only-of-type {\n",
       "        vertical-align: middle;\n",
       "    }\n",
       "\n",
       "    .dataframe tbody tr th {\n",
       "        vertical-align: top;\n",
       "    }\n",
       "\n",
       "    .dataframe thead th {\n",
       "        text-align: right;\n",
       "    }\n",
       "</style>\n",
       "<table border=\"1\" class=\"dataframe\">\n",
       "  <thead>\n",
       "    <tr style=\"text-align: right;\">\n",
       "      <th></th>\n",
       "      <th>key</th>\n",
       "      <th>data1</th>\n",
       "      <th>data2</th>\n",
       "    </tr>\n",
       "  </thead>\n",
       "  <tbody>\n",
       "    <tr>\n",
       "      <th>0</th>\n",
       "      <td>a</td>\n",
       "      <td>2.0</td>\n",
       "      <td>0</td>\n",
       "    </tr>\n",
       "    <tr>\n",
       "      <th>1</th>\n",
       "      <td>a</td>\n",
       "      <td>4.0</td>\n",
       "      <td>0</td>\n",
       "    </tr>\n",
       "    <tr>\n",
       "      <th>2</th>\n",
       "      <td>a</td>\n",
       "      <td>5.0</td>\n",
       "      <td>0</td>\n",
       "    </tr>\n",
       "    <tr>\n",
       "      <th>3</th>\n",
       "      <td>b</td>\n",
       "      <td>0.0</td>\n",
       "      <td>1</td>\n",
       "    </tr>\n",
       "    <tr>\n",
       "      <th>4</th>\n",
       "      <td>b</td>\n",
       "      <td>1.0</td>\n",
       "      <td>1</td>\n",
       "    </tr>\n",
       "    <tr>\n",
       "      <th>5</th>\n",
       "      <td>b</td>\n",
       "      <td>6.0</td>\n",
       "      <td>1</td>\n",
       "    </tr>\n",
       "    <tr>\n",
       "      <th>6</th>\n",
       "      <td>d</td>\n",
       "      <td>NaN</td>\n",
       "      <td>2</td>\n",
       "    </tr>\n",
       "  </tbody>\n",
       "</table>\n",
       "</div>"
      ],
      "text/plain": [
       "  key  data1  data2\n",
       "0   a    2.0      0\n",
       "1   a    4.0      0\n",
       "2   a    5.0      0\n",
       "3   b    0.0      1\n",
       "4   b    1.0      1\n",
       "5   b    6.0      1\n",
       "6   d    NaN      2"
      ]
     },
     "execution_count": 190,
     "metadata": {},
     "output_type": "execute_result"
    }
   ],
   "source": [
    "df3 = pd.merge(df1, df2, how='right')\n",
    "df3"
   ]
  },
  {
   "cell_type": "code",
   "execution_count": 191,
   "id": "complex-canberra",
   "metadata": {},
   "outputs": [
    {
     "data": {
      "text/html": [
       "<div>\n",
       "<style scoped>\n",
       "    .dataframe tbody tr th:only-of-type {\n",
       "        vertical-align: middle;\n",
       "    }\n",
       "\n",
       "    .dataframe tbody tr th {\n",
       "        vertical-align: top;\n",
       "    }\n",
       "\n",
       "    .dataframe thead th {\n",
       "        text-align: right;\n",
       "    }\n",
       "</style>\n",
       "<table border=\"1\" class=\"dataframe\">\n",
       "  <thead>\n",
       "    <tr style=\"text-align: right;\">\n",
       "      <th></th>\n",
       "      <th>key</th>\n",
       "      <th>data1</th>\n",
       "      <th>data2</th>\n",
       "    </tr>\n",
       "  </thead>\n",
       "  <tbody>\n",
       "    <tr>\n",
       "      <th>0</th>\n",
       "      <td>b</td>\n",
       "      <td>0</td>\n",
       "      <td>1</td>\n",
       "    </tr>\n",
       "    <tr>\n",
       "      <th>1</th>\n",
       "      <td>b</td>\n",
       "      <td>1</td>\n",
       "      <td>1</td>\n",
       "    </tr>\n",
       "    <tr>\n",
       "      <th>2</th>\n",
       "      <td>b</td>\n",
       "      <td>6</td>\n",
       "      <td>1</td>\n",
       "    </tr>\n",
       "    <tr>\n",
       "      <th>3</th>\n",
       "      <td>a</td>\n",
       "      <td>2</td>\n",
       "      <td>0</td>\n",
       "    </tr>\n",
       "    <tr>\n",
       "      <th>4</th>\n",
       "      <td>a</td>\n",
       "      <td>4</td>\n",
       "      <td>0</td>\n",
       "    </tr>\n",
       "    <tr>\n",
       "      <th>5</th>\n",
       "      <td>a</td>\n",
       "      <td>5</td>\n",
       "      <td>0</td>\n",
       "    </tr>\n",
       "  </tbody>\n",
       "</table>\n",
       "</div>"
      ],
      "text/plain": [
       "  key  data1  data2\n",
       "0   b      0      1\n",
       "1   b      1      1\n",
       "2   b      6      1\n",
       "3   a      2      0\n",
       "4   a      4      0\n",
       "5   a      5      0"
      ]
     },
     "execution_count": 191,
     "metadata": {},
     "output_type": "execute_result"
    }
   ],
   "source": [
    "df3 = pd.merge(df1, df2, on='key')\n",
    "df3"
   ]
  },
  {
   "cell_type": "code",
   "execution_count": 192,
   "id": "official-deputy",
   "metadata": {},
   "outputs": [],
   "source": [
    "df1 = pd.DataFrame({'lkey' : ['b', 'b', 'a', 'c', 'a', 'a', 'b'],\n",
    "                    'data1' : range(7)})\n",
    "df2 = pd.DataFrame({'rkey' : ['a', 'b', 'd'],\n",
    "                    'data2' : range(3)})"
   ]
  },
  {
   "cell_type": "code",
   "execution_count": 195,
   "id": "specialized-bones",
   "metadata": {},
   "outputs": [
    {
     "data": {
      "text/html": [
       "<div>\n",
       "<style scoped>\n",
       "    .dataframe tbody tr th:only-of-type {\n",
       "        vertical-align: middle;\n",
       "    }\n",
       "\n",
       "    .dataframe tbody tr th {\n",
       "        vertical-align: top;\n",
       "    }\n",
       "\n",
       "    .dataframe thead th {\n",
       "        text-align: right;\n",
       "    }\n",
       "</style>\n",
       "<table border=\"1\" class=\"dataframe\">\n",
       "  <thead>\n",
       "    <tr style=\"text-align: right;\">\n",
       "      <th></th>\n",
       "      <th>lkey</th>\n",
       "      <th>data1</th>\n",
       "      <th>rkey</th>\n",
       "      <th>data2</th>\n",
       "    </tr>\n",
       "  </thead>\n",
       "  <tbody>\n",
       "    <tr>\n",
       "      <th>0</th>\n",
       "      <td>b</td>\n",
       "      <td>0</td>\n",
       "      <td>b</td>\n",
       "      <td>1</td>\n",
       "    </tr>\n",
       "    <tr>\n",
       "      <th>1</th>\n",
       "      <td>b</td>\n",
       "      <td>1</td>\n",
       "      <td>b</td>\n",
       "      <td>1</td>\n",
       "    </tr>\n",
       "    <tr>\n",
       "      <th>2</th>\n",
       "      <td>b</td>\n",
       "      <td>6</td>\n",
       "      <td>b</td>\n",
       "      <td>1</td>\n",
       "    </tr>\n",
       "    <tr>\n",
       "      <th>3</th>\n",
       "      <td>a</td>\n",
       "      <td>2</td>\n",
       "      <td>a</td>\n",
       "      <td>0</td>\n",
       "    </tr>\n",
       "    <tr>\n",
       "      <th>4</th>\n",
       "      <td>a</td>\n",
       "      <td>4</td>\n",
       "      <td>a</td>\n",
       "      <td>0</td>\n",
       "    </tr>\n",
       "    <tr>\n",
       "      <th>5</th>\n",
       "      <td>a</td>\n",
       "      <td>5</td>\n",
       "      <td>a</td>\n",
       "      <td>0</td>\n",
       "    </tr>\n",
       "  </tbody>\n",
       "</table>\n",
       "</div>"
      ],
      "text/plain": [
       "  lkey  data1 rkey  data2\n",
       "0    b      0    b      1\n",
       "1    b      1    b      1\n",
       "2    b      6    b      1\n",
       "3    a      2    a      0\n",
       "4    a      4    a      0\n",
       "5    a      5    a      0"
      ]
     },
     "execution_count": 195,
     "metadata": {},
     "output_type": "execute_result"
    }
   ],
   "source": [
    "df3 = pd.merge(df1, df2, left_on='lkey', right_on='rkey')\n",
    "df3"
   ]
  },
  {
   "cell_type": "code",
   "execution_count": 199,
   "id": "under-cheat",
   "metadata": {},
   "outputs": [
    {
     "data": {
      "text/html": [
       "<div>\n",
       "<style scoped>\n",
       "    .dataframe tbody tr th:only-of-type {\n",
       "        vertical-align: middle;\n",
       "    }\n",
       "\n",
       "    .dataframe tbody tr th {\n",
       "        vertical-align: top;\n",
       "    }\n",
       "\n",
       "    .dataframe thead th {\n",
       "        text-align: right;\n",
       "    }\n",
       "</style>\n",
       "<table border=\"1\" class=\"dataframe\">\n",
       "  <thead>\n",
       "    <tr style=\"text-align: right;\">\n",
       "      <th></th>\n",
       "      <th>lkey</th>\n",
       "      <th>data1</th>\n",
       "      <th>rkey</th>\n",
       "      <th>data2</th>\n",
       "    </tr>\n",
       "  </thead>\n",
       "  <tbody>\n",
       "    <tr>\n",
       "      <th>0</th>\n",
       "      <td>b</td>\n",
       "      <td>0</td>\n",
       "      <td>b</td>\n",
       "      <td>1</td>\n",
       "    </tr>\n",
       "    <tr>\n",
       "      <th>1</th>\n",
       "      <td>b</td>\n",
       "      <td>1</td>\n",
       "      <td>b</td>\n",
       "      <td>1</td>\n",
       "    </tr>\n",
       "    <tr>\n",
       "      <th>2</th>\n",
       "      <td>b</td>\n",
       "      <td>6</td>\n",
       "      <td>b</td>\n",
       "      <td>1</td>\n",
       "    </tr>\n",
       "    <tr>\n",
       "      <th>3</th>\n",
       "      <td>a</td>\n",
       "      <td>2</td>\n",
       "      <td>a</td>\n",
       "      <td>0</td>\n",
       "    </tr>\n",
       "    <tr>\n",
       "      <th>4</th>\n",
       "      <td>a</td>\n",
       "      <td>4</td>\n",
       "      <td>a</td>\n",
       "      <td>0</td>\n",
       "    </tr>\n",
       "    <tr>\n",
       "      <th>5</th>\n",
       "      <td>a</td>\n",
       "      <td>5</td>\n",
       "      <td>a</td>\n",
       "      <td>0</td>\n",
       "    </tr>\n",
       "  </tbody>\n",
       "</table>\n",
       "</div>"
      ],
      "text/plain": [
       "  lkey  data1 rkey  data2\n",
       "0    b      0    b      1\n",
       "1    b      1    b      1\n",
       "2    b      6    b      1\n",
       "3    a      2    a      0\n",
       "4    a      4    a      0\n",
       "5    a      5    a      0"
      ]
     },
     "execution_count": 199,
     "metadata": {},
     "output_type": "execute_result"
    }
   ],
   "source": [
    "df3 = pd.merge(df1, df2, left_on='lkey', right_on='rkey', how='inner')\n",
    "df3"
   ]
  },
  {
   "cell_type": "code",
   "execution_count": 200,
   "id": "subject-patrick",
   "metadata": {},
   "outputs": [
    {
     "data": {
      "text/html": [
       "<div>\n",
       "<style scoped>\n",
       "    .dataframe tbody tr th:only-of-type {\n",
       "        vertical-align: middle;\n",
       "    }\n",
       "\n",
       "    .dataframe tbody tr th {\n",
       "        vertical-align: top;\n",
       "    }\n",
       "\n",
       "    .dataframe thead th {\n",
       "        text-align: right;\n",
       "    }\n",
       "</style>\n",
       "<table border=\"1\" class=\"dataframe\">\n",
       "  <thead>\n",
       "    <tr style=\"text-align: right;\">\n",
       "      <th></th>\n",
       "      <th>lkey</th>\n",
       "      <th>data1</th>\n",
       "      <th>rkey</th>\n",
       "      <th>data2</th>\n",
       "    </tr>\n",
       "  </thead>\n",
       "  <tbody>\n",
       "    <tr>\n",
       "      <th>0</th>\n",
       "      <td>b</td>\n",
       "      <td>0</td>\n",
       "      <td>b</td>\n",
       "      <td>1.0</td>\n",
       "    </tr>\n",
       "    <tr>\n",
       "      <th>1</th>\n",
       "      <td>b</td>\n",
       "      <td>1</td>\n",
       "      <td>b</td>\n",
       "      <td>1.0</td>\n",
       "    </tr>\n",
       "    <tr>\n",
       "      <th>2</th>\n",
       "      <td>a</td>\n",
       "      <td>2</td>\n",
       "      <td>a</td>\n",
       "      <td>0.0</td>\n",
       "    </tr>\n",
       "    <tr>\n",
       "      <th>3</th>\n",
       "      <td>c</td>\n",
       "      <td>3</td>\n",
       "      <td>NaN</td>\n",
       "      <td>NaN</td>\n",
       "    </tr>\n",
       "    <tr>\n",
       "      <th>4</th>\n",
       "      <td>a</td>\n",
       "      <td>4</td>\n",
       "      <td>a</td>\n",
       "      <td>0.0</td>\n",
       "    </tr>\n",
       "    <tr>\n",
       "      <th>5</th>\n",
       "      <td>a</td>\n",
       "      <td>5</td>\n",
       "      <td>a</td>\n",
       "      <td>0.0</td>\n",
       "    </tr>\n",
       "    <tr>\n",
       "      <th>6</th>\n",
       "      <td>b</td>\n",
       "      <td>6</td>\n",
       "      <td>b</td>\n",
       "      <td>1.0</td>\n",
       "    </tr>\n",
       "  </tbody>\n",
       "</table>\n",
       "</div>"
      ],
      "text/plain": [
       "  lkey  data1 rkey  data2\n",
       "0    b      0    b    1.0\n",
       "1    b      1    b    1.0\n",
       "2    a      2    a    0.0\n",
       "3    c      3  NaN    NaN\n",
       "4    a      4    a    0.0\n",
       "5    a      5    a    0.0\n",
       "6    b      6    b    1.0"
      ]
     },
     "execution_count": 200,
     "metadata": {},
     "output_type": "execute_result"
    }
   ],
   "source": [
    "df3 = pd.merge(df1, df2, left_on='lkey', right_on='rkey', how='left')\n",
    "df3"
   ]
  },
  {
   "cell_type": "code",
   "execution_count": 203,
   "id": "appropriate-buffalo",
   "metadata": {},
   "outputs": [
    {
     "data": {
      "text/html": [
       "<div>\n",
       "<style scoped>\n",
       "    .dataframe tbody tr th:only-of-type {\n",
       "        vertical-align: middle;\n",
       "    }\n",
       "\n",
       "    .dataframe tbody tr th {\n",
       "        vertical-align: top;\n",
       "    }\n",
       "\n",
       "    .dataframe thead th {\n",
       "        text-align: right;\n",
       "    }\n",
       "</style>\n",
       "<table border=\"1\" class=\"dataframe\">\n",
       "  <thead>\n",
       "    <tr style=\"text-align: right;\">\n",
       "      <th></th>\n",
       "      <th>lkey</th>\n",
       "      <th>data1</th>\n",
       "      <th>rkey</th>\n",
       "      <th>data2</th>\n",
       "    </tr>\n",
       "  </thead>\n",
       "  <tbody>\n",
       "    <tr>\n",
       "      <th>0</th>\n",
       "      <td>a</td>\n",
       "      <td>2.0</td>\n",
       "      <td>a</td>\n",
       "      <td>0</td>\n",
       "    </tr>\n",
       "    <tr>\n",
       "      <th>1</th>\n",
       "      <td>a</td>\n",
       "      <td>4.0</td>\n",
       "      <td>a</td>\n",
       "      <td>0</td>\n",
       "    </tr>\n",
       "    <tr>\n",
       "      <th>2</th>\n",
       "      <td>a</td>\n",
       "      <td>5.0</td>\n",
       "      <td>a</td>\n",
       "      <td>0</td>\n",
       "    </tr>\n",
       "    <tr>\n",
       "      <th>3</th>\n",
       "      <td>b</td>\n",
       "      <td>0.0</td>\n",
       "      <td>b</td>\n",
       "      <td>1</td>\n",
       "    </tr>\n",
       "    <tr>\n",
       "      <th>4</th>\n",
       "      <td>b</td>\n",
       "      <td>1.0</td>\n",
       "      <td>b</td>\n",
       "      <td>1</td>\n",
       "    </tr>\n",
       "    <tr>\n",
       "      <th>5</th>\n",
       "      <td>b</td>\n",
       "      <td>6.0</td>\n",
       "      <td>b</td>\n",
       "      <td>1</td>\n",
       "    </tr>\n",
       "    <tr>\n",
       "      <th>6</th>\n",
       "      <td>NaN</td>\n",
       "      <td>NaN</td>\n",
       "      <td>d</td>\n",
       "      <td>2</td>\n",
       "    </tr>\n",
       "  </tbody>\n",
       "</table>\n",
       "</div>"
      ],
      "text/plain": [
       "  lkey  data1 rkey  data2\n",
       "0    a    2.0    a      0\n",
       "1    a    4.0    a      0\n",
       "2    a    5.0    a      0\n",
       "3    b    0.0    b      1\n",
       "4    b    1.0    b      1\n",
       "5    b    6.0    b      1\n",
       "6  NaN    NaN    d      2"
      ]
     },
     "execution_count": 203,
     "metadata": {},
     "output_type": "execute_result"
    }
   ],
   "source": [
    "df3 = pd.merge(df1, df2, left_on='lkey', right_on='rkey', how='right')\n",
    "df3"
   ]
  },
  {
   "cell_type": "code",
   "execution_count": 204,
   "id": "protective-thomas",
   "metadata": {},
   "outputs": [
    {
     "data": {
      "text/html": [
       "<div>\n",
       "<style scoped>\n",
       "    .dataframe tbody tr th:only-of-type {\n",
       "        vertical-align: middle;\n",
       "    }\n",
       "\n",
       "    .dataframe tbody tr th {\n",
       "        vertical-align: top;\n",
       "    }\n",
       "\n",
       "    .dataframe thead th {\n",
       "        text-align: right;\n",
       "    }\n",
       "</style>\n",
       "<table border=\"1\" class=\"dataframe\">\n",
       "  <thead>\n",
       "    <tr style=\"text-align: right;\">\n",
       "      <th></th>\n",
       "      <th>lkey</th>\n",
       "      <th>data1</th>\n",
       "      <th>rkey</th>\n",
       "      <th>data2</th>\n",
       "    </tr>\n",
       "  </thead>\n",
       "  <tbody>\n",
       "    <tr>\n",
       "      <th>0</th>\n",
       "      <td>b</td>\n",
       "      <td>0.0</td>\n",
       "      <td>b</td>\n",
       "      <td>1.0</td>\n",
       "    </tr>\n",
       "    <tr>\n",
       "      <th>1</th>\n",
       "      <td>b</td>\n",
       "      <td>1.0</td>\n",
       "      <td>b</td>\n",
       "      <td>1.0</td>\n",
       "    </tr>\n",
       "    <tr>\n",
       "      <th>2</th>\n",
       "      <td>b</td>\n",
       "      <td>6.0</td>\n",
       "      <td>b</td>\n",
       "      <td>1.0</td>\n",
       "    </tr>\n",
       "    <tr>\n",
       "      <th>3</th>\n",
       "      <td>a</td>\n",
       "      <td>2.0</td>\n",
       "      <td>a</td>\n",
       "      <td>0.0</td>\n",
       "    </tr>\n",
       "    <tr>\n",
       "      <th>4</th>\n",
       "      <td>a</td>\n",
       "      <td>4.0</td>\n",
       "      <td>a</td>\n",
       "      <td>0.0</td>\n",
       "    </tr>\n",
       "    <tr>\n",
       "      <th>5</th>\n",
       "      <td>a</td>\n",
       "      <td>5.0</td>\n",
       "      <td>a</td>\n",
       "      <td>0.0</td>\n",
       "    </tr>\n",
       "    <tr>\n",
       "      <th>6</th>\n",
       "      <td>c</td>\n",
       "      <td>3.0</td>\n",
       "      <td>NaN</td>\n",
       "      <td>NaN</td>\n",
       "    </tr>\n",
       "    <tr>\n",
       "      <th>7</th>\n",
       "      <td>NaN</td>\n",
       "      <td>NaN</td>\n",
       "      <td>d</td>\n",
       "      <td>2.0</td>\n",
       "    </tr>\n",
       "  </tbody>\n",
       "</table>\n",
       "</div>"
      ],
      "text/plain": [
       "  lkey  data1 rkey  data2\n",
       "0    b    0.0    b    1.0\n",
       "1    b    1.0    b    1.0\n",
       "2    b    6.0    b    1.0\n",
       "3    a    2.0    a    0.0\n",
       "4    a    4.0    a    0.0\n",
       "5    a    5.0    a    0.0\n",
       "6    c    3.0  NaN    NaN\n",
       "7  NaN    NaN    d    2.0"
      ]
     },
     "execution_count": 204,
     "metadata": {},
     "output_type": "execute_result"
    }
   ],
   "source": [
    "df3 = pd.merge(df1, df2, left_on='lkey', right_on='rkey', how='outer')\n",
    "df3"
   ]
  },
  {
   "cell_type": "code",
   "execution_count": 205,
   "id": "external-browser",
   "metadata": {},
   "outputs": [],
   "source": [
    "df1 = pd.DataFrame({'key1' : ['foo', 'foo', 'bar'],\n",
    "                    'key2' : ['one', 'two', 'one'],\n",
    "                    'lval' : [1, 2, 3]})\n",
    "df2 = pd.DataFrame({'key1' : ['foo', 'foo', 'bar', 'bar'],\n",
    "                    'key2' : ['one', 'one', 'one', 'two'],\n",
    "                    'lval' : [4, 5, 6, 7]})"
   ]
  },
  {
   "cell_type": "code",
   "execution_count": 209,
   "id": "exotic-wellington",
   "metadata": {},
   "outputs": [
    {
     "data": {
      "text/html": [
       "<div>\n",
       "<style scoped>\n",
       "    .dataframe tbody tr th:only-of-type {\n",
       "        vertical-align: middle;\n",
       "    }\n",
       "\n",
       "    .dataframe tbody tr th {\n",
       "        vertical-align: top;\n",
       "    }\n",
       "\n",
       "    .dataframe thead th {\n",
       "        text-align: right;\n",
       "    }\n",
       "</style>\n",
       "<table border=\"1\" class=\"dataframe\">\n",
       "  <thead>\n",
       "    <tr style=\"text-align: right;\">\n",
       "      <th></th>\n",
       "      <th>key1</th>\n",
       "      <th>key2</th>\n",
       "      <th>lval_x</th>\n",
       "      <th>lval_y</th>\n",
       "    </tr>\n",
       "  </thead>\n",
       "  <tbody>\n",
       "    <tr>\n",
       "      <th>0</th>\n",
       "      <td>foo</td>\n",
       "      <td>one</td>\n",
       "      <td>1.0</td>\n",
       "      <td>4.0</td>\n",
       "    </tr>\n",
       "    <tr>\n",
       "      <th>1</th>\n",
       "      <td>foo</td>\n",
       "      <td>one</td>\n",
       "      <td>1.0</td>\n",
       "      <td>5.0</td>\n",
       "    </tr>\n",
       "    <tr>\n",
       "      <th>2</th>\n",
       "      <td>foo</td>\n",
       "      <td>two</td>\n",
       "      <td>2.0</td>\n",
       "      <td>NaN</td>\n",
       "    </tr>\n",
       "    <tr>\n",
       "      <th>3</th>\n",
       "      <td>bar</td>\n",
       "      <td>one</td>\n",
       "      <td>3.0</td>\n",
       "      <td>6.0</td>\n",
       "    </tr>\n",
       "    <tr>\n",
       "      <th>4</th>\n",
       "      <td>bar</td>\n",
       "      <td>two</td>\n",
       "      <td>NaN</td>\n",
       "      <td>7.0</td>\n",
       "    </tr>\n",
       "  </tbody>\n",
       "</table>\n",
       "</div>"
      ],
      "text/plain": [
       "  key1 key2  lval_x  lval_y\n",
       "0  foo  one     1.0     4.0\n",
       "1  foo  one     1.0     5.0\n",
       "2  foo  two     2.0     NaN\n",
       "3  bar  one     3.0     6.0\n",
       "4  bar  two     NaN     7.0"
      ]
     },
     "execution_count": 209,
     "metadata": {},
     "output_type": "execute_result"
    }
   ],
   "source": [
    "df3 = pd.merge(df1, df2, on=['key1', 'key2'], how='outer')\n",
    "df3"
   ]
  },
  {
   "cell_type": "markdown",
   "id": "secret-toronto",
   "metadata": {},
   "source": [
    "## Merge on index"
   ]
  },
  {
   "cell_type": "code",
   "execution_count": 210,
   "id": "warming-excuse",
   "metadata": {},
   "outputs": [],
   "source": [
    "df1 = pd.DataFrame({'key' : ['a', 'b', 'a', 'a', 'b', 'c'],\n",
    "                    'value' : range(6)})\n",
    "df2 = pd.DataFrame({'val' : [1, 2]}, index=['a', 'b'])"
   ]
  },
  {
   "cell_type": "code",
   "execution_count": 211,
   "id": "warming-terrorist",
   "metadata": {},
   "outputs": [
    {
     "data": {
      "text/html": [
       "<div>\n",
       "<style scoped>\n",
       "    .dataframe tbody tr th:only-of-type {\n",
       "        vertical-align: middle;\n",
       "    }\n",
       "\n",
       "    .dataframe tbody tr th {\n",
       "        vertical-align: top;\n",
       "    }\n",
       "\n",
       "    .dataframe thead th {\n",
       "        text-align: right;\n",
       "    }\n",
       "</style>\n",
       "<table border=\"1\" class=\"dataframe\">\n",
       "  <thead>\n",
       "    <tr style=\"text-align: right;\">\n",
       "      <th></th>\n",
       "      <th>key</th>\n",
       "      <th>value</th>\n",
       "    </tr>\n",
       "  </thead>\n",
       "  <tbody>\n",
       "    <tr>\n",
       "      <th>0</th>\n",
       "      <td>a</td>\n",
       "      <td>0</td>\n",
       "    </tr>\n",
       "    <tr>\n",
       "      <th>1</th>\n",
       "      <td>b</td>\n",
       "      <td>1</td>\n",
       "    </tr>\n",
       "    <tr>\n",
       "      <th>2</th>\n",
       "      <td>a</td>\n",
       "      <td>2</td>\n",
       "    </tr>\n",
       "    <tr>\n",
       "      <th>3</th>\n",
       "      <td>a</td>\n",
       "      <td>3</td>\n",
       "    </tr>\n",
       "    <tr>\n",
       "      <th>4</th>\n",
       "      <td>b</td>\n",
       "      <td>4</td>\n",
       "    </tr>\n",
       "    <tr>\n",
       "      <th>5</th>\n",
       "      <td>c</td>\n",
       "      <td>5</td>\n",
       "    </tr>\n",
       "  </tbody>\n",
       "</table>\n",
       "</div>"
      ],
      "text/plain": [
       "  key  value\n",
       "0   a      0\n",
       "1   b      1\n",
       "2   a      2\n",
       "3   a      3\n",
       "4   b      4\n",
       "5   c      5"
      ]
     },
     "execution_count": 211,
     "metadata": {},
     "output_type": "execute_result"
    }
   ],
   "source": [
    "df1"
   ]
  },
  {
   "cell_type": "code",
   "execution_count": 212,
   "id": "adolescent-teacher",
   "metadata": {},
   "outputs": [
    {
     "data": {
      "text/html": [
       "<div>\n",
       "<style scoped>\n",
       "    .dataframe tbody tr th:only-of-type {\n",
       "        vertical-align: middle;\n",
       "    }\n",
       "\n",
       "    .dataframe tbody tr th {\n",
       "        vertical-align: top;\n",
       "    }\n",
       "\n",
       "    .dataframe thead th {\n",
       "        text-align: right;\n",
       "    }\n",
       "</style>\n",
       "<table border=\"1\" class=\"dataframe\">\n",
       "  <thead>\n",
       "    <tr style=\"text-align: right;\">\n",
       "      <th></th>\n",
       "      <th>val</th>\n",
       "    </tr>\n",
       "  </thead>\n",
       "  <tbody>\n",
       "    <tr>\n",
       "      <th>a</th>\n",
       "      <td>1</td>\n",
       "    </tr>\n",
       "    <tr>\n",
       "      <th>b</th>\n",
       "      <td>2</td>\n",
       "    </tr>\n",
       "  </tbody>\n",
       "</table>\n",
       "</div>"
      ],
      "text/plain": [
       "   val\n",
       "a    1\n",
       "b    2"
      ]
     },
     "execution_count": 212,
     "metadata": {},
     "output_type": "execute_result"
    }
   ],
   "source": [
    "df2"
   ]
  },
  {
   "cell_type": "code",
   "execution_count": 215,
   "id": "authorized-latin",
   "metadata": {},
   "outputs": [
    {
     "data": {
      "text/html": [
       "<div>\n",
       "<style scoped>\n",
       "    .dataframe tbody tr th:only-of-type {\n",
       "        vertical-align: middle;\n",
       "    }\n",
       "\n",
       "    .dataframe tbody tr th {\n",
       "        vertical-align: top;\n",
       "    }\n",
       "\n",
       "    .dataframe thead th {\n",
       "        text-align: right;\n",
       "    }\n",
       "</style>\n",
       "<table border=\"1\" class=\"dataframe\">\n",
       "  <thead>\n",
       "    <tr style=\"text-align: right;\">\n",
       "      <th></th>\n",
       "      <th>key</th>\n",
       "      <th>value</th>\n",
       "      <th>val</th>\n",
       "    </tr>\n",
       "  </thead>\n",
       "  <tbody>\n",
       "    <tr>\n",
       "      <th>0</th>\n",
       "      <td>a</td>\n",
       "      <td>0</td>\n",
       "      <td>1</td>\n",
       "    </tr>\n",
       "    <tr>\n",
       "      <th>2</th>\n",
       "      <td>a</td>\n",
       "      <td>2</td>\n",
       "      <td>1</td>\n",
       "    </tr>\n",
       "    <tr>\n",
       "      <th>3</th>\n",
       "      <td>a</td>\n",
       "      <td>3</td>\n",
       "      <td>1</td>\n",
       "    </tr>\n",
       "    <tr>\n",
       "      <th>1</th>\n",
       "      <td>b</td>\n",
       "      <td>1</td>\n",
       "      <td>2</td>\n",
       "    </tr>\n",
       "    <tr>\n",
       "      <th>4</th>\n",
       "      <td>b</td>\n",
       "      <td>4</td>\n",
       "      <td>2</td>\n",
       "    </tr>\n",
       "  </tbody>\n",
       "</table>\n",
       "</div>"
      ],
      "text/plain": [
       "  key  value  val\n",
       "0   a      0    1\n",
       "2   a      2    1\n",
       "3   a      3    1\n",
       "1   b      1    2\n",
       "4   b      4    2"
      ]
     },
     "execution_count": 215,
     "metadata": {},
     "output_type": "execute_result"
    }
   ],
   "source": [
    "pd.merge(df1, df2, left_on='key', right_index=True) # join based on 'key' column of the left df and the index of the right df"
   ]
  },
  {
   "cell_type": "code",
   "execution_count": 218,
   "id": "monthly-burning",
   "metadata": {},
   "outputs": [
    {
     "data": {
      "text/html": [
       "<div>\n",
       "<style scoped>\n",
       "    .dataframe tbody tr th:only-of-type {\n",
       "        vertical-align: middle;\n",
       "    }\n",
       "\n",
       "    .dataframe tbody tr th {\n",
       "        vertical-align: top;\n",
       "    }\n",
       "\n",
       "    .dataframe thead th {\n",
       "        text-align: right;\n",
       "    }\n",
       "</style>\n",
       "<table border=\"1\" class=\"dataframe\">\n",
       "  <thead>\n",
       "    <tr style=\"text-align: right;\">\n",
       "      <th></th>\n",
       "      <th>key</th>\n",
       "      <th>value</th>\n",
       "      <th>val</th>\n",
       "    </tr>\n",
       "  </thead>\n",
       "  <tbody>\n",
       "    <tr>\n",
       "      <th>0</th>\n",
       "      <td>a</td>\n",
       "      <td>0</td>\n",
       "      <td>1.0</td>\n",
       "    </tr>\n",
       "    <tr>\n",
       "      <th>2</th>\n",
       "      <td>a</td>\n",
       "      <td>2</td>\n",
       "      <td>1.0</td>\n",
       "    </tr>\n",
       "    <tr>\n",
       "      <th>3</th>\n",
       "      <td>a</td>\n",
       "      <td>3</td>\n",
       "      <td>1.0</td>\n",
       "    </tr>\n",
       "    <tr>\n",
       "      <th>1</th>\n",
       "      <td>b</td>\n",
       "      <td>1</td>\n",
       "      <td>2.0</td>\n",
       "    </tr>\n",
       "    <tr>\n",
       "      <th>4</th>\n",
       "      <td>b</td>\n",
       "      <td>4</td>\n",
       "      <td>2.0</td>\n",
       "    </tr>\n",
       "    <tr>\n",
       "      <th>5</th>\n",
       "      <td>c</td>\n",
       "      <td>5</td>\n",
       "      <td>0.0</td>\n",
       "    </tr>\n",
       "  </tbody>\n",
       "</table>\n",
       "</div>"
      ],
      "text/plain": [
       "  key  value  val\n",
       "0   a      0  1.0\n",
       "2   a      2  1.0\n",
       "3   a      3  1.0\n",
       "1   b      1  2.0\n",
       "4   b      4  2.0\n",
       "5   c      5  0.0"
      ]
     },
     "execution_count": 218,
     "metadata": {},
     "output_type": "execute_result"
    }
   ],
   "source": [
    "pd.merge(df1, df2, left_on='key', right_index=True, how='outer').fillna(0)"
   ]
  },
  {
   "cell_type": "code",
   "execution_count": 221,
   "id": "parental-sierra",
   "metadata": {},
   "outputs": [],
   "source": [
    "df1 = pd.DataFrame({'key1' : ['Skopje', 'Skopje', 'Skopje', 'Tetovo', 'Tetovo'],\n",
    "                    'key2' : [2000, 2001, 2002, 2001, 2002],\n",
    "                    'data' : np.arange(5)})\n",
    "df2 = pd.DataFrame(np.arange(12).reshape((6,2)),\n",
    "                  index=[['Tetovo', 'Tetovo', 'Skopje', 'Skopje', 'Skopje', 'Skopje'],\n",
    "                        [2001, 2000, 2000, 2000, 2001, 2002]],\n",
    "                  columns=['event1','evennt2'])"
   ]
  },
  {
   "cell_type": "code",
   "execution_count": 222,
   "id": "liked-tunnel",
   "metadata": {},
   "outputs": [
    {
     "data": {
      "text/html": [
       "<div>\n",
       "<style scoped>\n",
       "    .dataframe tbody tr th:only-of-type {\n",
       "        vertical-align: middle;\n",
       "    }\n",
       "\n",
       "    .dataframe tbody tr th {\n",
       "        vertical-align: top;\n",
       "    }\n",
       "\n",
       "    .dataframe thead th {\n",
       "        text-align: right;\n",
       "    }\n",
       "</style>\n",
       "<table border=\"1\" class=\"dataframe\">\n",
       "  <thead>\n",
       "    <tr style=\"text-align: right;\">\n",
       "      <th></th>\n",
       "      <th>key1</th>\n",
       "      <th>key2</th>\n",
       "      <th>data</th>\n",
       "    </tr>\n",
       "  </thead>\n",
       "  <tbody>\n",
       "    <tr>\n",
       "      <th>0</th>\n",
       "      <td>Skopje</td>\n",
       "      <td>2000</td>\n",
       "      <td>0</td>\n",
       "    </tr>\n",
       "    <tr>\n",
       "      <th>1</th>\n",
       "      <td>Skopje</td>\n",
       "      <td>2001</td>\n",
       "      <td>1</td>\n",
       "    </tr>\n",
       "    <tr>\n",
       "      <th>2</th>\n",
       "      <td>Skopje</td>\n",
       "      <td>2002</td>\n",
       "      <td>2</td>\n",
       "    </tr>\n",
       "    <tr>\n",
       "      <th>3</th>\n",
       "      <td>Tetovo</td>\n",
       "      <td>2001</td>\n",
       "      <td>3</td>\n",
       "    </tr>\n",
       "    <tr>\n",
       "      <th>4</th>\n",
       "      <td>Tetovo</td>\n",
       "      <td>2002</td>\n",
       "      <td>4</td>\n",
       "    </tr>\n",
       "  </tbody>\n",
       "</table>\n",
       "</div>"
      ],
      "text/plain": [
       "     key1  key2  data\n",
       "0  Skopje  2000     0\n",
       "1  Skopje  2001     1\n",
       "2  Skopje  2002     2\n",
       "3  Tetovo  2001     3\n",
       "4  Tetovo  2002     4"
      ]
     },
     "execution_count": 222,
     "metadata": {},
     "output_type": "execute_result"
    }
   ],
   "source": [
    "df1"
   ]
  },
  {
   "cell_type": "code",
   "execution_count": 223,
   "id": "chinese-blame",
   "metadata": {},
   "outputs": [
    {
     "data": {
      "text/html": [
       "<div>\n",
       "<style scoped>\n",
       "    .dataframe tbody tr th:only-of-type {\n",
       "        vertical-align: middle;\n",
       "    }\n",
       "\n",
       "    .dataframe tbody tr th {\n",
       "        vertical-align: top;\n",
       "    }\n",
       "\n",
       "    .dataframe thead th {\n",
       "        text-align: right;\n",
       "    }\n",
       "</style>\n",
       "<table border=\"1\" class=\"dataframe\">\n",
       "  <thead>\n",
       "    <tr style=\"text-align: right;\">\n",
       "      <th></th>\n",
       "      <th></th>\n",
       "      <th>event1</th>\n",
       "      <th>evennt2</th>\n",
       "    </tr>\n",
       "  </thead>\n",
       "  <tbody>\n",
       "    <tr>\n",
       "      <th rowspan=\"2\" valign=\"top\">Tetovo</th>\n",
       "      <th>2001</th>\n",
       "      <td>0</td>\n",
       "      <td>1</td>\n",
       "    </tr>\n",
       "    <tr>\n",
       "      <th>2000</th>\n",
       "      <td>2</td>\n",
       "      <td>3</td>\n",
       "    </tr>\n",
       "    <tr>\n",
       "      <th rowspan=\"4\" valign=\"top\">Skopje</th>\n",
       "      <th>2000</th>\n",
       "      <td>4</td>\n",
       "      <td>5</td>\n",
       "    </tr>\n",
       "    <tr>\n",
       "      <th>2000</th>\n",
       "      <td>6</td>\n",
       "      <td>7</td>\n",
       "    </tr>\n",
       "    <tr>\n",
       "      <th>2001</th>\n",
       "      <td>8</td>\n",
       "      <td>9</td>\n",
       "    </tr>\n",
       "    <tr>\n",
       "      <th>2002</th>\n",
       "      <td>10</td>\n",
       "      <td>11</td>\n",
       "    </tr>\n",
       "  </tbody>\n",
       "</table>\n",
       "</div>"
      ],
      "text/plain": [
       "             event1  evennt2\n",
       "Tetovo 2001       0        1\n",
       "       2000       2        3\n",
       "Skopje 2000       4        5\n",
       "       2000       6        7\n",
       "       2001       8        9\n",
       "       2002      10       11"
      ]
     },
     "execution_count": 223,
     "metadata": {},
     "output_type": "execute_result"
    }
   ],
   "source": [
    "df2"
   ]
  },
  {
   "cell_type": "code",
   "execution_count": 224,
   "id": "manufactured-belgium",
   "metadata": {},
   "outputs": [
    {
     "data": {
      "text/html": [
       "<div>\n",
       "<style scoped>\n",
       "    .dataframe tbody tr th:only-of-type {\n",
       "        vertical-align: middle;\n",
       "    }\n",
       "\n",
       "    .dataframe tbody tr th {\n",
       "        vertical-align: top;\n",
       "    }\n",
       "\n",
       "    .dataframe thead th {\n",
       "        text-align: right;\n",
       "    }\n",
       "</style>\n",
       "<table border=\"1\" class=\"dataframe\">\n",
       "  <thead>\n",
       "    <tr style=\"text-align: right;\">\n",
       "      <th></th>\n",
       "      <th>key1</th>\n",
       "      <th>key2</th>\n",
       "      <th>data</th>\n",
       "      <th>event1</th>\n",
       "      <th>evennt2</th>\n",
       "    </tr>\n",
       "  </thead>\n",
       "  <tbody>\n",
       "    <tr>\n",
       "      <th>0</th>\n",
       "      <td>Skopje</td>\n",
       "      <td>2000</td>\n",
       "      <td>0</td>\n",
       "      <td>4</td>\n",
       "      <td>5</td>\n",
       "    </tr>\n",
       "    <tr>\n",
       "      <th>0</th>\n",
       "      <td>Skopje</td>\n",
       "      <td>2000</td>\n",
       "      <td>0</td>\n",
       "      <td>6</td>\n",
       "      <td>7</td>\n",
       "    </tr>\n",
       "    <tr>\n",
       "      <th>1</th>\n",
       "      <td>Skopje</td>\n",
       "      <td>2001</td>\n",
       "      <td>1</td>\n",
       "      <td>8</td>\n",
       "      <td>9</td>\n",
       "    </tr>\n",
       "    <tr>\n",
       "      <th>2</th>\n",
       "      <td>Skopje</td>\n",
       "      <td>2002</td>\n",
       "      <td>2</td>\n",
       "      <td>10</td>\n",
       "      <td>11</td>\n",
       "    </tr>\n",
       "    <tr>\n",
       "      <th>3</th>\n",
       "      <td>Tetovo</td>\n",
       "      <td>2001</td>\n",
       "      <td>3</td>\n",
       "      <td>0</td>\n",
       "      <td>1</td>\n",
       "    </tr>\n",
       "  </tbody>\n",
       "</table>\n",
       "</div>"
      ],
      "text/plain": [
       "     key1  key2  data  event1  evennt2\n",
       "0  Skopje  2000     0       4        5\n",
       "0  Skopje  2000     0       6        7\n",
       "1  Skopje  2001     1       8        9\n",
       "2  Skopje  2002     2      10       11\n",
       "3  Tetovo  2001     3       0        1"
      ]
     },
     "execution_count": 224,
     "metadata": {},
     "output_type": "execute_result"
    }
   ],
   "source": [
    "pd.merge(df1, df2, left_on=['key1', 'key2'], right_index=True)"
   ]
  },
  {
   "cell_type": "code",
   "execution_count": 225,
   "id": "capable-discipline",
   "metadata": {},
   "outputs": [
    {
     "data": {
      "text/html": [
       "<div>\n",
       "<style scoped>\n",
       "    .dataframe tbody tr th:only-of-type {\n",
       "        vertical-align: middle;\n",
       "    }\n",
       "\n",
       "    .dataframe tbody tr th {\n",
       "        vertical-align: top;\n",
       "    }\n",
       "\n",
       "    .dataframe thead th {\n",
       "        text-align: right;\n",
       "    }\n",
       "</style>\n",
       "<table border=\"1\" class=\"dataframe\">\n",
       "  <thead>\n",
       "    <tr style=\"text-align: right;\">\n",
       "      <th></th>\n",
       "      <th>key1</th>\n",
       "      <th>key2</th>\n",
       "      <th>data</th>\n",
       "      <th>event1</th>\n",
       "      <th>evennt2</th>\n",
       "    </tr>\n",
       "  </thead>\n",
       "  <tbody>\n",
       "    <tr>\n",
       "      <th>0</th>\n",
       "      <td>Skopje</td>\n",
       "      <td>2000</td>\n",
       "      <td>0.0</td>\n",
       "      <td>4.0</td>\n",
       "      <td>5.0</td>\n",
       "    </tr>\n",
       "    <tr>\n",
       "      <th>0</th>\n",
       "      <td>Skopje</td>\n",
       "      <td>2000</td>\n",
       "      <td>0.0</td>\n",
       "      <td>6.0</td>\n",
       "      <td>7.0</td>\n",
       "    </tr>\n",
       "    <tr>\n",
       "      <th>1</th>\n",
       "      <td>Skopje</td>\n",
       "      <td>2001</td>\n",
       "      <td>1.0</td>\n",
       "      <td>8.0</td>\n",
       "      <td>9.0</td>\n",
       "    </tr>\n",
       "    <tr>\n",
       "      <th>2</th>\n",
       "      <td>Skopje</td>\n",
       "      <td>2002</td>\n",
       "      <td>2.0</td>\n",
       "      <td>10.0</td>\n",
       "      <td>11.0</td>\n",
       "    </tr>\n",
       "    <tr>\n",
       "      <th>3</th>\n",
       "      <td>Tetovo</td>\n",
       "      <td>2001</td>\n",
       "      <td>3.0</td>\n",
       "      <td>0.0</td>\n",
       "      <td>1.0</td>\n",
       "    </tr>\n",
       "    <tr>\n",
       "      <th>4</th>\n",
       "      <td>Tetovo</td>\n",
       "      <td>2002</td>\n",
       "      <td>4.0</td>\n",
       "      <td>NaN</td>\n",
       "      <td>NaN</td>\n",
       "    </tr>\n",
       "    <tr>\n",
       "      <th>4</th>\n",
       "      <td>Tetovo</td>\n",
       "      <td>2000</td>\n",
       "      <td>NaN</td>\n",
       "      <td>2.0</td>\n",
       "      <td>3.0</td>\n",
       "    </tr>\n",
       "  </tbody>\n",
       "</table>\n",
       "</div>"
      ],
      "text/plain": [
       "     key1  key2  data  event1  evennt2\n",
       "0  Skopje  2000   0.0     4.0      5.0\n",
       "0  Skopje  2000   0.0     6.0      7.0\n",
       "1  Skopje  2001   1.0     8.0      9.0\n",
       "2  Skopje  2002   2.0    10.0     11.0\n",
       "3  Tetovo  2001   3.0     0.0      1.0\n",
       "4  Tetovo  2002   4.0     NaN      NaN\n",
       "4  Tetovo  2000   NaN     2.0      3.0"
      ]
     },
     "execution_count": 225,
     "metadata": {},
     "output_type": "execute_result"
    }
   ],
   "source": [
    "pd.merge(df1, df2, left_on=['key1', 'key2'], right_index=True, how='outer')"
   ]
  },
  {
   "cell_type": "code",
   "execution_count": 239,
   "id": "designing-venezuela",
   "metadata": {},
   "outputs": [],
   "source": [
    "df1 = pd.DataFrame([[1, 2], [3, 4], [5, 6]],\n",
    "                    index = ['a', 'c', 'e'],\n",
    "                    columns=['Skopje', 'Tetovo'])\n",
    "df2 = pd.DataFrame([[7, 8], [9, 10], [11, 12], [13, 14]],\n",
    "                    index = ['b', 'c', 'd', 'e'],\n",
    "                    columns=['Ohrid', 'Struga'])   "
   ]
  },
  {
   "cell_type": "code",
   "execution_count": 240,
   "id": "happy-laugh",
   "metadata": {},
   "outputs": [
    {
     "data": {
      "text/html": [
       "<div>\n",
       "<style scoped>\n",
       "    .dataframe tbody tr th:only-of-type {\n",
       "        vertical-align: middle;\n",
       "    }\n",
       "\n",
       "    .dataframe tbody tr th {\n",
       "        vertical-align: top;\n",
       "    }\n",
       "\n",
       "    .dataframe thead th {\n",
       "        text-align: right;\n",
       "    }\n",
       "</style>\n",
       "<table border=\"1\" class=\"dataframe\">\n",
       "  <thead>\n",
       "    <tr style=\"text-align: right;\">\n",
       "      <th></th>\n",
       "      <th>Skopje</th>\n",
       "      <th>Tetovo</th>\n",
       "    </tr>\n",
       "  </thead>\n",
       "  <tbody>\n",
       "    <tr>\n",
       "      <th>a</th>\n",
       "      <td>1</td>\n",
       "      <td>2</td>\n",
       "    </tr>\n",
       "    <tr>\n",
       "      <th>c</th>\n",
       "      <td>3</td>\n",
       "      <td>4</td>\n",
       "    </tr>\n",
       "    <tr>\n",
       "      <th>e</th>\n",
       "      <td>5</td>\n",
       "      <td>6</td>\n",
       "    </tr>\n",
       "  </tbody>\n",
       "</table>\n",
       "</div>"
      ],
      "text/plain": [
       "   Skopje  Tetovo\n",
       "a       1       2\n",
       "c       3       4\n",
       "e       5       6"
      ]
     },
     "execution_count": 240,
     "metadata": {},
     "output_type": "execute_result"
    }
   ],
   "source": [
    "df1"
   ]
  },
  {
   "cell_type": "code",
   "execution_count": 241,
   "id": "treated-western",
   "metadata": {},
   "outputs": [
    {
     "data": {
      "text/html": [
       "<div>\n",
       "<style scoped>\n",
       "    .dataframe tbody tr th:only-of-type {\n",
       "        vertical-align: middle;\n",
       "    }\n",
       "\n",
       "    .dataframe tbody tr th {\n",
       "        vertical-align: top;\n",
       "    }\n",
       "\n",
       "    .dataframe thead th {\n",
       "        text-align: right;\n",
       "    }\n",
       "</style>\n",
       "<table border=\"1\" class=\"dataframe\">\n",
       "  <thead>\n",
       "    <tr style=\"text-align: right;\">\n",
       "      <th></th>\n",
       "      <th>Ohrid</th>\n",
       "      <th>Struga</th>\n",
       "    </tr>\n",
       "  </thead>\n",
       "  <tbody>\n",
       "    <tr>\n",
       "      <th>b</th>\n",
       "      <td>7</td>\n",
       "      <td>8</td>\n",
       "    </tr>\n",
       "    <tr>\n",
       "      <th>c</th>\n",
       "      <td>9</td>\n",
       "      <td>10</td>\n",
       "    </tr>\n",
       "    <tr>\n",
       "      <th>d</th>\n",
       "      <td>11</td>\n",
       "      <td>12</td>\n",
       "    </tr>\n",
       "    <tr>\n",
       "      <th>e</th>\n",
       "      <td>13</td>\n",
       "      <td>14</td>\n",
       "    </tr>\n",
       "  </tbody>\n",
       "</table>\n",
       "</div>"
      ],
      "text/plain": [
       "   Ohrid  Struga\n",
       "b      7       8\n",
       "c      9      10\n",
       "d     11      12\n",
       "e     13      14"
      ]
     },
     "execution_count": 241,
     "metadata": {},
     "output_type": "execute_result"
    }
   ],
   "source": [
    "df2"
   ]
  },
  {
   "cell_type": "code",
   "execution_count": 244,
   "id": "developmental-worship",
   "metadata": {},
   "outputs": [
    {
     "data": {
      "text/html": [
       "<div>\n",
       "<style scoped>\n",
       "    .dataframe tbody tr th:only-of-type {\n",
       "        vertical-align: middle;\n",
       "    }\n",
       "\n",
       "    .dataframe tbody tr th {\n",
       "        vertical-align: top;\n",
       "    }\n",
       "\n",
       "    .dataframe thead th {\n",
       "        text-align: right;\n",
       "    }\n",
       "</style>\n",
       "<table border=\"1\" class=\"dataframe\">\n",
       "  <thead>\n",
       "    <tr style=\"text-align: right;\">\n",
       "      <th></th>\n",
       "      <th>Skopje</th>\n",
       "      <th>Tetovo</th>\n",
       "      <th>Ohrid</th>\n",
       "      <th>Struga</th>\n",
       "    </tr>\n",
       "  </thead>\n",
       "  <tbody>\n",
       "    <tr>\n",
       "      <th>a</th>\n",
       "      <td>1.0</td>\n",
       "      <td>2.0</td>\n",
       "      <td>-1.0</td>\n",
       "      <td>-1.0</td>\n",
       "    </tr>\n",
       "    <tr>\n",
       "      <th>b</th>\n",
       "      <td>-1.0</td>\n",
       "      <td>-1.0</td>\n",
       "      <td>7.0</td>\n",
       "      <td>8.0</td>\n",
       "    </tr>\n",
       "    <tr>\n",
       "      <th>c</th>\n",
       "      <td>3.0</td>\n",
       "      <td>4.0</td>\n",
       "      <td>9.0</td>\n",
       "      <td>10.0</td>\n",
       "    </tr>\n",
       "    <tr>\n",
       "      <th>d</th>\n",
       "      <td>-1.0</td>\n",
       "      <td>-1.0</td>\n",
       "      <td>11.0</td>\n",
       "      <td>12.0</td>\n",
       "    </tr>\n",
       "    <tr>\n",
       "      <th>e</th>\n",
       "      <td>5.0</td>\n",
       "      <td>6.0</td>\n",
       "      <td>13.0</td>\n",
       "      <td>14.0</td>\n",
       "    </tr>\n",
       "  </tbody>\n",
       "</table>\n",
       "</div>"
      ],
      "text/plain": [
       "   Skopje  Tetovo  Ohrid  Struga\n",
       "a     1.0     2.0   -1.0    -1.0\n",
       "b    -1.0    -1.0    7.0     8.0\n",
       "c     3.0     4.0    9.0    10.0\n",
       "d    -1.0    -1.0   11.0    12.0\n",
       "e     5.0     6.0   13.0    14.0"
      ]
     },
     "execution_count": 244,
     "metadata": {},
     "output_type": "execute_result"
    }
   ],
   "source": [
    "pd.merge(df1, df2, left_index=True, right_index=True, how='outer').fillna(-1)"
   ]
  },
  {
   "cell_type": "code",
   "execution_count": 245,
   "id": "persistent-photographer",
   "metadata": {},
   "outputs": [
    {
     "data": {
      "text/html": [
       "<div>\n",
       "<style scoped>\n",
       "    .dataframe tbody tr th:only-of-type {\n",
       "        vertical-align: middle;\n",
       "    }\n",
       "\n",
       "    .dataframe tbody tr th {\n",
       "        vertical-align: top;\n",
       "    }\n",
       "\n",
       "    .dataframe thead th {\n",
       "        text-align: right;\n",
       "    }\n",
       "</style>\n",
       "<table border=\"1\" class=\"dataframe\">\n",
       "  <thead>\n",
       "    <tr style=\"text-align: right;\">\n",
       "      <th></th>\n",
       "      <th>Skopje</th>\n",
       "      <th>Tetovo</th>\n",
       "      <th>Ohrid</th>\n",
       "      <th>Struga</th>\n",
       "    </tr>\n",
       "  </thead>\n",
       "  <tbody>\n",
       "    <tr>\n",
       "      <th>c</th>\n",
       "      <td>3</td>\n",
       "      <td>4</td>\n",
       "      <td>9</td>\n",
       "      <td>10</td>\n",
       "    </tr>\n",
       "    <tr>\n",
       "      <th>e</th>\n",
       "      <td>5</td>\n",
       "      <td>6</td>\n",
       "      <td>13</td>\n",
       "      <td>14</td>\n",
       "    </tr>\n",
       "  </tbody>\n",
       "</table>\n",
       "</div>"
      ],
      "text/plain": [
       "   Skopje  Tetovo  Ohrid  Struga\n",
       "c       3       4      9      10\n",
       "e       5       6     13      14"
      ]
     },
     "execution_count": 245,
     "metadata": {},
     "output_type": "execute_result"
    }
   ],
   "source": [
    "pd.merge(df1, df2, left_index=True, right_index=True) # by default it's inner join"
   ]
  },
  {
   "cell_type": "code",
   "execution_count": 246,
   "id": "antique-niagara",
   "metadata": {},
   "outputs": [
    {
     "data": {
      "text/html": [
       "<div>\n",
       "<style scoped>\n",
       "    .dataframe tbody tr th:only-of-type {\n",
       "        vertical-align: middle;\n",
       "    }\n",
       "\n",
       "    .dataframe tbody tr th {\n",
       "        vertical-align: top;\n",
       "    }\n",
       "\n",
       "    .dataframe thead th {\n",
       "        text-align: right;\n",
       "    }\n",
       "</style>\n",
       "<table border=\"1\" class=\"dataframe\">\n",
       "  <thead>\n",
       "    <tr style=\"text-align: right;\">\n",
       "      <th></th>\n",
       "      <th>Skopje</th>\n",
       "      <th>Tetovo</th>\n",
       "      <th>Ohrid</th>\n",
       "      <th>Struga</th>\n",
       "    </tr>\n",
       "  </thead>\n",
       "  <tbody>\n",
       "    <tr>\n",
       "      <th>a</th>\n",
       "      <td>1.0</td>\n",
       "      <td>2.0</td>\n",
       "      <td>NaN</td>\n",
       "      <td>NaN</td>\n",
       "    </tr>\n",
       "    <tr>\n",
       "      <th>b</th>\n",
       "      <td>NaN</td>\n",
       "      <td>NaN</td>\n",
       "      <td>7.0</td>\n",
       "      <td>8.0</td>\n",
       "    </tr>\n",
       "    <tr>\n",
       "      <th>c</th>\n",
       "      <td>3.0</td>\n",
       "      <td>4.0</td>\n",
       "      <td>9.0</td>\n",
       "      <td>10.0</td>\n",
       "    </tr>\n",
       "    <tr>\n",
       "      <th>d</th>\n",
       "      <td>NaN</td>\n",
       "      <td>NaN</td>\n",
       "      <td>11.0</td>\n",
       "      <td>12.0</td>\n",
       "    </tr>\n",
       "    <tr>\n",
       "      <th>e</th>\n",
       "      <td>5.0</td>\n",
       "      <td>6.0</td>\n",
       "      <td>13.0</td>\n",
       "      <td>14.0</td>\n",
       "    </tr>\n",
       "  </tbody>\n",
       "</table>\n",
       "</div>"
      ],
      "text/plain": [
       "   Skopje  Tetovo  Ohrid  Struga\n",
       "a     1.0     2.0    NaN     NaN\n",
       "b     NaN     NaN    7.0     8.0\n",
       "c     3.0     4.0    9.0    10.0\n",
       "d     NaN     NaN   11.0    12.0\n",
       "e     5.0     6.0   13.0    14.0"
      ]
     },
     "execution_count": 246,
     "metadata": {},
     "output_type": "execute_result"
    }
   ],
   "source": [
    "df1.join(df2, how='outer')"
   ]
  },
  {
   "cell_type": "code",
   "execution_count": 249,
   "id": "connected-dimension",
   "metadata": {},
   "outputs": [
    {
     "data": {
      "text/html": [
       "<div>\n",
       "<style scoped>\n",
       "    .dataframe tbody tr th:only-of-type {\n",
       "        vertical-align: middle;\n",
       "    }\n",
       "\n",
       "    .dataframe tbody tr th {\n",
       "        vertical-align: top;\n",
       "    }\n",
       "\n",
       "    .dataframe thead th {\n",
       "        text-align: right;\n",
       "    }\n",
       "</style>\n",
       "<table border=\"1\" class=\"dataframe\">\n",
       "  <thead>\n",
       "    <tr style=\"text-align: right;\">\n",
       "      <th></th>\n",
       "      <th>Skopje</th>\n",
       "      <th>Tetovo</th>\n",
       "      <th>Ohrid</th>\n",
       "      <th>Struga</th>\n",
       "    </tr>\n",
       "  </thead>\n",
       "  <tbody>\n",
       "    <tr>\n",
       "      <th>a</th>\n",
       "      <td>1</td>\n",
       "      <td>2</td>\n",
       "      <td>NaN</td>\n",
       "      <td>NaN</td>\n",
       "    </tr>\n",
       "    <tr>\n",
       "      <th>c</th>\n",
       "      <td>3</td>\n",
       "      <td>4</td>\n",
       "      <td>9.0</td>\n",
       "      <td>10.0</td>\n",
       "    </tr>\n",
       "    <tr>\n",
       "      <th>e</th>\n",
       "      <td>5</td>\n",
       "      <td>6</td>\n",
       "      <td>13.0</td>\n",
       "      <td>14.0</td>\n",
       "    </tr>\n",
       "  </tbody>\n",
       "</table>\n",
       "</div>"
      ],
      "text/plain": [
       "   Skopje  Tetovo  Ohrid  Struga\n",
       "a       1       2    NaN     NaN\n",
       "c       3       4    9.0    10.0\n",
       "e       5       6   13.0    14.0"
      ]
     },
     "execution_count": 249,
     "metadata": {},
     "output_type": "execute_result"
    }
   ],
   "source": [
    "df1.join(df2) # default is left outer join"
   ]
  },
  {
   "cell_type": "code",
   "execution_count": 250,
   "id": "disturbed-bonus",
   "metadata": {},
   "outputs": [
    {
     "data": {
      "text/html": [
       "<div>\n",
       "<style scoped>\n",
       "    .dataframe tbody tr th:only-of-type {\n",
       "        vertical-align: middle;\n",
       "    }\n",
       "\n",
       "    .dataframe tbody tr th {\n",
       "        vertical-align: top;\n",
       "    }\n",
       "\n",
       "    .dataframe thead th {\n",
       "        text-align: right;\n",
       "    }\n",
       "</style>\n",
       "<table border=\"1\" class=\"dataframe\">\n",
       "  <thead>\n",
       "    <tr style=\"text-align: right;\">\n",
       "      <th></th>\n",
       "      <th>Skopje</th>\n",
       "      <th>Tetovo</th>\n",
       "      <th>Ohrid</th>\n",
       "      <th>Struga</th>\n",
       "    </tr>\n",
       "  </thead>\n",
       "  <tbody>\n",
       "    <tr>\n",
       "      <th>c</th>\n",
       "      <td>3</td>\n",
       "      <td>4</td>\n",
       "      <td>9</td>\n",
       "      <td>10</td>\n",
       "    </tr>\n",
       "    <tr>\n",
       "      <th>e</th>\n",
       "      <td>5</td>\n",
       "      <td>6</td>\n",
       "      <td>13</td>\n",
       "      <td>14</td>\n",
       "    </tr>\n",
       "  </tbody>\n",
       "</table>\n",
       "</div>"
      ],
      "text/plain": [
       "   Skopje  Tetovo  Ohrid  Struga\n",
       "c       3       4      9      10\n",
       "e       5       6     13      14"
      ]
     },
     "execution_count": 250,
     "metadata": {},
     "output_type": "execute_result"
    }
   ],
   "source": [
    "df1.join(df2, how='inner')"
   ]
  },
  {
   "cell_type": "markdown",
   "id": "future-representative",
   "metadata": {},
   "source": [
    "## Group by"
   ]
  },
  {
   "cell_type": "code",
   "execution_count": 252,
   "id": "excellent-interview",
   "metadata": {},
   "outputs": [
    {
     "data": {
      "text/html": [
       "<div>\n",
       "<style scoped>\n",
       "    .dataframe tbody tr th:only-of-type {\n",
       "        vertical-align: middle;\n",
       "    }\n",
       "\n",
       "    .dataframe tbody tr th {\n",
       "        vertical-align: top;\n",
       "    }\n",
       "\n",
       "    .dataframe thead th {\n",
       "        text-align: right;\n",
       "    }\n",
       "</style>\n",
       "<table border=\"1\" class=\"dataframe\">\n",
       "  <thead>\n",
       "    <tr style=\"text-align: right;\">\n",
       "      <th></th>\n",
       "      <th>k1</th>\n",
       "      <th>k2</th>\n",
       "      <th>d1</th>\n",
       "      <th>d2</th>\n",
       "    </tr>\n",
       "  </thead>\n",
       "  <tbody>\n",
       "    <tr>\n",
       "      <th>0</th>\n",
       "      <td>a</td>\n",
       "      <td>One</td>\n",
       "      <td>1.281456</td>\n",
       "      <td>-1.746143</td>\n",
       "    </tr>\n",
       "    <tr>\n",
       "      <th>1</th>\n",
       "      <td>a</td>\n",
       "      <td>Two</td>\n",
       "      <td>-1.064683</td>\n",
       "      <td>-0.049563</td>\n",
       "    </tr>\n",
       "    <tr>\n",
       "      <th>2</th>\n",
       "      <td>b</td>\n",
       "      <td>One</td>\n",
       "      <td>1.026190</td>\n",
       "      <td>-2.092018</td>\n",
       "    </tr>\n",
       "    <tr>\n",
       "      <th>3</th>\n",
       "      <td>b</td>\n",
       "      <td>Two</td>\n",
       "      <td>-0.003391</td>\n",
       "      <td>1.012367</td>\n",
       "    </tr>\n",
       "    <tr>\n",
       "      <th>4</th>\n",
       "      <td>a</td>\n",
       "      <td>One</td>\n",
       "      <td>-0.053567</td>\n",
       "      <td>-0.025453</td>\n",
       "    </tr>\n",
       "  </tbody>\n",
       "</table>\n",
       "</div>"
      ],
      "text/plain": [
       "  k1   k2        d1        d2\n",
       "0  a  One  1.281456 -1.746143\n",
       "1  a  Two -1.064683 -0.049563\n",
       "2  b  One  1.026190 -2.092018\n",
       "3  b  Two -0.003391  1.012367\n",
       "4  a  One -0.053567 -0.025453"
      ]
     },
     "execution_count": 252,
     "metadata": {},
     "output_type": "execute_result"
    }
   ],
   "source": [
    "df1 = pd.DataFrame({'k1' : ['a', 'a', 'b', 'b', 'a'],\n",
    "                    'k2' : ['One', 'Two', 'One', 'Two', 'One'],\n",
    "                    'd1' : np.random.randn(5),\n",
    "                    'd2' : np.random.randn(5)})\n",
    "df1"
   ]
  },
  {
   "cell_type": "code",
   "execution_count": 264,
   "id": "detailed-garlic",
   "metadata": {},
   "outputs": [
    {
     "name": "stdout",
     "output_type": "stream",
     "text": [
      "<class 'pandas.core.groupby.generic.SeriesGroupBy'>\n"
     ]
    }
   ],
   "source": [
    "g1 = df1['d1'].groupby(df1['k1'])\n",
    "print(type(g1))"
   ]
  },
  {
   "cell_type": "code",
   "execution_count": 265,
   "id": "mounted-isolation",
   "metadata": {},
   "outputs": [
    {
     "data": {
      "text/plain": [
       "k1\n",
       "a    0.054402\n",
       "b    0.511400\n",
       "Name: d1, dtype: float64"
      ]
     },
     "execution_count": 265,
     "metadata": {},
     "output_type": "execute_result"
    }
   ],
   "source": [
    "g1.mean()"
   ]
  },
  {
   "cell_type": "code",
   "execution_count": 266,
   "id": "verified-modem",
   "metadata": {},
   "outputs": [
    {
     "data": {
      "text/plain": [
       "k1\n",
       "a    1.281456\n",
       "b    1.026190\n",
       "Name: d1, dtype: float64"
      ]
     },
     "execution_count": 266,
     "metadata": {},
     "output_type": "execute_result"
    }
   ],
   "source": [
    "g1.max()"
   ]
  },
  {
   "cell_type": "code",
   "execution_count": 267,
   "id": "structural-clarity",
   "metadata": {},
   "outputs": [
    {
     "data": {
      "text/plain": [
       "k1\n",
       "a   -1.064683\n",
       "b   -0.003391\n",
       "Name: d1, dtype: float64"
      ]
     },
     "execution_count": 267,
     "metadata": {},
     "output_type": "execute_result"
    }
   ],
   "source": [
    "g1.min()"
   ]
  },
  {
   "cell_type": "code",
   "execution_count": 268,
   "id": "unknown-poverty",
   "metadata": {},
   "outputs": [
    {
     "data": {
      "text/plain": [
       "k1\n",
       "a    0.163207\n",
       "b    1.022799\n",
       "Name: d1, dtype: float64"
      ]
     },
     "execution_count": 268,
     "metadata": {},
     "output_type": "execute_result"
    }
   ],
   "source": [
    "g1.sum()"
   ]
  },
  {
   "cell_type": "code",
   "execution_count": 280,
   "id": "comprehensive-transportation",
   "metadata": {},
   "outputs": [
    {
     "data": {
      "text/plain": [
       "k1  k2 \n",
       "a   One    0.613945\n",
       "    Two   -1.064683\n",
       "b   One    1.026190\n",
       "    Two   -0.003391\n",
       "Name: d1, dtype: float64"
      ]
     },
     "execution_count": 280,
     "metadata": {},
     "output_type": "execute_result"
    }
   ],
   "source": [
    "df1['d1'].groupby([df1['k1'], df1['k2']]).mean()"
   ]
  },
  {
   "cell_type": "code",
   "execution_count": 281,
   "id": "otherwise-woman",
   "metadata": {},
   "outputs": [
    {
     "data": {
      "text/plain": [
       "k1  k2 \n",
       "a   One    0.613945\n",
       "    Two   -1.064683\n",
       "b   One    1.026190\n",
       "    Two   -0.003391\n",
       "Name: d1, dtype: float64"
      ]
     },
     "execution_count": 281,
     "metadata": {},
     "output_type": "execute_result"
    }
   ],
   "source": [
    "df1.groupby([df1['k1'], df1['k2']])['d1'].mean() # same result (different syntax)"
   ]
  },
  {
   "cell_type": "code",
   "execution_count": 282,
   "id": "mobile-arrival",
   "metadata": {},
   "outputs": [
    {
     "data": {
      "text/plain": [
       "k1  k2 \n",
       "a   One    1.281456\n",
       "    Two   -1.064683\n",
       "b   One    1.026190\n",
       "    Two   -0.003391\n",
       "Name: d1, dtype: float64"
      ]
     },
     "execution_count": 282,
     "metadata": {},
     "output_type": "execute_result"
    }
   ],
   "source": [
    "df1.groupby([df1['k1'], df1['k2']])['d1'].max()"
   ]
  },
  {
   "cell_type": "code",
   "execution_count": 283,
   "id": "convenient-burton",
   "metadata": {},
   "outputs": [
    {
     "data": {
      "text/plain": [
       "k1  k2 \n",
       "a   One   -0.053567\n",
       "    Two   -1.064683\n",
       "b   One    1.026190\n",
       "    Two   -0.003391\n",
       "Name: d1, dtype: float64"
      ]
     },
     "execution_count": 283,
     "metadata": {},
     "output_type": "execute_result"
    }
   ],
   "source": [
    "df1.groupby([df1['k1'], df1['k2']])['d1'].min()"
   ]
  },
  {
   "cell_type": "code",
   "execution_count": 284,
   "id": "bizarre-grade",
   "metadata": {},
   "outputs": [
    {
     "data": {
      "text/plain": [
       "k1  k2 \n",
       "a   One   -0.053567\n",
       "    Two   -1.064683\n",
       "b   One    1.026190\n",
       "    Two   -0.003391\n",
       "Name: d1, dtype: float64"
      ]
     },
     "execution_count": 284,
     "metadata": {},
     "output_type": "execute_result"
    }
   ],
   "source": [
    "df1.groupby(['k1', 'k2'])['d1'].min() # same result (different syntax)"
   ]
  },
  {
   "cell_type": "code",
   "execution_count": 286,
   "id": "banner-funeral",
   "metadata": {},
   "outputs": [
    {
     "data": {
      "text/html": [
       "<div>\n",
       "<style scoped>\n",
       "    .dataframe tbody tr th:only-of-type {\n",
       "        vertical-align: middle;\n",
       "    }\n",
       "\n",
       "    .dataframe tbody tr th {\n",
       "        vertical-align: top;\n",
       "    }\n",
       "\n",
       "    .dataframe thead th {\n",
       "        text-align: right;\n",
       "    }\n",
       "</style>\n",
       "<table border=\"1\" class=\"dataframe\">\n",
       "  <thead>\n",
       "    <tr style=\"text-align: right;\">\n",
       "      <th></th>\n",
       "      <th>k2</th>\n",
       "      <th>d1</th>\n",
       "      <th>d2</th>\n",
       "    </tr>\n",
       "    <tr>\n",
       "      <th>k1</th>\n",
       "      <th></th>\n",
       "      <th></th>\n",
       "      <th></th>\n",
       "    </tr>\n",
       "  </thead>\n",
       "  <tbody>\n",
       "    <tr>\n",
       "      <th>a</th>\n",
       "      <td>3</td>\n",
       "      <td>3</td>\n",
       "      <td>3</td>\n",
       "    </tr>\n",
       "    <tr>\n",
       "      <th>b</th>\n",
       "      <td>2</td>\n",
       "      <td>2</td>\n",
       "      <td>2</td>\n",
       "    </tr>\n",
       "  </tbody>\n",
       "</table>\n",
       "</div>"
      ],
      "text/plain": [
       "    k2  d1  d2\n",
       "k1            \n",
       "a    3   3   3\n",
       "b    2   2   2"
      ]
     },
     "execution_count": 286,
     "metadata": {},
     "output_type": "execute_result"
    }
   ],
   "source": [
    "df1.groupby('k1').count() # count of rows\n",
    "# SELECT COUNT(*) FROM df1 GROUP BY k1"
   ]
  },
  {
   "cell_type": "code",
   "execution_count": 287,
   "id": "forward-candy",
   "metadata": {},
   "outputs": [
    {
     "data": {
      "text/html": [
       "<div>\n",
       "<style scoped>\n",
       "    .dataframe tbody tr th:only-of-type {\n",
       "        vertical-align: middle;\n",
       "    }\n",
       "\n",
       "    .dataframe tbody tr th {\n",
       "        vertical-align: top;\n",
       "    }\n",
       "\n",
       "    .dataframe thead th {\n",
       "        text-align: right;\n",
       "    }\n",
       "</style>\n",
       "<table border=\"1\" class=\"dataframe\">\n",
       "  <thead>\n",
       "    <tr style=\"text-align: right;\">\n",
       "      <th></th>\n",
       "      <th>d1</th>\n",
       "      <th>d2</th>\n",
       "    </tr>\n",
       "    <tr>\n",
       "      <th>k1</th>\n",
       "      <th></th>\n",
       "      <th></th>\n",
       "    </tr>\n",
       "  </thead>\n",
       "  <tbody>\n",
       "    <tr>\n",
       "      <th>a</th>\n",
       "      <td>0.163207</td>\n",
       "      <td>-1.821159</td>\n",
       "    </tr>\n",
       "    <tr>\n",
       "      <th>b</th>\n",
       "      <td>1.022799</td>\n",
       "      <td>-1.079651</td>\n",
       "    </tr>\n",
       "  </tbody>\n",
       "</table>\n",
       "</div>"
      ],
      "text/plain": [
       "          d1        d2\n",
       "k1                    \n",
       "a   0.163207 -1.821159\n",
       "b   1.022799 -1.079651"
      ]
     },
     "execution_count": 287,
     "metadata": {},
     "output_type": "execute_result"
    }
   ],
   "source": [
    "df1.groupby('k1').sum()"
   ]
  },
  {
   "cell_type": "code",
   "execution_count": 288,
   "id": "rubber-intervention",
   "metadata": {},
   "outputs": [
    {
     "data": {
      "text/html": [
       "<div>\n",
       "<style scoped>\n",
       "    .dataframe tbody tr th:only-of-type {\n",
       "        vertical-align: middle;\n",
       "    }\n",
       "\n",
       "    .dataframe tbody tr th {\n",
       "        vertical-align: top;\n",
       "    }\n",
       "\n",
       "    .dataframe thead th {\n",
       "        text-align: right;\n",
       "    }\n",
       "</style>\n",
       "<table border=\"1\" class=\"dataframe\">\n",
       "  <thead>\n",
       "    <tr style=\"text-align: right;\">\n",
       "      <th></th>\n",
       "      <th>d1</th>\n",
       "      <th>d2</th>\n",
       "    </tr>\n",
       "    <tr>\n",
       "      <th>k1</th>\n",
       "      <th></th>\n",
       "      <th></th>\n",
       "    </tr>\n",
       "  </thead>\n",
       "  <tbody>\n",
       "    <tr>\n",
       "      <th>a</th>\n",
       "      <td>-0.053567</td>\n",
       "      <td>-0.049563</td>\n",
       "    </tr>\n",
       "    <tr>\n",
       "      <th>b</th>\n",
       "      <td>0.511400</td>\n",
       "      <td>-0.539826</td>\n",
       "    </tr>\n",
       "  </tbody>\n",
       "</table>\n",
       "</div>"
      ],
      "text/plain": [
       "          d1        d2\n",
       "k1                    \n",
       "a  -0.053567 -0.049563\n",
       "b   0.511400 -0.539826"
      ]
     },
     "execution_count": 288,
     "metadata": {},
     "output_type": "execute_result"
    }
   ],
   "source": [
    "df1.groupby('k1').median()"
   ]
  },
  {
   "cell_type": "code",
   "execution_count": 290,
   "id": "magnetic-minority",
   "metadata": {},
   "outputs": [
    {
     "data": {
      "text/html": [
       "<div>\n",
       "<style scoped>\n",
       "    .dataframe tbody tr th:only-of-type {\n",
       "        vertical-align: middle;\n",
       "    }\n",
       "\n",
       "    .dataframe tbody tr th {\n",
       "        vertical-align: top;\n",
       "    }\n",
       "\n",
       "    .dataframe thead th {\n",
       "        text-align: right;\n",
       "    }\n",
       "</style>\n",
       "<table border=\"1\" class=\"dataframe\">\n",
       "  <thead>\n",
       "    <tr style=\"text-align: right;\">\n",
       "      <th></th>\n",
       "      <th>k2</th>\n",
       "      <th>d1</th>\n",
       "      <th>d2</th>\n",
       "    </tr>\n",
       "    <tr>\n",
       "      <th>k1</th>\n",
       "      <th></th>\n",
       "      <th></th>\n",
       "      <th></th>\n",
       "    </tr>\n",
       "  </thead>\n",
       "  <tbody>\n",
       "    <tr>\n",
       "      <th>a</th>\n",
       "      <td>One</td>\n",
       "      <td>1.281456</td>\n",
       "      <td>-1.746143</td>\n",
       "    </tr>\n",
       "    <tr>\n",
       "      <th>b</th>\n",
       "      <td>One</td>\n",
       "      <td>1.026190</td>\n",
       "      <td>-2.092018</td>\n",
       "    </tr>\n",
       "  </tbody>\n",
       "</table>\n",
       "</div>"
      ],
      "text/plain": [
       "     k2        d1        d2\n",
       "k1                         \n",
       "a   One  1.281456 -1.746143\n",
       "b   One  1.026190 -2.092018"
      ]
     },
     "execution_count": 290,
     "metadata": {},
     "output_type": "execute_result"
    }
   ],
   "source": [
    "df1.groupby('k1').first() #first 2 members of the group\n",
    "# group by makes elements from k1 column to be the new indexes"
   ]
  },
  {
   "cell_type": "code",
   "execution_count": 291,
   "id": "small-grammar",
   "metadata": {},
   "outputs": [
    {
     "data": {
      "text/html": [
       "<div>\n",
       "<style scoped>\n",
       "    .dataframe tbody tr th:only-of-type {\n",
       "        vertical-align: middle;\n",
       "    }\n",
       "\n",
       "    .dataframe tbody tr th {\n",
       "        vertical-align: top;\n",
       "    }\n",
       "\n",
       "    .dataframe thead th {\n",
       "        text-align: right;\n",
       "    }\n",
       "</style>\n",
       "<table border=\"1\" class=\"dataframe\">\n",
       "  <thead>\n",
       "    <tr style=\"text-align: right;\">\n",
       "      <th></th>\n",
       "      <th>k2</th>\n",
       "      <th>d1</th>\n",
       "      <th>d2</th>\n",
       "    </tr>\n",
       "    <tr>\n",
       "      <th>k1</th>\n",
       "      <th></th>\n",
       "      <th></th>\n",
       "      <th></th>\n",
       "    </tr>\n",
       "  </thead>\n",
       "  <tbody>\n",
       "    <tr>\n",
       "      <th>a</th>\n",
       "      <td>One</td>\n",
       "      <td>-0.053567</td>\n",
       "      <td>-0.025453</td>\n",
       "    </tr>\n",
       "    <tr>\n",
       "      <th>b</th>\n",
       "      <td>Two</td>\n",
       "      <td>-0.003391</td>\n",
       "      <td>1.012367</td>\n",
       "    </tr>\n",
       "  </tbody>\n",
       "</table>\n",
       "</div>"
      ],
      "text/plain": [
       "     k2        d1        d2\n",
       "k1                         \n",
       "a   One -0.053567 -0.025453\n",
       "b   Two -0.003391  1.012367"
      ]
     },
     "execution_count": 291,
     "metadata": {},
     "output_type": "execute_result"
    }
   ],
   "source": [
    "df1.groupby('k1').last() #last 2 members of the group"
   ]
  },
  {
   "cell_type": "markdown",
   "id": "fatal-russian",
   "metadata": {},
   "source": [
    "## Concat along axis"
   ]
  },
  {
   "cell_type": "code",
   "execution_count": 2,
   "id": "desirable-viking",
   "metadata": {},
   "outputs": [],
   "source": [
    "s1 = pd.Series([1, 2, 3], index=['a', 'b', 'c'])\n",
    "s2 = pd.Series([4, 5, 6], index=['d', 'e', 'f'])\n",
    "s3 = pd.Series([7, 8, 9], index=['g', 'h', 'i'])"
   ]
  },
  {
   "cell_type": "code",
   "execution_count": 6,
   "id": "ecological-stockholm",
   "metadata": {},
   "outputs": [
    {
     "data": {
      "text/plain": [
       "a    1\n",
       "b    2\n",
       "c    3\n",
       "d    4\n",
       "e    5\n",
       "f    6\n",
       "g    7\n",
       "h    8\n",
       "i    9\n",
       "dtype: int64"
      ]
     },
     "execution_count": 6,
     "metadata": {},
     "output_type": "execute_result"
    }
   ],
   "source": [
    "pd.concat([s1, s2, s3])"
   ]
  },
  {
   "cell_type": "code",
   "execution_count": 8,
   "id": "parental-republican",
   "metadata": {},
   "outputs": [
    {
     "data": {
      "text/html": [
       "<div>\n",
       "<style scoped>\n",
       "    .dataframe tbody tr th:only-of-type {\n",
       "        vertical-align: middle;\n",
       "    }\n",
       "\n",
       "    .dataframe tbody tr th {\n",
       "        vertical-align: top;\n",
       "    }\n",
       "\n",
       "    .dataframe thead th {\n",
       "        text-align: right;\n",
       "    }\n",
       "</style>\n",
       "<table border=\"1\" class=\"dataframe\">\n",
       "  <thead>\n",
       "    <tr style=\"text-align: right;\">\n",
       "      <th></th>\n",
       "      <th>0</th>\n",
       "      <th>1</th>\n",
       "      <th>2</th>\n",
       "    </tr>\n",
       "  </thead>\n",
       "  <tbody>\n",
       "    <tr>\n",
       "      <th>a</th>\n",
       "      <td>1.0</td>\n",
       "      <td>NaN</td>\n",
       "      <td>NaN</td>\n",
       "    </tr>\n",
       "    <tr>\n",
       "      <th>b</th>\n",
       "      <td>2.0</td>\n",
       "      <td>NaN</td>\n",
       "      <td>NaN</td>\n",
       "    </tr>\n",
       "    <tr>\n",
       "      <th>c</th>\n",
       "      <td>3.0</td>\n",
       "      <td>NaN</td>\n",
       "      <td>NaN</td>\n",
       "    </tr>\n",
       "    <tr>\n",
       "      <th>d</th>\n",
       "      <td>NaN</td>\n",
       "      <td>4.0</td>\n",
       "      <td>NaN</td>\n",
       "    </tr>\n",
       "    <tr>\n",
       "      <th>e</th>\n",
       "      <td>NaN</td>\n",
       "      <td>5.0</td>\n",
       "      <td>NaN</td>\n",
       "    </tr>\n",
       "    <tr>\n",
       "      <th>f</th>\n",
       "      <td>NaN</td>\n",
       "      <td>6.0</td>\n",
       "      <td>NaN</td>\n",
       "    </tr>\n",
       "    <tr>\n",
       "      <th>g</th>\n",
       "      <td>NaN</td>\n",
       "      <td>NaN</td>\n",
       "      <td>7.0</td>\n",
       "    </tr>\n",
       "    <tr>\n",
       "      <th>h</th>\n",
       "      <td>NaN</td>\n",
       "      <td>NaN</td>\n",
       "      <td>8.0</td>\n",
       "    </tr>\n",
       "    <tr>\n",
       "      <th>i</th>\n",
       "      <td>NaN</td>\n",
       "      <td>NaN</td>\n",
       "      <td>9.0</td>\n",
       "    </tr>\n",
       "  </tbody>\n",
       "</table>\n",
       "</div>"
      ],
      "text/plain": [
       "     0    1    2\n",
       "a  1.0  NaN  NaN\n",
       "b  2.0  NaN  NaN\n",
       "c  3.0  NaN  NaN\n",
       "d  NaN  4.0  NaN\n",
       "e  NaN  5.0  NaN\n",
       "f  NaN  6.0  NaN\n",
       "g  NaN  NaN  7.0\n",
       "h  NaN  NaN  8.0\n",
       "i  NaN  NaN  9.0"
      ]
     },
     "execution_count": 8,
     "metadata": {},
     "output_type": "execute_result"
    }
   ],
   "source": [
    "pd.concat([s1, s2, s3], axis=1, sort=False) # default axis=0 - concat vertically\n",
    "# axis=1 means concat horizontally"
   ]
  },
  {
   "cell_type": "code",
   "execution_count": 11,
   "id": "ancient-creature",
   "metadata": {},
   "outputs": [
    {
     "data": {
      "text/html": [
       "<div>\n",
       "<style scoped>\n",
       "    .dataframe tbody tr th:only-of-type {\n",
       "        vertical-align: middle;\n",
       "    }\n",
       "\n",
       "    .dataframe tbody tr th {\n",
       "        vertical-align: top;\n",
       "    }\n",
       "\n",
       "    .dataframe thead th {\n",
       "        text-align: right;\n",
       "    }\n",
       "</style>\n",
       "<table border=\"1\" class=\"dataframe\">\n",
       "  <thead>\n",
       "    <tr style=\"text-align: right;\">\n",
       "      <th></th>\n",
       "      <th>0</th>\n",
       "      <th>1</th>\n",
       "      <th>2</th>\n",
       "    </tr>\n",
       "  </thead>\n",
       "  <tbody>\n",
       "  </tbody>\n",
       "</table>\n",
       "</div>"
      ],
      "text/plain": [
       "Empty DataFrame\n",
       "Columns: [0, 1, 2]\n",
       "Index: []"
      ]
     },
     "execution_count": 11,
     "metadata": {},
     "output_type": "execute_result"
    }
   ],
   "source": [
    "pd.concat([s1, s2, s3], axis=1, join='inner', sort=False)"
   ]
  },
  {
   "cell_type": "code",
   "execution_count": 12,
   "id": "unauthorized-taiwan",
   "metadata": {},
   "outputs": [
    {
     "data": {
      "text/html": [
       "<div>\n",
       "<style scoped>\n",
       "    .dataframe tbody tr th:only-of-type {\n",
       "        vertical-align: middle;\n",
       "    }\n",
       "\n",
       "    .dataframe tbody tr th {\n",
       "        vertical-align: top;\n",
       "    }\n",
       "\n",
       "    .dataframe thead th {\n",
       "        text-align: right;\n",
       "    }\n",
       "</style>\n",
       "<table border=\"1\" class=\"dataframe\">\n",
       "  <thead>\n",
       "    <tr style=\"text-align: right;\">\n",
       "      <th></th>\n",
       "      <th>0</th>\n",
       "      <th>1</th>\n",
       "      <th>2</th>\n",
       "    </tr>\n",
       "  </thead>\n",
       "  <tbody>\n",
       "    <tr>\n",
       "      <th>a</th>\n",
       "      <td>1.0</td>\n",
       "      <td>NaN</td>\n",
       "      <td>NaN</td>\n",
       "    </tr>\n",
       "    <tr>\n",
       "      <th>b</th>\n",
       "      <td>2.0</td>\n",
       "      <td>NaN</td>\n",
       "      <td>NaN</td>\n",
       "    </tr>\n",
       "    <tr>\n",
       "      <th>c</th>\n",
       "      <td>3.0</td>\n",
       "      <td>NaN</td>\n",
       "      <td>NaN</td>\n",
       "    </tr>\n",
       "    <tr>\n",
       "      <th>d</th>\n",
       "      <td>NaN</td>\n",
       "      <td>4.0</td>\n",
       "      <td>NaN</td>\n",
       "    </tr>\n",
       "    <tr>\n",
       "      <th>e</th>\n",
       "      <td>NaN</td>\n",
       "      <td>5.0</td>\n",
       "      <td>NaN</td>\n",
       "    </tr>\n",
       "    <tr>\n",
       "      <th>f</th>\n",
       "      <td>NaN</td>\n",
       "      <td>6.0</td>\n",
       "      <td>NaN</td>\n",
       "    </tr>\n",
       "    <tr>\n",
       "      <th>g</th>\n",
       "      <td>NaN</td>\n",
       "      <td>NaN</td>\n",
       "      <td>7.0</td>\n",
       "    </tr>\n",
       "    <tr>\n",
       "      <th>h</th>\n",
       "      <td>NaN</td>\n",
       "      <td>NaN</td>\n",
       "      <td>8.0</td>\n",
       "    </tr>\n",
       "    <tr>\n",
       "      <th>i</th>\n",
       "      <td>NaN</td>\n",
       "      <td>NaN</td>\n",
       "      <td>9.0</td>\n",
       "    </tr>\n",
       "  </tbody>\n",
       "</table>\n",
       "</div>"
      ],
      "text/plain": [
       "     0    1    2\n",
       "a  1.0  NaN  NaN\n",
       "b  2.0  NaN  NaN\n",
       "c  3.0  NaN  NaN\n",
       "d  NaN  4.0  NaN\n",
       "e  NaN  5.0  NaN\n",
       "f  NaN  6.0  NaN\n",
       "g  NaN  NaN  7.0\n",
       "h  NaN  NaN  8.0\n",
       "i  NaN  NaN  9.0"
      ]
     },
     "execution_count": 12,
     "metadata": {},
     "output_type": "execute_result"
    }
   ],
   "source": [
    "pd.concat([s1, s2, s3], axis=1, join='outer', sort=False)"
   ]
  },
  {
   "cell_type": "code",
   "execution_count": 13,
   "id": "robust-trace",
   "metadata": {},
   "outputs": [
    {
     "data": {
      "text/plain": [
       "one    a    1\n",
       "       b    2\n",
       "       c    3\n",
       "two    d    4\n",
       "       e    5\n",
       "       f    6\n",
       "three  g    7\n",
       "       h    8\n",
       "       i    9\n",
       "dtype: int64"
      ]
     },
     "execution_count": 13,
     "metadata": {},
     "output_type": "execute_result"
    }
   ],
   "source": [
    "result = pd.concat([s1, s2, s3], keys=['one', 'two', 'three'])\n",
    "result"
   ]
  },
  {
   "cell_type": "code",
   "execution_count": 16,
   "id": "ranging-working",
   "metadata": {},
   "outputs": [
    {
     "data": {
      "text/html": [
       "<div>\n",
       "<style scoped>\n",
       "    .dataframe tbody tr th:only-of-type {\n",
       "        vertical-align: middle;\n",
       "    }\n",
       "\n",
       "    .dataframe tbody tr th {\n",
       "        vertical-align: top;\n",
       "    }\n",
       "\n",
       "    .dataframe thead th {\n",
       "        text-align: right;\n",
       "    }\n",
       "</style>\n",
       "<table border=\"1\" class=\"dataframe\">\n",
       "  <thead>\n",
       "    <tr style=\"text-align: right;\">\n",
       "      <th></th>\n",
       "      <th>a</th>\n",
       "      <th>b</th>\n",
       "      <th>c</th>\n",
       "      <th>d</th>\n",
       "      <th>e</th>\n",
       "      <th>f</th>\n",
       "      <th>g</th>\n",
       "      <th>h</th>\n",
       "      <th>i</th>\n",
       "    </tr>\n",
       "  </thead>\n",
       "  <tbody>\n",
       "    <tr>\n",
       "      <th>one</th>\n",
       "      <td>1.0</td>\n",
       "      <td>2.0</td>\n",
       "      <td>3.0</td>\n",
       "      <td>NaN</td>\n",
       "      <td>NaN</td>\n",
       "      <td>NaN</td>\n",
       "      <td>NaN</td>\n",
       "      <td>NaN</td>\n",
       "      <td>NaN</td>\n",
       "    </tr>\n",
       "    <tr>\n",
       "      <th>two</th>\n",
       "      <td>NaN</td>\n",
       "      <td>NaN</td>\n",
       "      <td>NaN</td>\n",
       "      <td>4.0</td>\n",
       "      <td>5.0</td>\n",
       "      <td>6.0</td>\n",
       "      <td>NaN</td>\n",
       "      <td>NaN</td>\n",
       "      <td>NaN</td>\n",
       "    </tr>\n",
       "    <tr>\n",
       "      <th>three</th>\n",
       "      <td>NaN</td>\n",
       "      <td>NaN</td>\n",
       "      <td>NaN</td>\n",
       "      <td>NaN</td>\n",
       "      <td>NaN</td>\n",
       "      <td>NaN</td>\n",
       "      <td>7.0</td>\n",
       "      <td>8.0</td>\n",
       "      <td>9.0</td>\n",
       "    </tr>\n",
       "  </tbody>\n",
       "</table>\n",
       "</div>"
      ],
      "text/plain": [
       "         a    b    c    d    e    f    g    h    i\n",
       "one    1.0  2.0  3.0  NaN  NaN  NaN  NaN  NaN  NaN\n",
       "two    NaN  NaN  NaN  4.0  5.0  6.0  NaN  NaN  NaN\n",
       "three  NaN  NaN  NaN  NaN  NaN  NaN  7.0  8.0  9.0"
      ]
     },
     "execution_count": 16,
     "metadata": {},
     "output_type": "execute_result"
    }
   ],
   "source": [
    "result.unstack()"
   ]
  },
  {
   "cell_type": "code",
   "execution_count": 17,
   "id": "fifteen-appliance",
   "metadata": {},
   "outputs": [
    {
     "data": {
      "text/plain": [
       "one    a    1.0\n",
       "       b    2.0\n",
       "       c    3.0\n",
       "two    d    4.0\n",
       "       e    5.0\n",
       "       f    6.0\n",
       "three  g    7.0\n",
       "       h    8.0\n",
       "       i    9.0\n",
       "dtype: float64"
      ]
     },
     "execution_count": 17,
     "metadata": {},
     "output_type": "execute_result"
    }
   ],
   "source": [
    "result.unstack().stack() # dtype changed to float64"
   ]
  },
  {
   "cell_type": "code",
   "execution_count": 24,
   "id": "infectious-question",
   "metadata": {},
   "outputs": [],
   "source": [
    "df1 = pd.DataFrame(np.arange(6).reshape(3, 2),\n",
    "                   index=['a', 'b', 'c'],\n",
    "                   columns=['one', 'two'])\n",
    "df2 = pd.DataFrame(5 + np.arange(4).reshape(2, 2),\n",
    "                   index=['a', 'c'],\n",
    "                   columns=['three', 'four'])"
   ]
  },
  {
   "cell_type": "code",
   "execution_count": 25,
   "id": "renewable-anatomy",
   "metadata": {},
   "outputs": [
    {
     "data": {
      "text/html": [
       "<div>\n",
       "<style scoped>\n",
       "    .dataframe tbody tr th:only-of-type {\n",
       "        vertical-align: middle;\n",
       "    }\n",
       "\n",
       "    .dataframe tbody tr th {\n",
       "        vertical-align: top;\n",
       "    }\n",
       "\n",
       "    .dataframe thead th {\n",
       "        text-align: right;\n",
       "    }\n",
       "</style>\n",
       "<table border=\"1\" class=\"dataframe\">\n",
       "  <thead>\n",
       "    <tr style=\"text-align: right;\">\n",
       "      <th></th>\n",
       "      <th>one</th>\n",
       "      <th>two</th>\n",
       "    </tr>\n",
       "  </thead>\n",
       "  <tbody>\n",
       "    <tr>\n",
       "      <th>a</th>\n",
       "      <td>0</td>\n",
       "      <td>1</td>\n",
       "    </tr>\n",
       "    <tr>\n",
       "      <th>b</th>\n",
       "      <td>2</td>\n",
       "      <td>3</td>\n",
       "    </tr>\n",
       "    <tr>\n",
       "      <th>c</th>\n",
       "      <td>4</td>\n",
       "      <td>5</td>\n",
       "    </tr>\n",
       "  </tbody>\n",
       "</table>\n",
       "</div>"
      ],
      "text/plain": [
       "   one  two\n",
       "a    0    1\n",
       "b    2    3\n",
       "c    4    5"
      ]
     },
     "execution_count": 25,
     "metadata": {},
     "output_type": "execute_result"
    }
   ],
   "source": [
    "df1"
   ]
  },
  {
   "cell_type": "code",
   "execution_count": 26,
   "id": "medieval-company",
   "metadata": {},
   "outputs": [
    {
     "data": {
      "text/html": [
       "<div>\n",
       "<style scoped>\n",
       "    .dataframe tbody tr th:only-of-type {\n",
       "        vertical-align: middle;\n",
       "    }\n",
       "\n",
       "    .dataframe tbody tr th {\n",
       "        vertical-align: top;\n",
       "    }\n",
       "\n",
       "    .dataframe thead th {\n",
       "        text-align: right;\n",
       "    }\n",
       "</style>\n",
       "<table border=\"1\" class=\"dataframe\">\n",
       "  <thead>\n",
       "    <tr style=\"text-align: right;\">\n",
       "      <th></th>\n",
       "      <th>three</th>\n",
       "      <th>four</th>\n",
       "    </tr>\n",
       "  </thead>\n",
       "  <tbody>\n",
       "    <tr>\n",
       "      <th>a</th>\n",
       "      <td>5</td>\n",
       "      <td>6</td>\n",
       "    </tr>\n",
       "    <tr>\n",
       "      <th>c</th>\n",
       "      <td>7</td>\n",
       "      <td>8</td>\n",
       "    </tr>\n",
       "  </tbody>\n",
       "</table>\n",
       "</div>"
      ],
      "text/plain": [
       "   three  four\n",
       "a      5     6\n",
       "c      7     8"
      ]
     },
     "execution_count": 26,
     "metadata": {},
     "output_type": "execute_result"
    }
   ],
   "source": [
    "df2"
   ]
  },
  {
   "cell_type": "code",
   "execution_count": 27,
   "id": "hollow-exhaust",
   "metadata": {},
   "outputs": [
    {
     "data": {
      "text/html": [
       "<div>\n",
       "<style scoped>\n",
       "    .dataframe tbody tr th:only-of-type {\n",
       "        vertical-align: middle;\n",
       "    }\n",
       "\n",
       "    .dataframe tbody tr th {\n",
       "        vertical-align: top;\n",
       "    }\n",
       "\n",
       "    .dataframe thead th {\n",
       "        text-align: right;\n",
       "    }\n",
       "</style>\n",
       "<table border=\"1\" class=\"dataframe\">\n",
       "  <thead>\n",
       "    <tr style=\"text-align: right;\">\n",
       "      <th></th>\n",
       "      <th>one</th>\n",
       "      <th>two</th>\n",
       "      <th>three</th>\n",
       "      <th>four</th>\n",
       "    </tr>\n",
       "  </thead>\n",
       "  <tbody>\n",
       "    <tr>\n",
       "      <th>a</th>\n",
       "      <td>0.0</td>\n",
       "      <td>1.0</td>\n",
       "      <td>NaN</td>\n",
       "      <td>NaN</td>\n",
       "    </tr>\n",
       "    <tr>\n",
       "      <th>b</th>\n",
       "      <td>2.0</td>\n",
       "      <td>3.0</td>\n",
       "      <td>NaN</td>\n",
       "      <td>NaN</td>\n",
       "    </tr>\n",
       "    <tr>\n",
       "      <th>c</th>\n",
       "      <td>4.0</td>\n",
       "      <td>5.0</td>\n",
       "      <td>NaN</td>\n",
       "      <td>NaN</td>\n",
       "    </tr>\n",
       "    <tr>\n",
       "      <th>a</th>\n",
       "      <td>NaN</td>\n",
       "      <td>NaN</td>\n",
       "      <td>5.0</td>\n",
       "      <td>6.0</td>\n",
       "    </tr>\n",
       "    <tr>\n",
       "      <th>c</th>\n",
       "      <td>NaN</td>\n",
       "      <td>NaN</td>\n",
       "      <td>7.0</td>\n",
       "      <td>8.0</td>\n",
       "    </tr>\n",
       "  </tbody>\n",
       "</table>\n",
       "</div>"
      ],
      "text/plain": [
       "   one  two  three  four\n",
       "a  0.0  1.0    NaN   NaN\n",
       "b  2.0  3.0    NaN   NaN\n",
       "c  4.0  5.0    NaN   NaN\n",
       "a  NaN  NaN    5.0   6.0\n",
       "c  NaN  NaN    7.0   8.0"
      ]
     },
     "execution_count": 27,
     "metadata": {},
     "output_type": "execute_result"
    }
   ],
   "source": [
    "pd.concat([df1, df2])"
   ]
  },
  {
   "cell_type": "code",
   "execution_count": 29,
   "id": "given-excess",
   "metadata": {},
   "outputs": [
    {
     "data": {
      "text/html": [
       "<div>\n",
       "<style scoped>\n",
       "    .dataframe tbody tr th:only-of-type {\n",
       "        vertical-align: middle;\n",
       "    }\n",
       "\n",
       "    .dataframe tbody tr th {\n",
       "        vertical-align: top;\n",
       "    }\n",
       "\n",
       "    .dataframe thead th {\n",
       "        text-align: right;\n",
       "    }\n",
       "</style>\n",
       "<table border=\"1\" class=\"dataframe\">\n",
       "  <thead>\n",
       "    <tr style=\"text-align: right;\">\n",
       "      <th></th>\n",
       "      <th>four</th>\n",
       "      <th>one</th>\n",
       "      <th>three</th>\n",
       "      <th>two</th>\n",
       "    </tr>\n",
       "  </thead>\n",
       "  <tbody>\n",
       "    <tr>\n",
       "      <th>a</th>\n",
       "      <td>NaN</td>\n",
       "      <td>0.0</td>\n",
       "      <td>NaN</td>\n",
       "      <td>1.0</td>\n",
       "    </tr>\n",
       "    <tr>\n",
       "      <th>b</th>\n",
       "      <td>NaN</td>\n",
       "      <td>2.0</td>\n",
       "      <td>NaN</td>\n",
       "      <td>3.0</td>\n",
       "    </tr>\n",
       "    <tr>\n",
       "      <th>c</th>\n",
       "      <td>NaN</td>\n",
       "      <td>4.0</td>\n",
       "      <td>NaN</td>\n",
       "      <td>5.0</td>\n",
       "    </tr>\n",
       "    <tr>\n",
       "      <th>a</th>\n",
       "      <td>6.0</td>\n",
       "      <td>NaN</td>\n",
       "      <td>5.0</td>\n",
       "      <td>NaN</td>\n",
       "    </tr>\n",
       "    <tr>\n",
       "      <th>c</th>\n",
       "      <td>8.0</td>\n",
       "      <td>NaN</td>\n",
       "      <td>7.0</td>\n",
       "      <td>NaN</td>\n",
       "    </tr>\n",
       "  </tbody>\n",
       "</table>\n",
       "</div>"
      ],
      "text/plain": [
       "   four  one  three  two\n",
       "a   NaN  0.0    NaN  1.0\n",
       "b   NaN  2.0    NaN  3.0\n",
       "c   NaN  4.0    NaN  5.0\n",
       "a   6.0  NaN    5.0  NaN\n",
       "c   8.0  NaN    7.0  NaN"
      ]
     },
     "execution_count": 29,
     "metadata": {},
     "output_type": "execute_result"
    }
   ],
   "source": [
    "pd.concat([df1, df2], sort=True)"
   ]
  },
  {
   "cell_type": "code",
   "execution_count": 30,
   "id": "aerial-finish",
   "metadata": {},
   "outputs": [
    {
     "data": {
      "text/html": [
       "<div>\n",
       "<style scoped>\n",
       "    .dataframe tbody tr th:only-of-type {\n",
       "        vertical-align: middle;\n",
       "    }\n",
       "\n",
       "    .dataframe tbody tr th {\n",
       "        vertical-align: top;\n",
       "    }\n",
       "\n",
       "    .dataframe thead th {\n",
       "        text-align: right;\n",
       "    }\n",
       "</style>\n",
       "<table border=\"1\" class=\"dataframe\">\n",
       "  <thead>\n",
       "    <tr style=\"text-align: right;\">\n",
       "      <th></th>\n",
       "      <th>one</th>\n",
       "      <th>two</th>\n",
       "      <th>three</th>\n",
       "      <th>four</th>\n",
       "    </tr>\n",
       "  </thead>\n",
       "  <tbody>\n",
       "    <tr>\n",
       "      <th>a</th>\n",
       "      <td>0</td>\n",
       "      <td>1</td>\n",
       "      <td>5.0</td>\n",
       "      <td>6.0</td>\n",
       "    </tr>\n",
       "    <tr>\n",
       "      <th>b</th>\n",
       "      <td>2</td>\n",
       "      <td>3</td>\n",
       "      <td>NaN</td>\n",
       "      <td>NaN</td>\n",
       "    </tr>\n",
       "    <tr>\n",
       "      <th>c</th>\n",
       "      <td>4</td>\n",
       "      <td>5</td>\n",
       "      <td>7.0</td>\n",
       "      <td>8.0</td>\n",
       "    </tr>\n",
       "  </tbody>\n",
       "</table>\n",
       "</div>"
      ],
      "text/plain": [
       "   one  two  three  four\n",
       "a    0    1    5.0   6.0\n",
       "b    2    3    NaN   NaN\n",
       "c    4    5    7.0   8.0"
      ]
     },
     "execution_count": 30,
     "metadata": {},
     "output_type": "execute_result"
    }
   ],
   "source": [
    "pd.concat([df1, df2], axis=1)"
   ]
  },
  {
   "cell_type": "code",
   "execution_count": 31,
   "id": "running-attendance",
   "metadata": {},
   "outputs": [
    {
     "data": {
      "text/html": [
       "<div>\n",
       "<style scoped>\n",
       "    .dataframe tbody tr th:only-of-type {\n",
       "        vertical-align: middle;\n",
       "    }\n",
       "\n",
       "    .dataframe tbody tr th {\n",
       "        vertical-align: top;\n",
       "    }\n",
       "\n",
       "    .dataframe thead tr th {\n",
       "        text-align: left;\n",
       "    }\n",
       "</style>\n",
       "<table border=\"1\" class=\"dataframe\">\n",
       "  <thead>\n",
       "    <tr>\n",
       "      <th></th>\n",
       "      <th colspan=\"2\" halign=\"left\">level1</th>\n",
       "      <th colspan=\"2\" halign=\"left\">level2</th>\n",
       "    </tr>\n",
       "    <tr>\n",
       "      <th></th>\n",
       "      <th>one</th>\n",
       "      <th>two</th>\n",
       "      <th>three</th>\n",
       "      <th>four</th>\n",
       "    </tr>\n",
       "  </thead>\n",
       "  <tbody>\n",
       "    <tr>\n",
       "      <th>a</th>\n",
       "      <td>0</td>\n",
       "      <td>1</td>\n",
       "      <td>5.0</td>\n",
       "      <td>6.0</td>\n",
       "    </tr>\n",
       "    <tr>\n",
       "      <th>b</th>\n",
       "      <td>2</td>\n",
       "      <td>3</td>\n",
       "      <td>NaN</td>\n",
       "      <td>NaN</td>\n",
       "    </tr>\n",
       "    <tr>\n",
       "      <th>c</th>\n",
       "      <td>4</td>\n",
       "      <td>5</td>\n",
       "      <td>7.0</td>\n",
       "      <td>8.0</td>\n",
       "    </tr>\n",
       "  </tbody>\n",
       "</table>\n",
       "</div>"
      ],
      "text/plain": [
       "  level1     level2     \n",
       "     one two  three four\n",
       "a      0   1    5.0  6.0\n",
       "b      2   3    NaN  NaN\n",
       "c      4   5    7.0  8.0"
      ]
     },
     "execution_count": 31,
     "metadata": {},
     "output_type": "execute_result"
    }
   ],
   "source": [
    "pd.concat([df1, df2], axis=1, keys=['level1', 'level2'])"
   ]
  },
  {
   "cell_type": "code",
   "execution_count": 32,
   "id": "architectural-girlfriend",
   "metadata": {},
   "outputs": [
    {
     "data": {
      "text/html": [
       "<div>\n",
       "<style scoped>\n",
       "    .dataframe tbody tr th:only-of-type {\n",
       "        vertical-align: middle;\n",
       "    }\n",
       "\n",
       "    .dataframe tbody tr th {\n",
       "        vertical-align: top;\n",
       "    }\n",
       "\n",
       "    .dataframe thead th {\n",
       "        text-align: right;\n",
       "    }\n",
       "</style>\n",
       "<table border=\"1\" class=\"dataframe\">\n",
       "  <thead>\n",
       "    <tr style=\"text-align: right;\">\n",
       "      <th></th>\n",
       "      <th>one</th>\n",
       "      <th>two</th>\n",
       "      <th>three</th>\n",
       "      <th>four</th>\n",
       "    </tr>\n",
       "  </thead>\n",
       "  <tbody>\n",
       "    <tr>\n",
       "      <th>0</th>\n",
       "      <td>0.0</td>\n",
       "      <td>1.0</td>\n",
       "      <td>NaN</td>\n",
       "      <td>NaN</td>\n",
       "    </tr>\n",
       "    <tr>\n",
       "      <th>1</th>\n",
       "      <td>2.0</td>\n",
       "      <td>3.0</td>\n",
       "      <td>NaN</td>\n",
       "      <td>NaN</td>\n",
       "    </tr>\n",
       "    <tr>\n",
       "      <th>2</th>\n",
       "      <td>4.0</td>\n",
       "      <td>5.0</td>\n",
       "      <td>NaN</td>\n",
       "      <td>NaN</td>\n",
       "    </tr>\n",
       "    <tr>\n",
       "      <th>3</th>\n",
       "      <td>NaN</td>\n",
       "      <td>NaN</td>\n",
       "      <td>5.0</td>\n",
       "      <td>6.0</td>\n",
       "    </tr>\n",
       "    <tr>\n",
       "      <th>4</th>\n",
       "      <td>NaN</td>\n",
       "      <td>NaN</td>\n",
       "      <td>7.0</td>\n",
       "      <td>8.0</td>\n",
       "    </tr>\n",
       "  </tbody>\n",
       "</table>\n",
       "</div>"
      ],
      "text/plain": [
       "   one  two  three  four\n",
       "0  0.0  1.0    NaN   NaN\n",
       "1  2.0  3.0    NaN   NaN\n",
       "2  4.0  5.0    NaN   NaN\n",
       "3  NaN  NaN    5.0   6.0\n",
       "4  NaN  NaN    7.0   8.0"
      ]
     },
     "execution_count": 32,
     "metadata": {},
     "output_type": "execute_result"
    }
   ],
   "source": [
    "pd.concat([df1, df2], ignore_index=True)"
   ]
  },
  {
   "cell_type": "code",
   "execution_count": 33,
   "id": "complicated-quantum",
   "metadata": {},
   "outputs": [
    {
     "data": {
      "text/html": [
       "<div>\n",
       "<style scoped>\n",
       "    .dataframe tbody tr th:only-of-type {\n",
       "        vertical-align: middle;\n",
       "    }\n",
       "\n",
       "    .dataframe tbody tr th {\n",
       "        vertical-align: top;\n",
       "    }\n",
       "\n",
       "    .dataframe thead th {\n",
       "        text-align: right;\n",
       "    }\n",
       "</style>\n",
       "<table border=\"1\" class=\"dataframe\">\n",
       "  <thead>\n",
       "    <tr style=\"text-align: right;\">\n",
       "      <th></th>\n",
       "    </tr>\n",
       "  </thead>\n",
       "  <tbody>\n",
       "    <tr>\n",
       "      <th>0</th>\n",
       "    </tr>\n",
       "    <tr>\n",
       "      <th>1</th>\n",
       "    </tr>\n",
       "    <tr>\n",
       "      <th>2</th>\n",
       "    </tr>\n",
       "    <tr>\n",
       "      <th>3</th>\n",
       "    </tr>\n",
       "    <tr>\n",
       "      <th>4</th>\n",
       "    </tr>\n",
       "  </tbody>\n",
       "</table>\n",
       "</div>"
      ],
      "text/plain": [
       "Empty DataFrame\n",
       "Columns: []\n",
       "Index: [0, 1, 2, 3, 4]"
      ]
     },
     "execution_count": 33,
     "metadata": {},
     "output_type": "execute_result"
    }
   ],
   "source": [
    "pd.concat([df1, df2], ignore_index=True, join='inner')"
   ]
  },
  {
   "cell_type": "code",
   "execution_count": 34,
   "id": "chemical-castle",
   "metadata": {},
   "outputs": [
    {
     "data": {
      "text/html": [
       "<div>\n",
       "<style scoped>\n",
       "    .dataframe tbody tr th:only-of-type {\n",
       "        vertical-align: middle;\n",
       "    }\n",
       "\n",
       "    .dataframe tbody tr th {\n",
       "        vertical-align: top;\n",
       "    }\n",
       "\n",
       "    .dataframe thead th {\n",
       "        text-align: right;\n",
       "    }\n",
       "</style>\n",
       "<table border=\"1\" class=\"dataframe\">\n",
       "  <thead>\n",
       "    <tr style=\"text-align: right;\">\n",
       "      <th></th>\n",
       "      <th>one</th>\n",
       "      <th>two</th>\n",
       "      <th>three</th>\n",
       "      <th>four</th>\n",
       "    </tr>\n",
       "  </thead>\n",
       "  <tbody>\n",
       "    <tr>\n",
       "      <th>0</th>\n",
       "      <td>0.0</td>\n",
       "      <td>1.0</td>\n",
       "      <td>NaN</td>\n",
       "      <td>NaN</td>\n",
       "    </tr>\n",
       "    <tr>\n",
       "      <th>1</th>\n",
       "      <td>2.0</td>\n",
       "      <td>3.0</td>\n",
       "      <td>NaN</td>\n",
       "      <td>NaN</td>\n",
       "    </tr>\n",
       "    <tr>\n",
       "      <th>2</th>\n",
       "      <td>4.0</td>\n",
       "      <td>5.0</td>\n",
       "      <td>NaN</td>\n",
       "      <td>NaN</td>\n",
       "    </tr>\n",
       "    <tr>\n",
       "      <th>3</th>\n",
       "      <td>NaN</td>\n",
       "      <td>NaN</td>\n",
       "      <td>5.0</td>\n",
       "      <td>6.0</td>\n",
       "    </tr>\n",
       "    <tr>\n",
       "      <th>4</th>\n",
       "      <td>NaN</td>\n",
       "      <td>NaN</td>\n",
       "      <td>7.0</td>\n",
       "      <td>8.0</td>\n",
       "    </tr>\n",
       "  </tbody>\n",
       "</table>\n",
       "</div>"
      ],
      "text/plain": [
       "   one  two  three  four\n",
       "0  0.0  1.0    NaN   NaN\n",
       "1  2.0  3.0    NaN   NaN\n",
       "2  4.0  5.0    NaN   NaN\n",
       "3  NaN  NaN    5.0   6.0\n",
       "4  NaN  NaN    7.0   8.0"
      ]
     },
     "execution_count": 34,
     "metadata": {},
     "output_type": "execute_result"
    }
   ],
   "source": [
    "pd.concat([df1, df2], ignore_index=True, join='outer')"
   ]
  },
  {
   "cell_type": "markdown",
   "id": "bacterial-thanksgiving",
   "metadata": {},
   "source": [
    "## Combining data with overlap"
   ]
  },
  {
   "cell_type": "code",
   "execution_count": 47,
   "id": "analyzed-machinery",
   "metadata": {},
   "outputs": [],
   "source": [
    "df1 = pd.DataFrame([[1, np.nan, 2, np.nan]])\n",
    "df2 = pd.DataFrame([[3, 4, 5, 6]])"
   ]
  },
  {
   "cell_type": "code",
   "execution_count": 48,
   "id": "western-badge",
   "metadata": {},
   "outputs": [
    {
     "data": {
      "text/html": [
       "<div>\n",
       "<style scoped>\n",
       "    .dataframe tbody tr th:only-of-type {\n",
       "        vertical-align: middle;\n",
       "    }\n",
       "\n",
       "    .dataframe tbody tr th {\n",
       "        vertical-align: top;\n",
       "    }\n",
       "\n",
       "    .dataframe thead th {\n",
       "        text-align: right;\n",
       "    }\n",
       "</style>\n",
       "<table border=\"1\" class=\"dataframe\">\n",
       "  <thead>\n",
       "    <tr style=\"text-align: right;\">\n",
       "      <th></th>\n",
       "      <th>0</th>\n",
       "      <th>1</th>\n",
       "      <th>2</th>\n",
       "      <th>3</th>\n",
       "    </tr>\n",
       "  </thead>\n",
       "  <tbody>\n",
       "    <tr>\n",
       "      <th>0</th>\n",
       "      <td>1</td>\n",
       "      <td>NaN</td>\n",
       "      <td>2</td>\n",
       "      <td>NaN</td>\n",
       "    </tr>\n",
       "  </tbody>\n",
       "</table>\n",
       "</div>"
      ],
      "text/plain": [
       "   0   1  2   3\n",
       "0  1 NaN  2 NaN"
      ]
     },
     "execution_count": 48,
     "metadata": {},
     "output_type": "execute_result"
    }
   ],
   "source": [
    "df1"
   ]
  },
  {
   "cell_type": "code",
   "execution_count": 49,
   "id": "local-circus",
   "metadata": {},
   "outputs": [
    {
     "data": {
      "text/html": [
       "<div>\n",
       "<style scoped>\n",
       "    .dataframe tbody tr th:only-of-type {\n",
       "        vertical-align: middle;\n",
       "    }\n",
       "\n",
       "    .dataframe tbody tr th {\n",
       "        vertical-align: top;\n",
       "    }\n",
       "\n",
       "    .dataframe thead th {\n",
       "        text-align: right;\n",
       "    }\n",
       "</style>\n",
       "<table border=\"1\" class=\"dataframe\">\n",
       "  <thead>\n",
       "    <tr style=\"text-align: right;\">\n",
       "      <th></th>\n",
       "      <th>0</th>\n",
       "      <th>1</th>\n",
       "      <th>2</th>\n",
       "      <th>3</th>\n",
       "    </tr>\n",
       "  </thead>\n",
       "  <tbody>\n",
       "    <tr>\n",
       "      <th>0</th>\n",
       "      <td>3</td>\n",
       "      <td>4</td>\n",
       "      <td>5</td>\n",
       "      <td>6</td>\n",
       "    </tr>\n",
       "  </tbody>\n",
       "</table>\n",
       "</div>"
      ],
      "text/plain": [
       "   0  1  2  3\n",
       "0  3  4  5  6"
      ]
     },
     "execution_count": 49,
     "metadata": {},
     "output_type": "execute_result"
    }
   ],
   "source": [
    "df2"
   ]
  },
  {
   "cell_type": "code",
   "execution_count": 55,
   "id": "compatible-committee",
   "metadata": {},
   "outputs": [
    {
     "data": {
      "text/html": [
       "<div>\n",
       "<style scoped>\n",
       "    .dataframe tbody tr th:only-of-type {\n",
       "        vertical-align: middle;\n",
       "    }\n",
       "\n",
       "    .dataframe tbody tr th {\n",
       "        vertical-align: top;\n",
       "    }\n",
       "\n",
       "    .dataframe thead th {\n",
       "        text-align: right;\n",
       "    }\n",
       "</style>\n",
       "<table border=\"1\" class=\"dataframe\">\n",
       "  <thead>\n",
       "    <tr style=\"text-align: right;\">\n",
       "      <th></th>\n",
       "      <th>0</th>\n",
       "      <th>1</th>\n",
       "      <th>2</th>\n",
       "      <th>3</th>\n",
       "    </tr>\n",
       "  </thead>\n",
       "  <tbody>\n",
       "    <tr>\n",
       "      <th>0</th>\n",
       "      <td>1</td>\n",
       "      <td>4.0</td>\n",
       "      <td>2</td>\n",
       "      <td>6.0</td>\n",
       "    </tr>\n",
       "  </tbody>\n",
       "</table>\n",
       "</div>"
      ],
      "text/plain": [
       "   0    1  2    3\n",
       "0  1  4.0  2  6.0"
      ]
     },
     "execution_count": 55,
     "metadata": {},
     "output_type": "execute_result"
    }
   ],
   "source": [
    "# if the element is NaN swap it with the corresponding element of the other DataFrame\n",
    "df1.combine_first(df2)"
   ]
  },
  {
   "cell_type": "code",
   "execution_count": 54,
   "id": "exempt-choir",
   "metadata": {},
   "outputs": [
    {
     "data": {
      "text/html": [
       "<div>\n",
       "<style scoped>\n",
       "    .dataframe tbody tr th:only-of-type {\n",
       "        vertical-align: middle;\n",
       "    }\n",
       "\n",
       "    .dataframe tbody tr th {\n",
       "        vertical-align: top;\n",
       "    }\n",
       "\n",
       "    .dataframe thead th {\n",
       "        text-align: right;\n",
       "    }\n",
       "</style>\n",
       "<table border=\"1\" class=\"dataframe\">\n",
       "  <thead>\n",
       "    <tr style=\"text-align: right;\">\n",
       "      <th></th>\n",
       "      <th>0</th>\n",
       "      <th>1</th>\n",
       "      <th>2</th>\n",
       "      <th>3</th>\n",
       "    </tr>\n",
       "  </thead>\n",
       "  <tbody>\n",
       "    <tr>\n",
       "      <th>0</th>\n",
       "      <td>1</td>\n",
       "      <td>4</td>\n",
       "      <td>2</td>\n",
       "      <td>6</td>\n",
       "    </tr>\n",
       "  </tbody>\n",
       "</table>\n",
       "</div>"
      ],
      "text/plain": [
       "   0  1  2  3\n",
       "0  1  4  2  6"
      ]
     },
     "execution_count": 54,
     "metadata": {},
     "output_type": "execute_result"
    }
   ],
   "source": [
    "df1.combine_first(df2).astype(int)"
   ]
  },
  {
   "cell_type": "code",
   "execution_count": 56,
   "id": "occupied-disaster",
   "metadata": {},
   "outputs": [
    {
     "data": {
      "text/html": [
       "<div>\n",
       "<style scoped>\n",
       "    .dataframe tbody tr th:only-of-type {\n",
       "        vertical-align: middle;\n",
       "    }\n",
       "\n",
       "    .dataframe tbody tr th {\n",
       "        vertical-align: top;\n",
       "    }\n",
       "\n",
       "    .dataframe thead th {\n",
       "        text-align: right;\n",
       "    }\n",
       "</style>\n",
       "<table border=\"1\" class=\"dataframe\">\n",
       "  <thead>\n",
       "    <tr style=\"text-align: right;\">\n",
       "      <th></th>\n",
       "      <th>0</th>\n",
       "      <th>1</th>\n",
       "      <th>2</th>\n",
       "      <th>3</th>\n",
       "    </tr>\n",
       "  </thead>\n",
       "  <tbody>\n",
       "    <tr>\n",
       "      <th>0</th>\n",
       "      <td>3</td>\n",
       "      <td>4</td>\n",
       "      <td>5</td>\n",
       "      <td>6</td>\n",
       "    </tr>\n",
       "  </tbody>\n",
       "</table>\n",
       "</div>"
      ],
      "text/plain": [
       "   0  1  2  3\n",
       "0  3  4  5  6"
      ]
     },
     "execution_count": 56,
     "metadata": {},
     "output_type": "execute_result"
    }
   ],
   "source": [
    "df2.combine_first(df1)"
   ]
  },
  {
   "cell_type": "code",
   "execution_count": 58,
   "id": "established-dealing",
   "metadata": {},
   "outputs": [],
   "source": [
    "df3 = pd.DataFrame([[3, np.nan, np.nan, 6]])"
   ]
  },
  {
   "cell_type": "code",
   "execution_count": 59,
   "id": "usual-friendship",
   "metadata": {},
   "outputs": [
    {
     "data": {
      "text/html": [
       "<div>\n",
       "<style scoped>\n",
       "    .dataframe tbody tr th:only-of-type {\n",
       "        vertical-align: middle;\n",
       "    }\n",
       "\n",
       "    .dataframe tbody tr th {\n",
       "        vertical-align: top;\n",
       "    }\n",
       "\n",
       "    .dataframe thead th {\n",
       "        text-align: right;\n",
       "    }\n",
       "</style>\n",
       "<table border=\"1\" class=\"dataframe\">\n",
       "  <thead>\n",
       "    <tr style=\"text-align: right;\">\n",
       "      <th></th>\n",
       "      <th>0</th>\n",
       "      <th>1</th>\n",
       "      <th>2</th>\n",
       "      <th>3</th>\n",
       "    </tr>\n",
       "  </thead>\n",
       "  <tbody>\n",
       "    <tr>\n",
       "      <th>0</th>\n",
       "      <td>3</td>\n",
       "      <td>NaN</td>\n",
       "      <td>2.0</td>\n",
       "      <td>6</td>\n",
       "    </tr>\n",
       "  </tbody>\n",
       "</table>\n",
       "</div>"
      ],
      "text/plain": [
       "   0   1    2  3\n",
       "0  3 NaN  2.0  6"
      ]
     },
     "execution_count": 59,
     "metadata": {},
     "output_type": "execute_result"
    }
   ],
   "source": [
    "df3.combine_first(df1)"
   ]
  },
  {
   "cell_type": "code",
   "execution_count": 60,
   "id": "hairy-partnership",
   "metadata": {},
   "outputs": [
    {
     "data": {
      "text/html": [
       "<div>\n",
       "<style scoped>\n",
       "    .dataframe tbody tr th:only-of-type {\n",
       "        vertical-align: middle;\n",
       "    }\n",
       "\n",
       "    .dataframe tbody tr th {\n",
       "        vertical-align: top;\n",
       "    }\n",
       "\n",
       "    .dataframe thead th {\n",
       "        text-align: right;\n",
       "    }\n",
       "</style>\n",
       "<table border=\"1\" class=\"dataframe\">\n",
       "  <thead>\n",
       "    <tr style=\"text-align: right;\">\n",
       "      <th></th>\n",
       "      <th>0</th>\n",
       "      <th>1</th>\n",
       "      <th>2</th>\n",
       "      <th>3</th>\n",
       "    </tr>\n",
       "  </thead>\n",
       "  <tbody>\n",
       "    <tr>\n",
       "      <th>0</th>\n",
       "      <td>3</td>\n",
       "      <td>4.0</td>\n",
       "      <td>2.0</td>\n",
       "      <td>6</td>\n",
       "    </tr>\n",
       "  </tbody>\n",
       "</table>\n",
       "</div>"
      ],
      "text/plain": [
       "   0    1    2  3\n",
       "0  3  4.0  2.0  6"
      ]
     },
     "execution_count": 60,
     "metadata": {},
     "output_type": "execute_result"
    }
   ],
   "source": [
    "df3.combine_first(df1).combine_first(df2)"
   ]
  },
  {
   "cell_type": "markdown",
   "id": "toxic-bulletin",
   "metadata": {},
   "source": [
    "## Text and strings"
   ]
  },
  {
   "cell_type": "code",
   "execution_count": 62,
   "id": "infrared-while",
   "metadata": {},
   "outputs": [
    {
     "data": {
      "text/plain": [
       "0        A\n",
       "1        B\n",
       "2      NaN\n",
       "3        C\n",
       "4     Abba\n",
       "5    Apple\n",
       "6      NaN\n",
       "7     DOLL\n",
       "8     lion\n",
       "9    tiger\n",
       "dtype: object"
      ]
     },
     "execution_count": 62,
     "metadata": {},
     "output_type": "execute_result"
    }
   ],
   "source": [
    "s1 = pd.Series(['A', 'B', np.nan, 'C', 'Abba', 'Apple', np.nan, 'DOLL', 'lion', 'tiger'])\n",
    "s1"
   ]
  },
  {
   "cell_type": "code",
   "execution_count": 65,
   "id": "colored-sherman",
   "metadata": {},
   "outputs": [
    {
     "data": {
      "text/plain": [
       "0        a\n",
       "1        b\n",
       "2      NaN\n",
       "3        c\n",
       "4     abba\n",
       "5    apple\n",
       "6      NaN\n",
       "7     doll\n",
       "8     lion\n",
       "9    tiger\n",
       "dtype: object"
      ]
     },
     "execution_count": 65,
     "metadata": {},
     "output_type": "execute_result"
    }
   ],
   "source": [
    "s1.str.lower()"
   ]
  },
  {
   "cell_type": "code",
   "execution_count": 66,
   "id": "stock-population",
   "metadata": {},
   "outputs": [
    {
     "data": {
      "text/plain": [
       "0        A\n",
       "1        B\n",
       "2      NaN\n",
       "3        C\n",
       "4     ABBA\n",
       "5    APPLE\n",
       "6      NaN\n",
       "7     DOLL\n",
       "8     LION\n",
       "9    TIGER\n",
       "dtype: object"
      ]
     },
     "execution_count": 66,
     "metadata": {},
     "output_type": "execute_result"
    }
   ],
   "source": [
    "s1.str.upper()"
   ]
  },
  {
   "cell_type": "code",
   "execution_count": 70,
   "id": "illegal-sauce",
   "metadata": {},
   "outputs": [
    {
     "data": {
      "text/plain": [
       "0    1.0\n",
       "1    1.0\n",
       "2    NaN\n",
       "3    1.0\n",
       "4    4.0\n",
       "5    5.0\n",
       "6    NaN\n",
       "7    4.0\n",
       "8    4.0\n",
       "9    5.0\n",
       "dtype: float64"
      ]
     },
     "execution_count": 70,
     "metadata": {},
     "output_type": "execute_result"
    }
   ],
   "source": [
    "s1.str.len()"
   ]
  },
  {
   "cell_type": "code",
   "execution_count": 71,
   "id": "associate-burning",
   "metadata": {},
   "outputs": [
    {
     "data": {
      "text/plain": [
       "0    1\n",
       "1    1\n",
       "2    0\n",
       "3    1\n",
       "4    4\n",
       "5    5\n",
       "6    0\n",
       "7    4\n",
       "8    4\n",
       "9    5\n",
       "dtype: int32"
      ]
     },
     "execution_count": 71,
     "metadata": {},
     "output_type": "execute_result"
    }
   ],
   "source": [
    "s1.str.len().fillna(0).astype(int)"
   ]
  },
  {
   "cell_type": "code",
   "execution_count": 72,
   "id": "structured-little",
   "metadata": {},
   "outputs": [
    {
     "data": {
      "text/plain": [
       "0          Mac\n",
       "1       Dejan \n",
       "2     Dichoski\n",
       "3       Peter \n",
       "dtype: object"
      ]
     },
     "execution_count": 72,
     "metadata": {},
     "output_type": "execute_result"
    }
   ],
   "source": [
    "s2 = pd.Series([' Mac', 'Dejan ', ' Dichoski', ' Peter '])\n",
    "s2"
   ]
  },
  {
   "cell_type": "code",
   "execution_count": 73,
   "id": "headed-option",
   "metadata": {},
   "outputs": [
    {
     "data": {
      "text/plain": [
       "0         Mac\n",
       "1      Dejan \n",
       "2    Dichoski\n",
       "3      Peter \n",
       "dtype: object"
      ]
     },
     "execution_count": 73,
     "metadata": {},
     "output_type": "execute_result"
    }
   ],
   "source": [
    "s2.str.lstrip()"
   ]
  },
  {
   "cell_type": "code",
   "execution_count": 74,
   "id": "blank-engagement",
   "metadata": {},
   "outputs": [
    {
     "data": {
      "text/plain": [
       "0          Mac\n",
       "1        Dejan\n",
       "2     Dichoski\n",
       "3        Peter\n",
       "dtype: object"
      ]
     },
     "execution_count": 74,
     "metadata": {},
     "output_type": "execute_result"
    }
   ],
   "source": [
    "s2.str.rstrip()"
   ]
  },
  {
   "cell_type": "code",
   "execution_count": 77,
   "id": "promising-saturday",
   "metadata": {},
   "outputs": [
    {
     "data": {
      "text/plain": [
       "0         Mac\n",
       "1       Dejan\n",
       "2    Dichoski\n",
       "3       Peter\n",
       "dtype: object"
      ]
     },
     "execution_count": 77,
     "metadata": {},
     "output_type": "execute_result"
    }
   ],
   "source": [
    "s2.str.strip()"
   ]
  },
  {
   "cell_type": "code",
   "execution_count": 78,
   "id": "reasonable-madison",
   "metadata": {},
   "outputs": [
    {
     "data": {
      "text/plain": [
       "0         MAC\n",
       "1       DEJAN\n",
       "2    DICHOSKI\n",
       "3       PETER\n",
       "dtype: object"
      ]
     },
     "execution_count": 78,
     "metadata": {},
     "output_type": "execute_result"
    }
   ],
   "source": [
    "s2.str.strip().str.upper()"
   ]
  },
  {
   "cell_type": "code",
   "execution_count": 79,
   "id": "synthetic-horizontal",
   "metadata": {},
   "outputs": [
    {
     "data": {
      "text/plain": [
       "0         mac\n",
       "1       dejan\n",
       "2    dichoski\n",
       "3       peter\n",
       "dtype: object"
      ]
     },
     "execution_count": 79,
     "metadata": {},
     "output_type": "execute_result"
    }
   ],
   "source": [
    "(s2.str.strip()).str.lower() # parentesis used just to point out how it works - they are not needed"
   ]
  },
  {
   "cell_type": "code",
   "execution_count": 80,
   "id": "becoming-vietnamese",
   "metadata": {},
   "outputs": [
    {
     "data": {
      "text/plain": [
       "0    a b\n",
       "1    c d\n",
       "2    e f\n",
       "dtype: object"
      ]
     },
     "execution_count": 80,
     "metadata": {},
     "output_type": "execute_result"
    }
   ],
   "source": [
    "s3 = pd.Series(['a b', 'c d', 'e f'])\n",
    "s3"
   ]
  },
  {
   "cell_type": "code",
   "execution_count": 82,
   "id": "legendary-thanksgiving",
   "metadata": {},
   "outputs": [
    {
     "data": {
      "text/plain": [
       "0    a_b\n",
       "1    c_d\n",
       "2    e_f\n",
       "dtype: object"
      ]
     },
     "execution_count": 82,
     "metadata": {},
     "output_type": "execute_result"
    }
   ],
   "source": [
    "s3.str.replace(' ', '_')"
   ]
  },
  {
   "cell_type": "code",
   "execution_count": 83,
   "id": "expected-collins",
   "metadata": {},
   "outputs": [
    {
     "data": {
      "text/plain": [
       "0    a_b_c\n",
       "1      NaN\n",
       "2    c_d_e\n",
       "3    f_g_h\n",
       "dtype: object"
      ]
     },
     "execution_count": 83,
     "metadata": {},
     "output_type": "execute_result"
    }
   ],
   "source": [
    "s4 = pd.Series(['a_b_c', np.nan, 'c_d_e', 'f_g_h'])\n",
    "s4"
   ]
  },
  {
   "cell_type": "code",
   "execution_count": 87,
   "id": "compressed-completion",
   "metadata": {},
   "outputs": [
    {
     "data": {
      "text/plain": [
       "0    [a, b, c]\n",
       "1          NaN\n",
       "2    [c, d, e]\n",
       "3    [f, g, h]\n",
       "dtype: object"
      ]
     },
     "execution_count": 87,
     "metadata": {},
     "output_type": "execute_result"
    }
   ],
   "source": [
    "s4.str.split('_')"
   ]
  },
  {
   "cell_type": "code",
   "execution_count": 88,
   "id": "criminal-sector",
   "metadata": {},
   "outputs": [
    {
     "data": {
      "text/plain": [
       "str"
      ]
     },
     "execution_count": 88,
     "metadata": {},
     "output_type": "execute_result"
    }
   ],
   "source": [
    "type(s4[0])"
   ]
  },
  {
   "cell_type": "code",
   "execution_count": 103,
   "id": "artistic-surrey",
   "metadata": {},
   "outputs": [
    {
     "name": "stdout",
     "output_type": "stream",
     "text": [
      "abc\n",
      "cde\n",
      "fgh\n"
     ]
    }
   ],
   "source": [
    "def is_nan(x):\n",
    "    return (x != x)\n",
    "\n",
    "s5 = s4.str.split('_')\n",
    "for ind, val in enumerate(s5):\n",
    "    if is_nan(val):\n",
    "        continue\n",
    "    s5[ind] = ''.join(val)\n",
    "    print(s5[ind])"
   ]
  },
  {
   "cell_type": "code",
   "execution_count": 106,
   "id": "fatty-reverse",
   "metadata": {},
   "outputs": [
    {
     "data": {
      "text/plain": [
       "False"
      ]
     },
     "execution_count": 106,
     "metadata": {},
     "output_type": "execute_result"
    }
   ],
   "source": [
    "np.nan == np.nan"
   ]
  },
  {
   "cell_type": "code",
   "execution_count": 104,
   "id": "stopped-opera",
   "metadata": {},
   "outputs": [
    {
     "data": {
      "text/plain": [
       "0    abc\n",
       "1    NaN\n",
       "2    cde\n",
       "3    fgh\n",
       "dtype: object"
      ]
     },
     "execution_count": 104,
     "metadata": {},
     "output_type": "execute_result"
    }
   ],
   "source": [
    "s5"
   ]
  },
  {
   "cell_type": "code",
   "execution_count": 105,
   "id": "round-paste",
   "metadata": {},
   "outputs": [
    {
     "data": {
      "text/plain": [
       "0    abc\n",
       "1    NaN\n",
       "2    cde\n",
       "3    fgh\n",
       "dtype: object"
      ]
     },
     "execution_count": 105,
     "metadata": {},
     "output_type": "execute_result"
    }
   ],
   "source": [
    "s4.str.replace('_', '')"
   ]
  },
  {
   "cell_type": "code",
   "execution_count": 108,
   "id": "afraid-booth",
   "metadata": {},
   "outputs": [
    {
     "data": {
      "text/plain": [
       "0    [a, b, c]\n",
       "1          NaN\n",
       "2    [c, d, e]\n",
       "3    [f, g, h]\n",
       "dtype: object"
      ]
     },
     "execution_count": 108,
     "metadata": {},
     "output_type": "execute_result"
    }
   ],
   "source": [
    "s4.str.split('_')"
   ]
  },
  {
   "cell_type": "code",
   "execution_count": 107,
   "id": "imperial-validity",
   "metadata": {},
   "outputs": [
    {
     "data": {
      "text/plain": [
       "0      b\n",
       "1    NaN\n",
       "2      d\n",
       "3      g\n",
       "dtype: object"
      ]
     },
     "execution_count": 107,
     "metadata": {},
     "output_type": "execute_result"
    }
   ],
   "source": [
    "s4.str.split('_').str.get(1) # get elements on position 1"
   ]
  },
  {
   "cell_type": "code",
   "execution_count": 111,
   "id": "about-decision",
   "metadata": {},
   "outputs": [
    {
     "data": {
      "text/plain": [
       "0      a\n",
       "1    NaN\n",
       "2      c\n",
       "3      f\n",
       "dtype: object"
      ]
     },
     "execution_count": 111,
     "metadata": {},
     "output_type": "execute_result"
    }
   ],
   "source": [
    "s4.str.split('_').str[0] # get elements on position 0"
   ]
  },
  {
   "cell_type": "code",
   "execution_count": 114,
   "id": "southern-kansas",
   "metadata": {},
   "outputs": [
    {
     "data": {
      "text/html": [
       "<div>\n",
       "<style scoped>\n",
       "    .dataframe tbody tr th:only-of-type {\n",
       "        vertical-align: middle;\n",
       "    }\n",
       "\n",
       "    .dataframe tbody tr th {\n",
       "        vertical-align: top;\n",
       "    }\n",
       "\n",
       "    .dataframe thead th {\n",
       "        text-align: right;\n",
       "    }\n",
       "</style>\n",
       "<table border=\"1\" class=\"dataframe\">\n",
       "  <thead>\n",
       "    <tr style=\"text-align: right;\">\n",
       "      <th></th>\n",
       "      <th>0</th>\n",
       "      <th>1</th>\n",
       "      <th>2</th>\n",
       "    </tr>\n",
       "  </thead>\n",
       "  <tbody>\n",
       "    <tr>\n",
       "      <th>0</th>\n",
       "      <td>a</td>\n",
       "      <td>b</td>\n",
       "      <td>c</td>\n",
       "    </tr>\n",
       "    <tr>\n",
       "      <th>1</th>\n",
       "      <td>NaN</td>\n",
       "      <td>NaN</td>\n",
       "      <td>NaN</td>\n",
       "    </tr>\n",
       "    <tr>\n",
       "      <th>2</th>\n",
       "      <td>c</td>\n",
       "      <td>d</td>\n",
       "      <td>e</td>\n",
       "    </tr>\n",
       "    <tr>\n",
       "      <th>3</th>\n",
       "      <td>f</td>\n",
       "      <td>g</td>\n",
       "      <td>h</td>\n",
       "    </tr>\n",
       "  </tbody>\n",
       "</table>\n",
       "</div>"
      ],
      "text/plain": [
       "     0    1    2\n",
       "0    a    b    c\n",
       "1  NaN  NaN  NaN\n",
       "2    c    d    e\n",
       "3    f    g    h"
      ]
     },
     "execution_count": 114,
     "metadata": {},
     "output_type": "execute_result"
    }
   ],
   "source": [
    "s4.str.split('_', expand=True) # converts it to DataFrame"
   ]
  },
  {
   "cell_type": "code",
   "execution_count": 115,
   "id": "ultimate-milan",
   "metadata": {},
   "outputs": [
    {
     "name": "stdout",
     "output_type": "stream",
     "text": [
      "<class 'pandas.core.series.Series'>\n",
      "<class 'pandas.core.frame.DataFrame'>\n"
     ]
    }
   ],
   "source": [
    "print(type(s4.str.split('_', expand=False)))\n",
    "print(type(s4.str.split('_', expand=True)))"
   ]
  },
  {
   "cell_type": "code",
   "execution_count": 118,
   "id": "relative-bernard",
   "metadata": {},
   "outputs": [
    {
     "data": {
      "text/html": [
       "<div>\n",
       "<style scoped>\n",
       "    .dataframe tbody tr th:only-of-type {\n",
       "        vertical-align: middle;\n",
       "    }\n",
       "\n",
       "    .dataframe tbody tr th {\n",
       "        vertical-align: top;\n",
       "    }\n",
       "\n",
       "    .dataframe thead th {\n",
       "        text-align: right;\n",
       "    }\n",
       "</style>\n",
       "<table border=\"1\" class=\"dataframe\">\n",
       "  <thead>\n",
       "    <tr style=\"text-align: right;\">\n",
       "      <th></th>\n",
       "      <th>0</th>\n",
       "      <th>1</th>\n",
       "      <th>2</th>\n",
       "    </tr>\n",
       "  </thead>\n",
       "  <tbody>\n",
       "    <tr>\n",
       "      <th>0</th>\n",
       "      <td>a</td>\n",
       "      <td>b</td>\n",
       "      <td>c</td>\n",
       "    </tr>\n",
       "    <tr>\n",
       "      <th>1</th>\n",
       "      <td>NaN</td>\n",
       "      <td>NaN</td>\n",
       "      <td>NaN</td>\n",
       "    </tr>\n",
       "    <tr>\n",
       "      <th>2</th>\n",
       "      <td>c</td>\n",
       "      <td>d</td>\n",
       "      <td>e</td>\n",
       "    </tr>\n",
       "    <tr>\n",
       "      <th>3</th>\n",
       "      <td>f</td>\n",
       "      <td>g</td>\n",
       "      <td>h</td>\n",
       "    </tr>\n",
       "  </tbody>\n",
       "</table>\n",
       "</div>"
      ],
      "text/plain": [
       "     0    1    2\n",
       "0    a    b    c\n",
       "1  NaN  NaN  NaN\n",
       "2    c    d    e\n",
       "3    f    g    h"
      ]
     },
     "execution_count": 118,
     "metadata": {},
     "output_type": "execute_result"
    }
   ],
   "source": [
    "s4.str.split('_', expand=True, n=2) # split 2 times"
   ]
  },
  {
   "cell_type": "code",
   "execution_count": 119,
   "id": "welcome-breakfast",
   "metadata": {},
   "outputs": [
    {
     "data": {
      "text/html": [
       "<div>\n",
       "<style scoped>\n",
       "    .dataframe tbody tr th:only-of-type {\n",
       "        vertical-align: middle;\n",
       "    }\n",
       "\n",
       "    .dataframe tbody tr th {\n",
       "        vertical-align: top;\n",
       "    }\n",
       "\n",
       "    .dataframe thead th {\n",
       "        text-align: right;\n",
       "    }\n",
       "</style>\n",
       "<table border=\"1\" class=\"dataframe\">\n",
       "  <thead>\n",
       "    <tr style=\"text-align: right;\">\n",
       "      <th></th>\n",
       "      <th>0</th>\n",
       "      <th>1</th>\n",
       "    </tr>\n",
       "  </thead>\n",
       "  <tbody>\n",
       "    <tr>\n",
       "      <th>0</th>\n",
       "      <td>a</td>\n",
       "      <td>b_c</td>\n",
       "    </tr>\n",
       "    <tr>\n",
       "      <th>1</th>\n",
       "      <td>NaN</td>\n",
       "      <td>NaN</td>\n",
       "    </tr>\n",
       "    <tr>\n",
       "      <th>2</th>\n",
       "      <td>c</td>\n",
       "      <td>d_e</td>\n",
       "    </tr>\n",
       "    <tr>\n",
       "      <th>3</th>\n",
       "      <td>f</td>\n",
       "      <td>g_h</td>\n",
       "    </tr>\n",
       "  </tbody>\n",
       "</table>\n",
       "</div>"
      ],
      "text/plain": [
       "     0    1\n",
       "0    a  b_c\n",
       "1  NaN  NaN\n",
       "2    c  d_e\n",
       "3    f  g_h"
      ]
     },
     "execution_count": 119,
     "metadata": {},
     "output_type": "execute_result"
    }
   ],
   "source": [
    "s4.str.split('_', expand=True, n=1) # split once"
   ]
  },
  {
   "cell_type": "code",
   "execution_count": 125,
   "id": "exposed-education",
   "metadata": {},
   "outputs": [
    {
     "data": {
      "text/plain": [
       "0    a\n",
       "1    b\n",
       "2    c\n",
       "3    d\n",
       "dtype: object"
      ]
     },
     "execution_count": 125,
     "metadata": {},
     "output_type": "execute_result"
    }
   ],
   "source": [
    "s5 = pd.Series(['a', 'b', 'c', 'd'])\n",
    "s5"
   ]
  },
  {
   "cell_type": "code",
   "execution_count": 126,
   "id": "superb-professor",
   "metadata": {},
   "outputs": [
    {
     "data": {
      "text/plain": [
       "'a,b,c,d'"
      ]
     },
     "execution_count": 126,
     "metadata": {},
     "output_type": "execute_result"
    }
   ],
   "source": [
    "s5.str.cat(sep=',')"
   ]
  },
  {
   "cell_type": "code",
   "execution_count": 127,
   "id": "flush-disney",
   "metadata": {},
   "outputs": [
    {
     "data": {
      "text/plain": [
       "'abcd'"
      ]
     },
     "execution_count": 127,
     "metadata": {},
     "output_type": "execute_result"
    }
   ],
   "source": [
    "s5.str.cat()"
   ]
  },
  {
   "cell_type": "code",
   "execution_count": 123,
   "id": "numeric-joining",
   "metadata": {},
   "outputs": [
    {
     "data": {
      "text/plain": [
       "str"
      ]
     },
     "execution_count": 123,
     "metadata": {},
     "output_type": "execute_result"
    }
   ],
   "source": [
    "type(s5.str.cat())"
   ]
  },
  {
   "cell_type": "code",
   "execution_count": 128,
   "id": "timely-uncertainty",
   "metadata": {},
   "outputs": [
    {
     "data": {
      "text/plain": [
       "'abcd'"
      ]
     },
     "execution_count": 128,
     "metadata": {},
     "output_type": "execute_result"
    }
   ],
   "source": [
    "s6 = pd.Series(['a', 'b', np.nan, 'c', 'd'])\n",
    "s6.str.cat() # concatenates it with dropping the NaNs"
   ]
  },
  {
   "cell_type": "code",
   "execution_count": 132,
   "id": "sacred-alias",
   "metadata": {},
   "outputs": [
    {
     "data": {
      "text/plain": [
       "'a-b-c-d'"
      ]
     },
     "execution_count": 132,
     "metadata": {},
     "output_type": "execute_result"
    }
   ],
   "source": [
    "s6.str.cat(sep='-')"
   ]
  },
  {
   "cell_type": "code",
   "execution_count": 137,
   "id": "standing-savannah",
   "metadata": {},
   "outputs": [
    {
     "data": {
      "text/plain": [
       "'a_b_X_c_d'"
      ]
     },
     "execution_count": 137,
     "metadata": {},
     "output_type": "execute_result"
    }
   ],
   "source": [
    "s6.str.cat(sep='_', na_rep='X') # how NaN should be handled"
   ]
  },
  {
   "cell_type": "code",
   "execution_count": 141,
   "id": "unlikely-adelaide",
   "metadata": {},
   "outputs": [
    {
     "data": {
      "text/plain": [
       "0    aA\n",
       "1    bB\n",
       "2    cC\n",
       "3    dD\n",
       "dtype: object"
      ]
     },
     "execution_count": 141,
     "metadata": {},
     "output_type": "execute_result"
    }
   ],
   "source": [
    "s7 = pd.Series(['a', 'b', 'c', 'd'])\n",
    "s7.str.cat(['A', 'B', 'C', 'D'])"
   ]
  },
  {
   "cell_type": "code",
   "execution_count": 142,
   "id": "aggressive-march",
   "metadata": {},
   "outputs": [
    {
     "data": {
      "text/html": [
       "<div>\n",
       "<style scoped>\n",
       "    .dataframe tbody tr th:only-of-type {\n",
       "        vertical-align: middle;\n",
       "    }\n",
       "\n",
       "    .dataframe tbody tr th {\n",
       "        vertical-align: top;\n",
       "    }\n",
       "\n",
       "    .dataframe thead th {\n",
       "        text-align: right;\n",
       "    }\n",
       "</style>\n",
       "<table border=\"1\" class=\"dataframe\">\n",
       "  <thead>\n",
       "    <tr style=\"text-align: right;\">\n",
       "      <th></th>\n",
       "      <th>0</th>\n",
       "      <th>1</th>\n",
       "    </tr>\n",
       "  </thead>\n",
       "  <tbody>\n",
       "    <tr>\n",
       "      <th>0</th>\n",
       "      <td>a</td>\n",
       "      <td>a</td>\n",
       "    </tr>\n",
       "    <tr>\n",
       "      <th>1</th>\n",
       "      <td>b</td>\n",
       "      <td>b</td>\n",
       "    </tr>\n",
       "    <tr>\n",
       "      <th>2</th>\n",
       "      <td>c</td>\n",
       "      <td>c</td>\n",
       "    </tr>\n",
       "    <tr>\n",
       "      <th>3</th>\n",
       "      <td>d</td>\n",
       "      <td>d</td>\n",
       "    </tr>\n",
       "  </tbody>\n",
       "</table>\n",
       "</div>"
      ],
      "text/plain": [
       "   0  1\n",
       "0  a  a\n",
       "1  b  b\n",
       "2  c  c\n",
       "3  d  d"
      ]
     },
     "execution_count": 142,
     "metadata": {},
     "output_type": "execute_result"
    }
   ],
   "source": [
    "pd.concat([s7, s7], axis=1)"
   ]
  },
  {
   "cell_type": "code",
   "execution_count": 143,
   "id": "distinguished-reasoning",
   "metadata": {},
   "outputs": [
    {
     "data": {
      "text/plain": [
       "0    a\n",
       "1    b\n",
       "2    c\n",
       "3    d\n",
       "0    a\n",
       "1    b\n",
       "2    c\n",
       "3    d\n",
       "dtype: object"
      ]
     },
     "execution_count": 143,
     "metadata": {},
     "output_type": "execute_result"
    }
   ],
   "source": [
    "pd.concat([s7, s7], axis=0)"
   ]
  },
  {
   "cell_type": "code",
   "execution_count": 144,
   "id": "moderate-agriculture",
   "metadata": {},
   "outputs": [
    {
     "data": {
      "text/plain": [
       "1    b\n",
       "3    d\n",
       "0    a\n",
       "2    c\n",
       "dtype: object"
      ]
     },
     "execution_count": 144,
     "metadata": {},
     "output_type": "execute_result"
    }
   ],
   "source": [
    "s8 = pd.Series(['b', 'd', 'a', 'c'], index=[1, 3, 0, 2])\n",
    "s8"
   ]
  },
  {
   "cell_type": "code",
   "execution_count": 145,
   "id": "laughing-mediterranean",
   "metadata": {},
   "outputs": [
    {
     "data": {
      "text/plain": [
       "0    a\n",
       "1    b\n",
       "2    c\n",
       "3    d\n",
       "dtype: object"
      ]
     },
     "execution_count": 145,
     "metadata": {},
     "output_type": "execute_result"
    }
   ],
   "source": [
    "s5"
   ]
  },
  {
   "cell_type": "code",
   "execution_count": 146,
   "id": "everyday-diabetes",
   "metadata": {},
   "outputs": [
    {
     "data": {
      "text/plain": [
       "0    aa\n",
       "1    bb\n",
       "2    cc\n",
       "3    dd\n",
       "dtype: object"
      ]
     },
     "execution_count": 146,
     "metadata": {},
     "output_type": "execute_result"
    }
   ],
   "source": [
    "s5.str.cat(s8)"
   ]
  },
  {
   "cell_type": "code",
   "execution_count": 147,
   "id": "structured-clearance",
   "metadata": {},
   "outputs": [
    {
     "data": {
      "text/plain": [
       "0     aa\n",
       "1     bb\n",
       "2    NaN\n",
       "3     dc\n",
       "dtype: object"
      ]
     },
     "execution_count": 147,
     "metadata": {},
     "output_type": "execute_result"
    }
   ],
   "source": [
    "s5.str.cat(s6)"
   ]
  },
  {
   "cell_type": "code",
   "execution_count": 150,
   "id": "specialized-nursery",
   "metadata": {},
   "outputs": [
    {
     "data": {
      "text/plain": [
       "0    aa\n",
       "1    bb\n",
       "2    cc\n",
       "3    dd\n",
       "dtype: object"
      ]
     },
     "execution_count": 150,
     "metadata": {},
     "output_type": "execute_result"
    }
   ],
   "source": [
    "s5.str.cat(s8, join='inner')"
   ]
  },
  {
   "cell_type": "markdown",
   "id": "fossil-gambling",
   "metadata": {},
   "source": [
    "## Panels in Pandas\n",
    "They were used to represent 3D data (multiple sheets i.e. DataFrames)<br>\n",
    "However Panels in Pandas are obsolete"
   ]
  },
  {
   "cell_type": "code",
   "execution_count": 155,
   "id": "recognized-colors",
   "metadata": {},
   "outputs": [],
   "source": [
    "#np.random.seed(1234)\n",
    "#p1 = pd.Panel(np.random.randn(2, 5, 4),\n",
    "#              items=['Item1', 'Item2'],\n",
    "#              major_axis=pd.date_range('1/1/2021', periods=5),\n",
    "#              minor_axis=['A', 'B', 'C', 'D'])\n",
    "#p1"
   ]
  },
  {
   "cell_type": "markdown",
   "id": "alone-monroe",
   "metadata": {},
   "source": [
    "### Multiindex"
   ]
  },
  {
   "cell_type": "code",
   "execution_count": 170,
   "id": "herbal-customer",
   "metadata": {},
   "outputs": [
    {
     "data": {
      "text/plain": [
       "MultiIndex([('two', 'y'),\n",
       "            ('two', 'x'),\n",
       "            ('one', 'y'),\n",
       "            ('one', 'x')],\n",
       "           )"
      ]
     },
     "execution_count": 170,
     "metadata": {},
     "output_type": "execute_result"
    }
   ],
   "source": [
    "midx = pd.MultiIndex(levels=[['one', 'two'], ['x', 'y']],\n",
    "                     codes=[[1, 1, 0, 0], [1, 0, 1, 0]])\n",
    "midx"
   ]
  },
  {
   "cell_type": "code",
   "execution_count": 173,
   "id": "disciplinary-yield",
   "metadata": {},
   "outputs": [
    {
     "data": {
      "text/html": [
       "<div>\n",
       "<style scoped>\n",
       "    .dataframe tbody tr th:only-of-type {\n",
       "        vertical-align: middle;\n",
       "    }\n",
       "\n",
       "    .dataframe tbody tr th {\n",
       "        vertical-align: top;\n",
       "    }\n",
       "\n",
       "    .dataframe thead th {\n",
       "        text-align: right;\n",
       "    }\n",
       "</style>\n",
       "<table border=\"1\" class=\"dataframe\">\n",
       "  <thead>\n",
       "    <tr style=\"text-align: right;\">\n",
       "      <th></th>\n",
       "      <th></th>\n",
       "      <th>A</th>\n",
       "      <th>B</th>\n",
       "    </tr>\n",
       "  </thead>\n",
       "  <tbody>\n",
       "    <tr>\n",
       "      <th rowspan=\"2\" valign=\"top\">two</th>\n",
       "      <th>y</th>\n",
       "      <td>1</td>\n",
       "      <td>5</td>\n",
       "    </tr>\n",
       "    <tr>\n",
       "      <th>x</th>\n",
       "      <td>2</td>\n",
       "      <td>6</td>\n",
       "    </tr>\n",
       "    <tr>\n",
       "      <th rowspan=\"2\" valign=\"top\">one</th>\n",
       "      <th>y</th>\n",
       "      <td>3</td>\n",
       "      <td>7</td>\n",
       "    </tr>\n",
       "    <tr>\n",
       "      <th>x</th>\n",
       "      <td>4</td>\n",
       "      <td>8</td>\n",
       "    </tr>\n",
       "  </tbody>\n",
       "</table>\n",
       "</div>"
      ],
      "text/plain": [
       "       A  B\n",
       "two y  1  5\n",
       "    x  2  6\n",
       "one y  3  7\n",
       "    x  4  8"
      ]
     },
     "execution_count": 173,
     "metadata": {},
     "output_type": "execute_result"
    }
   ],
   "source": [
    "df1 = pd.DataFrame({'A' : [1, 2, 3, 4],\n",
    "                    'B' : [5, 6, 7, 8]},\n",
    "                   index = midx)\n",
    "df1"
   ]
  },
  {
   "cell_type": "markdown",
   "id": "egyptian-purpose",
   "metadata": {},
   "source": [
    "### Convert MultiIndex DataFrame to Xarray"
   ]
  },
  {
   "cell_type": "code",
   "execution_count": 251,
   "id": "behind-scout",
   "metadata": {},
   "outputs": [
    {
     "data": {
      "text/plain": [
       "MultiIndex([('2021-01-01', 'a'),\n",
       "            ('2021-01-01', 'b'),\n",
       "            ('2021-01-01', 'c'),\n",
       "            ('2021-01-01', 'd'),\n",
       "            ('2021-01-02', 'a'),\n",
       "            ('2021-01-02', 'b'),\n",
       "            ('2021-01-02', 'c'),\n",
       "            ('2021-01-02', 'd'),\n",
       "            ('2021-01-03', 'a'),\n",
       "            ('2021-01-03', 'b'),\n",
       "            ('2021-01-03', 'c'),\n",
       "            ('2021-01-03', 'd'),\n",
       "            ('2021-01-04', 'a'),\n",
       "            ('2021-01-04', 'b'),\n",
       "            ('2021-01-04', 'c'),\n",
       "            ('2021-01-04', 'd'),\n",
       "            ('2021-01-05', 'a'),\n",
       "            ('2021-01-05', 'b'),\n",
       "            ('2021-01-05', 'c'),\n",
       "            ('2021-01-05', 'd')],\n",
       "           )"
      ]
     },
     "execution_count": 251,
     "metadata": {},
     "output_type": "execute_result"
    }
   ],
   "source": [
    "midx = pd.MultiIndex(levels=[pd.date_range('1/1/2021', periods=5), ['a', 'b', 'c', 'd']],\n",
    "                     codes=[[0, 0, 0, 0,\n",
    "                             1, 1, 1, 1,\n",
    "                             2, 2, 2, 2,\n",
    "                             3, 3, 3, 3,\n",
    "                             4, 4, 4, 4],\n",
    "                            [0, 1, 2, 3,\n",
    "                             0, 1, 2, 3,\n",
    "                             0, 1, 2, 3,\n",
    "                             0, 1, 2, 3,\n",
    "                             0, 1, 2, 3]])\n",
    "midx"
   ]
  },
  {
   "cell_type": "code",
   "execution_count": 257,
   "id": "interstate-petroleum",
   "metadata": {},
   "outputs": [
    {
     "data": {
      "text/html": [
       "<div>\n",
       "<style scoped>\n",
       "    .dataframe tbody tr th:only-of-type {\n",
       "        vertical-align: middle;\n",
       "    }\n",
       "\n",
       "    .dataframe tbody tr th {\n",
       "        vertical-align: top;\n",
       "    }\n",
       "\n",
       "    .dataframe thead th {\n",
       "        text-align: right;\n",
       "    }\n",
       "</style>\n",
       "<table border=\"1\" class=\"dataframe\">\n",
       "  <thead>\n",
       "    <tr style=\"text-align: right;\">\n",
       "      <th></th>\n",
       "      <th></th>\n",
       "      <th>one</th>\n",
       "      <th>two</th>\n",
       "      <th>three</th>\n",
       "    </tr>\n",
       "    <tr>\n",
       "      <th>major</th>\n",
       "      <th>minor</th>\n",
       "      <th></th>\n",
       "      <th></th>\n",
       "      <th></th>\n",
       "    </tr>\n",
       "  </thead>\n",
       "  <tbody>\n",
       "    <tr>\n",
       "      <th rowspan=\"4\" valign=\"top\">2021-01-01</th>\n",
       "      <th>a</th>\n",
       "      <td>-0.465425</td>\n",
       "      <td>0.262141</td>\n",
       "      <td>0.319943</td>\n",
       "    </tr>\n",
       "    <tr>\n",
       "      <th>b</th>\n",
       "      <td>-0.216228</td>\n",
       "      <td>0.045073</td>\n",
       "      <td>1.936006</td>\n",
       "    </tr>\n",
       "    <tr>\n",
       "      <th>c</th>\n",
       "      <td>0.425908</td>\n",
       "      <td>-0.441203</td>\n",
       "      <td>1.021136</td>\n",
       "    </tr>\n",
       "    <tr>\n",
       "      <th>d</th>\n",
       "      <td>2.990877</td>\n",
       "      <td>-1.734529</td>\n",
       "      <td>1.518227</td>\n",
       "    </tr>\n",
       "    <tr>\n",
       "      <th rowspan=\"4\" valign=\"top\">2021-01-02</th>\n",
       "      <th>a</th>\n",
       "      <td>-0.706861</td>\n",
       "      <td>0.174108</td>\n",
       "      <td>1.172876</td>\n",
       "    </tr>\n",
       "    <tr>\n",
       "      <th>b</th>\n",
       "      <td>-0.238120</td>\n",
       "      <td>-0.379042</td>\n",
       "      <td>1.167181</td>\n",
       "    </tr>\n",
       "    <tr>\n",
       "      <th>c</th>\n",
       "      <td>-0.167416</td>\n",
       "      <td>-1.248495</td>\n",
       "      <td>-0.128660</td>\n",
       "    </tr>\n",
       "    <tr>\n",
       "      <th>d</th>\n",
       "      <td>-0.506805</td>\n",
       "      <td>1.239093</td>\n",
       "      <td>0.230045</td>\n",
       "    </tr>\n",
       "    <tr>\n",
       "      <th rowspan=\"4\" valign=\"top\">2021-01-03</th>\n",
       "      <th>a</th>\n",
       "      <td>-0.801763</td>\n",
       "      <td>0.252639</td>\n",
       "      <td>-1.565038</td>\n",
       "    </tr>\n",
       "    <tr>\n",
       "      <th>b</th>\n",
       "      <td>1.582866</td>\n",
       "      <td>0.849961</td>\n",
       "      <td>-0.381166</td>\n",
       "    </tr>\n",
       "    <tr>\n",
       "      <th>c</th>\n",
       "      <td>0.100763</td>\n",
       "      <td>1.780795</td>\n",
       "      <td>0.403964</td>\n",
       "    </tr>\n",
       "    <tr>\n",
       "      <th>d</th>\n",
       "      <td>1.131084</td>\n",
       "      <td>0.162403</td>\n",
       "      <td>1.188456</td>\n",
       "    </tr>\n",
       "    <tr>\n",
       "      <th rowspan=\"4\" valign=\"top\">2021-01-04</th>\n",
       "      <th>a</th>\n",
       "      <td>-0.397674</td>\n",
       "      <td>-0.641104</td>\n",
       "      <td>1.727934</td>\n",
       "    </tr>\n",
       "    <tr>\n",
       "      <th>b</th>\n",
       "      <td>-0.568120</td>\n",
       "      <td>-0.993592</td>\n",
       "      <td>-0.543856</td>\n",
       "    </tr>\n",
       "    <tr>\n",
       "      <th>c</th>\n",
       "      <td>0.614185</td>\n",
       "      <td>1.229084</td>\n",
       "      <td>2.102855</td>\n",
       "    </tr>\n",
       "    <tr>\n",
       "      <th>d</th>\n",
       "      <td>1.639892</td>\n",
       "      <td>0.642059</td>\n",
       "      <td>1.331356</td>\n",
       "    </tr>\n",
       "    <tr>\n",
       "      <th rowspan=\"4\" valign=\"top\">2021-01-05</th>\n",
       "      <th>a</th>\n",
       "      <td>-0.967172</td>\n",
       "      <td>-0.793871</td>\n",
       "      <td>-0.812978</td>\n",
       "    </tr>\n",
       "    <tr>\n",
       "      <th>b</th>\n",
       "      <td>-0.153086</td>\n",
       "      <td>-0.885363</td>\n",
       "      <td>1.039158</td>\n",
       "    </tr>\n",
       "    <tr>\n",
       "      <th>c</th>\n",
       "      <td>0.727986</td>\n",
       "      <td>-2.025949</td>\n",
       "      <td>-0.627306</td>\n",
       "    </tr>\n",
       "    <tr>\n",
       "      <th>d</th>\n",
       "      <td>-0.488652</td>\n",
       "      <td>0.938477</td>\n",
       "      <td>-0.320958</td>\n",
       "    </tr>\n",
       "  </tbody>\n",
       "</table>\n",
       "</div>"
      ],
      "text/plain": [
       "                       one       two     three\n",
       "major      minor                              \n",
       "2021-01-01 a     -0.465425  0.262141  0.319943\n",
       "           b     -0.216228  0.045073  1.936006\n",
       "           c      0.425908 -0.441203  1.021136\n",
       "           d      2.990877 -1.734529  1.518227\n",
       "2021-01-02 a     -0.706861  0.174108  1.172876\n",
       "           b     -0.238120 -0.379042  1.167181\n",
       "           c     -0.167416 -1.248495 -0.128660\n",
       "           d     -0.506805  1.239093  0.230045\n",
       "2021-01-03 a     -0.801763  0.252639 -1.565038\n",
       "           b      1.582866  0.849961 -0.381166\n",
       "           c      0.100763  1.780795  0.403964\n",
       "           d      1.131084  0.162403  1.188456\n",
       "2021-01-04 a     -0.397674 -0.641104  1.727934\n",
       "           b     -0.568120 -0.993592 -0.543856\n",
       "           c      0.614185  1.229084  2.102855\n",
       "           d      1.639892  0.642059  1.331356\n",
       "2021-01-05 a     -0.967172 -0.793871 -0.812978\n",
       "           b     -0.153086 -0.885363  1.039158\n",
       "           c      0.727986 -2.025949 -0.627306\n",
       "           d     -0.488652  0.938477 -0.320958"
      ]
     },
     "execution_count": 257,
     "metadata": {},
     "output_type": "execute_result"
    }
   ],
   "source": [
    "df = pd.DataFrame(np.random.randn(20,3), index=midx, columns=[0, 1, 2])\n",
    "df.rename(columns = {0 : 'one', 1 : 'two', 2: 'three'}, index = {'major' : 'major', 'minor' : 'minor'}, inplace = True)\n",
    "df.index.names = ['major', 'minor']\n",
    "df\n",
    "df"
   ]
  },
  {
   "cell_type": "code",
   "execution_count": 258,
   "id": "single-hardwood",
   "metadata": {},
   "outputs": [
    {
     "data": {
      "text/html": [
       "<div><svg style=\"position: absolute; width: 0; height: 0; overflow: hidden\">\n",
       "<defs>\n",
       "<symbol id=\"icon-database\" viewBox=\"0 0 32 32\">\n",
       "<path d=\"M16 0c-8.837 0-16 2.239-16 5v4c0 2.761 7.163 5 16 5s16-2.239 16-5v-4c0-2.761-7.163-5-16-5z\"></path>\n",
       "<path d=\"M16 17c-8.837 0-16-2.239-16-5v6c0 2.761 7.163 5 16 5s16-2.239 16-5v-6c0 2.761-7.163 5-16 5z\"></path>\n",
       "<path d=\"M16 26c-8.837 0-16-2.239-16-5v6c0 2.761 7.163 5 16 5s16-2.239 16-5v-6c0 2.761-7.163 5-16 5z\"></path>\n",
       "</symbol>\n",
       "<symbol id=\"icon-file-text2\" viewBox=\"0 0 32 32\">\n",
       "<path d=\"M28.681 7.159c-0.694-0.947-1.662-2.053-2.724-3.116s-2.169-2.030-3.116-2.724c-1.612-1.182-2.393-1.319-2.841-1.319h-15.5c-1.378 0-2.5 1.121-2.5 2.5v27c0 1.378 1.122 2.5 2.5 2.5h23c1.378 0 2.5-1.122 2.5-2.5v-19.5c0-0.448-0.137-1.23-1.319-2.841zM24.543 5.457c0.959 0.959 1.712 1.825 2.268 2.543h-4.811v-4.811c0.718 0.556 1.584 1.309 2.543 2.268zM28 29.5c0 0.271-0.229 0.5-0.5 0.5h-23c-0.271 0-0.5-0.229-0.5-0.5v-27c0-0.271 0.229-0.5 0.5-0.5 0 0 15.499-0 15.5 0v7c0 0.552 0.448 1 1 1h7v19.5z\"></path>\n",
       "<path d=\"M23 26h-14c-0.552 0-1-0.448-1-1s0.448-1 1-1h14c0.552 0 1 0.448 1 1s-0.448 1-1 1z\"></path>\n",
       "<path d=\"M23 22h-14c-0.552 0-1-0.448-1-1s0.448-1 1-1h14c0.552 0 1 0.448 1 1s-0.448 1-1 1z\"></path>\n",
       "<path d=\"M23 18h-14c-0.552 0-1-0.448-1-1s0.448-1 1-1h14c0.552 0 1 0.448 1 1s-0.448 1-1 1z\"></path>\n",
       "</symbol>\n",
       "</defs>\n",
       "</svg>\n",
       "<style>/* CSS stylesheet for displaying xarray objects in jupyterlab.\n",
       " *\n",
       " */\n",
       "\n",
       ":root {\n",
       "  --xr-font-color0: var(--jp-content-font-color0, rgba(0, 0, 0, 1));\n",
       "  --xr-font-color2: var(--jp-content-font-color2, rgba(0, 0, 0, 0.54));\n",
       "  --xr-font-color3: var(--jp-content-font-color3, rgba(0, 0, 0, 0.38));\n",
       "  --xr-border-color: var(--jp-border-color2, #e0e0e0);\n",
       "  --xr-disabled-color: var(--jp-layout-color3, #bdbdbd);\n",
       "  --xr-background-color: var(--jp-layout-color0, white);\n",
       "  --xr-background-color-row-even: var(--jp-layout-color1, white);\n",
       "  --xr-background-color-row-odd: var(--jp-layout-color2, #eeeeee);\n",
       "}\n",
       "\n",
       "html[theme=dark],\n",
       "body.vscode-dark {\n",
       "  --xr-font-color0: rgba(255, 255, 255, 1);\n",
       "  --xr-font-color2: rgba(255, 255, 255, 0.54);\n",
       "  --xr-font-color3: rgba(255, 255, 255, 0.38);\n",
       "  --xr-border-color: #1F1F1F;\n",
       "  --xr-disabled-color: #515151;\n",
       "  --xr-background-color: #111111;\n",
       "  --xr-background-color-row-even: #111111;\n",
       "  --xr-background-color-row-odd: #313131;\n",
       "}\n",
       "\n",
       ".xr-wrap {\n",
       "  display: block;\n",
       "  min-width: 300px;\n",
       "  max-width: 700px;\n",
       "}\n",
       "\n",
       ".xr-text-repr-fallback {\n",
       "  /* fallback to plain text repr when CSS is not injected (untrusted notebook) */\n",
       "  display: none;\n",
       "}\n",
       "\n",
       ".xr-header {\n",
       "  padding-top: 6px;\n",
       "  padding-bottom: 6px;\n",
       "  margin-bottom: 4px;\n",
       "  border-bottom: solid 1px var(--xr-border-color);\n",
       "}\n",
       "\n",
       ".xr-header > div,\n",
       ".xr-header > ul {\n",
       "  display: inline;\n",
       "  margin-top: 0;\n",
       "  margin-bottom: 0;\n",
       "}\n",
       "\n",
       ".xr-obj-type,\n",
       ".xr-array-name {\n",
       "  margin-left: 2px;\n",
       "  margin-right: 10px;\n",
       "}\n",
       "\n",
       ".xr-obj-type {\n",
       "  color: var(--xr-font-color2);\n",
       "}\n",
       "\n",
       ".xr-sections {\n",
       "  padding-left: 0 !important;\n",
       "  display: grid;\n",
       "  grid-template-columns: 150px auto auto 1fr 20px 20px;\n",
       "}\n",
       "\n",
       ".xr-section-item {\n",
       "  display: contents;\n",
       "}\n",
       "\n",
       ".xr-section-item input {\n",
       "  display: none;\n",
       "}\n",
       "\n",
       ".xr-section-item input + label {\n",
       "  color: var(--xr-disabled-color);\n",
       "}\n",
       "\n",
       ".xr-section-item input:enabled + label {\n",
       "  cursor: pointer;\n",
       "  color: var(--xr-font-color2);\n",
       "}\n",
       "\n",
       ".xr-section-item input:enabled + label:hover {\n",
       "  color: var(--xr-font-color0);\n",
       "}\n",
       "\n",
       ".xr-section-summary {\n",
       "  grid-column: 1;\n",
       "  color: var(--xr-font-color2);\n",
       "  font-weight: 500;\n",
       "}\n",
       "\n",
       ".xr-section-summary > span {\n",
       "  display: inline-block;\n",
       "  padding-left: 0.5em;\n",
       "}\n",
       "\n",
       ".xr-section-summary-in:disabled + label {\n",
       "  color: var(--xr-font-color2);\n",
       "}\n",
       "\n",
       ".xr-section-summary-in + label:before {\n",
       "  display: inline-block;\n",
       "  content: '►';\n",
       "  font-size: 11px;\n",
       "  width: 15px;\n",
       "  text-align: center;\n",
       "}\n",
       "\n",
       ".xr-section-summary-in:disabled + label:before {\n",
       "  color: var(--xr-disabled-color);\n",
       "}\n",
       "\n",
       ".xr-section-summary-in:checked + label:before {\n",
       "  content: '▼';\n",
       "}\n",
       "\n",
       ".xr-section-summary-in:checked + label > span {\n",
       "  display: none;\n",
       "}\n",
       "\n",
       ".xr-section-summary,\n",
       ".xr-section-inline-details {\n",
       "  padding-top: 4px;\n",
       "  padding-bottom: 4px;\n",
       "}\n",
       "\n",
       ".xr-section-inline-details {\n",
       "  grid-column: 2 / -1;\n",
       "}\n",
       "\n",
       ".xr-section-details {\n",
       "  display: none;\n",
       "  grid-column: 1 / -1;\n",
       "  margin-bottom: 5px;\n",
       "}\n",
       "\n",
       ".xr-section-summary-in:checked ~ .xr-section-details {\n",
       "  display: contents;\n",
       "}\n",
       "\n",
       ".xr-array-wrap {\n",
       "  grid-column: 1 / -1;\n",
       "  display: grid;\n",
       "  grid-template-columns: 20px auto;\n",
       "}\n",
       "\n",
       ".xr-array-wrap > label {\n",
       "  grid-column: 1;\n",
       "  vertical-align: top;\n",
       "}\n",
       "\n",
       ".xr-preview {\n",
       "  color: var(--xr-font-color3);\n",
       "}\n",
       "\n",
       ".xr-array-preview,\n",
       ".xr-array-data {\n",
       "  padding: 0 5px !important;\n",
       "  grid-column: 2;\n",
       "}\n",
       "\n",
       ".xr-array-data,\n",
       ".xr-array-in:checked ~ .xr-array-preview {\n",
       "  display: none;\n",
       "}\n",
       "\n",
       ".xr-array-in:checked ~ .xr-array-data,\n",
       ".xr-array-preview {\n",
       "  display: inline-block;\n",
       "}\n",
       "\n",
       ".xr-dim-list {\n",
       "  display: inline-block !important;\n",
       "  list-style: none;\n",
       "  padding: 0 !important;\n",
       "  margin: 0;\n",
       "}\n",
       "\n",
       ".xr-dim-list li {\n",
       "  display: inline-block;\n",
       "  padding: 0;\n",
       "  margin: 0;\n",
       "}\n",
       "\n",
       ".xr-dim-list:before {\n",
       "  content: '(';\n",
       "}\n",
       "\n",
       ".xr-dim-list:after {\n",
       "  content: ')';\n",
       "}\n",
       "\n",
       ".xr-dim-list li:not(:last-child):after {\n",
       "  content: ',';\n",
       "  padding-right: 5px;\n",
       "}\n",
       "\n",
       ".xr-has-index {\n",
       "  font-weight: bold;\n",
       "}\n",
       "\n",
       ".xr-var-list,\n",
       ".xr-var-item {\n",
       "  display: contents;\n",
       "}\n",
       "\n",
       ".xr-var-item > div,\n",
       ".xr-var-item label,\n",
       ".xr-var-item > .xr-var-name span {\n",
       "  background-color: var(--xr-background-color-row-even);\n",
       "  margin-bottom: 0;\n",
       "}\n",
       "\n",
       ".xr-var-item > .xr-var-name:hover span {\n",
       "  padding-right: 5px;\n",
       "}\n",
       "\n",
       ".xr-var-list > li:nth-child(odd) > div,\n",
       ".xr-var-list > li:nth-child(odd) > label,\n",
       ".xr-var-list > li:nth-child(odd) > .xr-var-name span {\n",
       "  background-color: var(--xr-background-color-row-odd);\n",
       "}\n",
       "\n",
       ".xr-var-name {\n",
       "  grid-column: 1;\n",
       "}\n",
       "\n",
       ".xr-var-dims {\n",
       "  grid-column: 2;\n",
       "}\n",
       "\n",
       ".xr-var-dtype {\n",
       "  grid-column: 3;\n",
       "  text-align: right;\n",
       "  color: var(--xr-font-color2);\n",
       "}\n",
       "\n",
       ".xr-var-preview {\n",
       "  grid-column: 4;\n",
       "}\n",
       "\n",
       ".xr-var-name,\n",
       ".xr-var-dims,\n",
       ".xr-var-dtype,\n",
       ".xr-preview,\n",
       ".xr-attrs dt {\n",
       "  white-space: nowrap;\n",
       "  overflow: hidden;\n",
       "  text-overflow: ellipsis;\n",
       "  padding-right: 10px;\n",
       "}\n",
       "\n",
       ".xr-var-name:hover,\n",
       ".xr-var-dims:hover,\n",
       ".xr-var-dtype:hover,\n",
       ".xr-attrs dt:hover {\n",
       "  overflow: visible;\n",
       "  width: auto;\n",
       "  z-index: 1;\n",
       "}\n",
       "\n",
       ".xr-var-attrs,\n",
       ".xr-var-data {\n",
       "  display: none;\n",
       "  background-color: var(--xr-background-color) !important;\n",
       "  padding-bottom: 5px !important;\n",
       "}\n",
       "\n",
       ".xr-var-attrs-in:checked ~ .xr-var-attrs,\n",
       ".xr-var-data-in:checked ~ .xr-var-data {\n",
       "  display: block;\n",
       "}\n",
       "\n",
       ".xr-var-data > table {\n",
       "  float: right;\n",
       "}\n",
       "\n",
       ".xr-var-name span,\n",
       ".xr-var-data,\n",
       ".xr-attrs {\n",
       "  padding-left: 25px !important;\n",
       "}\n",
       "\n",
       ".xr-attrs,\n",
       ".xr-var-attrs,\n",
       ".xr-var-data {\n",
       "  grid-column: 1 / -1;\n",
       "}\n",
       "\n",
       "dl.xr-attrs {\n",
       "  padding: 0;\n",
       "  margin: 0;\n",
       "  display: grid;\n",
       "  grid-template-columns: 125px auto;\n",
       "}\n",
       "\n",
       ".xr-attrs dt,\n",
       ".xr-attrs dd {\n",
       "  padding: 0;\n",
       "  margin: 0;\n",
       "  float: left;\n",
       "  padding-right: 10px;\n",
       "  width: auto;\n",
       "}\n",
       "\n",
       ".xr-attrs dt {\n",
       "  font-weight: normal;\n",
       "  grid-column: 1;\n",
       "}\n",
       "\n",
       ".xr-attrs dt:hover span {\n",
       "  display: inline-block;\n",
       "  background: var(--xr-background-color);\n",
       "  padding-right: 10px;\n",
       "}\n",
       "\n",
       ".xr-attrs dd {\n",
       "  grid-column: 2;\n",
       "  white-space: pre-wrap;\n",
       "  word-break: break-all;\n",
       "}\n",
       "\n",
       ".xr-icon-database,\n",
       ".xr-icon-file-text2 {\n",
       "  display: inline-block;\n",
       "  vertical-align: middle;\n",
       "  width: 1em;\n",
       "  height: 1.5em !important;\n",
       "  stroke-width: 0;\n",
       "  stroke: currentColor;\n",
       "  fill: currentColor;\n",
       "}\n",
       "</style><pre class='xr-text-repr-fallback'>&lt;xarray.Dataset&gt;\n",
       "Dimensions:  (major: 5, minor: 4)\n",
       "Coordinates:\n",
       "  * major    (major) datetime64[ns] 2021-01-01 2021-01-02 ... 2021-01-05\n",
       "  * minor    (minor) object &#x27;a&#x27; &#x27;b&#x27; &#x27;c&#x27; &#x27;d&#x27;\n",
       "Data variables:\n",
       "    one      (major, minor) float64 -0.4654 -0.2162 0.4259 ... 0.728 -0.4887\n",
       "    two      (major, minor) float64 0.2621 0.04507 -0.4412 ... -2.026 0.9385\n",
       "    three    (major, minor) float64 0.3199 1.936 1.021 ... 1.039 -0.6273 -0.321</pre><div class='xr-wrap' hidden><div class='xr-header'><div class='xr-obj-type'>xarray.Dataset</div></div><ul class='xr-sections'><li class='xr-section-item'><input id='section-50fadac8-bcea-412f-b64c-7e2b138ed4e0' class='xr-section-summary-in' type='checkbox' disabled ><label for='section-50fadac8-bcea-412f-b64c-7e2b138ed4e0' class='xr-section-summary'  title='Expand/collapse section'>Dimensions:</label><div class='xr-section-inline-details'><ul class='xr-dim-list'><li><span class='xr-has-index'>major</span>: 5</li><li><span class='xr-has-index'>minor</span>: 4</li></ul></div><div class='xr-section-details'></div></li><li class='xr-section-item'><input id='section-01076a0a-9510-434e-a8cc-d7a9b5e4b040' class='xr-section-summary-in' type='checkbox'  checked><label for='section-01076a0a-9510-434e-a8cc-d7a9b5e4b040' class='xr-section-summary' >Coordinates: <span>(2)</span></label><div class='xr-section-inline-details'></div><div class='xr-section-details'><ul class='xr-var-list'><li class='xr-var-item'><div class='xr-var-name'><span class='xr-has-index'>major</span></div><div class='xr-var-dims'>(major)</div><div class='xr-var-dtype'>datetime64[ns]</div><div class='xr-var-preview xr-preview'>2021-01-01 ... 2021-01-05</div><input id='attrs-26635a85-0e89-43d2-aef8-99ed118f9daf' class='xr-var-attrs-in' type='checkbox' disabled><label for='attrs-26635a85-0e89-43d2-aef8-99ed118f9daf' title='Show/Hide attributes'><svg class='icon xr-icon-file-text2'><use xlink:href='#icon-file-text2'></use></svg></label><input id='data-17ac255b-ac8e-4f0c-a5a4-ba9fbc847125' class='xr-var-data-in' type='checkbox'><label for='data-17ac255b-ac8e-4f0c-a5a4-ba9fbc847125' title='Show/Hide data repr'><svg class='icon xr-icon-database'><use xlink:href='#icon-database'></use></svg></label><div class='xr-var-attrs'><dl class='xr-attrs'></dl></div><div class='xr-var-data'><pre>array([&#x27;2021-01-01T00:00:00.000000000&#x27;, &#x27;2021-01-02T00:00:00.000000000&#x27;,\n",
       "       &#x27;2021-01-03T00:00:00.000000000&#x27;, &#x27;2021-01-04T00:00:00.000000000&#x27;,\n",
       "       &#x27;2021-01-05T00:00:00.000000000&#x27;], dtype=&#x27;datetime64[ns]&#x27;)</pre></div></li><li class='xr-var-item'><div class='xr-var-name'><span class='xr-has-index'>minor</span></div><div class='xr-var-dims'>(minor)</div><div class='xr-var-dtype'>object</div><div class='xr-var-preview xr-preview'>&#x27;a&#x27; &#x27;b&#x27; &#x27;c&#x27; &#x27;d&#x27;</div><input id='attrs-d4716b6a-0774-4c21-8bd5-8318ab726e66' class='xr-var-attrs-in' type='checkbox' disabled><label for='attrs-d4716b6a-0774-4c21-8bd5-8318ab726e66' title='Show/Hide attributes'><svg class='icon xr-icon-file-text2'><use xlink:href='#icon-file-text2'></use></svg></label><input id='data-d3fc595e-76ad-4b3c-8f5d-18dba9d41562' class='xr-var-data-in' type='checkbox'><label for='data-d3fc595e-76ad-4b3c-8f5d-18dba9d41562' title='Show/Hide data repr'><svg class='icon xr-icon-database'><use xlink:href='#icon-database'></use></svg></label><div class='xr-var-attrs'><dl class='xr-attrs'></dl></div><div class='xr-var-data'><pre>array([&#x27;a&#x27;, &#x27;b&#x27;, &#x27;c&#x27;, &#x27;d&#x27;], dtype=object)</pre></div></li></ul></div></li><li class='xr-section-item'><input id='section-4d5f0b13-839c-4606-903f-073b305b7596' class='xr-section-summary-in' type='checkbox'  checked><label for='section-4d5f0b13-839c-4606-903f-073b305b7596' class='xr-section-summary' >Data variables: <span>(3)</span></label><div class='xr-section-inline-details'></div><div class='xr-section-details'><ul class='xr-var-list'><li class='xr-var-item'><div class='xr-var-name'><span>one</span></div><div class='xr-var-dims'>(major, minor)</div><div class='xr-var-dtype'>float64</div><div class='xr-var-preview xr-preview'>-0.4654 -0.2162 ... 0.728 -0.4887</div><input id='attrs-518387ba-da64-4bf7-970d-d740f3bc7eb9' class='xr-var-attrs-in' type='checkbox' disabled><label for='attrs-518387ba-da64-4bf7-970d-d740f3bc7eb9' title='Show/Hide attributes'><svg class='icon xr-icon-file-text2'><use xlink:href='#icon-file-text2'></use></svg></label><input id='data-1bd52a12-be3e-4f6b-8045-e9fad1867354' class='xr-var-data-in' type='checkbox'><label for='data-1bd52a12-be3e-4f6b-8045-e9fad1867354' title='Show/Hide data repr'><svg class='icon xr-icon-database'><use xlink:href='#icon-database'></use></svg></label><div class='xr-var-attrs'><dl class='xr-attrs'></dl></div><div class='xr-var-data'><pre>array([[-0.46542548, -0.21622847,  0.42590763,  2.99087683],\n",
       "       [-0.70686075, -0.23811975, -0.16741596, -0.50680549],\n",
       "       [-0.80176347,  1.58286626,  0.10076342,  1.13108404],\n",
       "       [-0.39767419, -0.56811979,  0.61418544,  1.63989244],\n",
       "       [-0.96717232, -0.15308613,  0.7279865 , -0.48865223]])</pre></div></li><li class='xr-var-item'><div class='xr-var-name'><span>two</span></div><div class='xr-var-dims'>(major, minor)</div><div class='xr-var-dtype'>float64</div><div class='xr-var-preview xr-preview'>0.2621 0.04507 ... -2.026 0.9385</div><input id='attrs-4cf661f7-f5bb-4652-870a-1ecff3621b54' class='xr-var-attrs-in' type='checkbox' disabled><label for='attrs-4cf661f7-f5bb-4652-870a-1ecff3621b54' title='Show/Hide attributes'><svg class='icon xr-icon-file-text2'><use xlink:href='#icon-file-text2'></use></svg></label><input id='data-b97d562b-3910-42cd-ab21-08acf80947af' class='xr-var-data-in' type='checkbox'><label for='data-b97d562b-3910-42cd-ab21-08acf80947af' title='Show/Hide data repr'><svg class='icon xr-icon-database'><use xlink:href='#icon-database'></use></svg></label><div class='xr-var-attrs'><dl class='xr-attrs'></dl></div><div class='xr-var-data'><pre>array([[ 0.26214058,  0.04507261, -0.44120305, -1.734529  ],\n",
       "       [ 0.1741083 , -0.37904212, -1.24849535,  1.23909302],\n",
       "       [ 0.25263931,  0.8499614 ,  1.78079513,  0.16240281],\n",
       "       [-0.64110415, -0.99359169,  1.2290843 ,  0.64205929],\n",
       "       [-0.79387097, -0.88536314, -2.02594907,  0.93847719]])</pre></div></li><li class='xr-var-item'><div class='xr-var-name'><span>three</span></div><div class='xr-var-dims'>(major, minor)</div><div class='xr-var-dtype'>float64</div><div class='xr-var-preview xr-preview'>0.3199 1.936 ... -0.6273 -0.321</div><input id='attrs-589c048d-e241-4a00-9bdc-128a9bf4cf74' class='xr-var-attrs-in' type='checkbox' disabled><label for='attrs-589c048d-e241-4a00-9bdc-128a9bf4cf74' title='Show/Hide attributes'><svg class='icon xr-icon-file-text2'><use xlink:href='#icon-file-text2'></use></svg></label><input id='data-93e083a5-8e12-48c2-99ba-3b7d4d1efc2f' class='xr-var-data-in' type='checkbox'><label for='data-93e083a5-8e12-48c2-99ba-3b7d4d1efc2f' title='Show/Hide data repr'><svg class='icon xr-icon-database'><use xlink:href='#icon-database'></use></svg></label><div class='xr-var-attrs'><dl class='xr-attrs'></dl></div><div class='xr-var-data'><pre>array([[ 0.31994274,  1.93600587,  1.02113602,  1.51822652],\n",
       "       [ 1.17287571,  1.16718143, -0.12866   ,  0.23004537],\n",
       "       [-1.56503806, -0.38116607,  0.40396446,  1.18845573],\n",
       "       [ 1.72793382, -0.54385603,  2.10285469,  1.33135647],\n",
       "       [-0.81297822,  1.03915784, -0.62730569, -0.32095767]])</pre></div></li></ul></div></li><li class='xr-section-item'><input id='section-161154be-156e-48eb-82eb-d886f136796f' class='xr-section-summary-in' type='checkbox' disabled ><label for='section-161154be-156e-48eb-82eb-d886f136796f' class='xr-section-summary'  title='Expand/collapse section'>Attributes: <span>(0)</span></label><div class='xr-section-inline-details'></div><div class='xr-section-details'><dl class='xr-attrs'></dl></div></li></ul></div></div>"
      ],
      "text/plain": [
       "<xarray.Dataset>\n",
       "Dimensions:  (major: 5, minor: 4)\n",
       "Coordinates:\n",
       "  * major    (major) datetime64[ns] 2021-01-01 2021-01-02 ... 2021-01-05\n",
       "  * minor    (minor) object 'a' 'b' 'c' 'd'\n",
       "Data variables:\n",
       "    one      (major, minor) float64 -0.4654 -0.2162 0.4259 ... 0.728 -0.4887\n",
       "    two      (major, minor) float64 0.2621 0.04507 -0.4412 ... -2.026 0.9385\n",
       "    three    (major, minor) float64 0.3199 1.936 1.021 ... 1.039 -0.6273 -0.321"
      ]
     },
     "execution_count": 258,
     "metadata": {},
     "output_type": "execute_result"
    }
   ],
   "source": [
    "xr1 = df.to_xarray()\n",
    "xr1"
   ]
  },
  {
   "cell_type": "code",
   "execution_count": 256,
   "id": "regulated-angel",
   "metadata": {},
   "outputs": [
    {
     "data": {
      "text/plain": [
       "xarray.core.dataset.Dataset"
      ]
     },
     "execution_count": 256,
     "metadata": {},
     "output_type": "execute_result"
    }
   ],
   "source": [
    "type(xr1)"
   ]
  },
  {
   "cell_type": "markdown",
   "id": "measured-wichita",
   "metadata": {},
   "source": [
    "## Time series in Pandas"
   ]
  },
  {
   "cell_type": "code",
   "execution_count": 2,
   "id": "suspended-strike",
   "metadata": {},
   "outputs": [
    {
     "data": {
      "text/plain": [
       "DatetimeIndex(['2019-01-01 00:00:00', '2019-01-01 01:00:00',\n",
       "               '2019-01-01 02:00:00', '2019-01-01 03:00:00',\n",
       "               '2019-01-01 04:00:00', '2019-01-01 05:00:00',\n",
       "               '2019-01-01 06:00:00', '2019-01-01 07:00:00',\n",
       "               '2019-01-01 08:00:00', '2019-01-01 09:00:00'],\n",
       "              dtype='datetime64[ns]', freq='H')"
      ]
     },
     "execution_count": 2,
     "metadata": {},
     "output_type": "execute_result"
    }
   ],
   "source": [
    "range1 = pd.date_range('1/1/2019', periods=10, freq='H') # hourly frequency\n",
    "range1"
   ]
  },
  {
   "cell_type": "code",
   "execution_count": 3,
   "id": "quick-amendment",
   "metadata": {},
   "outputs": [
    {
     "data": {
      "text/plain": [
       "pandas.core.indexes.datetimes.DatetimeIndex"
      ]
     },
     "execution_count": 3,
     "metadata": {},
     "output_type": "execute_result"
    }
   ],
   "source": [
    "type(range1)"
   ]
  },
  {
   "cell_type": "code",
   "execution_count": 4,
   "id": "impaired-cathedral",
   "metadata": {},
   "outputs": [
    {
     "data": {
      "text/plain": [
       "2019-01-01 00:00:00    0.471435\n",
       "2019-01-01 01:00:00   -1.190976\n",
       "2019-01-01 02:00:00    1.432707\n",
       "2019-01-01 03:00:00   -0.312652\n",
       "2019-01-01 04:00:00   -0.720589\n",
       "2019-01-01 05:00:00    0.887163\n",
       "2019-01-01 06:00:00    0.859588\n",
       "2019-01-01 07:00:00   -0.636524\n",
       "2019-01-01 08:00:00    0.015696\n",
       "2019-01-01 09:00:00   -2.242685\n",
       "Freq: H, dtype: float64"
      ]
     },
     "execution_count": 4,
     "metadata": {},
     "output_type": "execute_result"
    }
   ],
   "source": [
    "np.random.seed(1234)\n",
    "ts1 = pd.Series(np.random.randn(10), index=range1)\n",
    "ts1"
   ]
  },
  {
   "cell_type": "markdown",
   "id": "interstate-august",
   "metadata": {},
   "source": [
    "### Timestamp vs Periods"
   ]
  },
  {
   "cell_type": "code",
   "execution_count": 11,
   "id": "radical-cameroon",
   "metadata": {},
   "outputs": [
    {
     "data": {
      "text/plain": [
       "True"
      ]
     },
     "execution_count": 11,
     "metadata": {},
     "output_type": "execute_result"
    }
   ],
   "source": [
    "t1 = pd.Timestamp(datetime(2019, 2, 1))\n",
    "t2 = pd.Timestamp('2019-02-01')\n",
    "t3 = pd.Timestamp(2019, 2, 1)\n",
    "t1 == t2 == t3"
   ]
  },
  {
   "cell_type": "code",
   "execution_count": 14,
   "id": "surprised-sandwich",
   "metadata": {},
   "outputs": [
    {
     "data": {
      "text/plain": [
       "Timestamp('2019-02-01 00:00:00')"
      ]
     },
     "execution_count": 14,
     "metadata": {},
     "output_type": "execute_result"
    }
   ],
   "source": [
    "t1"
   ]
  },
  {
   "cell_type": "code",
   "execution_count": 12,
   "id": "ceramic-eight",
   "metadata": {},
   "outputs": [
    {
     "data": {
      "text/plain": [
       "Timestamp('2019-02-01 00:00:00')"
      ]
     },
     "execution_count": 12,
     "metadata": {},
     "output_type": "execute_result"
    }
   ],
   "source": [
    "t2"
   ]
  },
  {
   "cell_type": "code",
   "execution_count": 13,
   "id": "naughty-spotlight",
   "metadata": {},
   "outputs": [
    {
     "data": {
      "text/plain": [
       "Timestamp('2019-02-01 00:00:00')"
      ]
     },
     "execution_count": 13,
     "metadata": {},
     "output_type": "execute_result"
    }
   ],
   "source": [
    "t3"
   ]
  },
  {
   "cell_type": "code",
   "execution_count": 15,
   "id": "difficult-pearl",
   "metadata": {},
   "outputs": [
    {
     "data": {
      "text/plain": [
       "Period('2017-01', 'M')"
      ]
     },
     "execution_count": 15,
     "metadata": {},
     "output_type": "execute_result"
    }
   ],
   "source": [
    "p1 = pd.Period('2017-01') # default freq is monthly\n",
    "p1"
   ]
  },
  {
   "cell_type": "code",
   "execution_count": 16,
   "id": "pending-quest",
   "metadata": {},
   "outputs": [
    {
     "data": {
      "text/plain": [
       "Period('2017-05-01 00:00', 'H')"
      ]
     },
     "execution_count": 16,
     "metadata": {},
     "output_type": "execute_result"
    }
   ],
   "source": [
    "p2 = pd.Period('2017-05', freq='H')\n",
    "p2"
   ]
  },
  {
   "cell_type": "code",
   "execution_count": 17,
   "id": "likely-recall",
   "metadata": {},
   "outputs": [
    {
     "data": {
      "text/plain": [
       "[Timestamp('2019-05-01 00:00:00'),\n",
       " Timestamp('2019-05-02 00:00:00'),\n",
       " Timestamp('2019-05-03 00:00:00')]"
      ]
     },
     "execution_count": 17,
     "metadata": {},
     "output_type": "execute_result"
    }
   ],
   "source": [
    "dates = [pd.Timestamp('2019-05-01'),\n",
    "         pd.Timestamp('2019-05-02'),\n",
    "         pd.Timestamp('2019-05-03')]\n",
    "dates"
   ]
  },
  {
   "cell_type": "code",
   "execution_count": 18,
   "id": "collectible-receiver",
   "metadata": {},
   "outputs": [
    {
     "data": {
      "text/plain": [
       "Timestamp('1997-04-13 00:00:00')"
      ]
     },
     "execution_count": 18,
     "metadata": {},
     "output_type": "execute_result"
    }
   ],
   "source": [
    "pd.Timestamp('13-04-1997')"
   ]
  },
  {
   "cell_type": "code",
   "execution_count": 20,
   "id": "egyptian-document",
   "metadata": {},
   "outputs": [
    {
     "data": {
      "text/plain": [
       "2019-05-01    0.471435\n",
       "2019-05-02   -1.190976\n",
       "2019-05-03    1.432707\n",
       "dtype: float64"
      ]
     },
     "execution_count": 20,
     "metadata": {},
     "output_type": "execute_result"
    }
   ],
   "source": [
    "np.random.seed(1234)\n",
    "ts2 = pd.Series(np.random.randn(3), dates)\n",
    "ts2"
   ]
  },
  {
   "cell_type": "code",
   "execution_count": 22,
   "id": "foster-muscle",
   "metadata": {},
   "outputs": [
    {
     "data": {
      "text/plain": [
       "DatetimeIndex(['2019-05-01', '2019-05-02', '2019-05-03'], dtype='datetime64[ns]', freq=None)"
      ]
     },
     "execution_count": 22,
     "metadata": {},
     "output_type": "execute_result"
    }
   ],
   "source": [
    "ts2.index"
   ]
  },
  {
   "cell_type": "code",
   "execution_count": 23,
   "id": "answering-source",
   "metadata": {},
   "outputs": [
    {
     "data": {
      "text/plain": [
       "[Period('2019-01', 'M'), Period('2019-02', 'M'), Period('2019-03', 'M')]"
      ]
     },
     "execution_count": 23,
     "metadata": {},
     "output_type": "execute_result"
    }
   ],
   "source": [
    "periods1 = [pd.Period('2019-01'),\n",
    "            pd.Period('2019-02'),\n",
    "            pd.Period('2019-03')]\n",
    "periods1"
   ]
  },
  {
   "cell_type": "code",
   "execution_count": 25,
   "id": "frequent-crown",
   "metadata": {},
   "outputs": [
    {
     "data": {
      "text/plain": [
       "pandas._libs.tslibs.period.Period"
      ]
     },
     "execution_count": 25,
     "metadata": {},
     "output_type": "execute_result"
    }
   ],
   "source": [
    "type(periods1[0])"
   ]
  },
  {
   "cell_type": "code",
   "execution_count": 26,
   "id": "appropriate-presence",
   "metadata": {},
   "outputs": [
    {
     "data": {
      "text/plain": [
       "2019-01   -0.312652\n",
       "2019-02   -0.720589\n",
       "2019-03    0.887163\n",
       "Freq: M, dtype: float64"
      ]
     },
     "execution_count": 26,
     "metadata": {},
     "output_type": "execute_result"
    }
   ],
   "source": [
    "ts3 = pd.Series(np.random.randn(3), periods1)\n",
    "ts3"
   ]
  },
  {
   "cell_type": "markdown",
   "id": "figured-calculator",
   "metadata": {},
   "source": [
    "### Convert to Datetime"
   ]
  },
  {
   "cell_type": "code",
   "execution_count": 29,
   "id": "suspected-hunger",
   "metadata": {},
   "outputs": [
    {
     "data": {
      "text/plain": [
       "0   2019-07-31\n",
       "1   2010-01-10\n",
       "2          NaT\n",
       "3   2005-11-23\n",
       "4   2010-12-31\n",
       "5   1997-04-13\n",
       "dtype: datetime64[ns]"
      ]
     },
     "execution_count": 29,
     "metadata": {},
     "output_type": "execute_result"
    }
   ],
   "source": [
    "s1 = pd.to_datetime(pd.Series(['Jul 31, 2019',\n",
    "                               '2010-01-10',\n",
    "                               None,\n",
    "                               '2005/11/23',\n",
    "                               '2010.12.31',\n",
    "                               '13 April 1997']))\n",
    "s1 # NaT = Not a Time"
   ]
  },
  {
   "cell_type": "code",
   "execution_count": 34,
   "id": "motivated-mission",
   "metadata": {},
   "outputs": [
    {
     "data": {
      "text/plain": [
       "0   2019-07-31\n",
       "1   2010-01-10\n",
       "2          NaT\n",
       "3   2005-11-23\n",
       "4   2010-12-31\n",
       "5   1997-04-13\n",
       "dtype: datetime64[ns]"
      ]
     },
     "execution_count": 34,
     "metadata": {},
     "output_type": "execute_result"
    }
   ],
   "source": [
    "s2 = pd.to_datetime(pd.Series(['Jul 31, 2019',\n",
    "                               '2010-01-10',\n",
    "                               None,\n",
    "                               '2005/11/23',\n",
    "                               '2010.12.31',\n",
    "                               '13 April 1997']),\n",
    "                    dayfirst=True)\n",
    "s2"
   ]
  },
  {
   "cell_type": "code",
   "execution_count": 35,
   "id": "accomplished-murder",
   "metadata": {},
   "outputs": [
    {
     "data": {
      "text/plain": [
       "[datetime.datetime(2019, 5, 1, 0, 0),\n",
       " datetime.datetime(2019, 5, 2, 0, 0),\n",
       " datetime.datetime(2019, 5, 3, 0, 0)]"
      ]
     },
     "execution_count": 35,
     "metadata": {},
     "output_type": "execute_result"
    }
   ],
   "source": [
    "d1 = [datetime(2019, 5, 1),\n",
    "      datetime(2019, 5, 2),\n",
    "      datetime(2019, 5, 3)]\n",
    "d1"
   ]
  },
  {
   "cell_type": "code",
   "execution_count": 36,
   "id": "expanded-ticket",
   "metadata": {},
   "outputs": [
    {
     "data": {
      "text/plain": [
       "DatetimeIndex(['2019-05-01', '2019-05-02', '2019-05-03'], dtype='datetime64[ns]', freq=None)"
      ]
     },
     "execution_count": 36,
     "metadata": {},
     "output_type": "execute_result"
    }
   ],
   "source": [
    "index = pd.DatetimeIndex(d1)\n",
    "index"
   ]
  },
  {
   "cell_type": "markdown",
   "id": "needed-favor",
   "metadata": {},
   "source": [
    "### Defining Indices"
   ]
  },
  {
   "cell_type": "code",
   "execution_count": 45,
   "id": "professional-valve",
   "metadata": {},
   "outputs": [
    {
     "data": {
      "text/plain": [
       "DatetimeIndex(['2019-01-01', '2019-01-02', '2019-01-03', '2019-01-04',\n",
       "               '2019-01-05', '2019-01-06', '2019-01-07', '2019-01-08',\n",
       "               '2019-01-09', '2019-01-10',\n",
       "               ...\n",
       "               '2019-12-22', '2019-12-23', '2019-12-24', '2019-12-25',\n",
       "               '2019-12-26', '2019-12-27', '2019-12-28', '2019-12-29',\n",
       "               '2019-12-30', '2019-12-31'],\n",
       "              dtype='datetime64[ns]', length=365, freq='D')"
      ]
     },
     "execution_count": 45,
     "metadata": {},
     "output_type": "execute_result"
    }
   ],
   "source": [
    "start = datetime(2019, 1, 1)\n",
    "end = datetime(2019, 12, 31)\n",
    "index1 = pd.date_range(start, end)\n",
    "index1"
   ]
  },
  {
   "cell_type": "code",
   "execution_count": 46,
   "id": "incredible-citizen",
   "metadata": {},
   "outputs": [
    {
     "data": {
      "text/plain": [
       "365"
      ]
     },
     "execution_count": 46,
     "metadata": {},
     "output_type": "execute_result"
    }
   ],
   "source": [
    "len(index1)"
   ]
  },
  {
   "cell_type": "code",
   "execution_count": 47,
   "id": "vertical-thunder",
   "metadata": {},
   "outputs": [
    {
     "data": {
      "text/plain": [
       "DatetimeIndex(['2019-01-01', '2019-01-02', '2019-01-03', '2019-01-04',\n",
       "               '2019-01-07', '2019-01-08', '2019-01-09', '2019-01-10',\n",
       "               '2019-01-11', '2019-01-14',\n",
       "               ...\n",
       "               '2019-12-18', '2019-12-19', '2019-12-20', '2019-12-23',\n",
       "               '2019-12-24', '2019-12-25', '2019-12-26', '2019-12-27',\n",
       "               '2019-12-30', '2019-12-31'],\n",
       "              dtype='datetime64[ns]', length=261, freq='B')"
      ]
     },
     "execution_count": 47,
     "metadata": {},
     "output_type": "execute_result"
    }
   ],
   "source": [
    "index2 = pd.bdate_range(start, end) # b stands for business (business days = Mon-Fri )\n",
    "index2 # freq = 'B' - business days"
   ]
  },
  {
   "cell_type": "code",
   "execution_count": 48,
   "id": "intelligent-toronto",
   "metadata": {},
   "outputs": [
    {
     "data": {
      "text/plain": [
       "261"
      ]
     },
     "execution_count": 48,
     "metadata": {},
     "output_type": "execute_result"
    }
   ],
   "source": [
    "len(index2)"
   ]
  },
  {
   "cell_type": "code",
   "execution_count": 61,
   "id": "recognized-content",
   "metadata": {},
   "outputs": [
    {
     "data": {
      "text/plain": [
       "DatetimeIndex(['2019-01-31', '2019-02-28', '2019-03-31', '2019-04-30',\n",
       "               '2019-05-31', '2019-06-30', '2019-07-31', '2019-08-31',\n",
       "               '2019-09-30', '2019-10-31',\n",
       "               ...\n",
       "               '2102-03-31', '2102-04-30', '2102-05-31', '2102-06-30',\n",
       "               '2102-07-31', '2102-08-31', '2102-09-30', '2102-10-31',\n",
       "               '2102-11-30', '2102-12-31'],\n",
       "              dtype='datetime64[ns]', length=1008, freq='M')"
      ]
     },
     "execution_count": 61,
     "metadata": {},
     "output_type": "execute_result"
    }
   ],
   "source": [
    "index3 = pd.date_range(start, periods=1008, freq='M') # 1008 / 12 = 84 godini\n",
    "index3"
   ]
  },
  {
   "cell_type": "code",
   "execution_count": 66,
   "id": "motivated-personal",
   "metadata": {},
   "outputs": [
    {
     "name": "stdout",
     "output_type": "stream",
     "text": [
      "Prestapna godina na sekoi 4 godini.\n"
     ]
    }
   ],
   "source": [
    "count = 0\n",
    "for date_element in index3:\n",
    "    if (date_element.day == 29):\n",
    "        count += 1\n",
    "print(f'Prestapna godina na sekoi {int((1008/12)/count)} godini.')"
   ]
  },
  {
   "cell_type": "markdown",
   "id": "packed-think",
   "metadata": {},
   "source": [
    "### Timestamp limitations"
   ]
  },
  {
   "cell_type": "code",
   "execution_count": 67,
   "id": "pending-child",
   "metadata": {},
   "outputs": [
    {
     "name": "stdout",
     "output_type": "stream",
     "text": [
      "1677-09-21 00:12:43.145225\n",
      "2262-04-11 23:47:16.854775807\n"
     ]
    }
   ],
   "source": [
    "# dtype='datetime64[ns]\n",
    "print(pd.Timestamp.min)\n",
    "print(pd.Timestamp.max)"
   ]
  },
  {
   "cell_type": "markdown",
   "id": "accurate-veteran",
   "metadata": {},
   "source": [
    "### String and Datetime"
   ]
  },
  {
   "cell_type": "code",
   "execution_count": 68,
   "id": "streaming-stand",
   "metadata": {},
   "outputs": [
    {
     "data": {
      "text/plain": [
       "datetime.datetime(2019, 1, 3, 0, 0)"
      ]
     },
     "execution_count": 68,
     "metadata": {},
     "output_type": "execute_result"
    }
   ],
   "source": [
    "tstamp1 = datetime(2019, 1, 3)\n",
    "tstamp1"
   ]
  },
  {
   "cell_type": "code",
   "execution_count": 69,
   "id": "honest-delay",
   "metadata": {},
   "outputs": [
    {
     "data": {
      "text/plain": [
       "'2019-01-03 00:00:00'"
      ]
     },
     "execution_count": 69,
     "metadata": {},
     "output_type": "execute_result"
    }
   ],
   "source": [
    "str(tstamp1)"
   ]
  },
  {
   "cell_type": "code",
   "execution_count": 70,
   "id": "specific-memorial",
   "metadata": {},
   "outputs": [
    {
     "data": {
      "text/plain": [
       "'2019-01-03'"
      ]
     },
     "execution_count": 70,
     "metadata": {},
     "output_type": "execute_result"
    }
   ],
   "source": [
    "tstamp1.strftime('%Y-%m-%d')"
   ]
  },
  {
   "cell_type": "code",
   "execution_count": 77,
   "id": "informational-prototype",
   "metadata": {},
   "outputs": [
    {
     "data": {
      "text/plain": [
       "'03.01.2019'"
      ]
     },
     "execution_count": 77,
     "metadata": {},
     "output_type": "execute_result"
    }
   ],
   "source": [
    "tstamp1.strftime('%d.%m.%Y')"
   ]
  },
  {
   "cell_type": "markdown",
   "id": "naval-stand",
   "metadata": {},
   "source": [
    "## Shifting and Timezones"
   ]
  },
  {
   "cell_type": "code",
   "execution_count": 81,
   "id": "dimensional-prince",
   "metadata": {},
   "outputs": [
    {
     "data": {
      "text/plain": [
       "2019-01-31    0.471435\n",
       "2019-02-28   -1.190976\n",
       "2019-03-31    1.432707\n",
       "2019-04-30   -0.312652\n",
       "2019-05-31   -0.720589\n",
       "2019-06-30    0.887163\n",
       "2019-07-31    0.859588\n",
       "2019-08-31   -0.636524\n",
       "2019-09-30    0.015696\n",
       "2019-10-31   -2.242685\n",
       "2019-11-30    1.150036\n",
       "2019-12-31    0.991946\n",
       "Freq: M, dtype: float64"
      ]
     },
     "execution_count": 81,
     "metadata": {},
     "output_type": "execute_result"
    }
   ],
   "source": [
    "np.random.seed(1234)\n",
    "ts1 = pd.Series(np.random.randn(12),\n",
    "                index = pd.date_range('1/1/2019', periods = 12, freq='M'))\n",
    "ts1"
   ]
  },
  {
   "cell_type": "code",
   "execution_count": 84,
   "id": "identical-factor",
   "metadata": {},
   "outputs": [
    {
     "data": {
      "text/plain": [
       "2019-01-31         NaN\n",
       "2019-02-28         NaN\n",
       "2019-03-31    0.471435\n",
       "2019-04-30   -1.190976\n",
       "2019-05-31    1.432707\n",
       "2019-06-30   -0.312652\n",
       "2019-07-31   -0.720589\n",
       "2019-08-31    0.887163\n",
       "2019-09-30    0.859588\n",
       "2019-10-31   -0.636524\n",
       "2019-11-30    0.015696\n",
       "2019-12-31   -2.242685\n",
       "Freq: M, dtype: float64"
      ]
     },
     "execution_count": 84,
     "metadata": {},
     "output_type": "execute_result"
    }
   ],
   "source": [
    "ts1.shift(2) # shifts only the values"
   ]
  },
  {
   "cell_type": "code",
   "execution_count": 86,
   "id": "systematic-reynolds",
   "metadata": {},
   "outputs": [
    {
     "data": {
      "text/plain": [
       "2019-01-31    1.432707\n",
       "2019-02-28   -0.312652\n",
       "2019-03-31   -0.720589\n",
       "2019-04-30    0.887163\n",
       "2019-05-31    0.859588\n",
       "2019-06-30   -0.636524\n",
       "2019-07-31    0.015696\n",
       "2019-08-31   -2.242685\n",
       "2019-09-30    1.150036\n",
       "2019-10-31    0.991946\n",
       "2019-11-30         NaN\n",
       "2019-12-31         NaN\n",
       "Freq: M, dtype: float64"
      ]
     },
     "execution_count": 86,
     "metadata": {},
     "output_type": "execute_result"
    }
   ],
   "source": [
    "ts1.shift(-2)"
   ]
  },
  {
   "cell_type": "code",
   "execution_count": 87,
   "id": "federal-aurora",
   "metadata": {},
   "outputs": [
    {
     "data": {
      "text/plain": [
       "2019-03-31    0.471435\n",
       "2019-04-30   -1.190976\n",
       "2019-05-31    1.432707\n",
       "2019-06-30   -0.312652\n",
       "2019-07-31   -0.720589\n",
       "2019-08-31    0.887163\n",
       "2019-09-30    0.859588\n",
       "2019-10-31   -0.636524\n",
       "2019-11-30    0.015696\n",
       "2019-12-31   -2.242685\n",
       "2020-01-31    1.150036\n",
       "2020-02-29    0.991946\n",
       "Freq: M, dtype: float64"
      ]
     },
     "execution_count": 87,
     "metadata": {},
     "output_type": "execute_result"
    }
   ],
   "source": [
    "ts1.shift(2, freq='M') # shifts each row index for 2 months"
   ]
  },
  {
   "cell_type": "code",
   "execution_count": 88,
   "id": "explicit-snowboard",
   "metadata": {},
   "outputs": [
    {
     "data": {
      "text/plain": [
       "2019-02-02    0.471435\n",
       "2019-03-02   -1.190976\n",
       "2019-04-02    1.432707\n",
       "2019-05-02   -0.312652\n",
       "2019-06-02   -0.720589\n",
       "2019-07-02    0.887163\n",
       "2019-08-02    0.859588\n",
       "2019-09-02   -0.636524\n",
       "2019-10-02    0.015696\n",
       "2019-11-02   -2.242685\n",
       "2019-12-02    1.150036\n",
       "2020-01-02    0.991946\n",
       "dtype: float64"
      ]
     },
     "execution_count": 88,
     "metadata": {},
     "output_type": "execute_result"
    }
   ],
   "source": [
    "ts1.shift(2, freq='D') # shifts each row index for 2 days"
   ]
  },
  {
   "cell_type": "code",
   "execution_count": 89,
   "id": "collect-green",
   "metadata": {},
   "outputs": [],
   "source": [
    " ### Timezones"
   ]
  },
  {
   "cell_type": "code",
   "execution_count": 91,
   "id": "thousand-handy",
   "metadata": {},
   "outputs": [
    {
     "data": {
      "text/plain": [
       "['Africa/Abidjan', 'Africa/Accra', 'Africa/Addis_Ababa', 'Africa/Algiers', 'Africa/Asmara', 'Africa/Bamako', 'Africa/Bangui', 'Africa/Banjul', 'Africa/Bissau', 'Africa/Blantyre', 'Africa/Brazzaville', 'Africa/Bujumbura', 'Africa/Cairo', 'Africa/Casablanca', 'Africa/Ceuta', 'Africa/Conakry', 'Africa/Dakar', 'Africa/Dar_es_Salaam', 'Africa/Djibouti', 'Africa/Douala', 'Africa/El_Aaiun', 'Africa/Freetown', 'Africa/Gaborone', 'Africa/Harare', 'Africa/Johannesburg', 'Africa/Juba', 'Africa/Kampala', 'Africa/Khartoum', 'Africa/Kigali', 'Africa/Kinshasa', 'Africa/Lagos', 'Africa/Libreville', 'Africa/Lome', 'Africa/Luanda', 'Africa/Lubumbashi', 'Africa/Lusaka', 'Africa/Malabo', 'Africa/Maputo', 'Africa/Maseru', 'Africa/Mbabane', 'Africa/Mogadishu', 'Africa/Monrovia', 'Africa/Nairobi', 'Africa/Ndjamena', 'Africa/Niamey', 'Africa/Nouakchott', 'Africa/Ouagadougou', 'Africa/Porto-Novo', 'Africa/Sao_Tome', 'Africa/Tripoli', 'Africa/Tunis', 'Africa/Windhoek', 'America/Adak', 'America/Anchorage', 'America/Anguilla', 'America/Antigua', 'America/Araguaina', 'America/Argentina/Buenos_Aires', 'America/Argentina/Catamarca', 'America/Argentina/Cordoba', 'America/Argentina/Jujuy', 'America/Argentina/La_Rioja', 'America/Argentina/Mendoza', 'America/Argentina/Rio_Gallegos', 'America/Argentina/Salta', 'America/Argentina/San_Juan', 'America/Argentina/San_Luis', 'America/Argentina/Tucuman', 'America/Argentina/Ushuaia', 'America/Aruba', 'America/Asuncion', 'America/Atikokan', 'America/Bahia', 'America/Bahia_Banderas', 'America/Barbados', 'America/Belem', 'America/Belize', 'America/Blanc-Sablon', 'America/Boa_Vista', 'America/Bogota', 'America/Boise', 'America/Cambridge_Bay', 'America/Campo_Grande', 'America/Cancun', 'America/Caracas', 'America/Cayenne', 'America/Cayman', 'America/Chicago', 'America/Chihuahua', 'America/Costa_Rica', 'America/Creston', 'America/Cuiaba', 'America/Curacao', 'America/Danmarkshavn', 'America/Dawson', 'America/Dawson_Creek', 'America/Denver', 'America/Detroit', 'America/Dominica', 'America/Edmonton', 'America/Eirunepe', 'America/El_Salvador', 'America/Fort_Nelson', 'America/Fortaleza', 'America/Glace_Bay', 'America/Goose_Bay', 'America/Grand_Turk', 'America/Grenada', 'America/Guadeloupe', 'America/Guatemala', 'America/Guayaquil', 'America/Guyana', 'America/Halifax', 'America/Havana', 'America/Hermosillo', 'America/Indiana/Indianapolis', 'America/Indiana/Knox', 'America/Indiana/Marengo', 'America/Indiana/Petersburg', 'America/Indiana/Tell_City', 'America/Indiana/Vevay', 'America/Indiana/Vincennes', 'America/Indiana/Winamac', 'America/Inuvik', 'America/Iqaluit', 'America/Jamaica', 'America/Juneau', 'America/Kentucky/Louisville', 'America/Kentucky/Monticello', 'America/Kralendijk', 'America/La_Paz', 'America/Lima', 'America/Los_Angeles', 'America/Lower_Princes', 'America/Maceio', 'America/Managua', 'America/Manaus', 'America/Marigot', 'America/Martinique', 'America/Matamoros', 'America/Mazatlan', 'America/Menominee', 'America/Merida', 'America/Metlakatla', 'America/Mexico_City', 'America/Miquelon', 'America/Moncton', 'America/Monterrey', 'America/Montevideo', 'America/Montserrat', 'America/Nassau', 'America/New_York', 'America/Nipigon', 'America/Nome', 'America/Noronha', 'America/North_Dakota/Beulah', 'America/North_Dakota/Center', 'America/North_Dakota/New_Salem', 'America/Nuuk', 'America/Ojinaga', 'America/Panama', 'America/Pangnirtung', 'America/Paramaribo', 'America/Phoenix', 'America/Port-au-Prince', 'America/Port_of_Spain', 'America/Porto_Velho', 'America/Puerto_Rico', 'America/Punta_Arenas', 'America/Rainy_River', 'America/Rankin_Inlet', 'America/Recife', 'America/Regina', 'America/Resolute', 'America/Rio_Branco', 'America/Santarem', 'America/Santiago', 'America/Santo_Domingo', 'America/Sao_Paulo', 'America/Scoresbysund', 'America/Sitka', 'America/St_Barthelemy', 'America/St_Johns', 'America/St_Kitts', 'America/St_Lucia', 'America/St_Thomas', 'America/St_Vincent', 'America/Swift_Current', 'America/Tegucigalpa', 'America/Thule', 'America/Thunder_Bay', 'America/Tijuana', 'America/Toronto', 'America/Tortola', 'America/Vancouver', 'America/Whitehorse', 'America/Winnipeg', 'America/Yakutat', 'America/Yellowknife', 'Antarctica/Casey', 'Antarctica/Davis', 'Antarctica/DumontDUrville', 'Antarctica/Macquarie', 'Antarctica/Mawson', 'Antarctica/McMurdo', 'Antarctica/Palmer', 'Antarctica/Rothera', 'Antarctica/Syowa', 'Antarctica/Troll', 'Antarctica/Vostok', 'Arctic/Longyearbyen', 'Asia/Aden', 'Asia/Almaty', 'Asia/Amman', 'Asia/Anadyr', 'Asia/Aqtau', 'Asia/Aqtobe', 'Asia/Ashgabat', 'Asia/Atyrau', 'Asia/Baghdad', 'Asia/Bahrain', 'Asia/Baku', 'Asia/Bangkok', 'Asia/Barnaul', 'Asia/Beirut', 'Asia/Bishkek', 'Asia/Brunei', 'Asia/Chita', 'Asia/Choibalsan', 'Asia/Colombo', 'Asia/Damascus', 'Asia/Dhaka', 'Asia/Dili', 'Asia/Dubai', 'Asia/Dushanbe', 'Asia/Famagusta', 'Asia/Gaza', 'Asia/Hebron', 'Asia/Ho_Chi_Minh', 'Asia/Hong_Kong', 'Asia/Hovd', 'Asia/Irkutsk', 'Asia/Jakarta', 'Asia/Jayapura', 'Asia/Jerusalem', 'Asia/Kabul', 'Asia/Kamchatka', 'Asia/Karachi', 'Asia/Kathmandu', 'Asia/Khandyga', 'Asia/Kolkata', 'Asia/Krasnoyarsk', 'Asia/Kuala_Lumpur', 'Asia/Kuching', 'Asia/Kuwait', 'Asia/Macau', 'Asia/Magadan', 'Asia/Makassar', 'Asia/Manila', 'Asia/Muscat', 'Asia/Nicosia', 'Asia/Novokuznetsk', 'Asia/Novosibirsk', 'Asia/Omsk', 'Asia/Oral', 'Asia/Phnom_Penh', 'Asia/Pontianak', 'Asia/Pyongyang', 'Asia/Qatar', 'Asia/Qostanay', 'Asia/Qyzylorda', 'Asia/Riyadh', 'Asia/Sakhalin', 'Asia/Samarkand', 'Asia/Seoul', 'Asia/Shanghai', 'Asia/Singapore', 'Asia/Srednekolymsk', 'Asia/Taipei', 'Asia/Tashkent', 'Asia/Tbilisi', 'Asia/Tehran', 'Asia/Thimphu', 'Asia/Tokyo', 'Asia/Tomsk', 'Asia/Ulaanbaatar', 'Asia/Urumqi', 'Asia/Ust-Nera', 'Asia/Vientiane', 'Asia/Vladivostok', 'Asia/Yakutsk', 'Asia/Yangon', 'Asia/Yekaterinburg', 'Asia/Yerevan', 'Atlantic/Azores', 'Atlantic/Bermuda', 'Atlantic/Canary', 'Atlantic/Cape_Verde', 'Atlantic/Faroe', 'Atlantic/Madeira', 'Atlantic/Reykjavik', 'Atlantic/South_Georgia', 'Atlantic/St_Helena', 'Atlantic/Stanley', 'Australia/Adelaide', 'Australia/Brisbane', 'Australia/Broken_Hill', 'Australia/Darwin', 'Australia/Eucla', 'Australia/Hobart', 'Australia/Lindeman', 'Australia/Lord_Howe', 'Australia/Melbourne', 'Australia/Perth', 'Australia/Sydney', 'Canada/Atlantic', 'Canada/Central', 'Canada/Eastern', 'Canada/Mountain', 'Canada/Newfoundland', 'Canada/Pacific', 'Europe/Amsterdam', 'Europe/Andorra', 'Europe/Astrakhan', 'Europe/Athens', 'Europe/Belgrade', 'Europe/Berlin', 'Europe/Bratislava', 'Europe/Brussels', 'Europe/Bucharest', 'Europe/Budapest', 'Europe/Busingen', 'Europe/Chisinau', 'Europe/Copenhagen', 'Europe/Dublin', 'Europe/Gibraltar', 'Europe/Guernsey', 'Europe/Helsinki', 'Europe/Isle_of_Man', 'Europe/Istanbul', 'Europe/Jersey', 'Europe/Kaliningrad', 'Europe/Kiev', 'Europe/Kirov', 'Europe/Lisbon', 'Europe/Ljubljana', 'Europe/London', 'Europe/Luxembourg', 'Europe/Madrid', 'Europe/Malta', 'Europe/Mariehamn', 'Europe/Minsk', 'Europe/Monaco', 'Europe/Moscow', 'Europe/Oslo', 'Europe/Paris', 'Europe/Podgorica', 'Europe/Prague', 'Europe/Riga', 'Europe/Rome', 'Europe/Samara', 'Europe/San_Marino', 'Europe/Sarajevo', 'Europe/Saratov', 'Europe/Simferopol', 'Europe/Skopje', 'Europe/Sofia', 'Europe/Stockholm', 'Europe/Tallinn', 'Europe/Tirane', 'Europe/Ulyanovsk', 'Europe/Uzhgorod', 'Europe/Vaduz', 'Europe/Vatican', 'Europe/Vienna', 'Europe/Vilnius', 'Europe/Volgograd', 'Europe/Warsaw', 'Europe/Zagreb', 'Europe/Zaporozhye', 'Europe/Zurich', 'GMT', 'Indian/Antananarivo', 'Indian/Chagos', 'Indian/Christmas', 'Indian/Cocos', 'Indian/Comoro', 'Indian/Kerguelen', 'Indian/Mahe', 'Indian/Maldives', 'Indian/Mauritius', 'Indian/Mayotte', 'Indian/Reunion', 'Pacific/Apia', 'Pacific/Auckland', 'Pacific/Bougainville', 'Pacific/Chatham', 'Pacific/Chuuk', 'Pacific/Easter', 'Pacific/Efate', 'Pacific/Enderbury', 'Pacific/Fakaofo', 'Pacific/Fiji', 'Pacific/Funafuti', 'Pacific/Galapagos', 'Pacific/Gambier', 'Pacific/Guadalcanal', 'Pacific/Guam', 'Pacific/Honolulu', 'Pacific/Kiritimati', 'Pacific/Kosrae', 'Pacific/Kwajalein', 'Pacific/Majuro', 'Pacific/Marquesas', 'Pacific/Midway', 'Pacific/Nauru', 'Pacific/Niue', 'Pacific/Norfolk', 'Pacific/Noumea', 'Pacific/Pago_Pago', 'Pacific/Palau', 'Pacific/Pitcairn', 'Pacific/Pohnpei', 'Pacific/Port_Moresby', 'Pacific/Rarotonga', 'Pacific/Saipan', 'Pacific/Tahiti', 'Pacific/Tarawa', 'Pacific/Tongatapu', 'Pacific/Wake', 'Pacific/Wallis', 'US/Alaska', 'US/Arizona', 'US/Central', 'US/Eastern', 'US/Hawaii', 'US/Mountain', 'US/Pacific', 'UTC']"
      ]
     },
     "execution_count": 91,
     "metadata": {},
     "output_type": "execute_result"
    }
   ],
   "source": [
    "pytz.common_timezones"
   ]
  },
  {
   "cell_type": "code",
   "execution_count": 104,
   "id": "stopped-absorption",
   "metadata": {},
   "outputs": [
    {
     "data": {
      "text/plain": [
       "<UTC>"
      ]
     },
     "execution_count": 104,
     "metadata": {},
     "output_type": "execute_result"
    }
   ],
   "source": [
    "tz = pytz.timezone('UTC')\n",
    "tz"
   ]
  },
  {
   "cell_type": "code",
   "execution_count": 103,
   "id": "fifth-washington",
   "metadata": {},
   "outputs": [
    {
     "name": "stdout",
     "output_type": "stream",
     "text": [
      "Time zone for Macedonia is: Europe/Skopje.\n"
     ]
    }
   ],
   "source": [
    "for tzone in pytz.common_timezones:\n",
    "    if 'Skopje' in tzone: \n",
    "        break\n",
    "print(f'Time zone for Macedonia is: {tzone}.')"
   ]
  },
  {
   "cell_type": "markdown",
   "id": "employed-civilian",
   "metadata": {},
   "source": [
    "### Timezone localization and conversion"
   ]
  },
  {
   "cell_type": "code",
   "execution_count": 105,
   "id": "challenging-testimony",
   "metadata": {},
   "outputs": [
    {
     "data": {
      "text/plain": [
       "2019-03-09 09:30:00    0.191519\n",
       "2019-03-10 09:30:00    0.622109\n",
       "2019-03-11 09:30:00    0.437728\n",
       "2019-03-12 09:30:00    0.785359\n",
       "2019-03-13 09:30:00    0.779976\n",
       "2019-03-14 09:30:00    0.272593\n",
       "Freq: D, dtype: float64"
      ]
     },
     "execution_count": 105,
     "metadata": {},
     "output_type": "execute_result"
    }
   ],
   "source": [
    "rng = pd.date_range('3/9/2019 9:30',\n",
    "                    periods=6,\n",
    "                    freq='D')\n",
    "np.random.seed(1234)\n",
    "ts1 = pd.Series(np.random.rand(len(rng)), index=rng)\n",
    "ts1"
   ]
  },
  {
   "cell_type": "code",
   "execution_count": 106,
   "id": "typical-assessment",
   "metadata": {},
   "outputs": [
    {
     "data": {
      "text/plain": [
       "DatetimeIndex(['2019-03-09 09:30:00', '2019-03-10 09:30:00',\n",
       "               '2019-03-11 09:30:00', '2019-03-12 09:30:00',\n",
       "               '2019-03-13 09:30:00', '2019-03-14 09:30:00'],\n",
       "              dtype='datetime64[ns]', freq='D')"
      ]
     },
     "execution_count": 106,
     "metadata": {},
     "output_type": "execute_result"
    }
   ],
   "source": [
    "ts1.index"
   ]
  },
  {
   "cell_type": "code",
   "execution_count": 107,
   "id": "assumed-masters",
   "metadata": {},
   "outputs": [
    {
     "name": "stdout",
     "output_type": "stream",
     "text": [
      "None\n"
     ]
    }
   ],
   "source": [
    "print(ts1.index.tz)"
   ]
  },
  {
   "cell_type": "code",
   "execution_count": 108,
   "id": "velvet-transition",
   "metadata": {},
   "outputs": [
    {
     "data": {
      "text/plain": [
       "2019-03-09 09:30:00+00:00    0.191519\n",
       "2019-03-10 09:30:00+00:00    0.622109\n",
       "2019-03-11 09:30:00+00:00    0.437728\n",
       "2019-03-12 09:30:00+00:00    0.785359\n",
       "2019-03-13 09:30:00+00:00    0.779976\n",
       "2019-03-14 09:30:00+00:00    0.272593\n",
       "Freq: D, dtype: float64"
      ]
     },
     "execution_count": 108,
     "metadata": {},
     "output_type": "execute_result"
    }
   ],
   "source": [
    "# Naive to localization\n",
    "ts_utc = ts1.tz_localize('UTC')\n",
    "ts_utc"
   ]
  },
  {
   "cell_type": "code",
   "execution_count": 111,
   "id": "cutting-drain",
   "metadata": {},
   "outputs": [
    {
     "data": {
      "text/plain": [
       "2019-03-09 09:30:00+00:00    0.191519\n",
       "2019-03-10 09:30:00+00:00    0.622109\n",
       "2019-03-11 09:30:00+00:00    0.437728\n",
       "2019-03-12 09:30:00+00:00    0.785359\n",
       "2019-03-13 09:30:00+00:00    0.779976\n",
       "2019-03-14 09:30:00+00:00    0.272593\n",
       "Freq: D, dtype: float64"
      ]
     },
     "execution_count": 111,
     "metadata": {},
     "output_type": "execute_result"
    }
   ],
   "source": [
    "ts_utc"
   ]
  },
  {
   "cell_type": "code",
   "execution_count": 112,
   "id": "healthy-influence",
   "metadata": {},
   "outputs": [
    {
     "name": "stdout",
     "output_type": "stream",
     "text": [
      "UTC\n"
     ]
    }
   ],
   "source": [
    "print(ts_utc.index.tz)"
   ]
  },
  {
   "cell_type": "code",
   "execution_count": 115,
   "id": "presidential-qatar",
   "metadata": {},
   "outputs": [
    {
     "data": {
      "text/plain": [
       "2019-03-09 04:30:00-05:00    0.191519\n",
       "2019-03-10 05:30:00-04:00    0.622109\n",
       "2019-03-11 05:30:00-04:00    0.437728\n",
       "2019-03-12 05:30:00-04:00    0.785359\n",
       "2019-03-13 05:30:00-04:00    0.779976\n",
       "2019-03-14 05:30:00-04:00    0.272593\n",
       "Freq: D, dtype: float64"
      ]
     },
     "execution_count": 115,
     "metadata": {},
     "output_type": "execute_result"
    }
   ],
   "source": [
    "ts_ny = ts_utc.tz_convert('America/New_York')\n",
    "ts_ny"
   ]
  },
  {
   "cell_type": "code",
   "execution_count": 116,
   "id": "corporate-saturday",
   "metadata": {},
   "outputs": [
    {
     "name": "stdout",
     "output_type": "stream",
     "text": [
      "America/New_York\n"
     ]
    }
   ],
   "source": [
    "print(ts_ny.index.tz)"
   ]
  },
  {
   "cell_type": "code",
   "execution_count": null,
   "id": "seven-ensemble",
   "metadata": {},
   "outputs": [],
   "source": []
  }
 ],
 "metadata": {
  "kernelspec": {
   "display_name": "Python 3",
   "language": "python",
   "name": "python3"
  },
  "language_info": {
   "codemirror_mode": {
    "name": "ipython",
    "version": 3
   },
   "file_extension": ".py",
   "mimetype": "text/x-python",
   "name": "python",
   "nbconvert_exporter": "python",
   "pygments_lexer": "ipython3",
   "version": "3.9.2"
  }
 },
 "nbformat": 4,
 "nbformat_minor": 5
}
