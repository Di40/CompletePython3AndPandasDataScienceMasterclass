{
 "cells": [
  {
   "cell_type": "markdown",
   "id": "political-investment",
   "metadata": {},
   "source": [
    "# K-Means Clustering"
   ]
  },
  {
   "cell_type": "code",
   "execution_count": 2,
   "id": "expensive-morocco",
   "metadata": {},
   "outputs": [],
   "source": [
    "# Imports\n",
    "%matplotlib inline\n",
    "import numpy as np\n",
    "from scipy.cluster.vq import kmeans\n",
    "import matplotlib.pyplot as plt"
   ]
  },
  {
   "cell_type": "code",
   "execution_count": 7,
   "id": "characteristic-serum",
   "metadata": {},
   "outputs": [],
   "source": [
    "np.random.seed(1234)\n",
    "data = np.random.rand(100, 2)"
   ]
  },
  {
   "cell_type": "code",
   "execution_count": 12,
   "id": "sporting-major",
   "metadata": {},
   "outputs": [
    {
     "data": {
      "text/plain": [
       "array([[0.83021746, 0.75607087],\n",
       "       [0.32111693, 0.1097752 ],\n",
       "       [0.36055738, 0.8719048 ],\n",
       "       [0.71344699, 0.28558534],\n",
       "       [0.22501186, 0.56462471]])"
      ]
     },
     "execution_count": 12,
     "metadata": {},
     "output_type": "execute_result"
    }
   ],
   "source": [
    "centroid, _ = kmeans(data, 5) # Divide data into 5 clusters - This returns 5 centroids\n",
    "# centroid = center point\n",
    "centroid"
   ]
  },
  {
   "cell_type": "code",
   "execution_count": 15,
   "id": "fitting-native",
   "metadata": {},
   "outputs": [
    {
     "data": {
      "image/png": "[encoded data removed]",
      "text/plain": [
       "<Figure size 432x288 with 1 Axes>"
      ]
     },
     "metadata": {
      "needs_background": "light"
     },
     "output_type": "display_data"
    }
   ],
   "source": [
    "plt.figure()\n",
    "plt.scatter(data[:, 0], data[:, 1]) # x and y\n",
    "plt.scatter(centroid[:, 0], centroid[:, 1], c='r')\n",
    "plt.show()"
   ]
  },
  {
   "cell_type": "code",
   "execution_count": null,
   "id": "experimental-essence",
   "metadata": {},
   "outputs": [],
   "source": []
  }
 ],
 "metadata": {
  "kernelspec": {
   "display_name": "Python 3",
   "language": "python",
   "name": "python3"
  },
  "language_info": {
   "codemirror_mode": {
    "name": "ipython",
    "version": 3
   },
   "file_extension": ".py",
   "mimetype": "text/x-python",
   "name": "python",
   "nbconvert_exporter": "python",
   "pygments_lexer": "ipython3",
   "version": "3.9.2"
  }
 },
 "nbformat": 4,
 "nbformat_minor": 5
}
