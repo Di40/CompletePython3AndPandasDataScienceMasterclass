{
 "cells": [
  {
   "cell_type": "markdown",
   "id": "graphic-publication",
   "metadata": {},
   "source": [
    "# NumPy Exercises"
   ]
  },
  {
   "cell_type": "markdown",
   "id": "essential-aquarium",
   "metadata": {},
   "source": [
    "## Indexing and slicing of arrays"
   ]
  },
  {
   "cell_type": "code",
   "execution_count": 1,
   "id": "french-cowboy",
   "metadata": {},
   "outputs": [],
   "source": [
    "# Imports\n",
    "import numpy as np\n",
    "import matplotlib.pyplot as plt\n",
    "%matplotlib inline"
   ]
  },
  {
   "cell_type": "code",
   "execution_count": 73,
   "id": "polish-french",
   "metadata": {},
   "outputs": [
    {
     "name": "stdout",
     "output_type": "stream",
     "text": [
      "<class 'numpy.ndarray'>\n",
      "(3,)\n",
      "3\n"
     ]
    }
   ],
   "source": [
    "x1 = np.array([1,2,3])\n",
    "\n",
    "print(type(x1))\n",
    "print(x1.shape)\n",
    "print(x1[-1]) # prints last element"
   ]
  },
  {
   "cell_type": "code",
   "execution_count": 74,
   "id": "incredible-conversion",
   "metadata": {},
   "outputs": [
    {
     "name": "stdout",
     "output_type": "stream",
     "text": [
      "<class 'numpy.ndarray'>\n",
      "(2, 3)\n",
      "1\n"
     ]
    }
   ],
   "source": [
    "x2 = np.array([[1,2,3],\n",
    "              [4,5,6]],\n",
    "              np.int16)\n",
    "\n",
    "print(type(x))\n",
    "print(x2.shape)\n",
    "print(x2[0,0])"
   ]
  },
  {
   "cell_type": "code",
   "execution_count": 65,
   "id": "centered-mortgage",
   "metadata": {},
   "outputs": [
    {
     "name": "stdout",
     "output_type": "stream",
     "text": [
      "\n",
      "*\n",
      "**\n",
      "***\n",
      "****\n",
      "*****\n",
      "******\n",
      "*******\n",
      "********\n",
      "*********\n",
      "**********\n",
      "*********\n",
      "********\n",
      "*******\n",
      "******\n",
      "*****\n",
      "****\n",
      "***\n",
      "**\n",
      "*\n"
     ]
    }
   ],
   "source": [
    "end = 11\n",
    "for i in range(1, end):\n",
    "    for j in range (1, i):\n",
    "        print('*', end=\"\") # end is parameter of print function\n",
    "    print()\n",
    "for i in range(end, 1, -1):\n",
    "    for j in range (1, i):\n",
    "        print('*', end = \"\")\n",
    "    print()"
   ]
  },
  {
   "cell_type": "code",
   "execution_count": 52,
   "id": "considered-uzbekistan",
   "metadata": {},
   "outputs": [
    {
     "name": "stdout",
     "output_type": "stream",
     "text": [
      "    *\n",
      "   ***\n",
      "  *****\n",
      " *******\n",
      "*********\n",
      " *******\n",
      "  *****\n",
      "   ***\n",
      "    *\n"
     ]
    }
   ],
   "source": [
    "end = 11\n",
    "space = int(end / 2 - 1)\n",
    "space_copy = space\n",
    "\n",
    "for i in range(1, end):\n",
    "    if i % 2 == 0:\n",
    "        for k in range(space):\n",
    "            print(' ', end=\"\")\n",
    "        space =  space - 1\n",
    "        for j in range (1, i):\n",
    "            print('*', end=\"\")\n",
    "        print('') # prints new line \n",
    "space = 1\n",
    "for i in range(end-2, 1, -1):\n",
    "    if i % 2 == 0:\n",
    "        for k in range(space):\n",
    "            print(' ', end=\"\")\n",
    "        space =  space + 1\n",
    "        for j in range (1, i):\n",
    "            print('*', end=\"\")\n",
    "        print('') # prints new line"
   ]
  },
  {
   "cell_type": "code",
   "execution_count": 82,
   "id": "christian-fraud",
   "metadata": {},
   "outputs": [
    {
     "name": "stdout",
     "output_type": "stream",
     "text": [
      "[1 2 3]\n",
      "[1 4 7]\n"
     ]
    }
   ],
   "source": [
    "x3 = np.array([[1,2,3],[4,5,6],[7,8,9]])\n",
    "\n",
    "print(x3[0,:]) # first row\n",
    "print(x3[:,0]) # first column"
   ]
  },
  {
   "cell_type": "code",
   "execution_count": 108,
   "id": "mineral-automation",
   "metadata": {},
   "outputs": [
    {
     "name": "stdout",
     "output_type": "stream",
     "text": [
      "[[[ 1  2  3]\n",
      "  [ 4  5  6]]\n",
      "\n",
      " [[-1 -2 -3]\n",
      "  [-4 -5 -6]]\n",
      "\n",
      " [[ 0  0  0]\n",
      "  [ 0  0  0]]]\n",
      "[1 2 3]\n"
     ]
    }
   ],
   "source": [
    "x4 = np.array([ [[1,2,3],[4,5,6]], [[-1,-2,-3],[-4,-5,-6]], np.zeros((2,3)) ], np.int16)\n",
    "\n",
    "print(x4)\n",
    "print(x4[0,0,:]) # matrix, row, column"
   ]
  },
  {
   "cell_type": "markdown",
   "id": "prescribed-fellowship",
   "metadata": {},
   "source": [
    "## Ndarray Properties"
   ]
  },
  {
   "cell_type": "code",
   "execution_count": 132,
   "id": "found-smell",
   "metadata": {},
   "outputs": [
    {
     "name": "stdout",
     "output_type": "stream",
     "text": [
      "(3, 2, 3)\n",
      "3\n",
      "int16\n",
      "36\n",
      "[[[ 1 -1  0]\n",
      "  [ 4 -4  0]]\n",
      "\n",
      " [[ 2 -2  0]\n",
      "  [ 5 -5  0]]\n",
      "\n",
      " [[ 3 -3  0]\n",
      "  [ 6 -6  0]]]\n",
      "nbytes =  36\n"
     ]
    }
   ],
   "source": [
    "print(x4.shape)\n",
    "print(x4.ndim)\n",
    "print(x4.dtype) # default is int32\n",
    "print(x4.nbytes)\n",
    "print(x4.T) # Transpose\n",
    "num_bytes = 2 # int16 => 2 bytes\n",
    "for i in range(x4.ndim):\n",
    "    num_bytes = num_bytes * x4.shape[i]\n",
    "print(\"nbytes = \", num_bytes)"
   ]
  },
  {
   "cell_type": "markdown",
   "id": "aquatic-sympathy",
   "metadata": {},
   "source": [
    "## Constants"
   ]
  },
  {
   "cell_type": "code",
   "execution_count": 145,
   "id": "neural-slovakia",
   "metadata": {},
   "outputs": [
    {
     "name": "stdout",
     "output_type": "stream",
     "text": [
      "inf -inf nan -0.0 0.0\n",
      "3.141592653589793 2.718281828459045 0.5772156649015329\n"
     ]
    }
   ],
   "source": [
    "print(np.inf, np.NINF, np.NaN, np.NZERO, np.PZERO)\n",
    "print(np.pi, np.e, np.euler_gamma)\n"
   ]
  },
  {
   "cell_type": "markdown",
   "id": "ranging-ensemble",
   "metadata": {},
   "source": [
    "## Ones and Zeros"
   ]
  },
  {
   "cell_type": "code",
   "execution_count": 146,
   "id": "worldwide-sandwich",
   "metadata": {},
   "outputs": [
    {
     "name": "stdout",
     "output_type": "stream",
     "text": [
      "empty\n",
      "[[  0   0   0]\n",
      " [  0 247   1]\n",
      " [  0   0 192]] \n",
      "\n",
      "eye\n",
      "[[1 0 0 0 0]\n",
      " [0 1 0 0 0]\n",
      " [0 0 1 0 0]\n",
      " [0 0 0 1 0]\n",
      " [0 0 0 0 1]] \n",
      "\n",
      "identity_matrix\n",
      "[[1 0 0 0 0]\n",
      " [0 1 0 0 0]\n",
      " [0 0 1 0 0]\n",
      " [0 0 0 1 0]\n",
      " [0 0 0 0 1]] \n",
      "\n",
      "ones\n",
      "[[[1 1 1 1 1]\n",
      "  [1 1 1 1 1]\n",
      "  [1 1 1 1 1]\n",
      "  [1 1 1 1 1]\n",
      "  [1 1 1 1 1]]\n",
      "\n",
      " [[1 1 1 1 1]\n",
      "  [1 1 1 1 1]\n",
      "  [1 1 1 1 1]\n",
      "  [1 1 1 1 1]\n",
      "  [1 1 1 1 1]]] \n",
      "\n",
      "zeros\n",
      "[[[0 0 0 0 0]\n",
      "  [0 0 0 0 0]\n",
      "  [0 0 0 0 0]\n",
      "  [0 0 0 0 0]\n",
      "  [0 0 0 0 0]]\n",
      "\n",
      " [[0 0 0 0 0]\n",
      "  [0 0 0 0 0]\n",
      "  [0 0 0 0 0]\n",
      "  [0 0 0 0 0]\n",
      "  [0 0 0 0 0]]] \n",
      "\n",
      "full\n",
      "[[2 2 2]\n",
      " [2 2 2]\n",
      " [2 2 2]] \n",
      "\n"
     ]
    }
   ],
   "source": [
    "empty = np.empty([3,3], np.uint8)\n",
    "print(\"empty\")\n",
    "print(empty, '\\n')\n",
    "\n",
    "eye = np.eye(5, dtype = np.uint8)\n",
    "print(\"eye\")\n",
    "print(eye, '\\n')\n",
    "\n",
    "# same as eye\n",
    "identity_matrix = np.identity(5, dtype = np.uint8)\n",
    "print(\"identity_matrix\")\n",
    "print(identity_matrix, '\\n')\n",
    "\n",
    "ones = np.ones((2,5,5), dtype = np.int16)\n",
    "print(\"ones\")\n",
    "print(ones, '\\n')\n",
    "\n",
    "zeros = np.zeros((2,5,5), dtype = np.int16)\n",
    "print(\"zeros\")\n",
    "print(zeros, '\\n')\n",
    "\n",
    "full = np.full((3,3), dtype = np.int16, fill_value = 2)\n",
    "print(\"full\")\n",
    "print(full, '\\n')"
   ]
  },
  {
   "cell_type": "markdown",
   "id": "innovative-tissue",
   "metadata": {},
   "source": [
    "## Matrix creation routines"
   ]
  },
  {
   "cell_type": "code",
   "execution_count": 147,
   "id": "opposite-complement",
   "metadata": {},
   "outputs": [
    {
     "name": "stdout",
     "output_type": "stream",
     "text": [
      "lower triangular matrix\n",
      "[[0 0 0 0 0]\n",
      " [1 0 0 0 0]\n",
      " [1 1 0 0 0]\n",
      " [1 1 1 0 0]\n",
      " [1 1 1 1 0]]\n",
      "\n",
      "[[0 0 0 0 0]\n",
      " [2 0 0 0 0]\n",
      " [2 2 0 0 0]\n",
      " [2 2 2 0 0]\n",
      " [2 2 2 2 0]]\n",
      "\n",
      "upper triangular matrix\n",
      "[[0 2 2 2 2]\n",
      " [0 0 2 2 2]\n",
      " [0 0 0 2 2]\n",
      " [0 0 0 0 2]\n",
      " [0 0 0 0 0]]\n",
      "\n"
     ]
    }
   ],
   "source": [
    "lower_triangular_matrix = np.tri(5, 5, k = -1, dtype = np.uint16)\n",
    "print('lower triangular matrix')\n",
    "print(lower_triangular_matrix)\n",
    "print()\n",
    "\n",
    "ones = np.ones((5,5), dtype = np.uint8)\n",
    "ones = ones + 1\n",
    "tril = np.tril(ones, k = -1)\n",
    "print(tril)\n",
    "print()\n",
    "\n",
    "tril = np.triu(ones, k = 1)\n",
    "print('upper triangular matrix')\n",
    "print(tril)\n",
    "print()"
   ]
  },
  {
   "cell_type": "markdown",
   "id": "swedish-nothing",
   "metadata": {},
   "source": [
    "## Random"
   ]
  },
  {
   "cell_type": "code",
   "execution_count": 19,
   "id": "attempted-mathematics",
   "metadata": {},
   "outputs": [
    {
     "name": "stdout",
     "output_type": "stream",
     "text": [
      "[0 2 3 0 3 1 4 3 7 4]\n",
      "[[0.64602658 0.70302195 0.60918974]\n",
      " [0.14041909 0.66107094 0.9584071 ]\n",
      " [0.91738862 0.58451798 0.77383417]]\n"
     ]
    }
   ],
   "source": [
    "rand_array = np.random.randint(low = 0, high = 9, size = 10) # if we don't specify size, we get one value\n",
    "print(rand_val)\n",
    "rand_matrix = np.random.rand(3,3)\n",
    "print(rand_matrix)"
   ]
  },
  {
   "cell_type": "markdown",
   "id": "searching-italian",
   "metadata": {},
   "source": [
    "## Array manipulation routines"
   ]
  },
  {
   "cell_type": "code",
   "execution_count": 27,
   "id": "noble-complexity",
   "metadata": {},
   "outputs": [
    {
     "name": "stdout",
     "output_type": "stream",
     "text": [
      "[0 1 2 3 4 5]\n",
      "[[0 1]\n",
      " [2 3]\n",
      " [4 5]]\n"
     ]
    }
   ],
   "source": [
    "x5 = np.arange(6)\n",
    "print(x5)\n",
    "\n",
    "y5 = x5.reshape((3,2))\n",
    "print(y5)"
   ]
  },
  {
   "cell_type": "code",
   "execution_count": 42,
   "id": "modular-vector",
   "metadata": {},
   "outputs": [
    {
     "name": "stdout",
     "output_type": "stream",
     "text": [
      "[[0 1 2]\n",
      " [3 4 5]]\n",
      "[0 1 2 3 4 5]\n"
     ]
    }
   ],
   "source": [
    "x6 = np.array([[0,1,2], [3,4,5]], dtype = np.uint8)\n",
    "print(x6)\n",
    "\n",
    "y6 = np.reshape(x6, 6) # more appropriate would be to use: x6.size\n",
    "print(y6)"
   ]
  },
  {
   "cell_type": "code",
   "execution_count": 48,
   "id": "fourth-envelope",
   "metadata": {},
   "outputs": [
    {
     "name": "stdout",
     "output_type": "stream",
     "text": [
      "[0 1 2 3 4 5]\n"
     ]
    }
   ],
   "source": [
    "x7 = x6\n",
    "y7 = np.ravel(x7) # flattens it into 1d array\n",
    "print(y7)"
   ]
  },
  {
   "cell_type": "code",
   "execution_count": 49,
   "id": "suspected-peoples",
   "metadata": {},
   "outputs": [
    {
     "name": "stdout",
     "output_type": "stream",
     "text": [
      "[0 1 2 3 4 5]\n",
      "[0 3 1 4 2 5]\n"
     ]
    }
   ],
   "source": [
    "x8 = x6\n",
    "y8 = x8.flatten('C') # flatten by row - this is the default\n",
    "print(y8)\n",
    "\n",
    "x9 = x6\n",
    "y9 = x9.flatten('F') # flatten by column (fortran order)\n",
    "print(y9)"
   ]
  },
  {
   "cell_type": "code",
   "execution_count": 52,
   "id": "bronze-investigation",
   "metadata": {},
   "outputs": [
    {
     "name": "stdout",
     "output_type": "stream",
     "text": [
      "uint8\n",
      "[1 2 3]\n",
      "[4 5 6]\n"
     ]
    }
   ],
   "source": [
    "x10 = np.array([1,2,3], dtype = np.uint8) # default is uint32\n",
    "y10 = np.array([4,5,6], dtype = np.uint8)\n",
    "print(x10.dtype)\n",
    "\n",
    "print(x10)\n",
    "print(y10)"
   ]
  },
  {
   "cell_type": "code",
   "execution_count": 70,
   "id": "relevant-athletics",
   "metadata": {},
   "outputs": [
    {
     "name": "stdout",
     "output_type": "stream",
     "text": [
      "[[1 2 3]\n",
      " [4 5 6]]\n",
      "[[1 4]\n",
      " [2 5]\n",
      " [3 6]]\n"
     ]
    }
   ],
   "source": [
    "z1 = np.stack((x10,y10))\n",
    "print(z1)\n",
    "\n",
    "z2 = np.stack((x10,y10), axis = -1)\n",
    "print(z2)"
   ]
  },
  {
   "cell_type": "code",
   "execution_count": 79,
   "id": "breathing-stuart",
   "metadata": {},
   "outputs": [
    {
     "name": "stdout",
     "output_type": "stream",
     "text": [
      "[1 2 3]\n",
      "[4 5 6]\n",
      "[[[1 4]\n",
      "  [2 5]\n",
      "  [3 6]]]\n",
      "(1, 3, 2)\n"
     ]
    }
   ],
   "source": [
    "print(x10)\n",
    "print(y10)\n",
    "\n",
    "# Depth wise stacking\n",
    "z3 = np.dstack((x10,y10))\n",
    "print(z3)\n",
    "print(z3.shape)"
   ]
  },
  {
   "cell_type": "code",
   "execution_count": 76,
   "id": "regional-centre",
   "metadata": {},
   "outputs": [
    {
     "name": "stdout",
     "output_type": "stream",
     "text": [
      "[1 2 3]\n",
      "[4 5 6]\n",
      "[1 2 3 4 5 6]\n",
      "(6,)\n"
     ]
    }
   ],
   "source": [
    "print(x10)\n",
    "print(y10)\n",
    "\n",
    "# Horizontal stacking - like appending to array\n",
    "z4 = np.hstack((x10,y10))\n",
    "print(z4)\n",
    "print(z4.shape)"
   ]
  },
  {
   "cell_type": "code",
   "execution_count": 78,
   "id": "overhead-michael",
   "metadata": {},
   "outputs": [
    {
     "name": "stdout",
     "output_type": "stream",
     "text": [
      "[1 2 3]\n",
      "[4 5 6]\n",
      "[[1 2 3]\n",
      " [4 5 6]]\n",
      "(2, 3)\n"
     ]
    }
   ],
   "source": [
    "print(x10)\n",
    "print(y10)\n",
    "\n",
    "# Vertical stacking\n",
    "z5 = np.vstack((x10,y10))\n",
    "print(z5)\n",
    "print(z5.shape)"
   ]
  },
  {
   "cell_type": "code",
   "execution_count": 91,
   "id": "desirable-cooperative",
   "metadata": {},
   "outputs": [
    {
     "name": "stdout",
     "output_type": "stream",
     "text": [
      "[0 1 2 3 4 5 6 7 8]\n"
     ]
    }
   ],
   "source": [
    "x11 = np.arange(9)\n",
    "print(x11)"
   ]
  },
  {
   "cell_type": "code",
   "execution_count": 92,
   "id": "saved-wildlife",
   "metadata": {},
   "outputs": [
    {
     "name": "stdout",
     "output_type": "stream",
     "text": [
      "a =  [0 1 2]\n",
      "b =  [3 4 5]\n",
      "c =  [6 7 8]\n"
     ]
    }
   ],
   "source": [
    "a, b, c = np.split(x11, 3)\n",
    "print('a = ', a)\n",
    "print('b = ', b)\n",
    "print('c = ', c)"
   ]
  },
  {
   "cell_type": "code",
   "execution_count": 108,
   "id": "theoretical-pursuit",
   "metadata": {},
   "outputs": [
    {
     "name": "stdout",
     "output_type": "stream",
     "text": [
      "x11.shape =  (4, 4, 4)\n",
      "\n",
      "Normal split\n",
      "y11.shape =  (2, 4, 4)\n",
      "z11.shape =  (2, 4, 4)\n",
      "\n",
      "Depth split\n",
      "y11.shape =  (4, 4, 2)\n",
      "z11.shape =  (4, 4, 2)\n",
      "\n",
      "Horizontal split\n",
      "y11.shape =  (4, 2, 4)\n",
      "z11.shape =  (4, 2, 4)\n",
      "\n",
      "Vertical split\n",
      "y11.shape =  (2, 4, 4)\n",
      "z11.shape =  (2, 4, 4)\n"
     ]
    }
   ],
   "source": [
    "x11 = np.random.rand(4, 4, 4)\n",
    "print('x11.shape = ', x11.shape)\n",
    "print()\n",
    "\n",
    "print('Normal split')\n",
    "y11, z11 = np.split(x11, 2)\n",
    "print('y11.shape = ', y11.shape)\n",
    "print('z11.shape = ', z11.shape)\n",
    "print()\n",
    "\n",
    "print('Depth split')\n",
    "y11, z11 = np.dsplit(x11, 2)\n",
    "print('y11.shape = ', y11.shape)\n",
    "print('z11.shape = ', z11.shape)\n",
    "print()\n",
    "\n",
    "print('Horizontal split')\n",
    "y11, z11 = np.hsplit(x11, 2)\n",
    "print('y11.shape = ', y11.shape)\n",
    "print('z11.shape = ', z11.shape)\n",
    "print()\n",
    "\n",
    "print('Vertical split')\n",
    "y11, z11 = np.vsplit(x11, 2)\n",
    "print('y11.shape = ', y11.shape)\n",
    "print('z11.shape = ', z11.shape)"
   ]
  },
  {
   "cell_type": "code",
   "execution_count": 125,
   "id": "extensive-deficit",
   "metadata": {},
   "outputs": [
    {
     "name": "stdout",
     "output_type": "stream",
     "text": [
      "[[ 0  1  2  3]\n",
      " [ 4  5  6  7]\n",
      " [ 8  9 10 11]\n",
      " [12 13 14 15]] \n",
      "\n",
      "[[ 3  2  1  0]\n",
      " [ 7  6  5  4]\n",
      " [11 10  9  8]\n",
      " [15 14 13 12]] \n",
      "\n",
      "[[ 3  2  1  0]\n",
      " [ 7  6  5  4]\n",
      " [11 10  9  8]\n",
      " [15 14 13 12]] \n",
      "\n",
      "[[12 13 14 15]\n",
      " [ 8  9 10 11]\n",
      " [ 4  5  6  7]\n",
      " [ 0  1  2  3]]\n"
     ]
    }
   ],
   "source": [
    "x12 = np.arange(16).reshape(4,4)\n",
    "print(x12, '\\n')\n",
    "\n",
    "y12 = np.flip(x12, axis = -1)\n",
    "print(y12, '\\n')\n",
    "\n",
    "x13 = x12\n",
    "y13 = np.fliplr(x13) # flip left-right\n",
    "print(y13, '\\n')\n",
    "\n",
    "x14 = x12\n",
    "y14 = np.flipud(x14) # flip up-down\n",
    "print(y14)"
   ]
  },
  {
   "cell_type": "code",
   "execution_count": 130,
   "id": "moved-darkness",
   "metadata": {},
   "outputs": [
    {
     "name": "stdout",
     "output_type": "stream",
     "text": [
      "[[ 0  1  2  3]\n",
      " [ 4  5  6  7]\n",
      " [ 8  9 10 11]\n",
      " [12 13 14 15]] \n",
      "\n",
      "[[ 4  5  6  7]\n",
      " [ 8  9 10 11]\n",
      " [12 13 14 15]\n",
      " [ 0  1  2  3]]\n"
     ]
    }
   ],
   "source": [
    "x15 = x12\n",
    "y15 = np.roll(x15, 12) # works like shift operation (considering the array as 1D)\n",
    "print(x15,'\\n')\n",
    "print(y15)"
   ]
  },
  {
   "cell_type": "code",
   "execution_count": 134,
   "id": "institutional-sympathy",
   "metadata": {},
   "outputs": [
    {
     "name": "stdout",
     "output_type": "stream",
     "text": [
      "[[ 0  1  2  3]\n",
      " [ 4  5  6  7]\n",
      " [ 8  9 10 11]\n",
      " [12 13 14 15]] \n",
      "\n",
      "[[ 3  7 11 15]\n",
      " [ 2  6 10 14]\n",
      " [ 1  5  9 13]\n",
      " [ 0  4  8 12]]\n"
     ]
    }
   ],
   "source": [
    "x16 = x12\n",
    "y16 = np.rot90(x16) # rotate 90 degrees (from right to left i.e. counter clockwise)\n",
    "print(x16,'\\n')\n",
    "print(y16)"
   ]
  },
  {
   "cell_type": "markdown",
   "id": "expired-longitude",
   "metadata": {},
   "source": [
    "## Bitwise operations"
   ]
  },
  {
   "cell_type": "code",
   "execution_count": 157,
   "id": "remarkable-buyer",
   "metadata": {},
   "outputs": [
    {
     "name": "stdout",
     "output_type": "stream",
     "text": [
      "a       = [0 1 0 1]\n",
      "b       = [0 0 1 1]\n",
      "a AND b = [0 0 0 1]\n",
      "a OR  b = [0 1 1 1]\n",
      "a XOR b = [0 1 1 0]\n",
      "  NOT a = [255 254 255 254]\n"
     ]
    }
   ],
   "source": [
    "a = np.array([0, 1, 0, 1], np.uint8)\n",
    "b = np.array([0, 0, 1, 1], np.uint8)\n",
    "\n",
    "print('a       =', a)\n",
    "print('b       =', b)\n",
    "print('a AND b =', np.bitwise_and(a,b))\n",
    "print('a OR  b =', np.bitwise_or(a,b))\n",
    "print('a XOR b =', np.bitwise_xor(a,b))\n",
    "print('  NOT a =', np.bitwise_not(a)) # each number is represented in binary form and NOT of every bit is executed"
   ]
  },
  {
   "cell_type": "markdown",
   "id": "overall-questionnaire",
   "metadata": {},
   "source": [
    "# Statistical functions"
   ]
  },
  {
   "cell_type": "code",
   "execution_count": 38,
   "id": "biblical-match",
   "metadata": {},
   "outputs": [
    {
     "name": "stdout",
     "output_type": "stream",
     "text": [
      "[4 9 9 8 3 6 4 0 6 4]\n"
     ]
    }
   ],
   "source": [
    "m =  np.random.randint(low = 0, high = 10, size = 10)\n",
    "print(m)"
   ]
  },
  {
   "cell_type": "code",
   "execution_count": 39,
   "id": "heard-bouquet",
   "metadata": {},
   "outputs": [
    {
     "name": "stdout",
     "output_type": "stream",
     "text": [
      "median    =  5.0\n",
      "average   =  5.3\n",
      "mean      =  5.3\n",
      "std       =  2.72213151776324\n",
      "var       =  7.410000000000001\n"
     ]
    }
   ],
   "source": [
    "print('median    = ', np.median(m))\n",
    "print('average   = ', np.average(m))\n",
    "print('mean      = ', np.mean(m)) # average = mean\n",
    "print('std       = ', np.std(m))\n",
    "print('var       = ', np.var(m))"
   ]
  },
  {
   "cell_type": "code",
   "execution_count": 40,
   "id": "caring-canberra",
   "metadata": {},
   "outputs": [
    {
     "name": "stdout",
     "output_type": "stream",
     "text": [
      "[4 9 9 8 3 6 4 0 6 4]\n",
      "[0.  0.9 1.8 2.7 3.6 4.5 5.4 6.3 7.2 8.1 9. ]\n",
      "[1 0 0 1 3 0 2 0 1 2]\n"
     ]
    },
    {
     "data": {
      "image/png": "[encoded data removed]",
      "text/plain": [
       "<Figure size 432x288 with 1 Axes>"
      ]
     },
     "metadata": {
      "needs_background": "light"
     },
     "output_type": "display_data"
    }
   ],
   "source": [
    "hist, bins = np.histogram(m, bins = 10)\n",
    "print(m)\n",
    "print (bins)\n",
    "print(hist)\n",
    "\n",
    "\n",
    "plt.hist(m, bins = bins, edgecolor = 'black', linewidth = 1.2) # Calculates and plots histogram\n",
    "plt.title(\"histogram\") \n",
    "plt.show()"
   ]
  },
  {
   "cell_type": "code",
   "execution_count": 41,
   "id": "taken-canvas",
   "metadata": {},
   "outputs": [
    {
     "name": "stdout",
     "output_type": "stream",
     "text": [
      "[[1 6]\n",
      " [0 2]\n",
      " [8 9]\n",
      " [2 2]\n",
      " [9 7]]\n"
     ]
    }
   ],
   "source": [
    "m1 =  np.random.randint(low = 0, high = 10, size = 10)\n",
    "m1 = m1.reshape((5,2))\n",
    "print(m1)"
   ]
  },
  {
   "cell_type": "code",
   "execution_count": 42,
   "id": "empirical-leader",
   "metadata": {},
   "outputs": [
    {
     "name": "stdout",
     "output_type": "stream",
     "text": [
      "[0 1 2 2 2 6 7 8 9 9] \n",
      "\n",
      "median    =  4.0\n",
      "average   =  4.6\n",
      "mean      =  4.6\n",
      "std       =  3.352610922848042\n",
      "var       =  11.239999999999998\n"
     ]
    }
   ],
   "source": [
    "m2 = np.sort(m1.flatten())\n",
    "print(m2,'\\n')\n",
    "\n",
    "print('median    = ', np.median(m1))\n",
    "print('average   = ', np.average(m1))\n",
    "print('mean      = ', np.mean(m1)) # average = mean\n",
    "print('std       = ', np.std(m1))\n",
    "print('var       = ', np.var(m1))"
   ]
  },
  {
   "cell_type": "code",
   "execution_count": 45,
   "id": "bored-fishing",
   "metadata": {},
   "outputs": [
    {
     "name": "stdout",
     "output_type": "stream",
     "text": [
      "[0 1 2 2 2 6 7 8 9 9]\n",
      "[0 1 2 3 4 5 6 7 8 9]\n",
      "[1 1 3 0 0 0 1 1 3]\n"
     ]
    },
    {
     "data": {
      "image/png": "[encoded data removed]",
      "text/plain": [
       "<Figure size 432x288 with 1 Axes>"
      ]
     },
     "metadata": {
      "needs_background": "light"
     },
     "output_type": "display_data"
    }
   ],
   "source": [
    "bins = np.arange(0, 10)\n",
    "hist, bins = np.histogram(m1, bins = bins)\n",
    "print(m2)\n",
    "print(bins)\n",
    "print(hist)\n",
    "\n",
    "plt.hist(m2, bins, edgecolor = 'black', linewidth = 1.2, color = \"skyblue\")\n",
    "plt.title(\"histogram for 2D\") \n",
    "plt.show()"
   ]
  },
  {
   "cell_type": "markdown",
   "id": "thermal-newark",
   "metadata": {},
   "source": [
    "## Random exercise"
   ]
  },
  {
   "cell_type": "code",
   "execution_count": 30,
   "id": "suspected-helen",
   "metadata": {},
   "outputs": [
    {
     "name": "stdout",
     "output_type": "stream",
     "text": [
      "[8 3 6 4 0 4 7 4 2 1]\n",
      "Sorted array:  [0 1 2 3 4 4 4 6 7 8]\n"
     ]
    }
   ],
   "source": [
    "# Trying out Selection sort in python\n",
    "m3 = m1.flatten()\n",
    "print(m3)\n",
    "\n",
    "def selection_sort(arr):\n",
    "    for i in range(arr.size):\n",
    "        for j in range(i + 1, arr.size):\n",
    "            if arr[j] < arr[i]:\n",
    "                arr[j], arr[i] = arr[i], arr[j]\n",
    "    return arr\n",
    "print('Sorted array: ', selection_sort(m3))\n"
   ]
  },
  {
   "cell_type": "markdown",
   "id": "current-thanksgiving",
   "metadata": {},
   "source": [
    "## Dot product"
   ]
  },
  {
   "cell_type": "code",
   "execution_count": 2,
   "id": "eight-dream",
   "metadata": {},
   "outputs": [
    {
     "name": "stdout",
     "output_type": "stream",
     "text": [
      "50\n"
     ]
    }
   ],
   "source": [
    "print(np.dot(10,5))"
   ]
  },
  {
   "cell_type": "code",
   "execution_count": 4,
   "id": "passive-uganda",
   "metadata": {},
   "outputs": [
    {
     "name": "stdout",
     "output_type": "stream",
     "text": [
      "34\n"
     ]
    }
   ],
   "source": [
    "a = np.array([2, 4], np.uint8)\n",
    "b = np.array([5, 6], np.uint8)\n",
    "print(np.dot(a,b))"
   ]
  },
  {
   "cell_type": "code",
   "execution_count": 10,
   "id": "passive-washer",
   "metadata": {},
   "outputs": [
    {
     "name": "stdout",
     "output_type": "stream",
     "text": [
      "[[2 4]\n",
      " [5 8]] \n",
      "\n",
      " [[5 6]\n",
      " [9 3]] \n",
      "\n",
      "[[46 24]\n",
      " [97 54]]\n"
     ]
    }
   ],
   "source": [
    "a = np.array([[2, 4], [5, 8]], np.uint8)\n",
    "b = np.array([[5, 6], [9, 3]], np.uint8)\n",
    "print(a,'\\n\\n', b, '\\n')\n",
    "print(np.dot(a,b))"
   ]
  },
  {
   "cell_type": "code",
   "execution_count": 24,
   "id": "entire-beads",
   "metadata": {},
   "outputs": [
    {
     "name": "stdout",
     "output_type": "stream",
     "text": [
      "[[223 197 127 222]\n",
      " [236 242 158 250]\n",
      " [115  65 179 166]\n",
      " [209 207 173  30]\n",
      " [120  18 206 150]\n",
      " [136  68  28   4]\n",
      " [137 227  57 194]\n",
      " [209  33  27  28]\n",
      " [214 128 232  46]\n",
      " [ 29  19  57 246]]\n"
     ]
    }
   ],
   "source": [
    "a = np.random.randint(10, size = (10, 5), dtype = np.uint8)\n",
    "b = np.random.randint(10, size = (5, 2), dtype = np.uint8)\n",
    "c = np.random.randint(10, size = (2, 3), dtype = np.uint8)\n",
    "d = np.random.randint(10, size = (3, 4), dtype = np.uint8)\n",
    "e = np.linalg.multi_dot([a, b, c, d]) #linear algebra\n",
    "print(e) # result is 10x"
   ]
  },
  {
   "cell_type": "code",
   "execution_count": 23,
   "id": "welcome-bible",
   "metadata": {},
   "outputs": [
    {
     "name": "stdout",
     "output_type": "stream",
     "text": [
      "[[2 6 5 2 9]\n",
      " [2 5 7 7 9]\n",
      " [8 3 5 4 2]\n",
      " [6 6 4 2 6]\n",
      " [2 0 7 2 4]\n",
      " [5 3 8 5 2]\n",
      " [4 3 8 1 6]\n",
      " [0 9 1 4 1]\n",
      " [2 6 4 8 5]\n",
      " [3 3 3 0 6]]\n"
     ]
    }
   ],
   "source": [
    "a = np.random.randint(10, size = (10, 5), dtype = np.uint8)\n",
    "print(a)"
   ]
  },
  {
   "cell_type": "markdown",
   "id": "planned-glenn",
   "metadata": {},
   "source": [
    "## Vector Dot Product"
   ]
  },
  {
   "cell_type": "code",
   "execution_count": 4,
   "id": "transsexual-community",
   "metadata": {},
   "outputs": [
    {
     "name": "stdout",
     "output_type": "stream",
     "text": [
      "11\n"
     ]
    }
   ],
   "source": [
    "a = np.array([1, 2])\n",
    "b = np.array([3, 4])\n",
    "\n",
    "print(np.vdot(a,b))"
   ]
  },
  {
   "cell_type": "code",
   "execution_count": 8,
   "id": "forbidden-packing",
   "metadata": {},
   "outputs": [
    {
     "name": "stdout",
     "output_type": "stream",
     "text": [
      "(42-11j)\n",
      "(42+11j)\n"
     ]
    }
   ],
   "source": [
    "a = np.array([1 + 5j, 2 + 3j])\n",
    "b = np.array([3 + 2j, 4 + 7j])\n",
    "\n",
    "print(np.vdot(a,b))\n",
    "print(np.vdot(b,a))"
   ]
  },
  {
   "cell_type": "markdown",
   "id": "superior-tenant",
   "metadata": {},
   "source": [
    "## Inner Product"
   ]
  },
  {
   "cell_type": "code",
   "execution_count": 9,
   "id": "challenging-airline",
   "metadata": {},
   "outputs": [
    {
     "name": "stdout",
     "output_type": "stream",
     "text": [
      "12\n"
     ]
    }
   ],
   "source": [
    "a = np.array([1, 2, 3, 4, 5, 6])\n",
    "b = np.array([0, 1, 0, 1, 0, 1])\n",
    "\n",
    "print(np.inner(a,b))"
   ]
  },
  {
   "cell_type": "code",
   "execution_count": 10,
   "id": "modern-sculpture",
   "metadata": {},
   "outputs": [
    {
     "name": "stdout",
     "output_type": "stream",
     "text": [
      "[[ 2  4]\n",
      " [ 5 10]]\n"
     ]
    }
   ],
   "source": [
    "a = np.array([[1, 2, 3], [4, 5, 6]])\n",
    "b = np.array([[0, 1, 0], [1, 0, 1]])\n",
    "\n",
    "print(np.inner(a,b))"
   ]
  },
  {
   "cell_type": "markdown",
   "id": "heard-terrorism",
   "metadata": {},
   "source": [
    "## QR Decomposition"
   ]
  },
  {
   "cell_type": "code",
   "execution_count": 11,
   "id": "equivalent-shift",
   "metadata": {},
   "outputs": [
    {
     "name": "stdout",
     "output_type": "stream",
     "text": [
      "[[0.26784998 0.69073721 0.7009476 ]\n",
      " [0.57474883 0.47510907 0.7961143 ]\n",
      " [0.7833755  0.90890483 0.25790927]]\n"
     ]
    }
   ],
   "source": [
    "a = np.random.rand(3, 3)\n",
    "print(a)"
   ]
  },
  {
   "cell_type": "code",
   "execution_count": 19,
   "id": "supported-transition",
   "metadata": {},
   "outputs": [
    {
     "name": "stdout",
     "output_type": "stream",
     "text": [
      "q\n",
      " [[-0.26576434  0.89816634 -0.35023784]\n",
      " [-0.57027349 -0.43939041 -0.69406355]\n",
      " [-0.77727567  0.01527402  0.62897475]]\n",
      "r\n",
      " [[-1.0078477  -1.16098503 -0.84075635]\n",
      " [ 0.          0.42552117  0.28370186]\n",
      " [ 0.          0.         -0.63583387]]\n",
      "dot product\n",
      " [[0.26784998 0.69073721 0.7009476 ]\n",
      " [0.57474883 0.47510907 0.7961143 ]\n",
      " [0.7833755  0.90890483 0.25790927]]\n"
     ]
    }
   ],
   "source": [
    "q, r = np.linalg.qr(a, mode = 'complete')\n",
    "print('q\\n', q)\n",
    "print('r\\n', r)\n",
    "print('dot product\\n', np.dot(q,r))"
   ]
  },
  {
   "cell_type": "markdown",
   "id": "final-breakdown",
   "metadata": {},
   "source": [
    "## Determinant and Solving Linear Equations"
   ]
  },
  {
   "cell_type": "code",
   "execution_count": 21,
   "id": "radio-rapid",
   "metadata": {},
   "outputs": [
    {
     "name": "stdout",
     "output_type": "stream",
     "text": [
      "1.9999999999999971\n"
     ]
    }
   ],
   "source": [
    "a = np.array([[5, 6], [3, 4]])\n",
    "print(np.linalg.det(a))"
   ]
  },
  {
   "cell_type": "code",
   "execution_count": 24,
   "id": "vocal-guyana",
   "metadata": {},
   "outputs": [
    {
     "name": "stdout",
     "output_type": "stream",
     "text": [
      "[2. 1. 3.]\n"
     ]
    }
   ],
   "source": [
    "a = np.array([[2, 1, -3], [4, -2, 1], [3, 5, -2]], np.int16)\n",
    "b = np.array([-4, 9, 5], np.int16)\n",
    "# ax = b\n",
    "x = np.linalg.solve(a, b)\n",
    "print(x)"
   ]
  },
  {
   "cell_type": "code",
   "execution_count": null,
   "id": "initial-petersburg",
   "metadata": {},
   "outputs": [],
   "source": []
  }
 ],
 "metadata": {
  "kernelspec": {
   "display_name": "Python 3",
   "language": "python",
   "name": "python3"
  },
  "language_info": {
   "codemirror_mode": {
    "name": "ipython",
    "version": 3
   },
   "file_extension": ".py",
   "mimetype": "text/x-python",
   "name": "python",
   "nbconvert_exporter": "python",
   "pygments_lexer": "ipython3",
   "version": "3.9.2"
  }
 },
 "nbformat": 4,
 "nbformat_minor": 5
}
